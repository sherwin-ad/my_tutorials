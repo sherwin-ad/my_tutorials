{
 "cells": [
  {
   "cell_type": "markdown",
   "id": "3875a449",
   "metadata": {},
   "source": [
    "# Basic Structures Introduction\n",
    "\n",
    "## What is a string?\n"
   ]
  },
  {
   "cell_type": "code",
   "execution_count": 9,
   "id": "a94deacc",
   "metadata": {},
   "outputs": [
    {
     "name": "stdout",
     "output_type": "stream",
     "text": [
      "Name: Sherwin, Favorite color: gold\n",
      "exampleexampleexample\n",
      "34\n"
     ]
    }
   ],
   "source": [
    "name = \"Sherwin\"\n",
    "color = 'gold'\n",
    "print(\"Name: \" + name + \", Favorite color: \" + color)\n",
    "print(\"example\" * 3)\n",
    "\n",
    "pet=\"looooooooooooooooooooooooooong cat\"\n",
    "word=len(pet)\n",
    "print(word)"
   ]
  },
  {
   "cell_type": "code",
   "execution_count": 12,
   "id": "deb9b993",
   "metadata": {},
   "outputs": [
    {
     "name": "stdout",
     "output_type": "stream",
     "text": [
      "hellohello10\n",
      "abcabc6\n",
      "0\n"
     ]
    }
   ],
   "source": [
    "def double_word(word):\n",
    "    return word*2 + str(len(word*2))\n",
    "\n",
    "print(double_word(\"hello\")) # Should return hellohello10\n",
    "print(double_word(\"abc\"))   # Should return abcabc6\n",
    "print(double_word(\"\"))      # Should return 0"
   ]
  },
  {
   "cell_type": "code",
   "execution_count": 20,
   "id": "3e30f454",
   "metadata": {},
   "outputs": [
    {
     "name": "stdout",
     "output_type": "stream",
     "text": [
      "h\n",
      "S\n",
      "n\n",
      "n\n"
     ]
    }
   ],
   "source": [
    "name = \"Sherwin\"\n",
    "print(name[1])\n",
    "print(name[0])\n",
    "last=len(name)-1\n",
    "print(name[last])"
   ]
  },
  {
   "cell_type": "code",
   "execution_count": 22,
   "id": "8811b680",
   "metadata": {},
   "outputs": [
    {
     "name": "stdout",
     "output_type": "stream",
     "text": [
      "s\n",
      "r\n"
     ]
    }
   ],
   "source": [
    "text = \"Random string with a lot of characters\"\n",
    "print(text[-1])\n",
    "print(text[-2])"
   ]
  },
  {
   "cell_type": "markdown",
   "id": "344176a6",
   "metadata": {},
   "source": [
    "Slice\n",
    "- The portion of a string that can contain more than one character; also sometimes called a substring."
   ]
  },
  {
   "cell_type": "code",
   "execution_count": 23,
   "id": "12c5f2f0",
   "metadata": {},
   "outputs": [
    {
     "data": {
      "text/plain": [
       "'ran'"
      ]
     },
     "execution_count": 23,
     "metadata": {},
     "output_type": "execute_result"
    }
   ],
   "source": [
    "color = \"Orange\"\n",
    "color[1:4]"
   ]
  },
  {
   "cell_type": "code",
   "execution_count": 25,
   "id": "b588d800",
   "metadata": {},
   "outputs": [
    {
     "name": "stdout",
     "output_type": "stream",
     "text": [
      "Pine\n",
      "apple\n"
     ]
    }
   ],
   "source": [
    "fruit = \"Pineapple\"\n",
    "print(fruit[:4])\n",
    "print(fruit[4:])"
   ]
  },
  {
   "cell_type": "markdown",
   "id": "2c78ef7d",
   "metadata": {},
   "source": [
    "String Indexing and Slicing\n",
    "String indexing allows you to access individual characters in a string. You can do this by using square brackets and the location, or index, of the character you want to access. It's important to remember that Python starts indexes at 0. So to access the first character in a string, you would use the index [0]. If you try to access an index that’s larger than the length of your string, you’ll get an IndexError. This is because you’re trying to access something that doesn't exist! You can also access indexes from the end of the string going towards the start of the string by using negative values. The index [-1] would access the last character of the string, and the index [-2] would access the second-to-last character.\n",
    "\n",
    "You can also access a portion of a string, called a slice or a substring. This allows you to access multiple characters of a string. You can do this by creating a range, using a colon as a separator between the start and end of the range, like [2:5]. \n",
    "\n",
    "This range is similar to the range() function we saw previously. It includes the first number, but goes to one less than the last number. For example:\n",
    "\n",
    "```\n",
    ">>> fruit = \"Mangosteen\"\n",
    ">>> fruit[1:4]\n",
    "'ang'\n",
    "```\n",
    "\n",
    "The slice includes the character at index 1, and excludes the character at index 4. You can also easily reference a substring at the start or end of the string by only specifying one end of the range. For example, only giving the end of the range:\n",
    "\n",
    "```\n",
    ">>> fruit[:5]\n",
    "'Mango'\n",
    "```\n",
    "\n",
    "This gave us the characters from the start of the string through index 4, excluding index 5. On the other hand this example gives is the characters including index 5, through the end of the string:\n",
    "\n",
    "```\n",
    ">>> fruit[5:]\n",
    "'steen'\n",
    "```\n",
    "\n",
    "You might have noticed that if you put both of those results together, you get the original string back!\n",
    "\n",
    "```\n",
    ">>> fruit[:5] + fruit[5:]\n",
    "'Mangosteen'\n",
    "```"
   ]
  },
  {
   "cell_type": "markdown",
   "id": "af676e5a",
   "metadata": {},
   "source": [
    "# Creating New Strings\n"
   ]
  },
  {
   "cell_type": "code",
   "execution_count": 31,
   "id": "98e01eb9",
   "metadata": {},
   "outputs": [
    {
     "name": "stdout",
     "output_type": "stream",
     "text": [
      "A long string with a silly typo\n",
      "This is a message\n",
      "Add another one\n"
     ]
    }
   ],
   "source": [
    "message = \"A kong string with a silly typo\"\n",
    "new_message = message[0:2] + \"l\" + message[3:]\n",
    "print(new_message)\n",
    "\n",
    "message = \"This is a message\"\n",
    "print(message)\n",
    "\n",
    "message = \"Add another one\"\n",
    "print(message)"
   ]
  },
  {
   "cell_type": "markdown",
   "id": "2ae5b569",
   "metadata": {},
   "source": [
    "Method\n",
    "A function associated with a specific class."
   ]
  },
  {
   "cell_type": "code",
   "execution_count": 43,
   "id": "6a23ec30",
   "metadata": {},
   "outputs": [
    {
     "name": "stdout",
     "output_type": "stream",
     "text": [
      "5\n",
      "0\n",
      "7\n",
      "3\n",
      "False\n",
      "True\n"
     ]
    }
   ],
   "source": [
    "pets = \"Cats & Dogs\"\n",
    "\n",
    "print (pets.index(\"&\"))\n",
    "\n",
    "print (pets.index(\"C\"))\n",
    "\n",
    "print (pets.index(\"Dog\"))\n",
    "\n",
    "print (pets.index(\"s\"))\n",
    "\n",
    "print (\"Dragons\" in pets)\n",
    "\n",
    "print (\"Cats\" in pets)"
   ]
  },
  {
   "cell_type": "markdown",
   "id": "b902ba47",
   "metadata": {},
   "source": [
    "Using the index method, find out the position of \"x\" in \"supercalifragilisticexpialidocious\"."
   ]
  },
  {
   "cell_type": "code",
   "execution_count": 33,
   "id": "f85629df",
   "metadata": {},
   "outputs": [
    {
     "name": "stdout",
     "output_type": "stream",
     "text": [
      "21\n"
     ]
    }
   ],
   "source": [
    "word = \"supercalifragilisticexpialidocious\"\n",
    "print(word.index(\"x\"))"
   ]
  },
  {
   "cell_type": "code",
   "execution_count": 53,
   "id": "d42355fd",
   "metadata": {},
   "outputs": [
    {
     "data": {
      "text/plain": [
       "'sherwin@mybusybee.com'"
      ]
     },
     "execution_count": 53,
     "metadata": {},
     "output_type": "execute_result"
    }
   ],
   "source": [
    "def replace_domain(email, old_domain, new_domain) :\n",
    "    if \"@\" + old_domain in email:\n",
    "        index = email.index(\"@\" + old_domain)\n",
    "        new_email = email[:index] + \"@\" + new_domain\n",
    "        return new_email \n",
    "    return email\n",
    "\n",
    "replace_domain(\"sherwin@mybusybee.net\", \"mybusybee.net\", \"mybusybee.com\")"
   ]
  },
  {
   "cell_type": "code",
   "execution_count": null,
   "id": "64ddb731",
   "metadata": {},
   "outputs": [],
   "source": []
  }
 ],
 "metadata": {
  "kernelspec": {
   "display_name": "Python 3 (ipykernel)",
   "language": "python",
   "name": "python3"
  },
  "language_info": {
   "codemirror_mode": {
    "name": "ipython",
    "version": 3
   },
   "file_extension": ".py",
   "mimetype": "text/x-python",
   "name": "python",
   "nbconvert_exporter": "python",
   "pygments_lexer": "ipython3",
   "version": "3.10.8"
  }
 },
 "nbformat": 4,
 "nbformat_minor": 5
}
