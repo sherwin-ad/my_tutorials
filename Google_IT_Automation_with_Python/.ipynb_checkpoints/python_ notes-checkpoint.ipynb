{
 "cells": [
  {
   "cell_type": "code",
   "execution_count": 1,
   "metadata": {},
   "outputs": [
    {
     "name": "stdout",
     "output_type": "stream",
     "text": [
      " Hello World \n"
     ]
    }
   ],
   "source": [
    "print (\" Hello World \")"
   ]
  },
  {
   "cell_type": "code",
   "execution_count": 2,
   "metadata": {},
   "outputs": [
    {
     "name": "stdout",
     "output_type": "stream",
     "text": [
      "Hello World\n",
      "Hello World\n",
      "Hello World\n",
      "Hello World\n",
      "Hello World\n"
     ]
    }
   ],
   "source": [
    "for i in range (5) : \n",
    "    print ( \"Hello World\" )"
   ]
  },
  {
   "cell_type": "code",
   "execution_count": 12,
   "metadata": {},
   "outputs": [
    {
     "name": "stdout",
     "output_type": "stream",
     "text": [
      "Hello Sherwin  \n"
     ]
    }
   ],
   "source": [
    "name = \" Sherwin  \" \n",
    "print ( \"Hello\"+ name ) "
   ]
  },
  {
   "cell_type": "code",
   "execution_count": 13,
   "metadata": {},
   "outputs": [
    {
     "name": "stdout",
     "output_type": "stream",
     "text": [
      "15\n",
      "288\n",
      "-0.25\n",
      "0.25\n"
     ]
    }
   ],
   "source": [
    "print ( 10 + 5 ) \n",
    "print ( 12 * 24 )\n",
    "print ( -1 / 4)\n",
    "print ( 1/ 4 )"
   ]
  },
  {
   "cell_type": "markdown",
   "metadata": {},
   "source": [
    "# First Programming Concepts Cheat Sheet\n",
    "## Functions and Keywords\n",
    "\n",
    "Functions and keywords are the building blocks of a language's syntax.\n",
    "Functions are pieces of code that perform a unit of work. In the examples we've seen so far, we've only encountered the print) function, which prints a message to the screen.\n",
    "We'll learn about a lot of other functions in later lessons but, if you're too curious to wait until then, you can discover all the functions available here.\n",
    "Keywords are reserved words that are used to construct instructions. We briefly encountered for and in in our first Python example, and we'll use a bunch of other keywords as we go through the course. For reference, these are all the reserved keywords:\n",
    "\n",
    "False\n",
    "None\n",
    "True\n",
    "and\n",
    "as\n",
    "assert\n",
    "break\n",
    "class\n",
    "continue\n",
    "def\n",
    "del\n",
    "elif\n",
    "else\n",
    "except\n",
    "finally\n",
    "for\n",
    "from\n",
    "global\n",
    "if\n",
    "import\n",
    "in\n",
    "IS\n",
    "lambda\n",
    "nonlocal\n",
    "not\n",
    "Or\n",
    "pass\n",
    "raise\n",
    "return\n",
    "try\n",
    "while\n",
    "with\n",
    "yield\n",
    "\n",
    "You don't need to learn this list; we'll dive into each keyword as we encounter them. In the meantime, you can see examples of keyword usage here.\n",
    "\n",
    "Arithmetic operators\n",
    "\n",
    "Python can operate with numbers using the usual mathematical operators, and some special operators, too. These are all of them (we'll explore the last two in later videos).\n",
    "- a+ b = Adds a and b\n",
    "- a - b = Subtracts b from a\n",
    "- a * b = Multiplies a and b\n",
    "- a/b = Divides a by b\n",
    "- a ** b = Elevates a to the power of b. For non integer values of b, this becomes a root (i.e. a** (1/2) is the square root of a)\n",
    "- a // b = The integer part of the integer division of a by b\n",
    "- a % b = The remainder part of the integer division of a by b\n",
    "\n",
    "\n",
    "\n",
    "\n",
    "\n"
   ]
  },
  {
   "cell_type": "markdown",
   "metadata": {},
   "source": [
    "Module 1 Graded Assessment\n",
    "\n",
    "1.What is a computer program?\n",
    "ans:- \n",
    "A step-by-step recipe of what needs to be done to complete a task, that gets executed by the computer.\n",
    "\n",
    "2.What’s automation?\n",
    "ans:-\n",
    "The process of replacing a manual step with one that happens automatically.\n",
    "\n",
    "3.Which of the following tasks are good candidates for automation? Check all that apply.\n",
    "ans:-\n",
    "Creating a report of how much each sales person has sold in the last month.\n",
    "Setting the home directory and access permissions for new employees joining your company.\n",
    "Populating your company's e-commerce site with the latest products in the catalog.\n",
    "\n",
    "4.What are some characteristics of the Python programming language? Check all that apply.\n",
    "ans:-\n",
    "Python programs are easy to write and understand.\n",
    "We can practice Python using web interpreters or codepads as well as executing it locally.\n",
    "The Python interpreter reads our code and transforms it into computer instructions.\n",
    "\n",
    "5.How does Python compare to other programming languages?\n",
    "ans:-\n",
    "Each programming language has its advantages and disadvantages.\n",
    "\n",
    "6.Write a Python script that outputs \"Automating with Python is fun!\" to the screen.\n",
    "ans:- print(\"Automating with Python is fun!\")\n",
    "\n",
    "7.Fill in the blanks so that the code prints \"Yellow is the color of sunshine\".\n",
    "ans:- \n",
    "color = \"Yellow\"\n",
    "thing = \"sunshine\"\n",
    "print(color + \" is the color of \" + thing)\n",
    "\n",
    "8.Keeping in mind there are 86400 seconds per day, write a program that calculates how many seconds there are in a week, if a week is 7 days. Print the result on the screen.\n",
    "\n",
    "Note: Your result should be in the format of just a number, not a sentence.\n",
    "\n",
    "ans:- \n",
    "print(86400*7)\n",
    "\n",
    "9.Use Python to calculate how many different passwords can be formed with 6 lower case English letters. For a 1 letter password, there would be 26 possibilities. For a 2 letter password, each letter is independent of the other, so there would be 26 times 26 possibilities. Using this information, print the amount of possible passwords that can be formed with 6 letters.\n",
    "\n",
    "ans:- \n",
    "print(26**6)\n",
    "\n",
    "10.Most hard drives are divided into sectors of 512 bytes each. Our disk has a size of 16 GB. Fill in the blank to calculate how many sectors the disk has.\n",
    "\n",
    "Note: Your result should be in the format of just a number, not a sentence.\n",
    "\n",
    "ans:- \n",
    "disk_size = 16*1024*1024*1024\n",
    "sector_size = 512\n",
    "sector_amount = disk_size/sector_size\n",
    "print(sector_amount)\n"
   ]
  },
  {
   "cell_type": "markdown",
   "metadata": {},
   "source": [
    "check the data types"
   ]
  },
  {
   "cell_type": "code",
   "execution_count": 4,
   "metadata": {},
   "outputs": [
    {
     "name": "stdout",
     "output_type": "stream",
     "text": [
      "<class 'str'>\n",
      "<class 'int'>\n",
      "<class 'float'>\n"
     ]
    }
   ],
   "source": [
    "print ( type (\"a\") )\n",
    "print ( type (2) )\n",
    "print ( type (2.5) )"
   ]
  },
  {
   "cell_type": "code",
   "execution_count": 3,
   "metadata": {},
   "outputs": [],
   "source": [
    "def greeting ( name , department ) :\n",
    "    print (\" Welcome, \" + name )\n",
    "    print ( \" You are a part of \" + department)"
   ]
  },
  {
   "cell_type": "code",
   "execution_count": 4,
   "metadata": {
    "scrolled": true
   },
   "outputs": [
    {
     "name": "stdout",
     "output_type": "stream",
     "text": [
      " Welcome,  Sherwin \n",
      " You are a part of IT Support\n"
     ]
    }
   ],
   "source": [
    "greeting ( \" Sherwin \",\"IT Support\") "
   ]
  },
  {
   "cell_type": "code",
   "execution_count": 6,
   "metadata": {},
   "outputs": [],
   "source": [
    "def area_triangle ( base , height ):\n",
    "    return base * height /2"
   ]
  },
  {
   "cell_type": "code",
   "execution_count": 10,
   "metadata": {},
   "outputs": [
    {
     "name": "stdout",
     "output_type": "stream",
     "text": [
      " The sum of both area is: 20.5\n"
     ]
    }
   ],
   "source": [
    "area_a = area_triangle (5,4) \n",
    "area_b = area_triangle (7,3)\n",
    "sum = area_a + area_b \n",
    "print ( \" The sum of both area is: \" + str (sum) )\n"
   ]
  },
  {
   "cell_type": "code",
   "execution_count": 22,
   "metadata": {},
   "outputs": [],
   "source": [
    "def convert_seconds ( seconds ) : \n",
    "    hours = seconds // 3600\n",
    "    minutes = ( seconds - hours * 3600 ) // 60 \n",
    "    remaining_seconds = seconds - hours * 3600 - minutes * 60 \n",
    "    return hours , minutes , remaining_seconds"
   ]
  },
  {
   "cell_type": "code",
   "execution_count": 23,
   "metadata": {},
   "outputs": [
    {
     "name": "stdout",
     "output_type": "stream",
     "text": [
      "1 23 20\n"
     ]
    }
   ],
   "source": [
    "hours , minutes , seconds = convert_seconds ( 5000 )\n",
    "print ( hours , minutes , seconds ) "
   ]
  },
  {
   "cell_type": "markdown",
   "metadata": {},
   "source": [
    "Print none results because it did not return the variable."
   ]
  },
  {
   "cell_type": "code",
   "execution_count": 2,
   "metadata": {},
   "outputs": [
    {
     "name": "stdout",
     "output_type": "stream",
     "text": [
      "Welcome,Christine\n",
      "None\n"
     ]
    }
   ],
   "source": [
    "def greeting(name):\n",
    "    print(\"Welcome,\" + name)\n",
    "result = greeting(\"Christine\")\n",
    "print(result)\n",
    "    "
   ]
  },
  {
   "cell_type": "code",
   "execution_count": 6,
   "metadata": {},
   "outputs": [
    {
     "name": "stdout",
     "output_type": "stream",
     "text": [
      "Hello Sherwin Your lucky number is 63\n",
      "Hello Analette Your lucky number is 72\n"
     ]
    }
   ],
   "source": [
    "name = \"Sherwin\"\n",
    "number = len(name) * 9\n",
    "\n",
    "print (\"Hello \" + name + \" Your lucky number is \" + str(number))\n",
    "\n",
    "name = \"Analette\"\n",
    "number = len(name) * 9\n",
    "\n",
    "print (\"Hello \" + name + \" Your lucky number is \" + str(number))"
   ]
  },
  {
   "cell_type": "markdown",
   "metadata": {},
   "source": [
    "def lucky_number(name):\n",
    "    number = len(name) * 9\n",
    "    print (\"Hello \" + name + \" Your lucky number is \" + str(number))\n",
    "    \n",
    "lucky_number(\"Sherwin\")\n",
    "lucky_number(\"Analette\")"
   ]
  },
  {
   "cell_type": "markdown",
   "metadata": {},
   "source": [
    "# Week 2 Quiz"
   ]
  },
  {
   "cell_type": "markdown",
   "metadata": {},
   "source": [
    "# 1. This function converts miles to kilometers (km).\n",
    "\n",
    "1. Complete the function to return the result of the conversion\n",
    "\n",
    "2. Call the function to convert the trip distance from miles to kilometers\n",
    "\n",
    "3. Fill in the blank to print the result of the conversion\n",
    "\n",
    "4. Calculate the round-trip in kilometers by doubling the result, and fill in the blank to print the result\n"
   ]
  },
  {
   "cell_type": "code",
   "execution_count": null,
   "metadata": {},
   "outputs": [],
   "source": [
    "# 1) Complete the function to return the result of the conversion\n",
    "def convert_distance(miles):\n",
    "\tkm = miles * 1.6  # approximately 1.6 km in 1 mile\n",
    "\n",
    "my_trip_miles = 55\n",
    "\n",
    "# 2) Convert my_trip_miles to kilometers by calling the function above\n",
    "my_trip_km = ___\n",
    "\n",
    "# 3) Fill in the blank to print the result of the conversion\n",
    "print(\"The distance in kilometers is \" + ___)\n",
    "\n",
    "# 4) Calculate the round-trip in kilometers by doubling the result,\n",
    "#    and fill in the blank to print the result\n",
    "print(\"The round-trip in kilometers is \" + ___)"
   ]
  }
 ],
 "metadata": {
  "kernelspec": {
   "display_name": "Python 3 (ipykernel)",
   "language": "python",
   "name": "python3"
  },
  "language_info": {
   "codemirror_mode": {
    "name": "ipython",
    "version": 3
   },
   "file_extension": ".py",
   "mimetype": "text/x-python",
   "name": "python",
   "nbconvert_exporter": "python",
   "pygments_lexer": "ipython3",
   "version": "3.8.10"
  }
 },
 "nbformat": 4,
 "nbformat_minor": 2
}
