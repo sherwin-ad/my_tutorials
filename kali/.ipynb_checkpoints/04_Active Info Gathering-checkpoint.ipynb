{
 "cells": [
  {
   "cell_type": "markdown",
   "metadata": {},
   "source": [
    "# Forward DNS Lookup"
   ]
  },
  {
   "cell_type": "code",
   "execution_count": null,
   "metadata": {},
   "outputs": [],
   "source": [
    "# Create a list of possible hostname\n",
    "$ vi list.txt www ftp mail owa proxy router admin www2 firewall mx pop3\n",
    "\n",
    "# Create a bash script that will try to check the different sub\n",
    "$ #!/bin/bash for name in  (𝑐𝑎𝑡𝑙𝑖𝑠𝑡.𝑡𝑥𝑡);𝑑𝑜ℎ𝑜𝑠𝑡 name.megacorpone.com | grep \"has address\" | cut -d\" \" -f1,4 done"
   ]
  },
  {
   "cell_type": "markdown",
   "metadata": {},
   "source": [
    "# Reverse DNS Lookup"
   ]
  },
  {
   "cell_type": "code",
   "execution_count": 4,
   "metadata": {},
   "outputs": [
    {
     "ename": "SyntaxError",
     "evalue": "invalid syntax (<ipython-input-4-54a4fbd925ea>, line 4)",
     "output_type": "error",
     "traceback": [
      "\u001b[0;36m  File \u001b[0;32m\"<ipython-input-4-54a4fbd925ea>\"\u001b[0;36m, line \u001b[0;32m4\u001b[0m\n\u001b[0;31m    for ip in $(seq 72 91);do\u001b[0m\n\u001b[0m              ^\u001b[0m\n\u001b[0;31mSyntaxError\u001b[0m\u001b[0;31m:\u001b[0m invalid syntax\n"
     ]
    }
   ],
   "source": [
    "# Create a bash script that will the check the hostname of the following IP. \n",
    "\n",
    "#!/bin/bash\n",
    "for ip in $(seq 72 91);do\n",
    "\thost 38.100.193.$ip | grep \"megacorp\" | cut -d\" \" -f1,5\n",
    "done"
   ]
  },
  {
   "cell_type": "markdown",
   "metadata": {},
   "source": [
    "# Zone Transfers"
   ]
  },
  {
   "cell_type": "code",
   "execution_count": 5,
   "metadata": {},
   "outputs": [
    {
     "ename": "SyntaxError",
     "evalue": "invalid syntax (<ipython-input-5-272f9319c15a>, line 2)",
     "output_type": "error",
     "traceback": [
      "\u001b[0;36m  File \u001b[0;32m\"<ipython-input-5-272f9319c15a>\"\u001b[0;36m, line \u001b[0;32m2\u001b[0m\n\u001b[0;31m    $ host -t ns megacorpone.com\u001b[0m\n\u001b[0m    ^\u001b[0m\n\u001b[0;31mSyntaxError\u001b[0m\u001b[0;31m:\u001b[0m invalid syntax\n"
     ]
    }
   ],
   "source": [
    "# List the name server of a domain name\n",
    "$ host -t ns megacorpone.com \n",
    "\n",
    "# List  all  other  sub  domains \n",
    "$ host -l megacorpone.com ns2.megacorpone.com"
   ]
  },
  {
   "cell_type": "markdown",
   "metadata": {},
   "source": [
    "# NMAP\n",
    "\n",
    "1. Ping Scan\n",
    "• ping scan / no port scan (-sn)\n",
    "\n",
    "Tools: Nmap, Angry IP Scanner, Advanced IP Scanner, Colasoft Ping Tool \n",
    "\n",
    "$ nmap -sn 116.93.111.129-142\n",
    "\n",
    "Output scan result Grepable format\n",
    "$ nmap -sn 116.93.111.129-142 -oG ping-sweep-nmap\n",
    "\n",
    "$ grep UP ping-sweep-nmap | cut -d “” -f2\n",
    "\n",
    "2. Port Scans \n",
    "Tools: Nmap, Netscan Tools Pro, PRTG Network Monitor, SuperScan \n",
    " \n",
    "SYN Scan (-sS) \n",
    "<br>\n",
    "$ nmap -sS 192.168.200.0/24 --top-ports 50\n",
    "\n",
    "Angry IP Scanner, Advanced IP Scanner, Colasoft Ping Tool\n",
    "<br>\n",
    "$ nmap -sn 116.93.111.129\n",
    "\n",
    "\n",
    "<img src=\"syn_scan_results.png\" width=\"500\" height=\"300\" align=\"middle\">\n",
    "\n",
    "<img src=\"term_port_statements1.png\" width=\"500\" height=\"300\" align=\"middle\">\n",
    "\n",
    "<img src=\"term_port_statements2.png\" align=\"middle\">\n",
    "\n",
    "<img src=\"ports.png\" align=\"middle\">\n",
    "\n",
    "\n",
    "3. TCP scan (-sT)\n",
    "\n",
    "$ nmap -n -sT 192.168.200.6 -p22,23,80 --reason \n",
    "\n",
    "<br>\n",
    "\n",
    "$ nmap -sT 192.168.200.5 -n -Pn --top-ports 10 \n",
    "\n",
    "<img src=\"tcp_scan.png\" align=\"middle\">\n",
    "\n",
    "\n",
    "4. UDP scan (-sU) \n",
    "\n",
    "$ nmap -sU -p161 10.0.0.1 \n",
    "\n",
    "<br>\n",
    "\n",
    "$ nmap -n -Pn -sU 192.168.200.5 --top-ports 10 -sV --reason\n",
    "\n",
    "<img src=\"udp_scan.png\" align=\"middle\">\n",
    "\n",
    "5. Service and Version Detection (-sV)\n",
    "\n",
    "\n",
    "$ nmap -n -Pn -sS 192.168.200.5 --top-ports 10 -sV \n",
    " \n",
    " \n",
    "6. Operating System Detection (-O)\n",
    "\n",
    "$ nmap -n -sS 172.16.200.5 --top-ports 100 -O \n",
    "\n",
    "<br>\n",
    "\n",
    "$ nmap -n -sS 172.16.200.5 --top-ports 100 -O --osscan-guess (to be more aggressive) \n",
    "\n",
    "<img src=\"input_output.png\" align=\"middle\"> \n",
    "\n",
    "7. Script scanning (-sC or --script) \n",
    " \n",
    "Shows SSH hostkeys.<br>\n",
    "$ nmap -sS -n -Pn 192.168.200.5 -p22 -sC -vvv \n",
    " \n",
    "Shows script category and description<br>\n",
    "$ nmap --script-help smb-brute \n",
    " \n",
    "Run the script try brute force attack<br>  \n",
    "$ nmap 192.168.200.4 -p443 --script ssh-brute -sV \n",
    "\n",
    "<img src=\"nmap_script.png\" align=\"middle\"> \n",
    "\n",
    "<img src=\"script_scanning1.png\" align=\"middle\"> "
   ]
  },
  {
   "cell_type": "code",
   "execution_count": 7,
   "metadata": {},
   "outputs": [
    {
     "ename": "SyntaxError",
     "evalue": "invalid syntax (<ipython-input-7-41eb9fdeae56>, line 3)",
     "output_type": "error",
     "traceback": [
      "\u001b[0;36m  File \u001b[0;32m\"<ipython-input-7-41eb9fdeae56>\"\u001b[0;36m, line \u001b[0;32m3\u001b[0m\n\u001b[0;31m    1. Nmap\u001b[0m\n\u001b[0m          ^\u001b[0m\n\u001b[0;31mSyntaxError\u001b[0m\u001b[0;31m:\u001b[0m invalid syntax\n"
     ]
    }
   ],
   "source": [
    "# SMB Enumeration\n",
    "\n",
    "1. Nmap\n",
    "$ nmap -p139,445 192.168.56.101 --open\n",
    "\n",
    "2. nbtscan\n",
    "$ nbtscan 192.168.56.0/24"
   ]
  },
  {
   "cell_type": "markdown",
   "metadata": {},
   "source": [
    "# Null Sessions\n",
    "\n",
    "Windows NT 2000 and Windows XP\n",
    "• SMB allow null session\n",
    "\n",
    "1.  rpcclient\n",
    "$ rpcclient -U “” 192.168.56.101\n",
    "(enter blank password)\n",
    "\n",
    "<img src=\"null_sessions.png\" align=\"middle\">\n",
    "\n",
    "2. enum4linux\n",
    "$ enum4linux -v 192.168.56.101"
   ]
  },
  {
   "cell_type": "markdown",
   "metadata": {},
   "source": [
    "# SMB NSE Scripts\n",
    "\n",
    "List all the SMB NSE script in nmap\n",
    "#ls -l /usr/share/nmap/scripts/ | grep smb\n",
    "\n",
    "<img src=\"smb_nse_scripts.png\" align=\"middle\">\n",
    "\n",
    "#nmap -p139,445 --script smb-enum-users 192.168.56.101\n"
   ]
  },
  {
   "cell_type": "markdown",
   "metadata": {},
   "source": [
    "# SMTP Enumeration\n",
    "\n",
    "$ nc -nv 192.168.56.101 25\n",
    "\n",
    "• 250 code for user exist\n",
    "• 550 code for user not exist\n",
    "\n",
    "<img src=\"nc.png\" align=\"middle\">\n",
    "\n",
    "VRFY Bash script\n",
    "\n",
    "<img src=\"vrfy_bash_script.png\" align=\"middle\">\n",
    "\n",
    "Python script\n",
    "\n",
    "#!/usr/bin/python\n",
    "\n",
    "import socket\n",
    "import sys\n",
    "\n",
    "if len(sys.argv) !=2:\n",
    "\tprint \"Usage: vrfy.py <username>\"\n",
    "\tsys.exit(0)\n",
    "\n",
    "s=socket.socket(socket.AF_INET, socket.SOCK_STREAM) #Create a Socket\n",
    "connect=s.connect(('192.168.56.101',25)) # Connect to the Server\n",
    "banner=s.recv(1024)\t\t\t# Receive the banner\n",
    "print banner\n",
    "s.send('VRFY ' + sys.argv[1] + '\\r\\n')  # VRFY a user\n",
    "result=s.recv(1024)\n",
    "print result\n",
    "s.close()\t\t\t\t# Close the socket\n",
    "\n",
    "<img src=\"vrfy_python_script.png\" align=\"middle\">\n"
   ]
  },
  {
   "cell_type": "markdown",
   "metadata": {},
   "source": [
    "# SNMP Enumeration\n",
    "\n",
    "$ nmap -sU --open -p 161 192.168.56.101-150  --open\n",
    "\n",
    "# onesixtyone\n",
    "\n",
    "<img src=\"onesixtyone.png\" align=\"middle\">\n",
    "\n",
    "<img src=\"onesixtyone1.png\" align=\"middle\">\n",
    "\n",
    "SNMPWalk\n",
    "\n",
    "$ snmpwalk -c public -v1 192.168.56.101\n",
    "\n",
    "<img src=\"snmpwalk.png\" align=\"middle\">\n",
    "\n",
    "List the System Processes  \n",
    "\n",
    "$ snmpwalk -c public -v1 192.168.56.101 1.3.6.1.2.1.25.4.2.1.2\n",
    "\n",
    "List the User Accounts  \n",
    "\n",
    "$ snmpwalk -c public -v1 192.168.56.101 1.3.6.1.4.1.77.1.2.25\n",
    "\n",
    "List the Software Installed\n",
    "\n",
    "$ snmpwalk -c public -v1 192.168.56.101 1.3.6.1.2.1.25.6.3.1.2"
   ]
  },
  {
   "cell_type": "code",
   "execution_count": null,
   "metadata": {},
   "outputs": [],
   "source": []
  }
 ],
 "metadata": {
  "kernelspec": {
   "display_name": "Python 3",
   "language": "python",
   "name": "python3"
  },
  "language_info": {
   "codemirror_mode": {
    "name": "ipython",
    "version": 3
   },
   "file_extension": ".py",
   "mimetype": "text/x-python",
   "name": "python",
   "nbconvert_exporter": "python",
   "pygments_lexer": "ipython3",
   "version": "3.7.4"
  }
 },
 "nbformat": 4,
 "nbformat_minor": 2
}
