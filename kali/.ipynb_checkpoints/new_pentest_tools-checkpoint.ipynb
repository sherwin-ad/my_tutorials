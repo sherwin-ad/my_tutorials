{
 "cells": [
  {
   "cell_type": "code",
   "execution_count": 3,
   "metadata": {},
   "outputs": [
    {
     "ename": "SyntaxError",
     "evalue": "invalid syntax (<ipython-input-3-b79d159691f2>, line 4)",
     "output_type": "error",
     "traceback": [
      "\u001b[0;36m  File \u001b[0;32m\"<ipython-input-3-b79d159691f2>\"\u001b[0;36m, line \u001b[0;32m4\u001b[0m\n\u001b[0;31m    Features         Win Apple Linux\u001b[0m\n\u001b[0m                       ^\u001b[0m\n\u001b[0;31mSyntaxError\u001b[0m\u001b[0;31m:\u001b[0m invalid syntax\n"
     ]
    }
   ],
   "source": [
    "CHAOS\n",
    "CHAOS by tiagorlampert, is a PoC that allow generate payloads and control remote operating systems.\n",
    "\n",
    "Features         Win Apple Linux\n",
    "Reverse Shel     X\t  X\t     X\n",
    "Download File    X\t  X\t     X\n",
    "Upload File\t     X \t  X\t     X\n",
    "Screenshot\t     X      X         X\n",
    "Keylogger\t     X\t\t\n",
    "Persistence\t     X\t\t\n",
    "Open URL\t     X      X        X\n",
    "Get OS Info\t     X      X        X\n",
    "Fork Bomb\t     X      X        X\n",
    "Run Hidden\t     X\t\t\n",
    "\n",
    "Some of the features include on the Target Machine:\n",
    "Download, Upload, Screenshot, Keylogger, Persistence, GetOS, LockScreen, OpenURL, Bomb etc..\n",
    "\n",
    "Learn More:\n",
    "https://lnkd.in/g_ti83P\n",
    "\n",
    "Support our Work for Exclusive Content on Patreon:\n",
    "https://lnkd.in/g7F5etz\n",
    "\n",
    "#payloads #rat #keyloggers #offensivesecurity #blackhatethicalhacking"
   ]
  },
  {
   "cell_type": "code",
   "execution_count": 4,
   "metadata": {},
   "outputs": [
    {
     "ename": "SyntaxError",
     "evalue": "invalid syntax (<ipython-input-4-06fa4255c08e>, line 1)",
     "output_type": "error",
     "traceback": [
      "\u001b[0;36m  File \u001b[0;32m\"<ipython-input-4-06fa4255c08e>\"\u001b[0;36m, line \u001b[0;32m1\u001b[0m\n\u001b[0;31m    Offensive Security Tool: hideNsneak\u001b[0m\n\u001b[0m                     ^\u001b[0m\n\u001b[0;31mSyntaxError\u001b[0m\u001b[0;31m:\u001b[0m invalid syntax\n"
     ]
    }
   ],
   "source": [
    "Offensive Security Tool: hideNsneak\n",
    "\n",
    "This application by rmikehodges a CLI for ephemeral penetration testing, assists in managing attack infrastructure for penetration testers by providing an interface to rapidly deploy, manage, and take down various cloud services. These include VMs, domain fronting, Cobalt Strike servers, API gateways, and firewalls.\n",
    "\n",
    "hideNseek provides a simple interface that allows penetration testers and system administrators to build ephemeral infrastructure with minimal overhead.\n",
    "\n",
    "Features:\n",
    "deploy, destroy, and list\n",
    "\n",
    "» Cloud instances via EC2 and Digital Ocean (Google Cloud, Azure, and Alibaba Cloud coming soon)\n",
    "» API Gateway (AWS)\n",
    "» Domain fronts via AWS Cloudfront and Google Cloud Functions (Azure CDN coming soon)\n",
    "» Proxy through infrastructure\n",
    "» Deploy C2 redirectors\n",
    "» Send and receive files\n",
    "» Distributed Port Scanning\n",
    "» Remote installations of Burp Collaborator, Cobalt Strike, Socat, LetsEncrypt, GoPhish, and SQLMAP\n",
    "\n",
    "Read More:\n",
    "https://lnkd.in/gkpuY_m\n",
    "\n",
    "Support our Work on Patreon:\n",
    "https://lnkd.in/g7F5etz\n",
    "\n",
    "#hideNsneak #penetrationtesting #cloud #offensivesecurity #blackhatethicalhacking"
   ]
  },
  {
   "cell_type": "code",
   "execution_count": 5,
   "metadata": {},
   "outputs": [
    {
     "ename": "SyntaxError",
     "evalue": "invalid syntax (<ipython-input-5-d56d40dd5bf1>, line 1)",
     "output_type": "error",
     "traceback": [
      "\u001b[0;36m  File \u001b[0;32m\"<ipython-input-5-d56d40dd5bf1>\"\u001b[0;36m, line \u001b[0;32m1\u001b[0m\n\u001b[0;31m    Offensive Security Tool: Rubeus - toolset for raw Kerberos interaction and abuses\u001b[0m\n\u001b[0m                     ^\u001b[0m\n\u001b[0;31mSyntaxError\u001b[0m\u001b[0;31m:\u001b[0m invalid syntax\n"
     ]
    }
   ],
   "source": [
    "Offensive Security Tool: Rubeus - toolset for raw Kerberos interaction and abuses\n",
    "\n",
    "Post Exploitation Techniques is very important when it comes to conducting attacks in regards to gaining credentials, Privilege escalation etc.. that is because, shell is just the beginning.\n",
    "\n",
    "Besides Bruteforcing which, depending on the situation, can be noisy. Rubeus by @harmj0y offers outstanding techniques to gain credentials, such as working with the Kerberos and abuses of Microsoft Windows. This specific tool, requires a lot of practice, and studying but mastering it, will always give you the ability to gain access to credentials, and breaking in.\n",
    "\n",
    "Some Features:\n",
    "» Weaponization with PowerShell & Empire\n",
    "» Credential Extraction with Mimikatz\n",
    "» Over-pass-the-hash - using ONLY Hash to Login\n",
    "» Roasting - Kerberos roasting\n",
    "» Ticket Extraction and Harvesting\n",
    "\n",
    "Read More: (Detailed Tutorial)\n",
    "https://lnkd.in/gFZeV6t\n",
    "\n",
    "Support us on Patreon:\n",
    "https://lnkd.in/g7F5etz\n",
    "\n",
    "#rubeus #microsoft #offensivesecurity #securityisamyth #blackhatethicalhacking"
   ]
  },
  {
   "cell_type": "code",
   "execution_count": null,
   "metadata": {},
   "outputs": [],
   "source": []
  }
 ],
 "metadata": {
  "kernelspec": {
   "display_name": "Python 3",
   "language": "python",
   "name": "python3"
  },
  "language_info": {
   "codemirror_mode": {
    "name": "ipython",
    "version": 3
   },
   "file_extension": ".py",
   "mimetype": "text/x-python",
   "name": "python",
   "nbconvert_exporter": "python",
   "pygments_lexer": "ipython3",
   "version": "3.7.4"
  }
 },
 "nbformat": 4,
 "nbformat_minor": 2
}
