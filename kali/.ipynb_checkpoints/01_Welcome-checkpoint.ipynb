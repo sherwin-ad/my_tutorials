{
 "cells": [
  {
   "cell_type": "markdown",
   "metadata": {},
   "source": [
    "# Pentest with Kali"
   ]
  },
  {
   "cell_type": "markdown",
   "metadata": {},
   "source": [
    "# Welcome"
   ]
  },
  {
   "cell_type": "markdown",
   "metadata": {},
   "source": [
    "# Finding Files"
   ]
  },
  {
   "cell_type": "code",
   "execution_count": null,
   "metadata": {},
   "outputs": [],
   "source": [
    "Finding Files\n",
    "# 1.  locate \n",
    "• locates  files  using  database  \n",
    "• needs  to  update  database to use it               \n",
    "\n",
    "$ updatedb \n",
    " \n",
    "$ locate  sbd.exe \n",
    " \n",
    "# 2. which \n",
    " \n",
    "$ which  sbd \n",
    " \n",
    "# 3. find \n",
    " \n",
    "# Find  files  in the folder / that starts  with  sbd \n",
    "$ find  /  -name  sbd* \n",
    " \n",
    "# Shows  the  file  type  of  the  files  found \n",
    "$ find / -name sbd* -exec file {} \\; "
   ]
  },
  {
   "cell_type": "markdown",
   "metadata": {},
   "source": [
    "# Services in Kali"
   ]
  },
  {
   "cell_type": "code",
   "execution_count": 1,
   "metadata": {},
   "outputs": [
    {
     "ename": "SyntaxError",
     "evalue": "invalid syntax (<ipython-input-1-c10aea2205bd>, line 2)",
     "output_type": "error",
     "traceback": [
      "\u001b[0;36m  File \u001b[0;32m\"<ipython-input-1-c10aea2205bd>\"\u001b[0;36m, line \u001b[0;32m2\u001b[0m\n\u001b[0;31m    $ service apache2 start\u001b[0m\n\u001b[0m    ^\u001b[0m\n\u001b[0;31mSyntaxError\u001b[0m\u001b[0;31m:\u001b[0m invalid syntax\n"
     ]
    }
   ],
   "source": [
    "# Start service \n",
    "$ service apache2 start \n",
    "$ systemctl start apache2 .service \n",
    "$ /etc/init.d/ssh start \n",
    " \n",
    "# Stop service \n",
    "$ service apache2 stop \n",
    "$ systemctl  stop apache2 .service \n",
    "$ /etc/init.d/ssh start \n",
    " \n",
    "# Enable service starts at bootup \n",
    "$ systemctl enable apache2 .service \n",
    "$ update-rc.d ssh enable \n",
    " \n",
    "# Disable service starts at bootup \n",
    "$ systemctl disable apache2 .service \n",
    "$ update-rc.d ssh disable \n",
    " \n",
    "# GUI  enable  and  disable  start service at bootup             \n",
    "$ rcconf "
   ]
  },
  {
   "cell_type": "markdown",
   "metadata": {},
   "source": [
    "# Bash Shell"
   ]
  },
  {
   "cell_type": "code",
   "execution_count": null,
   "metadata": {},
   "outputs": [],
   "source": [
    "# Bash (Bourne Again Shell) \n",
    "• is the free version of theBourne shell distributed with Linux and GNU operating systems.\n",
    "• is similar to the original, but has added features such as command line editing.\n",
    "• Created to improve on the earlier sh shell, Bash includes features from the Korn shell and the Cshell.\n",
    "\n",
    "# Task : Find all the cisco sub domains listed on the index page and find their corresponding IP addresses\n",
    "\n",
    "# Get the index page of the website\n",
    "$ wget www.cisco.com\n",
    "\n",
    "# You will get index.html file\n",
    "\n",
    "$ cat index.html | grep \"href=\"\n",
    "\n",
    "$ cat index.html | grep \"href=\" | cut -d \"/\" -f3\n",
    "\n",
    "$ cat index.html | grep \"href=\" | cut -d \"/\" -f3 | grep \"cisco.com\"\n",
    "\n",
    "$ cat index.html | grep \"href=\" | cut -d \"/\" -f3 | grep \"cisco.com\" | sort –u\n",
    "\n",
    "# Save the cisco sub domains into cisco.txt file\n",
    "\n",
    "$ cat index.html | grep \"href=\" | cut -d \"/\" -f3 | grep \"cisco.com\" | sort –u > cisco.txt\n",
    "\n",
    "$ host www.cisco.com\n",
    "\n",
    "$ host www.cisco.com | grep \"has address\"\n",
    "\n",
    "$ host www.cisco.com | grep \"has address\" | cut -d \" \" -f4"
   ]
  },
  {
   "cell_type": "code",
   "execution_count": null,
   "metadata": {},
   "outputs": [],
   "source": [
    "# Create bash script getting the IP address of all cisco.com sub domains \n",
    "\n",
    "#!/bin/bash\n",
    "for url in $(cat cisco.txt);do\n",
    "host $url | grep \"has address\" | cut -d \" \" -f4\n",
    "done"
   ]
  },
  {
   "cell_type": "code",
   "execution_count": null,
   "metadata": {},
   "outputs": [],
   "source": [
    "# Create bash script that will find the live host in the network\n",
    "\n",
    "#!/bin/bash \n",
    "for net in $(seq 1 254);do \n",
    "ping -c 1 192.168.100.$net | grep \"bytes from\" | cut -d \" \" -f4 | cut -d \":\" -f 1 & \n",
    "done "
   ]
  }
 ],
 "metadata": {
  "kernelspec": {
   "display_name": "Python 3",
   "language": "python",
   "name": "python3"
  },
  "language_info": {
   "codemirror_mode": {
    "name": "ipython",
    "version": 3
   },
   "file_extension": ".py",
   "mimetype": "text/x-python",
   "name": "python",
   "nbconvert_exporter": "python",
   "pygments_lexer": "ipython3",
   "version": "3.7.4"
  }
 },
 "nbformat": 4,
 "nbformat_minor": 2
}
