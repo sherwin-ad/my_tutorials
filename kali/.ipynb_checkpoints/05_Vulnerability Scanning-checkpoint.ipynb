{
 "cells": [
  {
   "cell_type": "code",
   "execution_count": 4,
   "metadata": {},
   "outputs": [
    {
     "ename": "SyntaxError",
     "evalue": "invalid syntax (<ipython-input-4-917ff7528546>, line 4)",
     "output_type": "error",
     "traceback": [
      "\u001b[0;36m  File \u001b[0;32m\"<ipython-input-4-917ff7528546>\"\u001b[0;36m, line \u001b[0;32m4\u001b[0m\n\u001b[0;31m    $ nmap -v -p 80 --script http-vuln-cve2010-2861 192.168.56.101\u001b[0m\n\u001b[0m    ^\u001b[0m\n\u001b[0;31mSyntaxError\u001b[0m\u001b[0;31m:\u001b[0m invalid syntax\n"
     ]
    }
   ],
   "source": [
    "# Scanning Using NMAP scripts\n",
    "\n",
    "# Scan using specific vulnerability\n",
    "$ nmap -v -p 80 --script http-vuln-cve2010-2861 192.168.56.101\n",
    "\n",
    "# Scan using all available script\n",
    "$ nmap -v -p 80 --script all 192.168.56.101"
   ]
  },
  {
   "cell_type": "code",
   "execution_count": 5,
   "metadata": {},
   "outputs": [
    {
     "ename": "SyntaxError",
     "evalue": "invalid syntax (<ipython-input-5-f0a1b825464e>, line 4)",
     "output_type": "error",
     "traceback": [
      "\u001b[0;36m  File \u001b[0;32m\"<ipython-input-5-f0a1b825464e>\"\u001b[0;36m, line \u001b[0;32m4\u001b[0m\n\u001b[0;31m    root@kali:~# apt update\u001b[0m\n\u001b[0m                           ^\u001b[0m\n\u001b[0;31mSyntaxError\u001b[0m\u001b[0;31m:\u001b[0m invalid syntax\n"
     ]
    }
   ],
   "source": [
    "### Open Vulnerability Assessment System (OpenVAS)\n",
    "\n",
    "# Install OpenVAS\n",
    "root@kali:~# apt update\n",
    "root@kali:~# apt upgrade\n",
    "root@kali:~# apt install openvas\n",
    "\n",
    "# Setup OpenVas\n",
    "root@kali:~# openvas-setup\n",
    "\n",
    "https://127.0.0.1:9392\n",
    "username: admin\n",
    "password: "
   ]
  },
  {
   "cell_type": "code",
   "execution_count": null,
   "metadata": {},
   "outputs": [],
   "source": []
  }
 ],
 "metadata": {
  "kernelspec": {
   "display_name": "Python 3",
   "language": "python",
   "name": "python3"
  },
  "language_info": {
   "codemirror_mode": {
    "name": "ipython",
    "version": 3
   },
   "file_extension": ".py",
   "mimetype": "text/x-python",
   "name": "python",
   "nbconvert_exporter": "python",
   "pygments_lexer": "ipython3",
   "version": "3.7.4"
  }
 },
 "nbformat": 4,
 "nbformat_minor": 2
}
