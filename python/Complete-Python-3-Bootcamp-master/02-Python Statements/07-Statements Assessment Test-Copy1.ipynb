{
 "cells": [
  {
   "cell_type": "markdown",
   "metadata": {
    "collapsed": true
   },
   "source": [
    "# Statements Assessment Test\n",
    "Let's test your knowledge!"
   ]
  },
  {
   "cell_type": "markdown",
   "metadata": {},
   "source": [
    "_____\n",
    "**Use <code>for</code>, .split(), and <code>if</code> to create a Statement that will print out words that start with 's':**"
   ]
  },
  {
   "cell_type": "code",
   "execution_count": null,
   "metadata": {},
   "outputs": [],
   "source": [
    "st = 'Print only the words that start with s in this sentence'"
   ]
  },
  {
   "cell_type": "code",
   "execution_count": 8,
   "metadata": {},
   "outputs": [
    {
     "name": "stdout",
     "output_type": "stream",
     "text": [
      "start\n",
      "s\n",
      "sentence\n"
     ]
    }
   ],
   "source": [
    "st = 'Print only the words that start with s in this sentence'\n",
    "# Code here\n",
    "for word in st.split():\n",
    "    if word[0] == 's':\n",
    "        print(word)"
   ]
  },
  {
   "cell_type": "markdown",
   "metadata": {},
   "source": [
    "______\n",
    "**Use range() to print all the even numbers from 0 to 10.**"
   ]
  },
  {
   "cell_type": "code",
   "execution_count": 11,
   "metadata": {},
   "outputs": [
    {
     "name": "stdout",
     "output_type": "stream",
     "text": [
      "0\n",
      "2\n",
      "4\n",
      "6\n",
      "8\n",
      "10\n"
     ]
    }
   ],
   "source": [
    "# Code here\n",
    "for num in range(0,11):\n",
    "    if num % 2 == 0:\n",
    "        print(num)\n",
    "        \n"
   ]
  },
  {
   "cell_type": "markdown",
   "metadata": {},
   "source": [
    "___\n",
    "**Use a List Comprehension to create a list of all numbers between 1 and 50 that are divisible by 3.**"
   ]
  },
  {
   "cell_type": "code",
   "execution_count": 12,
   "metadata": {},
   "outputs": [
    {
     "name": "stdout",
     "output_type": "stream",
     "text": [
      "0\n",
      "3\n",
      "6\n",
      "9\n",
      "12\n",
      "15\n",
      "18\n",
      "21\n",
      "24\n",
      "27\n",
      "30\n",
      "33\n",
      "36\n",
      "39\n",
      "42\n",
      "45\n",
      "48\n"
     ]
    }
   ],
   "source": [
    "#Code in this cell\n",
    "\n",
    "for num in range(0,51):\n",
    "    if num % 3 == 0:\n",
    "        print(num)\n"
   ]
  },
  {
   "cell_type": "markdown",
   "metadata": {},
   "source": [
    "_____\n",
    "**Go through the string below and if the length of a word is even print \"even!\"**"
   ]
  },
  {
   "cell_type": "code",
   "execution_count": null,
   "metadata": {},
   "outputs": [],
   "source": [
    "st = 'Print every word in this sentence that has an even number of letters'"
   ]
  },
  {
   "cell_type": "code",
   "execution_count": 42,
   "metadata": {},
   "outputs": [
    {
     "name": "stdout",
     "output_type": "stream",
     "text": [
      "Print <-- this word has ODD length 5\n",
      "every <-- this word has ODD length 5\n",
      "word <-- this word has EVEN length 4\n",
      "in <-- this word has EVEN length 2\n",
      "this <-- this word has EVEN length 4\n",
      "sentence <-- this word has EVEN length 8\n",
      "that <-- this word has EVEN length 4\n",
      "has <-- this word has ODD length 3\n",
      "an <-- this word has EVEN length 2\n",
      "even <-- this word has EVEN length 4\n",
      "number <-- this word has EVEN length 6\n",
      "of <-- this word has EVEN length 2\n",
      "letters <-- this word has ODD length 7\n"
     ]
    }
   ],
   "source": [
    "#Code in this cell\n",
    "st = 'Print every word in this sentence that has an even number of letters'\n",
    "for word in st.split():\n",
    "    if len(word) % 2 == 0:\n",
    "        word_length = len(word)\n",
    "        print(word + \" <-- this word has EVEN length\", word_length)\n",
    "    else:\n",
    "        word_length = len(word)\n",
    "        print(word + \" <-- this word has ODD length\", word_length)\n"
   ]
  },
  {
   "cell_type": "markdown",
   "metadata": {},
   "source": [
    "### ____\n",
    "**Write a program that prints the integers from 1 to 100. But for multiples of three print \"Fizz\" instead of the number, and for the multiples of five print \"Buzz\". For numbers which are multiples of both three and five print \"FizzBuzz\".**"
   ]
  },
  {
   "cell_type": "code",
   "execution_count": 51,
   "metadata": {},
   "outputs": [
    {
     "name": "stdout",
     "output_type": "stream",
     "text": [
      "0  FizzBuzz\n",
      "3  Fizz\n",
      "5  Buzz\n",
      "6  Fizz\n",
      "9  Fizz\n",
      "10  Buzz\n",
      "12  Fizz\n",
      "15  FizzBuzz\n",
      "18  Fizz\n",
      "20  Buzz\n",
      "21  Fizz\n",
      "24  Fizz\n",
      "25  Buzz\n",
      "27  Fizz\n",
      "30  FizzBuzz\n",
      "33  Fizz\n",
      "35  Buzz\n",
      "36  Fizz\n",
      "39  Fizz\n",
      "40  Buzz\n",
      "42  Fizz\n",
      "45  FizzBuzz\n",
      "48  Fizz\n",
      "50  Buzz\n",
      "51  Fizz\n",
      "54  Fizz\n",
      "55  Buzz\n",
      "57  Fizz\n",
      "60  FizzBuzz\n",
      "63  Fizz\n",
      "65  Buzz\n",
      "66  Fizz\n",
      "69  Fizz\n",
      "70  Buzz\n",
      "72  Fizz\n",
      "75  FizzBuzz\n",
      "78  Fizz\n",
      "80  Buzz\n",
      "81  Fizz\n",
      "84  Fizz\n",
      "85  Buzz\n",
      "87  Fizz\n",
      "90  FizzBuzz\n",
      "93  Fizz\n",
      "95  Buzz\n",
      "96  Fizz\n",
      "99  Fizz\n",
      "100  Buzz\n"
     ]
    }
   ],
   "source": [
    "#Code in this cell\n",
    "for num in range(0,101):\n",
    "    if num % 3 == 0 and num % 5 == 0:\n",
    "        print(num,\" FizzBuzz\")\n",
    "    elif num % 3 == 0:\n",
    "        print(num,\" Fizz\")\n",
    "    elif num % 5 == 0:\n",
    "        print(num,\" Buzz\")\n",
    "\n",
    "    "
   ]
  },
  {
   "cell_type": "markdown",
   "metadata": {},
   "source": [
    "____\n",
    "**Use List Comprehension to create a list of the first letters of every word in the string below:**"
   ]
  },
  {
   "cell_type": "code",
   "execution_count": null,
   "metadata": {},
   "outputs": [],
   "source": [
    "st = 'Create a list of the first letters of every word in this string'"
   ]
  },
  {
   "cell_type": "code",
   "execution_count": 59,
   "metadata": {},
   "outputs": [
    {
     "data": {
      "text/plain": [
       "['Cre',\n",
       " 'a',\n",
       " 'lis',\n",
       " 'of',\n",
       " 'the',\n",
       " 'fir',\n",
       " 'let',\n",
       " 'of',\n",
       " 'eve',\n",
       " 'wor',\n",
       " 'in',\n",
       " 'thi',\n",
       " 'str']"
      ]
     },
     "execution_count": 59,
     "metadata": {},
     "output_type": "execute_result"
    }
   ],
   "source": [
    "st = 'Create a list of the first letters of every word in this string'\n",
    "#Code in this cell\n",
    "[word[0:3] for word in st.split()]"
   ]
  },
  {
   "cell_type": "markdown",
   "metadata": {},
   "source": [
    "### Great Job!"
   ]
  }
 ],
 "metadata": {
  "kernelspec": {
   "display_name": "Python 3",
   "language": "python",
   "name": "python3"
  },
  "language_info": {
   "codemirror_mode": {
    "name": "ipython",
    "version": 3
   },
   "file_extension": ".py",
   "mimetype": "text/x-python",
   "name": "python",
   "nbconvert_exporter": "python",
   "pygments_lexer": "ipython3",
   "version": "3.7.4"
  }
 },
 "nbformat": 4,
 "nbformat_minor": 1
}
