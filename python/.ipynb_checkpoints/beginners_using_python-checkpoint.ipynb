{
 "cells": [
  {
   "cell_type": "markdown",
   "metadata": {},
   "source": [
    "**String**"
   ]
  },
  {
   "cell_type": "code",
   "execution_count": 7,
   "metadata": {},
   "outputs": [
    {
     "name": "stdout",
     "output_type": "stream",
     "text": [
      "Hello World\n"
     ]
    }
   ],
   "source": [
    "print(\"Hello World\")"
   ]
  },
  {
   "cell_type": "markdown",
   "metadata": {},
   "source": [
    "**Variable**\n",
    "- are used to save values into memory using a name that we assign.\n",
    "- containers of data\n",
    "\n",
    "- Unlike other programming languages, you don’t need a special keyword to declare a variable in Python. \n",
    "- Simply assign a value to a character or a phrase and that will represent the data.\n",
    "\n",
    "- There aren’t many restrictions when it comes to variables.\n",
    "\n",
    "- It can be any length, can be lowercase or uppercase, and can even use numbers!\n",
    "\n",
    "- One restriction, however, is that the first character cannot be a digit.\n",
    "\n",
    "\n",
    "**Value**\n",
    "- Value can be anything from string to a number, etc."
   ]
  },
  {
   "cell_type": "code",
   "execution_count": 11,
   "metadata": {},
   "outputs": [
    {
     "name": "stdout",
     "output_type": "stream",
     "text": [
      "7\n",
      "cakes\n"
     ]
    }
   ],
   "source": [
    "x = 7\n",
    "y = \"cakes\"\n",
    "\n",
    "print(x)\n",
    "print(y)"
   ]
  },
  {
   "cell_type": "markdown",
   "metadata": {},
   "source": [
    "**String Contatenation**\n",
    "- is used to add strings together, or to add strings to variables.\n",
    "- Strings cannot be added to numerical values."
   ]
  },
  {
   "cell_type": "code",
   "execution_count": 8,
   "metadata": {},
   "outputs": [
    {
     "name": "stdout",
     "output_type": "stream",
     "text": [
      "I Like pizza.\n",
      "I like eating pizza with my friend Tina.\n",
      "We like to drink soda, too.\n"
     ]
    }
   ],
   "source": [
    "favorite_food = \"pizza\"\n",
    "friend_name = \"Tina\"\n",
    "favorite_drink = \"soda\"\n",
    "\n",
    "print(\"I Like \" + favorite_food + \".\")\n",
    "print(\"I like eating \" + favorite_food + \" with my friend \" + friend_name + \".\")\n",
    "print(\"We like to drink \" + favorite_drink + \", too.\")"
   ]
  },
  {
   "cell_type": "code",
   "execution_count": 12,
   "metadata": {},
   "outputs": [
    {
     "name": "stdout",
     "output_type": "stream",
     "text": [
      "There was once a pirate who loved adventure.\n",
      "The pirate would take her ship to unknown places.\n",
      "She brings home a lot of gold.\n",
      "Then she goes home to her pet parrot, Chuckles.\n"
     ]
    }
   ],
   "source": [
    "character_job = \"pirate\"\n",
    "character_ride = \"ship\"\n",
    "character_souvenir = \"gold\"\n",
    "character_pet = \"parrot\"\n",
    "\n",
    "print(\"There was once a \" + character_job + \" who loved adventure.\")\n",
    "print(\"The \" + character_job + \" would take her \" + character_ride + \" to unknown places.\")\n",
    "print(\"She brings home a lot of \" + character_souvenir + \".\")\n",
    "print(\"Then she goes home to her pet \" + character_pet + \", Chuckles.\")"
   ]
  },
  {
   "cell_type": "markdown",
   "metadata": {},
   "source": [
    "**Syntax and Errors**\n",
    "\n",
    "- Comment and Indentation\n",
    "\n",
    "**Block (of code)**\n",
    "- refers to code that belongs to the same line and are intended.\n",
    "\n",
    "**Indentation**\n",
    "- is reqired for indicating a block of code.\n",
    "- it is used to create a new block of code. Don't forget, it needs to be preded by a colon(:).\n",
    "\n",
    "\n",
    "**Comments**\n",
    "- Comments can be written using the hash character (#).\n",
    "- Comments “are not read in by the interpreter, meaning that you can write whatever you want, and the computer will ignore it.”\n",
    "\n",
    "**Parentheses**\n",
    "- indicate that functions are being called and they can also be used for math operations.\n"
   ]
  },
  {
   "cell_type": "code",
   "execution_count": 13,
   "metadata": {},
   "outputs": [
    {
     "name": "stdout",
     "output_type": "stream",
     "text": [
      "True\n",
      "False\n"
     ]
    }
   ],
   "source": [
    "# This is a comment\n",
    "if 5 > 2:\n",
    "    print(\"True\")\n",
    "\n",
    "if 1 < 4:\n",
    "    print(\"False\")"
   ]
  },
  {
   "cell_type": "markdown",
   "metadata": {},
   "source": [
    "**Function**\n",
    "\n",
    "- A function is a group of related statements that performs a specific task.\n",
    "\n",
    "**Syntax**\n",
    "- The def keyword is a keyword that allows users to define functions.\n",
    "\n",
    "def function_name():\n",
    "\n",
    "**Parameter**\n",
    "- A paremeter is “a piece of information the function needsto do its job.”\n",
    "\n",
    "- This information is contained within the parentheses of the function.\n",
    "\n",
    "**Argument**\n",
    "\n",
    "- “A piece of information that’s passed from a function call to a function.”?\n",
    "\n",
    "- This supplies the information the parameter requires. For example, if the parameter is “name,” the argument would be “Arnold.”\n",
    "\n"
   ]
  },
  {
   "cell_type": "code",
   "execution_count": 1,
   "metadata": {},
   "outputs": [
    {
     "name": "stdout",
     "output_type": "stream",
     "text": [
      "Hello!\n",
      "Hello!\n",
      "Hello,Sherwin Adriano!\n"
     ]
    }
   ],
   "source": [
    "def hello_function():\n",
    "    print(\"Hello!\")\n",
    "hello_function()\n",
    "\n",
    "hello_function()\n",
    "\n",
    "def hello_function(name, lastname):\n",
    "    print(\"Hello,\" + name + lastname + \"!\")\n",
    "\n",
    "hello_function(\"Sherwin \", \"Adriano\")"
   ]
  },
  {
   "cell_type": "code",
   "execution_count": 2,
   "metadata": {},
   "outputs": [
    {
     "name": "stdout",
     "output_type": "stream",
     "text": [
      "Have a nice day Sherwin!\n"
     ]
    }
   ],
   "source": [
    "def nice_function(name):\n",
    "    print(\"Have a nice day \" + name + \"!\")\n",
    "nice_function(\"Sherwin\")"
   ]
  },
  {
   "cell_type": "markdown",
   "metadata": {},
   "source": [
    "**Input Function**\n",
    "\n",
    "input()\n",
    "\n",
    "- A function that allows users to input data.\n",
    "- It “pauses your program and waits for the user to enter some text. Once Python receives the user’s input, it assigns that input to a variable to make it convenient for you to work with.”\n",
    "\n",
    "**Prompt**\n",
    "- Prompt is a string that will be printed on the screen whenever the function is called. It “tells the user exactly what kind of information you're looking for.”\n",
    "- let users know where they can type the information.\n",
    "\n",
    "**def keyword**\n",
    "- allows programmers to create or simply define a user-defined function. \n"
   ]
  },
  {
   "cell_type": "code",
   "execution_count": 3,
   "metadata": {},
   "outputs": [
    {
     "name": "stdout",
     "output_type": "stream",
     "text": [
      "Enter your name:Sherwin\n",
      "Hi, Sherwin!\n"
     ]
    }
   ],
   "source": [
    "name = input(\"Enter your name:\")\n",
    "print(\"Hi, \" + name + \"!\")"
   ]
  },
  {
   "cell_type": "markdown",
   "metadata": {},
   "source": [
    "**Int Function**\n",
    "\n",
    "int()\n",
    "\n",
    "- A function that returns an integer object from any number or string.\n",
    "- It “tells Python to treat the input as a numerical value.”\n"
   ]
  },
  {
   "cell_type": "code",
   "execution_count": 5,
   "metadata": {},
   "outputs": [
    {
     "name": "stdout",
     "output_type": "stream",
     "text": [
      "Please enter your first number: 5\n",
      "Please enter your second number: 6\n",
      "Your two numbers are: 5 and 6\n"
     ]
    }
   ],
   "source": [
    "num1 = int(input(\"Please enter your first number: \"))\n",
    "num2 = int(input(\"Please enter your second number: \"))\n",
    "\n",
    "print(\"Your two numbers are:\", num1, \"and\",num2)"
   ]
  },
  {
   "cell_type": "code",
   "execution_count": 6,
   "metadata": {},
   "outputs": [
    {
     "name": "stdout",
     "output_type": "stream",
     "text": [
      "Please enter you first number: 6\n",
      "Please enter you second number: 4\n",
      "Total 10\n"
     ]
    }
   ],
   "source": [
    "def addNum(num1, num2):\n",
    "    total = num1 + num2\n",
    "    return (total)\n",
    "\n",
    "num1 = int(input(\"Please enter you first number: \"))\n",
    "num2 = int(input(\"Please enter you second number: \"))\n",
    "\n",
    "print(\"Total\", addNum(num1, num2))"
   ]
  },
  {
   "cell_type": "code",
   "execution_count": 7,
   "metadata": {},
   "outputs": [
    {
     "name": "stdout",
     "output_type": "stream",
     "text": [
      "Name: Sherwin\n",
      "Age: 45\n",
      "Favorite color: black\n",
      "Favorite movie: Avengers\n",
      "Mobile number12341234\n",
      "Motto in life: Life\n"
     ]
    }
   ],
   "source": [
    "name = input(\"Name: \")\n",
    "age = input(\"Age: \")\n",
    "favorite_color = input(\"Favorite color: \")\n",
    "favorite_movie = input(\"Favorite movie: \")\n",
    "mobile_number = int(input(\"Mobile number\"))\n",
    "motto_in_life = input(\"Motto in life: \")"
   ]
  },
  {
   "cell_type": "markdown",
   "metadata": {},
   "source": [
    "**Data Types and Conversion**\n",
    "\n",
    "**Data Types** specify the type of value a variable can store and the type of operation that can be performed on it.\n",
    "\n",
    "**Strings** \n",
    "- are a sequence of characters contained by single or double quotes.\n",
    "\n",
    "**Numbers** \n",
    "- A data type that includes integers and floating numbers. Numbers “are used quite often in programming to keep score in games, represent data in visualizations, store information in web applications, and so on.”!\n",
    "\n",
    "**Booleans**\n",
    "- A data type with either a “true” or “false” value.\n",
    "- “A Boolean value is either True or False, just like the value of a conditional expression after it has been evaluated.”\n",
    "\n",
    "**int() function**\n",
    "- A data type that is either a “positive or negative whole number with no decimal point.”?\n",
    "- The int() function converts a float into an integer.\n",
    "\n",
    "**float() function**\n",
    "- A data type that is any number with “a decimal point on it.”?\n",
    "- The float() function converts an integer into a floating number.\n",
    "\n",
    "**str() function**\n",
    "- In data conversion, str() converts data into a string.\n",
    "\n",
    "**tuple() function**\n",
    "- A data type that is “a collection of items in a particular order.”!\n",
    "- For a tuple, the collection of items is contained within parentheses. \n",
    "- Tuples are not mutable, which means that they cannot be changed.\n",
    "- The tuple() function converts a string to a tuple.\n",
    "\n",
    "**list() finction**\n",
    "- A data type that is “a collection of items in a particular order.”!\n",
    "- For a list, the collection of items is contained within square brackets.\n",
    "- Unlike tuples, lists are mutable, which means that they can be changed.\n",
    "- The list() function converts a string to a tuple.\n"
   ]
  },
  {
   "cell_type": "code",
   "execution_count": 8,
   "metadata": {},
   "outputs": [
    {
     "name": "stdout",
     "output_type": "stream",
     "text": [
      "True\n",
      "True\n",
      "False\n",
      "73\n",
      "36.0\n",
      "5260\n",
      "('A', ' ', 's', 't', 'r', 'i', 'n', 'g', '.')\n",
      "['A', ' ', 's', 't', 'r', 'i', 'n', 't', '.']\n"
     ]
    }
   ],
   "source": [
    "print(25 > 6)\n",
    "print(32 < 40)\n",
    "print(25 < 20)\n",
    "\n",
    "print(int(73.036))\n",
    "\n",
    "print(float(36))\n",
    "\n",
    "print(str(5260))\n",
    "\n",
    "print(tuple(\"A string.\"))\n",
    "\n",
    "print(list(\"A strint.\"))"
   ]
  },
  {
   "cell_type": "code",
   "execution_count": 9,
   "metadata": {},
   "outputs": [
    {
     "name": "stdout",
     "output_type": "stream",
     "text": [
      "True\n",
      "73911\n",
      "('T', 'h', 'a', 'n', 'k', ' ', 'G', 'o', 'd', ' ', 'i', 't', \"'\", 's', ' ', 'F', 'r', 'i', 'd', 'a', 'y', '!')\n",
      "4302.0\n",
      "3299\n"
     ]
    }
   ],
   "source": [
    "print(bool(10 > 7))\n",
    "\n",
    "print(str(73911))\n",
    "\n",
    "print(tuple(\"Thank God it's Friday!\"))\n",
    "\n",
    "print(float(4302))\n",
    "\n",
    "print(int(3299.35640))"
   ]
  },
  {
   "cell_type": "markdown",
   "metadata": {},
   "source": [
    "**Classes**\n",
    "\n",
    "**Object-oriented programming**\n",
    "- involves “writing classes that represent real-world things and situations, and creating objects based on these classes.”\n",
    "\n",
    "**Class**\n",
    "- A class serves as the blueprint or template for creating instances and objects; \n",
    "- helps organize our data and functions so that they can be reused or modified if necessary.\n",
    "\n",
    "**Object**\n",
    "- An object is created from a class, “automatically equipped with the general behavior; can then be given unique traits.”\n",
    "- Objects contain and provide the information about a certain entity, such as their methods and properties. \n",
    "- It’s similar to how a person possesses certain attributes or skills.\n",
    "\n",
    "\n",
    "**Pass statement**\n",
    "- is \"a placeholder so that the program doesn't break\"\n",
    "\n",
    "**Class variable**\n",
    "- A class variable is a variable declared within a class; values are constant across all instances of a class.\n",
    "- It can be defined within a class but not within the methods of the class.\n",
    "\n",
    "**Instance variable**\n",
    "- Insttance variable is a variable that is defined within a method and is unique to a certain instance.\n",
    "\n",
    "**ATTRIBUTE**\n",
    "- An attribute is a variable that is accessible through instances.\n",
    "\n",
    "**Methods**\n",
    "- Methods are \"a function that's part of a class\".\n",
    "\n",
    "\n"
   ]
  },
  {
   "cell_type": "code",
   "execution_count": 10,
   "metadata": {},
   "outputs": [
    {
     "name": "stdout",
     "output_type": "stream",
     "text": [
      "Anime\n",
      "67890\n"
     ]
    }
   ],
   "source": [
    "class Guest:\n",
    "    pass\n",
    "\n",
    "g_1 = Guest()\n",
    "\n",
    "g_1.first = \"Sherwin\"\n",
    "g_1.last = \"Adriano\"\n",
    "g_1.interest = \"Anime\"\n",
    "g_1.phone = 12345\n",
    "\n",
    "print(g_1.interest)\n",
    "\n",
    "g_2 = Guest()\n",
    "\n",
    "g_2.first = \"Marlon\"\n",
    "g_2.last = \"Velayo\"\n",
    "g_2.interest = \"Programming\"\n",
    "g_2.phone = 67890\n",
    "\n",
    "print(g_2.phone)"
   ]
  },
  {
   "cell_type": "code",
   "execution_count": 12,
   "metadata": {},
   "outputs": [
    {
     "name": "stdout",
     "output_type": "stream",
     "text": [
      "Welcome to the Coffee Palace!\n",
      "Iced caffe latte\n",
      "Glazed doughnut\n"
     ]
    }
   ],
   "source": [
    "class Customers:\n",
    "    greeting = \"Welcome to the Coffee Palace!\"\n",
    "\n",
    "c_1 = Customers()\n",
    "c_1.name = \"Samirah\"\n",
    "c_1.beverage = \"Iced caffe latte\"\n",
    "c_1.food = \"Cinnamon roll\"\n",
    "c_1.total = 225\n",
    "\n",
    "c_2 = Customers()\n",
    "c_2.name = \"Jerry\"\n",
    "c_2.beverage = \"Caramel macchiato\"\n",
    "c_2.food = \"Glazed doughnut\"\n",
    "c_2.total = 230\n",
    "\n",
    "print(Customers.greeting)\n",
    "print(c_1.beverage)\n",
    "print(c_2.food)"
   ]
  },
  {
   "cell_type": "markdown",
   "metadata": {},
   "source": [
    "**Arithmetic Operators and Precedence**\n",
    "\n",
    "**Arithmetic operators**\n",
    "- are operators that are used to perform mathematical operations.\n",
    "\n",
    "**Addition operator (+)**\n",
    "- Is an operator that outputs the sum of values\n",
    "- Also uswed for string concatenation\n",
    "\n",
    "**Subtraction operator (-)**\n",
    "- is an operator that outputs the difference of values.\n",
    "\n",
    "**Multiplication operator (*)**\n",
    "- is an operator that outputs the product of values.\n",
    "\n",
    "**Division operator (/)**\n",
    "- is an operator that outputs the quotient of values.\n",
    "\n",
    "**Modulus operator (%)**\n",
    "- is an operator that outputs the remainder of a quotient.\n",
    "\n",
    "**Exponentiation operator (**)**\n",
    "- is an operator that allows you to use the second value as an exponent.\n",
    "\n",
    "**Floor division (//)**\n",
    "- is an operator that outputs the rounded of value.\n",
    "\n",
    "**Precedence**\n",
    "- is the order by which operations are performed.\n",
    "\n",
    "| Operators                                                    | Meaning                                           |\n",
    "| :----------------------------------------------------------- | :------------------------------------------------ |\n",
    "| `()`                                                         | Parentheses                                       |\n",
    "| `**`                                                         | Exponent                                          |\n",
    "| `+x`, `-x`, `~x`                                             | Unary plus, Unary minus, Bitwise NOT              |\n",
    "| `*`, `/`, `//`, `%`                                          | Multiplication, Division, Floor division, Modulus |\n",
    "| `+`, `-`                                                     | Addition, Subtraction                             |\n",
    "| `<<`, `>>`                                                   | Bitwise shift operators                           |\n",
    "| `&`                                                          | Bitwise AND                                       |\n",
    "| `^`                                                          | Bitwise XOR                                       |\n",
    "| `|`                                                          | Bitwise OR                                        |\n",
    "| `==`, `!=`, `>`, `>=`, `<`, `<=`, `is`, `is not`, `in`, `not in` | Comparisons, Identity, Membership operators       |\n",
    "| `not`                                                        | Logical NOT                                       |\n",
    "| `and`                                                        | Logical AND                                       |\n",
    "| `or`                                                         | Logical OR                                        |\n",
    "\n"
   ]
  },
  {
   "cell_type": "code",
   "execution_count": 13,
   "metadata": {},
   "outputs": [
    {
     "name": "stdout",
     "output_type": "stream",
     "text": [
      "31\n",
      "19\n",
      "150\n",
      "4.166666666666667\n",
      "1\n",
      "244140625\n",
      "4\n",
      "36\n"
     ]
    }
   ],
   "source": [
    "x = 25\n",
    "y = 6\n",
    "\n",
    "print(x + y)\n",
    "print(x - y)\n",
    "print(x * y)\n",
    "print(x / y)\n",
    "print(x % y)\n",
    "print(x ** y)\n",
    "print(x // y)\n",
    "\n",
    "print((4-3) * 6 ** 2)"
   ]
  },
  {
   "cell_type": "markdown",
   "metadata": {},
   "source": [
    "**Comparison and Logical Operators**\n",
    "\n",
    "**Comparison operators**\n",
    "- are operators that are used to campare values.\n",
    "- They return either a \"true\" or \"false\" value.\n",
    "\n",
    "| Operator |                         Description                          |                      Example                      |\n",
    "| :------: | :----------------------------------------------------------: | :-----------------------------------------------: |\n",
    "|    ==    | If the values of two operands are equal, then the condition becomes true. |               (a == b) is not true.               |\n",
    "|    !=    | If values of two operands are not equal, then condition becomes true. |                 (a != b) is true.                 |\n",
    "|    <>    | If values of two operands are not equal, then condition becomes true. | (a <> b) is true. This is similar to != operator. |\n",
    "|    >     | If the value of left operand is greater than the value of right operand, then condition becomes true. |               (a > b) is not true.                |\n",
    "|    <     | If the value of left operand is less than the value of right operand, then condition becomes true. |                 (a < b) is true.                  |\n",
    "|    >=    | If the value of left operand is greater than or equal to the value of right operand, then condition becomes true. |               (a >= b) is not true.               |\n",
    "|    <=    | If the value of left operand is less than or equal to the value of right operand, then condition becomes true. |                 (a <= b) is true.                 |\n",
    "\n",
    "**Logical operator**\n",
    "- are used t combine cnditional statements.\n",
    "- These include the and, or, and not operators.\n",
    "\n",
    "|    Operator     |                         Description                          |        Example         |\n",
    "| :-------------: | :----------------------------------------------------------: | :--------------------: |\n",
    "| and Logical AND |  If both the operands are true then condition becomes true.  |   (a and b) is true.   |\n",
    "|  or Logical OR  | If any of the two operands are non-zero then condition becomes true. |   (a or b) is true.    |\n",
    "| not Logical NOT |      Used to reverse the logical state of its operand.       | Not(a and b) is false. |\n"
   ]
  },
  {
   "cell_type": "code",
   "execution_count": 14,
   "metadata": {},
   "outputs": [
    {
     "name": "stdout",
     "output_type": "stream",
     "text": [
      "False\n",
      "True\n",
      "True\n",
      "False\n",
      "True\n",
      "False\n",
      "False\n",
      "True\n",
      "False\n"
     ]
    }
   ],
   "source": [
    "x = 20\n",
    "y = 11\n",
    "\n",
    "print(x == y)\n",
    "print(x != y)\n",
    "print(x > y)\n",
    "print(x < y)\n",
    "print(x >= y)\n",
    "print(x <= y)\n",
    "\n",
    "print(x > y and x < y)\n",
    "print(x > y or x < y)\n",
    "print(not(x > y or x < y))"
   ]
  },
  {
   "cell_type": "code",
   "execution_count": 15,
   "metadata": {},
   "outputs": [
    {
     "name": "stdout",
     "output_type": "stream",
     "text": [
      "False\n",
      "True\n",
      "True\n",
      "True\n",
      "False\n"
     ]
    }
   ],
   "source": [
    "my_age = 22\n",
    "mom_age = 61\n",
    "sister_age = 29\n",
    "\n",
    "print(mom_age < sister_age and my_age == 22)\n",
    "print(mom_age == 61)\n",
    "print(mom_age > 34 or sister_age == 22)\n",
    "print(mom_age >= 54)\n",
    "print(not(sister_age <= 400 and my_age == 22))"
   ]
  },
  {
   "cell_type": "markdown",
   "metadata": {},
   "source": [
    "**If, Else and Elif**\n",
    "\n",
    "**If statement**\n",
    "- An if statement “works the same way that a decision is made.”\n",
    "- A condition will be checked. If that condition is true, the task will be performed, otherwise, you can move on without performing the task.\n",
    "- is use to set the first condition\n",
    "\n",
    "**Else statement**\n",
    "- Else statements are “the end all be all of the if statement [...] covers all other possibilities not covered and will always run the code if the program gets to it.”\n",
    "\n",
    "**Elif statement**\n",
    "- Elif statements provide “the ability to run separate blocks of code depending on the condition. They are also known as else if statements.”"
   ]
  },
  {
   "cell_type": "code",
   "execution_count": 17,
   "metadata": {},
   "outputs": [
    {
     "name": "stdout",
     "output_type": "stream",
     "text": [
      "It is a positive number.\n",
      "No\n",
      "I will buy spaghetti.\n"
     ]
    }
   ],
   "source": [
    "x = 10\n",
    "if x >= 0:\n",
    "    print(\"It is a positive number.\")\n",
    "\n",
    "if x > 45:\n",
    "    print(\"Yes\")\n",
    "else:\n",
    "    print(\"No\")\n",
    "\n",
    "food_cost = 400\n",
    "if food_cost > 400:\n",
    "    print(\"I will not buy food.\")\n",
    "elif food_cost == 400:\n",
    "    print(\"I will buy spaghetti.\")\n",
    "elif food_cost < 400:\n",
    "    print(\"I will buy spaghetti and iced tea.\")"
   ]
  },
  {
   "cell_type": "code",
   "execution_count": 18,
   "metadata": {},
   "outputs": [
    {
     "name": "stdout",
     "output_type": "stream",
     "text": [
      "x is less than y\n"
     ]
    }
   ],
   "source": [
    "x = 322\n",
    "y = 2031\n",
    "\n",
    "if x >= y:\n",
    "    print(\"x is greater than or equal to y.\")\n",
    "elif x == y:\n",
    "    print(\"x is equal to y\")\n",
    "else:\n",
    "    print(\"x is less than y\")"
   ]
  },
  {
   "cell_type": "markdown",
   "metadata": {},
   "source": [
    "**Loops and Iterations**\n",
    "\n",
    "**Loops**\n",
    "- are used to \"rerun the same lines of code several times until a condition is met.\n",
    "\n",
    "**For lops**\n",
    "- are used to \"loop a set number of times\".\n",
    "\n",
    "**While loops**\n",
    "- are used \"when you need to loop based on a condition rather than counting.\"\n",
    "- The while loop can ba used to execute a set of statements as long as the condition is true.\n",
    "\n",
    "**Break statements**\n",
    "- are used to break out of the loop at any point in time.\n",
    "- Use of break statement will stop the loop completely, also upon specified\n",
    "\n",
    "**Continue statements**\n",
    "- are when the continue statenment is hit, \"the cuurent iteration stops and goes back to the top of the loop\".\n",
    "\n",
    "**range() function**\n",
    "- is a function used to \"generate a series of numbers\".\n",
    "- is used to provide a set of numbers, beginning with zero and ending with the number specified.\n",
    "\n",
    "**Nested keyword**\n",
    "- is a loop within a loop.\n",
    "- The inner loop must always finish running before the outer loop can continue"
   ]
  },
  {
   "cell_type": "markdown",
   "metadata": {},
   "source": [
    "**For**"
   ]
  },
  {
   "cell_type": "code",
   "execution_count": 4,
   "metadata": {},
   "outputs": [
    {
     "name": "stdout",
     "output_type": "stream",
     "text": [
      "purple\n",
      "red\n",
      "orange\n",
      "yellow\n",
      "o\n",
      "r\n",
      "a\n",
      "n\n",
      "g\n",
      "e\n",
      "purple\n",
      "orange\n",
      "yellow\n",
      "purple\n",
      "0\n",
      "1\n",
      "2\n",
      "3\n",
      "4\n",
      "5\n",
      "6\n",
      "7\n",
      "purple car\n",
      "purple notebook\n",
      "purple shirt\n",
      "purple shoes\n",
      "red car\n",
      "red notebook\n",
      "red shirt\n",
      "red shoes\n",
      "orange car\n",
      "orange notebook\n",
      "orange shirt\n",
      "orange shoes\n",
      "yellow car\n",
      "yellow notebook\n",
      "yellow shirt\n",
      "yellow shoes\n"
     ]
    }
   ],
   "source": [
    "colors = [\"purple\", \"red\", \"orange\", \"yellow\"]\n",
    "for x in colors:\n",
    "    print(x)\n",
    "\n",
    "for y in \"orange\":\n",
    "    print(y)\n",
    "\n",
    "colors = [\"purple\", \"red\", \"orange\", \"yellow\"]\n",
    "for x in colors:\n",
    "    if x == \"red\":\n",
    "        continue\n",
    "    print(x)\n",
    "\n",
    "colors = [\"purple\", \"red\", \"orange\", \"yellow\"]\n",
    "for x in colors:\n",
    "    if x == \"red\":\n",
    "        break\n",
    "    print(x)\n",
    "\n",
    "x = range(8)\n",
    "for y in x:\n",
    "    print(y)\n",
    "\n",
    "colors = [\"purple\", \"red\", \"orange\", \"yellow\"]\n",
    "things = [\"car\", \"notebook\", \"shirt\", \"shoes\"]\n",
    "for x in colors:\n",
    "    for y in things:\n",
    "        print(x, y)\n",
    "\n"
   ]
  },
  {
   "cell_type": "markdown",
   "metadata": {},
   "source": [
    "**While**"
   ]
  },
  {
   "cell_type": "code",
   "execution_count": 2,
   "metadata": {},
   "outputs": [
    {
     "name": "stdout",
     "output_type": "stream",
     "text": [
      "1\n",
      "2\n",
      "3\n",
      "4\n",
      "5\n",
      "6\n",
      "7\n",
      "8\n",
      "9\n",
      "10\n",
      "1\n",
      "2\n",
      "3\n",
      "5\n",
      "1\n",
      "2\n",
      "3\n",
      "4\n",
      "5\n",
      "6\n",
      "i is no longer less than 7.\n"
     ]
    }
   ],
   "source": [
    "# While\n",
    "\n",
    "i = 1\n",
    "while i <= 10:\n",
    "    print(i)\n",
    "    i +=1\n",
    "\n",
    "i = 0\n",
    "while i < 5:\n",
    "    i +=1\n",
    "    if i == 4:\n",
    "        continue\n",
    "    print(i)\n",
    "\n",
    "i = 1\n",
    "while i < 7:\n",
    "    print(i)\n",
    "    i += 1\n",
    "else:\n",
    "    print(\"i is no longer less than 7.\")"
   ]
  },
  {
   "cell_type": "code",
   "execution_count": null,
   "metadata": {},
   "outputs": [],
   "source": []
  }
 ],
 "metadata": {
  "kernelspec": {
   "display_name": "Python 3",
   "language": "python",
   "name": "python3"
  },
  "language_info": {
   "codemirror_mode": {
    "name": "ipython",
    "version": 3
   },
   "file_extension": ".py",
   "mimetype": "text/x-python",
   "name": "python",
   "nbconvert_exporter": "python",
   "pygments_lexer": "ipython3",
   "version": "3.8.10"
  }
 },
 "nbformat": 4,
 "nbformat_minor": 2
}
