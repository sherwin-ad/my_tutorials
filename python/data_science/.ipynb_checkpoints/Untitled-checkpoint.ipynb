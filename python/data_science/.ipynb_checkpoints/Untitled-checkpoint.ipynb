{
 "cells": [
  {
   "cell_type": "code",
   "execution_count": null,
   "id": "8c4c1d29",
   "metadata": {},
   "outputs": [],
   "source": [
    "import turtle\n",
    "\n",
    "def draw_tree(t, trunk_length, levels):\n",
    "    if levels == 0:\n",
    "        return\n",
    "    t.forward(trunk_length)\n",
    "    t.left(120)\n",
    "    draw_tree(t, trunk_length/2, levels-1)\n",
    "    t.right(240)\n",
    "    draw_tree(t, trunk_length/2, levels-1)\n",
    "    t.left(120)\n",
    "    t.backward(trunk_length)\n",
    "\n",
    "t = turtle.Turtle()\n",
    "draw_tree(t, 100, 4)\n",
    "turtle.done()"
   ]
  },
  {
   "cell_type": "code",
   "execution_count": null,
   "id": "75e0cce5",
   "metadata": {},
   "outputs": [],
   "source": []
  }
 ],
 "metadata": {
  "kernelspec": {
   "display_name": "Python 3 (ipykernel)",
   "language": "python",
   "name": "python3"
  },
  "language_info": {
   "codemirror_mode": {
    "name": "ipython",
    "version": 3
   },
   "file_extension": ".py",
   "mimetype": "text/x-python",
   "name": "python",
   "nbconvert_exporter": "python",
   "pygments_lexer": "ipython3",
   "version": "3.8.10"
  }
 },
 "nbformat": 4,
 "nbformat_minor": 5
}
