{
 "cells": [
  {
   "cell_type": "markdown",
   "metadata": {},
   "source": [
    "## Using the Init Method\n",
    "\n",
    "**Object Oriented Programming**\n",
    "- Object-oriented programming is a method or approach of organizing a program by grouping properties, methods, and attributes into individual objects.\n",
    "\n",
    "![image-20211109104125015](images/image-20211109104125015.png)\n",
    "\n",
    "**Classs**\n",
    "- Class is the blueprint or template for creating instances and objects; helps us organize our data and functions so that they can be reused or modified if necessary.\n",
    "- Classes serve as the blueprints for objects, while objects are the final product or outcome. Instances are the digital copy (or the code version) of the object.\n",
    "\n",
    "\n",
    "![image-20211109105119421](images/image-20211109105119421.png)\n",
    "\n",
    "**Pass**\n",
    "- Pass is a temporary placeholder for future code, which is used to prevent Identation error. \n",
    "\n",
    "![image-20211109105214528](images/image-20211109105214528.png)\n",
    "\n",
    "**Objects**\n",
    "- Objects are data structures that are defined by its class, comprised of methods, class variables, and instance variables.\n",
    "\n",
    "![image-20211109104923530](images/image-20211109104923530.png)\n",
    "\n",
    "**Attributes**\n",
    "- Attributes are data stored inside a class or instance that represent the state of the class or instance.\n",
    "\n",
    "![image-20211109105300680](images/image-20211109105300680.png)\n",
    "\n",
    "**Methods**\n",
    "- are types of function that is defined in a class.\n",
    "\n",
    "![image-20211109105815912](images/image-20211109105815912.png)\n",
    "\n",
    "**Class Variables**\n",
    "- Class variables are variables that are used by all instances of the class, which can be defined within a class, but not within the methods of the class.\n",
    "\n",
    "![image-20211109110033183](images/image-20211109110033183.png)\n",
    "\n",
    "**Instance Variables**\n",
    "- are variables that are defined within a method and are unique to a certain instance.\n",
    "- Instance variables and class variables are very different.\n",
    "- Instance variables are object-specife while class variables can be present all throughout.\n",
    "- Instance variables have a more active role as well.\n",
    "\n",
    "\n",
    "![image-20211109110223624](images/image-20211109110223624.png)\n",
    "\n",
    "**__init__ method**\n",
    "- is used to assign values to the properties and operations of objects when it is being created.\n",
    "\n",
    "![image-20211109110411928](images/image-20211109110411928.png)"
   ]
  },
  {
   "cell_type": "code",
   "execution_count": 1,
   "metadata": {},
   "outputs": [
    {
     "name": "stdout",
     "output_type": "stream",
     "text": [
      "Dela Cruz\n",
      "67890\n",
      "45632\n",
      "Sports\n",
      "Smith\n"
     ]
    }
   ],
   "source": [
    " class Guests:\n",
    "    def __init__(self, first, last, interest, phone):\n",
    "        self.first = first\n",
    "        self.last = last\n",
    "        self.interest = interest\n",
    "        self.phone = phone\n",
    "\n",
    "g_1 = Guests(\"Eve\", \"Dela Cruz\", \"Anime\", 12345)\n",
    "g_2 = Guests(\"Adam\", \"Perez\", \"Russian Literatue\", 67890)\n",
    "print(g_1.last)\n",
    "print(g_2.phone)\n",
    "g_3 = Guests(\"Mike\", \"Lim\", \"Movies\", 45632)\n",
    "g_4 = Guests(\"Katie\", \"Lopz\", \"Sports\", 87532)\n",
    "g_5 = Guests(\"Bert\", \"Smith\", \"Cooking\", 14521)\n",
    "print(g_3.phone)\n",
    "print(g_4.interest)\n",
    "print(g_5.last)"
   ]
  },
  {
   "cell_type": "code",
   "execution_count": 2,
   "metadata": {},
   "outputs": [
    {
     "name": "stdout",
     "output_type": "stream",
     "text": [
      "Welcome to Coffee Palace!\n",
      "Elaine\n",
      "Strawberry frappuccino\n",
      "Tuna wrap\n",
      "270\n",
      "Jerry\n",
      "Caramel macchiato\n",
      "Glazed doughnut\n",
      "230\n"
     ]
    }
   ],
   "source": [
    "class Customers:\n",
    "    greeting = \"Welcome to Coffee Palace!\"\n",
    "\n",
    "    def __init__(cust, name, beverage, food, total):\n",
    "        cust.name = name\n",
    "        cust.beverage = beverage\n",
    "        cust.food = food\n",
    "        cust.total = total\n",
    "\n",
    "c_1 = Customers(\"Nate\", \"Espresso\", \"Patrami on rye\", 220)\n",
    "c_2 = Customers(\"Elaine\", \"Strawberry frappuccino\", \"Tuna wrap\", 270)\n",
    "c_3 = Customers(\"Samirah\", \"Iced caffe latte\", \"Cinnamon roll\", 225)\n",
    "c_4 = Customers(\"Jerry\", \"Caramel macchiato\", \"Glazed doughnut\", 230)\n",
    "c_5 = Customers(\"Paz\", \"Iced tea\", \"Blueberry pancakes\", 315)\n",
    "\n",
    "print(Customers.greeting)\n",
    "print(c_2.name)\n",
    "print(c_2.beverage)\n",
    "print(c_2.food)\n",
    "print(c_2.total)\n",
    "print(c_4.name)\n",
    "print(c_4.beverage)\n",
    "print(c_4.food)\n",
    "print(c_4.total)"
   ]
  },
  {
   "cell_type": "markdown",
   "metadata": {},
   "source": [
    "**Inheritance**\n",
    "- In object-oriented programming(OOP), inheritance “allows classes to have code reusability within programming.”\n",
    "- Inheritance allows subclasses to inherit variables or methods from the base class. This is a reason why object-oriented programming (which utilizes classes and objects) is considered to be a convenient approach to programming.\n",
    "\n",
    "**Subclass**\n",
    "- is the classhich inherits from another class, also called a child class.\n",
    "\n",
    "![image-20211109121903730](images/image-20211109121903730.png)\n",
    "\n",
    "**Base Class**\n",
    "- is the class being inherited from, also called parent class.\n",
    "\n",
    "![image-20211109141058780](images/image-20211109141058780.png)\n",
    "\n"
   ]
  },
  {
   "cell_type": "code",
   "execution_count": 3,
   "metadata": {},
   "outputs": [
    {
     "name": "stdout",
     "output_type": "stream",
     "text": [
      "(parent class/User) Username: pretty_jun25 password: therpassword287\n",
      "(subclass/Admin) Username leslie2001 password: password1234\n"
     ]
    }
   ],
   "source": [
    "class User:\n",
    "    def __init__(self, username, password):\n",
    "        self.username = username\n",
    "        self.password = password\n",
    "\n",
    "    def display1(self):\n",
    "        print(\"(parent class/User) Username:\", self.username, \"password:\", self.password)\n",
    "\n",
    "class Admin(User):\n",
    "    def display2(self):\n",
    "        print(\"(subclass/Admin) Username\", self.username, \"password:\", self.password)\n",
    "\n",
    "a_1 = Admin(\"leslie2001\", \"password1234\")\n",
    "u_45 = User(\"pretty_jun25\", \"therpassword287\")\n",
    "\n",
    "u_45.display1()\n",
    "a_1.display2()"
   ]
  },
  {
   "cell_type": "markdown",
   "metadata": {},
   "source": [
    "## Overriding methods\n",
    "\n",
    "- If you add a method in the subclass with the same name as afunction in the base class, the inheritance of the base method will be overridden.\n",
    "\n",
    "- Method overriding is used to change what the method does. Within the subclass, we redefine the method (with the same name) to perform the task differently.”\n",
    "\n",
    "![image-20211109141351244](images/image-20211109141351244.png)\n",
    "\n",
    "** super() method**\n",
    "- is a method that allows you to call a method from the parent class.\n",
    "- The super() method is used to give access to methods and properties of a subclass.\n",
    "- Unlike simply overriding methods,the super() method also allows logical statements to be made.\n",
    "\n",
    "![image-20211109141647342](images/image-20211109141647342.png)"
   ]
  },
  {
   "cell_type": "code",
   "execution_count": 4,
   "metadata": {},
   "outputs": [
    {
     "name": "stdout",
     "output_type": "stream",
     "text": [
      "Username: leslie2001\n",
      "password: password1234\n",
      "code: 2467\n"
     ]
    }
   ],
   "source": [
    "class User:\n",
    "    def __init__(self, username, password):\n",
    "        self.username = username\n",
    "        self.password = password\n",
    "\n",
    "    def display1(self):\n",
    "        print(\"Username:\", self.username)\n",
    "        print(\"password:\", self.password)\n",
    "\n",
    "class Admin(User):\n",
    "    def __init__(self, username, password, code):\n",
    "        self.code = code\n",
    "        super().__init__(username, password)\n",
    "\n",
    "    def display3(self):\n",
    "        super().display1()\n",
    "        print(\"code:\", self.code)\n",
    "\n",
    "a_1 = Admin(\"leslie2001\", \"password1234\", 2467)\n",
    "a_1.display3()"
   ]
  },
  {
   "cell_type": "code",
   "execution_count": 5,
   "metadata": {},
   "outputs": [
    {
     "name": "stdout",
     "output_type": "stream",
     "text": [
      "Name:  Tom\n",
      "Birthday:  January 16\n",
      "Age:  14\n",
      "Favorite food:  Ice cream\n",
      "Goal:  To be happy\n",
      "Name:  Vera\n",
      "Birthday:  June 22\n",
      "Age:  16\n",
      "Favorite food:  Beef stroganoff\n",
      "Goal:  To be the world's greeatest chef\n",
      "Position:  Treasurer\n"
     ]
    }
   ],
   "source": [
    "class ClubMembers:\n",
    "    def __init__(self, name, birthday, age, favorite_food, goal):\n",
    "        self.name = name\n",
    "        self.birthday = birthday\n",
    "        self.age = age\n",
    "        self.favorite_food = favorite_food\n",
    "        self.goal = goal\n",
    "\n",
    "    def display1(self):\n",
    "        print(\"Name: \", self.name)\n",
    "        print(\"Birthday: \",self.birthday)\n",
    "        print(\"Age: \", self.age)\n",
    "        print(\"Favorite food: \", self.favorite_food)\n",
    "        print(\"Goal: \", self.goal)\n",
    "\n",
    "class ClubOfficers(ClubMembers):\n",
    "\n",
    "    def __init__(self, name, birthday, age, favorite_food, goal, position):\n",
    "        self.position = position\n",
    "        ClubMembers.__init__(self, name, birthday, age, favorite_food, goal)\n",
    "#       OR\n",
    "#       super().__init__(name, birthday, age, favorite_food, goal)\n",
    "    def display2(self):\n",
    "        print(\"Name: \", self.name)\n",
    "        print(\"Birthday: \", self.birthday)\n",
    "        print(\"Age: \", self.age)\n",
    "        print(\"Favorite food: \", self.favorite_food)\n",
    "        print(\"Goal: \", self.goal)\n",
    "        print(\"Position: \", self.position)\n",
    "\n",
    "m_1 = ClubMembers(\"Tom\", \"January 16\", 14, \"Ice cream\", \"To be happy\")\n",
    "o_4 = ClubOfficers(\"Vera\", \"June 22\", 16, \"Beef stroganoff\", \"To be the world's greeatest chef\", \"Treasurer\")\n",
    "\n",
    "m_1.display1()\n",
    "o_4.display2()"
   ]
  },
  {
   "cell_type": "markdown",
   "metadata": {},
   "source": [
    "## Dictionaries\n",
    "\n",
    "**Dictionaries** contain a set of key-value pairs. A **key-value pair** is a set of values associated with that key.\n",
    "\n",
    "- is a collection of unordered data, which is stored in key-value pairs.\n",
    "- Dictionaries begin and end with curly braces.\n",
    "- Square brackets are used for lists or to print the value of the key when using the print() function.\n",
    "\n",
    "- The code results in a TypeError whenever an operation is performed using an incorrect object or data type. |n this case, lists cannot be keys.\n",
    "\n",
    "\n",
    "![image-20211109171745067](images/image-20211109171745067.png)\n",
    "\n",
    "**Key-value Pairs**\n",
    "- is a set of values associated with each other.\n",
    "\n",
    "![image-20211109171928521](images/image-20211109171928521.png)\n",
    "\n",
    "\n",
    "**Key**\n",
    "- The key is a unique identifier foe some item of data.\n",
    "\n",
    "![image-20211109172131853](images/image-20211109172131853.png)\n",
    "\n",
    "**Value**\n",
    "- The value is the data that is identiofied or a pointer to the location of that data.\n",
    "\n",
    "![image-20211109172320760](images/image-20211109172320760.png)\n",
    "\n",
    "**.update() method**\n",
    "- The update method updates the dictionary with the specified key-value pairs.\n",
    "- The .update() method is used to add two or more keys and their corresponding values to the dictionary. \n",
    "- If we only want to add one key-value pair, we can use the syntax dictionary[key] = value.\n",
    "\n",
    "\n",
    "![image-20211109172508413](images/image-20211109172508413.png)\n",
    "\n",
    "**zip() finction()**\n",
    "- The zip function is used to quickly combined associated data-sets without needing to rely on ulti-dimentional lists.\n",
    "\n",
    "![image-20211109172718665](images/image-20211109172718665.png)"
   ]
  },
  {
   "cell_type": "code",
   "execution_count": 6,
   "metadata": {},
   "outputs": [
    {
     "name": "stdout",
     "output_type": "stream",
     "text": [
      "{'weird hat': 150, 'purple rug': 450, 'old books': 200, 'stuffed elephant': 80, 'plastic ring': 20}\n",
      "{'Gerald': 'guinea pig', 'Alice': 'dog', 'Ruby': 'cat', 'Ron': 'gecko', 'Paulina': 'hamster', 'Marlon': 'goldfish'}\n",
      "{'Crouching Tigers': ['Jacob', 'Kevin', 'Roni', 'Joshua', 'Isagani'], 'Hidden Dragons': ['Ted', 'Bryan', 'Edu', 'Luis', 'Mark']}\n",
      "[('Tita Malou', 54), ('Jef', 14), ('Tito Roger', 55), ('Veronica', 19)]\n",
      "{'Tita Malou': 54, 'Jef': 14, 'Tito Roger': 55, 'Veronica': 19}\n"
     ]
    }
   ],
   "source": [
    "shopping_list = {\"weird hat\": 150, \"purple rug\": 450,\n",
    "                 \"old books\": 200, \"stuffed elephant\": 50}\n",
    "\n",
    "# Add new key\n",
    "shopping_list[\"plastic ring\"] = 20\n",
    "\n",
    "# Overwrite existing key\n",
    "shopping_list[\"stuffed elephant\"] = 80\n",
    "\n",
    "print(shopping_list)\n",
    "\n",
    "\n",
    "pets = {\"Gerald\": \"guinea pig\", \"Alice\": \"dog\", \"Ruby\": \"cat\"}\n",
    "\n",
    "pets.update({\"Ron\": \"gecko\", \"Paulina\": \"hamster\", \"Marlon\": \"goldfish\"})\n",
    "\n",
    "print(pets)\n",
    "\n",
    "\n",
    "basketball_teams = {\"Crouching Tigers\": [\"Jacob\", \"Kevin\", \"Roni\", \"Joshua\", \"Isagani\"],\n",
    "                    \"Hidden Dragons\": [\"Ted\", \"Bryan\", \"Edu\", \"Luis\", \"Mark\"]}\n",
    "\n",
    "print(basketball_teams)\n",
    "\n",
    "relative = [\"Tita Malou\", \"Jef\", \"Tito Roger\", \"Veronica\"]\n",
    "\n",
    "age = [54, 14, 55, 19]\n",
    "\n",
    "# Combine\n",
    "combine_lists = zip(relative, age)\n",
    "print(list(combine_lists))\n",
    "\n",
    "# Convert to Dictionary\n",
    "relative_age = dict(zip(relative, age))\n",
    "print(relative_age)\n"
   ]
  },
  {
   "cell_type": "code",
   "execution_count": 7,
   "metadata": {},
   "outputs": [
    {
     "name": "stdout",
     "output_type": "stream",
     "text": [
      "{'vanila': 'almonds', 'chocolate': 'banana slices', 'strawberry': 'chocolate syrup', \"cookies n' cream\": 'caramel syrup', 'bubblegum': 'white chocolate chips'}\n",
      "{'vanila': 'almonds', 'chocolate': 'blueberries', 'strawberry': 'chocolate syrup', \"cookies n' cream\": 'caramel syrup', 'bubblegum': 'white chocolate chips', 'macha': 'pistachios', 'ube': 'mango slices'}\n"
     ]
    }
   ],
   "source": [
    "flavors = [\"vanila\", \"chocolate\", \"strawberry\", \"cookies n' cream\", \"bubblegum\"]\n",
    "\n",
    "toppings = [\"almonds\", \"banana slices\", \"chocolate syrup\", \"caramel syrup\", \"white chocolate chips\"]\n",
    "\n",
    "ice_cream = dict(zip(flavors, toppings))\n",
    "print(ice_cream)\n",
    "\n",
    "ice_cream[\"chocolate\"] = \"blueberries\"\n",
    "ice_cream.update({\"macha\": \"pistachios\", \"ube\": \"mango slices\"})\n",
    "print(ice_cream)"
   ]
  },
  {
   "cell_type": "markdown",
   "metadata": {},
   "source": [
    "## Using Dictionaries\n"
   ]
  },
  {
   "cell_type": "markdown",
   "metadata": {},
   "source": [
    "### .get() method\n",
    "- is used to retrieve information.\n",
    "- is a more convenient way to check if a certain key is present in our code.\n",
    "- If the key does not exist, it would simply print \"None\" when we run the code."
   ]
  },
  {
   "cell_type": "code",
   "execution_count": 8,
   "metadata": {},
   "outputs": [
    {
     "name": "stdout",
     "output_type": "stream",
     "text": [
      "72\n"
     ]
    }
   ],
   "source": [
    "quiz_score = {\"Rex\": 98, \"Ian\": 83,\n",
    "              \"Bob\": 72, \"Lin\": 87}\n",
    "\n",
    "print(quiz_score.get(\"Bob\"))"
   ]
  },
  {
   "cell_type": "markdown",
   "metadata": {},
   "source": [
    "### .pop() method\n",
    "- removes the last item in the list /dictionary; however you can specify an index to remove as well.\n",
    "- is used to delete a key. This can be used if the key is no longer necessary to the code."
   ]
  },
  {
   "cell_type": "code",
   "execution_count": 9,
   "metadata": {},
   "outputs": [
    {
     "name": "stdout",
     "output_type": "stream",
     "text": [
      "{'Rex': 98, 'Ian': 83, 'Lin': 87}\n"
     ]
    }
   ],
   "source": [
    "quiz_score = {\"Rex\": 98, \"Ian\": 83,\n",
    "              \"Bob\": 72, \"Lin\": 87}\n",
    "\n",
    "failed =quiz_score.pop(\"Bob\")\n",
    "print(quiz_score)"
   ]
  },
  {
   "cell_type": "markdown",
   "metadata": {},
   "source": [
    "### .keys() method\n",
    "- returns a list containing the dictionary's keys."
   ]
  },
  {
   "cell_type": "code",
   "execution_count": 10,
   "metadata": {},
   "outputs": [
    {
     "name": "stdout",
     "output_type": "stream",
     "text": [
      "dict_keys(['Rex', 'Ian', 'Bob', 'Lin'])\n"
     ]
    }
   ],
   "source": [
    "quiz_score = {\"Rex\": 98, \"Ian\": 83,\n",
    "              \"Bob\": 72, \"Lin\": 87}\n",
    "\n",
    "print(quiz_score.keys())"
   ]
  },
  {
   "cell_type": "markdown",
   "metadata": {},
   "source": [
    "### .values() method\n",
    "- returns a list of all the values in the dictionary."
   ]
  },
  {
   "cell_type": "code",
   "execution_count": 11,
   "metadata": {},
   "outputs": [
    {
     "name": "stdout",
     "output_type": "stream",
     "text": [
      "dict_values([98, 83, 72, 87])\n"
     ]
    }
   ],
   "source": [
    "quiz_score = {\"Rex\": 98, \"Ian\": 83,\n",
    "              \"Bob\": 72, \"Lin\": 87}\n",
    "\n",
    "print(quiz_score.values())"
   ]
  },
  {
   "cell_type": "markdown",
   "metadata": {},
   "source": [
    "### .items() method\n",
    "- returns a list containing a tuple for each key value pair.\n",
    "- to access both the key and the value"
   ]
  },
  {
   "cell_type": "code",
   "execution_count": 12,
   "metadata": {},
   "outputs": [
    {
     "name": "stdout",
     "output_type": "stream",
     "text": [
      "dict_items([('Rex', 98), ('Ian', 83), ('Bob', 72), ('Lin', 87)])\n"
     ]
    }
   ],
   "source": [
    "quiz_score = {\"Rex\": 98, \"Ian\": 83,\n",
    "              \"Bob\": 72, \"Lin\": 87}\n",
    "\n",
    "print(quiz_score.items())"
   ]
  },
  {
   "cell_type": "code",
   "execution_count": 13,
   "metadata": {},
   "outputs": [
    {
     "name": "stdout",
     "output_type": "stream",
     "text": [
      "{'chicken': 8, 'apples': 6, 'cucumbers': 3, 'milk': 2}\n",
      "dict_keys(['Sir Rafael', 'Ms. Joan', 'Ms. Dana'])\n",
      "failed\n"
     ]
    }
   ],
   "source": [
    "# pop method\n",
    "groceries = {\"chicken\": 8, \"apples\": 6, \"cucumbers\": 3,\n",
    "             \"milk\": 2, \"oranges\": 4}\n",
    "\n",
    "remove = groceries.pop(\"oranges\")\n",
    "print(groceries)\n",
    "\n",
    "# keys method\n",
    "speakers = {\"Sir Rafael\": 54, \"Ms. Joan\": 33, \"Ms. Dana\": 67}\n",
    "\n",
    "name = speakers.keys()\n",
    "print(name)\n",
    "\n",
    "# get method\n",
    "tryout_result = {\"Carl\": \"failed\", \"John Y.\": \"passed\", \"Quentin\": \"failed\",\n",
    "                 \"Peter\": \"failed\", \"Max T.\": \"passed\", \"Joseph\":\"passed\",\n",
    "                 \"Jone\": \"failed\", \"Jorge\": \"failed\"}\n",
    "\n",
    "print(tryout_result.get(\"Jorge\"))"
   ]
  },
  {
   "cell_type": "markdown",
   "metadata": {},
   "source": [
    "## Looping Through Dictionaries"
   ]
  },
  {
   "cell_type": "markdown",
   "metadata": {},
   "source": [
    "### .items() method\n",
    "- is used to loop through thje key-value pairs; can access both the key and valu pairs."
   ]
  },
  {
   "cell_type": "code",
   "execution_count": 14,
   "metadata": {},
   "outputs": [
    {
     "name": "stdout",
     "output_type": "stream",
     "text": [
      "Name\n",
      "Frank\n",
      "Position\n",
      "Sales Representative\n",
      "Email Address\n",
      "frank@company.com\n"
     ]
    }
   ],
   "source": [
    "employee_1 = {\"Name\": \"Frank\", \"Position\": \"Sales Representative\",\n",
    "              \"Email Address\": \"frank@company.com\" }\n",
    "\n",
    "for key, value in employee_1.items():\n",
    "    print(key)\n",
    "    print(value)"
   ]
  },
  {
   "cell_type": "markdown",
   "metadata": {},
   "source": [
    "### .key() method\n",
    "- is used to loop through the keys"
   ]
  },
  {
   "cell_type": "code",
   "execution_count": 15,
   "metadata": {},
   "outputs": [
    {
     "name": "stdout",
     "output_type": "stream",
     "text": [
      "Harry Potter\n",
      "Percy Jackson\n",
      "Katniss Everdeen\n",
      "Bilbo Baggins\n",
      "Harry Potter\n",
      "Katniss Everdeen\n",
      "Bilbo Baggins\n"
     ]
    }
   ],
   "source": [
    "characters_weapons = {\"Harry Potter\": \"wand\", \"Percy Jackson\": \"Riptide\",\n",
    "                      \"Katniss Everdeen\": \"bow and arrow\", \"Bilbo Baggins\": \"Ring\"}\n",
    "\n",
    "for name in characters_weapons.keys():\n",
    "    print(name)\n",
    "    \n",
    "for name in characters_weapons.keys():\n",
    "    if name == \"Percy Jackson\":\n",
    "        continue\n",
    "    print(name)"
   ]
  },
  {
   "cell_type": "markdown",
   "metadata": {},
   "source": [
    "### .values() method\n",
    "- is used to loop through the values."
   ]
  },
  {
   "cell_type": "code",
   "execution_count": 16,
   "metadata": {},
   "outputs": [
    {
     "name": "stdout",
     "output_type": "stream",
     "text": [
      "['fried chicken', 'sundae']\n",
      "['fried chicken', 'spaghetti']\n",
      "['gravy', 'mashed potatoes']\n",
      "['pizza', 'pasta']\n"
     ]
    }
   ],
   "source": [
    "most_delicious = {\"McDonald's\": [\"fried chicken\", \"sundae\"],\n",
    "                \"Jollibee\": [\"fried chicken\", \"spaghetti\"],\n",
    "                \"KFC\": [\"gravy\", \"mashed potatoes\"],\n",
    "                \"Pizza Hut\": [\"pizza\", \"pasta\"]}\n",
    "\n",
    "for item in most_delicious.values():\n",
    "    print(item)"
   ]
  },
  {
   "cell_type": "markdown",
   "metadata": {},
   "source": [
    "### nested keyword\n",
    "- is used to create dictionary within a dictionary.\n",
    "- can contain many dictionaries inside one big dictionary. This is very useful for containing large amounts of data.\n"
   ]
  },
  {
   "cell_type": "code",
   "execution_count": 17,
   "metadata": {},
   "outputs": [
    {
     "name": "stdout",
     "output_type": "stream",
     "text": [
      "{1: {'name': 'Sweetie', 'age': '12', 'color': 'white'}, 2: {'name': 'Ethel', 'age': '3', 'color': 'orange'}}\n",
      "3\n",
      "Sweetie\n",
      "orange\n"
     ]
    }
   ],
   "source": [
    "cat = {1: {\"name\": \"Sweetie\", \"age\": \"12\", \"color\": \"white\"},\n",
    "       2: {\"name\": \"Ethel\", \"age\": \"3\", \"color\": \"orange\"}}\n",
    "\n",
    "print(cat)\n",
    "\n",
    "print(cat[2][\"age\"])\n",
    "print(cat[1][\"name\"])\n",
    "print(cat[2][\"color\"])"
   ]
  },
  {
   "cell_type": "markdown",
   "metadata": {},
   "source": [
    "### Add key-value pair"
   ]
  },
  {
   "cell_type": "code",
   "execution_count": 18,
   "metadata": {},
   "outputs": [
    {
     "name": "stdout",
     "output_type": "stream",
     "text": [
      "{'name': 'Sweetie', 'age': '12', 'color': 'white'}\n",
      "{'name': 'Ethel', 'age': '3', 'color': 'orange'}\n",
      "{'name': 'Tuna', 'age': '5', 'color': 'black', 'personality': 'friendly'}\n",
      "{'name': 'Bubbles', 'age': '7', 'color': 'gray', 'personality': 'grumpy'}\n"
     ]
    }
   ],
   "source": [
    "cat = {1: {\"name\": \"Sweetie\", \"age\": \"12\", \"color\": \"white\"},\n",
    "       2: {\"name\": \"Ethel\", \"age\": \"3\", \"color\": \"orange\"}}\n",
    "\n",
    "cat[3] = {}\n",
    "cat[3][\"name\"] = \"Tuna\"\n",
    "cat[3][\"age\"] = \"5\"\n",
    "cat[3][\"color\"] = \"black\"\n",
    "cat[3][\"personality\"] = \"friendly\"\n",
    "\n",
    "cat[4] = {'name': 'Bubbles', 'age': '7', 'color': 'gray', 'personality': 'grumpy'}\n",
    "\n",
    "print(cat[1])\n",
    "print(cat[2])\n",
    "print(cat[3])\n",
    "print(cat[4])"
   ]
  },
  {
   "cell_type": "markdown",
   "metadata": {},
   "source": [
    "## Handling, Creating, and Writing to a File\n",
    "\n",
    "### Files\n",
    "- are the named locations where you securely store your data.\n",
    "\n",
    "#### Types of file\n",
    "\n",
    "1. Binary\n",
    "- are used for storing media files, compiled code, or app data.\n",
    "\n",
    "2. Text\n",
    "- are readable to us. (ex. plaint text, source code)\n",
    "\n",
    "\n",
    "### 4 modes\n",
    "\n",
    "1. r - read\n",
    "\n",
    "2. a - append\n",
    "\n",
    "3. w - write\n",
    "\n",
    "4. x - create - f = open(\"newfile.txt\", \"x\")"
   ]
  },
  {
   "cell_type": "markdown",
   "metadata": {},
   "source": [
    "### open() function\n",
    "- allows us to create or modify files."
   ]
  },
  {
   "cell_type": "code",
   "execution_count": 19,
   "metadata": {},
   "outputs": [
    {
     "ename": "FileExistsError",
     "evalue": "[Errno 17] File exists: 'newfile.txt'",
     "output_type": "error",
     "traceback": [
      "\u001b[0;31m---------------------------------------------------------------------------\u001b[0m",
      "\u001b[0;31mFileExistsError\u001b[0m                           Traceback (most recent call last)",
      "\u001b[0;32m<ipython-input-19-34ad24d4df82>\u001b[0m in \u001b[0;36m<module>\u001b[0;34m\u001b[0m\n\u001b[0;32m----> 1\u001b[0;31m \u001b[0mf\u001b[0m \u001b[0;34m=\u001b[0m \u001b[0mopen\u001b[0m\u001b[0;34m(\u001b[0m\u001b[0;34m\"newfile.txt\"\u001b[0m\u001b[0;34m,\u001b[0m \u001b[0;34m\"x\"\u001b[0m\u001b[0;34m)\u001b[0m\u001b[0;34m\u001b[0m\u001b[0;34m\u001b[0m\u001b[0m\n\u001b[0m",
      "\u001b[0;31mFileExistsError\u001b[0m: [Errno 17] File exists: 'newfile.txt'"
     ]
    }
   ],
   "source": [
    "f = open(\"newfile.txt\", \"x\")"
   ]
  },
  {
   "cell_type": "markdown",
   "metadata": {},
   "source": [
    "### Write\n",
    "- also known as \"w\" opens file for writing and creates the file if it does not exist."
   ]
  },
  {
   "cell_type": "code",
   "execution_count": null,
   "metadata": {},
   "outputs": [],
   "source": [
    "f = open(\"newfile.txt\", \"w\")\n",
    "f.write(\"Introduction to Python\")"
   ]
  },
  {
   "cell_type": "markdown",
   "metadata": {},
   "source": [
    "### Create\n",
    "- also known as \"x\" creates the specified file and returns an error if the file already exists."
   ]
  },
  {
   "cell_type": "code",
   "execution_count": null,
   "metadata": {},
   "outputs": [],
   "source": [
    "f = open(\"newfile.txt\", \"x\")"
   ]
  },
  {
   "cell_type": "markdown",
   "metadata": {},
   "source": [
    "### Append\n",
    "- also known as \"a\" opens a file for appending and creates the file if it does not exist."
   ]
  },
  {
   "cell_type": "code",
   "execution_count": null,
   "metadata": {},
   "outputs": [],
   "source": [
    "f = open(\"newfile.txt\", \"a\")\n",
    "f.write(\"\\nPython Intermediate\")"
   ]
  },
  {
   "cell_type": "markdown",
   "metadata": {},
   "source": [
    "### Read"
   ]
  },
  {
   "cell_type": "code",
   "execution_count": null,
   "metadata": {},
   "outputs": [],
   "source": [
    "f = open(\"newfile.txt\", \"r\")\n",
    "print(f.read())\n",
    "f.close()"
   ]
  },
  {
   "cell_type": "code",
   "execution_count": null,
   "metadata": {},
   "outputs": [],
   "source": [
    "f = open(\"myfile.txt\", \"w\")\n",
    "f.write(\"I like Python because it is very interesting.\")\n",
    "\n",
    "\n",
    "f = open(\"myfile.txt\", \"a\")\n",
    "f.write(\"\\n I plan to learn data visualization.\")\n",
    "f.write(\"\\n I plan to work in the field of data science.\")\n",
    "f.write(\"\\n I plan to make a better world for the futre generation.\")\n",
    "\n",
    "f = open(\"myfile.txt\", \"r\")\n",
    "print(f.read())\n",
    "f.close()"
   ]
  },
  {
   "cell_type": "markdown",
   "metadata": {},
   "source": [
    "### Reading from a file\n",
    "- also know as \"r\", default value, used to open files.\n",
    "\n",
    "- If we want to read from a file, it’s important to make sure that the file already exists before we attempt to open it. Otherwise, it will result in **FileNotFoundError**."
   ]
  },
  {
   "cell_type": "code",
   "execution_count": null,
   "metadata": {},
   "outputs": [],
   "source": [
    "f = open(\"myfile.txt\")\n",
    "print(f.read())\n",
    "f.close()"
   ]
  },
  {
   "cell_type": "code",
   "execution_count": null,
   "metadata": {},
   "outputs": [],
   "source": [
    "f = open(\"myfile.txt\")\n",
    "print(f.read(12))\n",
    "f.close()"
   ]
  },
  {
   "cell_type": "code",
   "execution_count": null,
   "metadata": {},
   "outputs": [],
   "source": [
    "f = open(\"myfile.txt\")\n",
    "print(f.readline())\n",
    "f.close()\n",
    "\n",
    "# OR\n",
    "\n",
    "f = open(\"myfile.txt\")\n",
    "for x in f:\n",
    "    print(x)\n",
    "f.close()"
   ]
  },
  {
   "cell_type": "markdown",
   "metadata": {},
   "source": [
    "### Closing the file"
   ]
  },
  {
   "cell_type": "markdown",
   "metadata": {},
   "source": [
    "### Deleting the file\n",
    "\n",
    "- To make sure that the file exists, we can set up an if and else statement that will immediately delete the file once its existence has been verified.\n"
   ]
  },
  {
   "cell_type": "code",
   "execution_count": null,
   "metadata": {},
   "outputs": [],
   "source": [
    "import os\n",
    "\n",
    "if os.path.exists(\"myfile1.txt\"):\n",
    "    os.remove(\"myfile1.txt\")\n",
    "else:\n",
    "     print(\"The file does not exist.\")\n",
    "\n",
    "# OR\n",
    "\n",
    "import os\n",
    "os.remove(\"myfile1.txt\")"
   ]
  },
  {
   "cell_type": "markdown",
   "metadata": {},
   "source": [
    "### Exeptions\n",
    "- is an object which tells you about the problem you encountered.\n",
    "- It also provides a traceback which tells you where you made a blunder in youd code.\n",
    "- is used to \"manage errors that arise during a programs's execution. Whenever an error occurs that makes Pythion unsure what to do next, it creates an exception object.\""
   ]
  },
  {
   "cell_type": "markdown",
   "metadata": {},
   "source": [
    "### raise keyword\n",
    "- The raise keyword let us define errors and the text that will be printed on the console when the specified error occurs. "
   ]
  },
  {
   "cell_type": "code",
   "execution_count": 23,
   "metadata": {},
   "outputs": [
    {
     "ename": "Exception",
     "evalue": "No negative numbers allowed!",
     "output_type": "error",
     "traceback": [
      "\u001b[0;31m---------------------------------------------------------------------------\u001b[0m",
      "\u001b[0;31mException\u001b[0m                                 Traceback (most recent call last)",
      "\u001b[0;32m<ipython-input-23-02312bef1c13>\u001b[0m in \u001b[0;36m<module>\u001b[0;34m\u001b[0m\n\u001b[1;32m      1\u001b[0m \u001b[0mn\u001b[0m \u001b[0;34m=\u001b[0m \u001b[0;34m-\u001b[0m\u001b[0;36m5\u001b[0m\u001b[0;34m\u001b[0m\u001b[0;34m\u001b[0m\u001b[0m\n\u001b[1;32m      2\u001b[0m \u001b[0;32mif\u001b[0m \u001b[0mn\u001b[0m \u001b[0;34m<\u001b[0m \u001b[0;36m0\u001b[0m\u001b[0;34m:\u001b[0m\u001b[0;34m\u001b[0m\u001b[0;34m\u001b[0m\u001b[0m\n\u001b[0;32m----> 3\u001b[0;31m     \u001b[0;32mraise\u001b[0m \u001b[0mException\u001b[0m\u001b[0;34m(\u001b[0m\u001b[0;34m\"No negative numbers allowed!\"\u001b[0m\u001b[0;34m)\u001b[0m\u001b[0;34m\u001b[0m\u001b[0;34m\u001b[0m\u001b[0m\n\u001b[0m",
      "\u001b[0;31mException\u001b[0m: No negative numbers allowed!"
     ]
    }
   ],
   "source": [
    "n = -5\n",
    "if n < 0:\n",
    "    raise Exception(\"No negative numbers allowed!\")"
   ]
  },
  {
   "cell_type": "markdown",
   "metadata": {},
   "source": [
    "### SyntaxError\n",
    "- occurs when the code is not written correctly."
   ]
  },
  {
   "cell_type": "code",
   "execution_count": null,
   "metadata": {},
   "outputs": [],
   "source": [
    "cats = 11\n",
    "if cats > 10\n",
    "    print(\"Are you fur-real?\")"
   ]
  },
  {
   "cell_type": "markdown",
   "metadata": {},
   "source": [
    "### Assertions\n",
    "- are boolean expressions that make suyre that the conditions are true."
   ]
  },
  {
   "cell_type": "code",
   "execution_count": 24,
   "metadata": {},
   "outputs": [
    {
     "ename": "AssertionError",
     "evalue": "",
     "output_type": "error",
     "traceback": [
      "\u001b[0;31m---------------------------------------------------------------------------\u001b[0m",
      "\u001b[0;31mAssertionError\u001b[0m                            Traceback (most recent call last)",
      "\u001b[0;32m<ipython-input-24-483df75adc30>\u001b[0m in \u001b[0;36m<module>\u001b[0;34m\u001b[0m\n\u001b[1;32m      3\u001b[0m \u001b[0;32massert\u001b[0m \u001b[0memployee_of_the_year\u001b[0m \u001b[0;34m==\u001b[0m \u001b[0;34m\"Roger\"\u001b[0m\u001b[0;34m\u001b[0m\u001b[0;34m\u001b[0m\u001b[0m\n\u001b[1;32m      4\u001b[0m \u001b[0;34m\u001b[0m\u001b[0m\n\u001b[0;32m----> 5\u001b[0;31m \u001b[0;32massert\u001b[0m \u001b[0memployee_of_the_year\u001b[0m \u001b[0;34m==\u001b[0m \u001b[0;34m\"Suszanne\"\u001b[0m\u001b[0;34m\u001b[0m\u001b[0;34m\u001b[0m\u001b[0m\n\u001b[0m",
      "\u001b[0;31mAssertionError\u001b[0m: "
     ]
    }
   ],
   "source": [
    "employee_of_the_year = \"Roger\"\n",
    "\n",
    "assert employee_of_the_year == \"Roger\"\n",
    "\n",
    "assert employee_of_the_year == \"Suszanne\""
   ]
  },
  {
   "cell_type": "markdown",
   "metadata": {},
   "source": [
    "### ZeroDivisionError\n",
    "- occurs when you devide by zero."
   ]
  },
  {
   "cell_type": "code",
   "execution_count": null,
   "metadata": {},
   "outputs": [],
   "source": [
    "1/0"
   ]
  },
  {
   "cell_type": "markdown",
   "metadata": {},
   "source": [
    "### TypeError\n",
    "- occurs when an operation is performed on an incorrect or unsupported object type."
   ]
  },
  {
   "cell_type": "code",
   "execution_count": null,
   "metadata": {},
   "outputs": [],
   "source": [
    "50 ** \"two\""
   ]
  },
  {
   "cell_type": "markdown",
   "metadata": {},
   "source": [
    "### try and exept block\n",
    "- These blocks are used to spot and handle exceptions.\n",
    "\n",
    "### try\n",
    "- is used to test a block of code for errors.\n",
    "\n",
    "### except\n",
    "- allows users to handle the errors encountered during the try block.\n"
   ]
  },
  {
   "cell_type": "code",
   "execution_count": null,
   "metadata": {},
   "outputs": [],
   "source": [
    "try:\n",
    "    print(random_variable)\n",
    "except:\n",
    "    print(\"Exception alert!\")"
   ]
  },
  {
   "cell_type": "code",
   "execution_count": 20,
   "metadata": {},
   "outputs": [
    {
     "name": "stdout",
     "output_type": "stream",
     "text": [
      "Please define you variable.\n"
     ]
    }
   ],
   "source": [
    "try:\n",
    "    print(x + \"macaroons\")\n",
    "except NameError:\n",
    "    print(\"Please define you variable.\")\n",
    "except IndentationError:\n",
    "    print(\"Please be carefull when indenting your code.\")\n",
    "except:\n",
    "    print(\"Something else went wrong.\")\n",
    "    "
   ]
  },
  {
   "cell_type": "code",
   "execution_count": 21,
   "metadata": {},
   "outputs": [
    {
     "name": "stdout",
     "output_type": "stream",
     "text": [
      "4805\n",
      "No issue here.\n"
     ]
    }
   ],
   "source": [
    "try:\n",
    "    print(500+4305)\n",
    "except:\n",
    "    print(\"This operation cannot be performed.\")\n",
    "else:\n",
    "    print(\"No issue here.\")"
   ]
  },
  {
   "cell_type": "markdown",
   "metadata": {},
   "source": [
    "### except\n",
    "- If we don't handle an exception with an except block, the program will crash."
   ]
  },
  {
   "cell_type": "markdown",
   "metadata": {},
   "source": [
    "### finally\n",
    "- The finally block allows us to run our code no matter what the result of the try and except block."
   ]
  },
  {
   "cell_type": "code",
   "execution_count": 22,
   "metadata": {},
   "outputs": [
    {
     "name": "stdout",
     "output_type": "stream",
     "text": [
      "There's siomething wrong with our program.\n",
      "Let's run our program anyway.\n"
     ]
    }
   ],
   "source": [
    "try:\n",
    "    print(h)\n",
    "except:\n",
    "    print(\"There's siomething wrong with our program.\")\n",
    "finally:\n",
    "    print(\"Let's run our program anyway.\")"
   ]
  },
  {
   "cell_type": "markdown",
   "metadata": {},
   "source": [
    "###  What are Modules?\n",
    "- A module is a Python object containg many different attributes. There are many different kinds of module, each with Pythin codes that we can reuse.\n",
    "\n",
    "- Modules allow users to organize and reuse codes by importing prewritten files. “Within these modules are variables, functions, classes, etc. that you can import into a project.”"
   ]
  },
  {
   "cell_type": "markdown",
   "metadata": {},
   "source": [
    "### Create module"
   ]
  },
  {
   "cell_type": "code",
   "execution_count": 26,
   "metadata": {},
   "outputs": [
    {
     "ename": "FileExistsError",
     "evalue": "[Errno 17] File exists: 'functionfile.py'",
     "output_type": "error",
     "traceback": [
      "\u001b[0;31m---------------------------------------------------------------------------\u001b[0m",
      "\u001b[0;31mFileExistsError\u001b[0m                           Traceback (most recent call last)",
      "\u001b[0;32m<ipython-input-26-b689a0faee6f>\u001b[0m in \u001b[0;36m<module>\u001b[0;34m\u001b[0m\n\u001b[0;32m----> 1\u001b[0;31m \u001b[0mf\u001b[0m \u001b[0;34m=\u001b[0m \u001b[0mopen\u001b[0m\u001b[0;34m(\u001b[0m\u001b[0;34m\"functionfile.py\"\u001b[0m\u001b[0;34m,\u001b[0m \u001b[0;34m\"x\"\u001b[0m\u001b[0;34m)\u001b[0m\u001b[0;34m\u001b[0m\u001b[0;34m\u001b[0m\u001b[0m\n\u001b[0m",
      "\u001b[0;31mFileExistsError\u001b[0m: [Errno 17] File exists: 'functionfile.py'"
     ]
    }
   ],
   "source": [
    "f = open(\"functionfile.py\", \"x\")"
   ]
  },
  {
   "cell_type": "markdown",
   "metadata": {},
   "source": [
    "### Import Keyword\n",
    "- is used to import modules.\n",
    "\n",
    "```import module```\n",
    "\n",
    "### As Keyword\n",
    "- is used to create an alias or rename a module.\n",
    "\n",
    "```import module as m1```\n",
    "\n",
    "### Return Statement\n",
    "- us used to send information back to where the function call occured.\n",
    "\n",
    "```def getSum(x,y): \n",
    "     return x + y```\n",
    "     \n",
    "### From Keyword\n",
    "- used to import only a certain section from a module\n",
    "\n",
    "```from module import * \n",
    " sum = getSum(5, 4)```"
   ]
  },
  {
   "cell_type": "code",
   "execution_count": null,
   "metadata": {},
   "outputs": [],
   "source": [
    "def general_greeting():\n",
    "    print(\"Hello, everyone!\")\n",
    "\n",
    "def personal_greeting():\n",
    "    print(\"Hi, \" + name + \"!\")\n",
    "\n",
    "def your_provice():\n",
    "    print(\"Oh I heard \" + province + \"is a nice place!\")\n",
    "\n",
    "def get_sum(x,y):\n",
    "    print(x+y)\n",
    "\n",
    "def get_diff(x,y):\n",
    "    print(x-y)"
   ]
  },
  {
   "cell_type": "code",
   "execution_count": 1,
   "metadata": {
    "collapsed": true
   },
   "outputs": [
    {
     "ename": "NameError",
     "evalue": "name 'personal_greeting' is not defined",
     "output_type": "error",
     "traceback": [
      "\u001b[0;31m---------------------------------------------------------------------------\u001b[0m",
      "\u001b[0;31mNameError\u001b[0m                                 Traceback (most recent call last)",
      "\u001b[0;32m<ipython-input-1-0464b6b554e0>\u001b[0m in \u001b[0;36m<module>\u001b[0;34m\u001b[0m\n\u001b[1;32m      4\u001b[0m \u001b[0;31m#from functionfile import your_province\u001b[0m\u001b[0;34m\u001b[0m\u001b[0;34m\u001b[0m\u001b[0;34m\u001b[0m\u001b[0m\n\u001b[1;32m      5\u001b[0m \u001b[0;34m\u001b[0m\u001b[0m\n\u001b[0;32m----> 6\u001b[0;31m \u001b[0mpersonal_greeting\u001b[0m\u001b[0;34m(\u001b[0m\u001b[0;34m\"Sherwin\"\u001b[0m\u001b[0;34m)\u001b[0m\u001b[0;34m\u001b[0m\u001b[0;34m\u001b[0m\u001b[0m\n\u001b[0m\u001b[1;32m      7\u001b[0m \u001b[0;31m#your_province(\"Nueva Ecija\")\u001b[0m\u001b[0;34m\u001b[0m\u001b[0;34m\u001b[0m\u001b[0;34m\u001b[0m\u001b[0m\n",
      "\u001b[0;31mNameError\u001b[0m: name 'personal_greeting' is not defined"
     ]
    }
   ],
   "source": [
    "#!/usr/bin/python\n",
    "# import functionfile\n",
    "from functionfile import general_greeting\n",
    "#from functionfile import your_province\n",
    "\n",
    "personal_greeting(\"Sherwin\")\n",
    "#your_province(\"Nueva Ecija\")"
   ]
  },
  {
   "cell_type": "code",
   "execution_count": 2,
   "metadata": {},
   "outputs": [],
   "source": [
    "# module2\n",
    "class User:\n",
    "    def __init__(self, name, age, country):\n",
    "        self.name = name\n",
    "        self.age = age\n",
    "        self.country = country\n",
    "\n",
    "user_1 = User(\"Sherwin\", 45, \"Philippines\")\n",
    "user_2 = User(\"Analette\", 44, \"Japan\")\n",
    "user_3 = User(\"Reine\", 21, \"South Korea\")\n",
    "user_4 = User(\"Lesyl\", 20, \"Taiwan\")\n",
    "user_5 = User(\"Sherlyn\", 11, \"Canada\")"
   ]
  },
  {
   "cell_type": "code",
   "execution_count": null,
   "metadata": {},
   "outputs": [],
   "source": [
    "# module1\n",
    "def greeting(name):\n",
    "    print(\"Hey there \" + name + \"! Ready to do some math?\")"
   ]
  },
  {
   "cell_type": "code",
   "execution_count": null,
   "metadata": {},
   "outputs": [],
   "source": [
    "# main1\n",
    "import module1\n",
    "\n",
    "module1.greeting(\"Sherwin\")"
   ]
  },
  {
   "cell_type": "code",
   "execution_count": null,
   "metadata": {},
   "outputs": [],
   "source": [
    "# main2\n",
    "import module2\n",
    "\n",
    "a = module2.user_1\n",
    "\n",
    "print(\"Hey There, \" + a.name + \"! Ready to do some math?\")\n",
    "\n",
    "c = module2.user_3\n",
    "\n",
    "print(\"Hey There, \" + c.name + \"! Ready to do some math?\")\n",
    "\n",
    "import module2 as m1\n",
    "\n",
    "b = m1.user_2\n",
    "\n",
    "print(\"Hey There, \" + b.name + \"! Ready to do some math?\")\n",
    "\n",
    "d = m1.user_4\n",
    "\n",
    "print(\"Hey There, \" + d.name + \"! Ready to do some math?\")"
   ]
  },
  {
   "cell_type": "code",
   "execution_count": null,
   "metadata": {},
   "outputs": [],
   "source": [
    "# module3\n",
    "def get_sum(x, y):\n",
    "    return x + y\n",
    "\n",
    "def get_diff(x, y):\n",
    "    return x - y\n",
    "\n",
    "def get_prod(x, y):\n",
    "    return x * y\n",
    "\n",
    "def get_qou(x, y):\n",
    "    return x / y"
   ]
  },
  {
   "cell_type": "code",
   "execution_count": 1,
   "metadata": {
    "collapsed": true
   },
   "outputs": [
    {
     "ename": "ModuleNotFoundError",
     "evalue": "No module named 'module3'",
     "output_type": "error",
     "traceback": [
      "\u001b[0;31m---------------------------------------------------------------------------\u001b[0m",
      "\u001b[0;31mModuleNotFoundError\u001b[0m                       Traceback (most recent call last)",
      "\u001b[0;32m<ipython-input-1-6a11d4ae366e>\u001b[0m in \u001b[0;36m<module>\u001b[0;34m\u001b[0m\n\u001b[0;32m----> 1\u001b[0;31m \u001b[0;32mimport\u001b[0m \u001b[0mmodule3\u001b[0m\u001b[0;34m\u001b[0m\u001b[0;34m\u001b[0m\u001b[0m\n\u001b[0m\u001b[1;32m      2\u001b[0m \u001b[0;34m\u001b[0m\u001b[0m\n\u001b[1;32m      3\u001b[0m \u001b[0msum\u001b[0m \u001b[0;34m=\u001b[0m \u001b[0mmodule3\u001b[0m\u001b[0;34m.\u001b[0m\u001b[0mget_sum\u001b[0m\u001b[0;34m(\u001b[0m\u001b[0;36m4591\u001b[0m\u001b[0;34m,\u001b[0m \u001b[0;36m782\u001b[0m\u001b[0;34m)\u001b[0m\u001b[0;34m\u001b[0m\u001b[0;34m\u001b[0m\u001b[0m\n\u001b[1;32m      4\u001b[0m \u001b[0mprint\u001b[0m\u001b[0;34m(\u001b[0m\u001b[0msum\u001b[0m\u001b[0;34m)\u001b[0m\u001b[0;34m\u001b[0m\u001b[0;34m\u001b[0m\u001b[0m\n\u001b[1;32m      5\u001b[0m \u001b[0;34m\u001b[0m\u001b[0m\n",
      "\u001b[0;31mModuleNotFoundError\u001b[0m: No module named 'module3'"
     ]
    }
   ],
   "source": [
    "import module3\n",
    "\n",
    "sum = module3.get_sum(4591, 782)\n",
    "print(sum)\n",
    "\n",
    "quotient = module3.get_qou(100, 22)\n",
    "print(quotient)\n",
    "\n",
    "\n",
    "from module3 import *\n",
    "product = get_prod(9, 4)\n",
    "\n",
    "print(product)\n",
    "\n",
    "from module3 import get_diff\n",
    "\n",
    "difference = get_diff(296, 57)\n",
    "print(difference)"
   ]
  },
  {
   "cell_type": "code",
   "execution_count": null,
   "metadata": {},
   "outputs": [],
   "source": [
    "# functionfile.py\n",
    "def general_greeting():\n",
    "    print(\"Hello, everyone!\")\n",
    "\n",
    "def personal_greeting(name):\n",
    "    print(\"Hi, \" + name + \"!\")\n",
    "\n",
    "def your_province(province):\n",
    "    print(\"Oh I heard \" + province + \" is a nice place!\")\n",
    "\n",
    "def get_sum(x,y):\n",
    "    print(x+y)\n",
    "\n",
    "def get_diff(x,y):\n",
    "    print(x-y)"
   ]
  },
  {
   "cell_type": "code",
   "execution_count": null,
   "metadata": {},
   "outputs": [],
   "source": [
    "from functionfile import personal_greeting\n",
    "from functionfile import your_province\n",
    "\n",
    "personal_greeting(\"Owen\")\n",
    "your_province(\"Nueva Ecija\")"
   ]
  },
  {
   "cell_type": "markdown",
   "metadata": {},
   "source": [
    "### Using Built-In Python Modules\n",
    "\n",
    "### Built-in Module\n",
    "- are codes that have already been written and divided into modules.\n",
    "- are readily available in Python.\n",
    "- Since there have already been so many modules written, there’s a good chance that someone already created attributes that you could use for your own code."
   ]
  },
  {
   "cell_type": "markdown",
   "metadata": {},
   "source": [
    "### List built-in modules"
   ]
  },
  {
   "cell_type": "code",
   "execution_count": 2,
   "metadata": {},
   "outputs": [
    {
     "name": "stdout",
     "output_type": "stream",
     "text": [
      "\n",
      "Please wait a moment while I gather a list of all available modules...\n",
      "\n"
     ]
    },
    {
     "name": "stderr",
     "output_type": "stream",
     "text": [
      "/usr/lib/python3.8/pkgutil.py:92: MatplotlibDeprecationWarning: \n",
      "The matplotlib.compat module was deprecated in Matplotlib 3.3 and will be removed two minor releases later.\n",
      "  __import__(info.name)\n",
      "/usr/lib/python3/dist-packages/IPython/kernel/__init__.py:12: ShimWarning: The `IPython.kernel` package has been deprecated since IPython 4.0.You should import from ipykernel or jupyter_client instead.\n",
      "  warn(\"The `IPython.kernel` package has been deprecated since IPython 4.0.\"\n",
      "/usr/lib/python3/dist-packages/orca/keybindings.py:29: PyGIWarning: Gdk was imported without specifying a version first. Use gi.require_version('Gdk', '3.0') before import to ensure that the right version gets loaded.\n",
      "  from gi.repository import Gdk\n",
      "/usr/lib/python3/dist-packages/orca/brlmon.py:32: PyGIWarning: Gtk was imported without specifying a version first. Use gi.require_version('Gtk', '3.0') before import to ensure that the right version gets loaded.\n",
      "  from gi.repository import Gtk\n"
     ]
    },
    {
     "name": "stdout",
     "output_type": "stream",
     "text": [
      "AptUrl              argparse            ipykernel_launcher  redshift_gtk\n",
      "CommandNotFound     array               ipython_genutils    reportlab\n",
      "Crypto              ast                 ipywidgets          reprlib\n",
      "DistUpgrade         asynchat            itertools           requests\n",
      "HweSupportStatus    asyncio             janitor             requests_kerberos\n",
      "IPython             asyncore            jedi                requests_ntlm\n",
      "NvidiaDetector      atexit              jinja2              requests_unixsocket\n",
      "Onboard             attr                jmespath            resource\n",
      "OpenSSL             audioop             json                rlcompleter\n",
      "PAM                 autoreload          jsonschema          rmagic\n",
      "PIL                 backcall            jupyter             runpy\n",
      "PyICU               base64              jupyter_client      samba\n",
      "Quirks              bcrypt              jupyter_core        sched\n",
      "UbuntuDrivers       bdb                 jwt                 secrets\n",
      "UpdateManager       binascii            kerberos            secretstorage\n",
      "Xlib                binhex              keyring             select\n",
      "__future__          bisect              keyword             selectors\n",
      "_abc                bleach              kiwisolver          selinux\n",
      "_ast                blinker             launchpadlib        send2trash\n",
      "_asyncio            brlapi              ldb                 setproctitle\n",
      "_bisect             bs4                 lib2to3             setuptools\n",
      "_blake2             builtins            libcloud            shelve\n",
      "_bootlocale         bz2                 linecache           shlex\n",
      "_bz2                cProfile            locale              shutil\n",
      "_cffi_backend       cairo               lockfile            signal\n",
      "_codecs             calendar            logging             simplejson\n",
      "_codecs_cn          caribou             louis               site\n",
      "_codecs_hk          certifi             lsb_release         sitecustomize\n",
      "_codecs_iso2022     cgi                 lxml                six\n",
      "_codecs_jp          cgitb               lzma                smtpd\n",
      "_codecs_kr          chardet             macaroonbakery      smtplib\n",
      "_codecs_tw          charset_normalizer  mailbox             sndhdr\n",
      "_collections        chunk               mailcap             socket\n",
      "_collections_abc    click               mako                socketserver\n",
      "_compat_pickle      cmath               markdown            soupsieve\n",
      "_compression        cmd                 markupsafe          speechd\n",
      "_contextvars        code                marshal             speechd_config\n",
      "_crypt              codecs              math                speedtest\n",
      "_csv                codeop              matplotlib          spwd\n",
      "_ctypes             collections         mimetypes           sqlite3\n",
      "_ctypes_test        colorama            mintcommon          sre_compile\n",
      "_curses             colorsys            mintreport          sre_constants\n",
      "_curses_panel       compileall          mistune             sre_parse\n",
      "_datetime           concurrent          mmap                ssh_import_id\n",
      "_dbm                configobj           modulefinder        ssl\n",
      "_dbus_bindings      configparser        more_itertools      stat\n",
      "_dbus_glib_bindings contextlib          multiprocessing     statistics\n",
      "_decimal            contextvars         my_example          storemagic\n",
      "_dummy_thread       copy                nacl                string\n",
      "_elementtree        copyreg             nbconvert           stringprep\n",
      "_functools          crcmod              nbformat            struct\n",
      "_gdbm               crypt               netaddr             subprocess\n",
      "_hashlib            cryptography        netifaces           sunau\n",
      "_heapq              csv                 netrc               symbol\n",
      "_icu                ctypes              networkx            sympyprinting\n",
      "_imp                cups                nis                 symtable\n",
      "_io                 cupshelpers         nntplib             sys\n",
      "_json               curl                nose                sysconfig\n",
      "_ldb_text           curses              notebook            syslog\n",
      "_locale             cycler              ntlm_auth           systemd\n",
      "_lsprof             cythonmagic         ntpath              tabnanny\n",
      "_lzma               dataclasses         nturl2path          talloc\n",
      "_markupbase         datetime            numbers             tarfile\n",
      "_md5                dateutil            numpy               tdb\n",
      "_multibytecodec     dbm                 oauthlib            telnetlib\n",
      "_multiprocessing    dbus                opcode              tempfile\n",
      "_opcode             deb822              operator            terminado\n",
      "_operator           debconf             optparse            termios\n",
      "_osx_support        debian              orca                test\n",
      "_ped                debian_bundle       os                  testpath\n",
      "_pickle             decimal             ossaudiodev         tests\n",
      "_posixshmem         decorator           packaging           textwrap\n",
      "_posixsubprocess    defer               pandocfilters       this\n",
      "_py_abc             defusedxml          parser              threading\n",
      "_pydecimal          dialog              parso               time\n",
      "_pyio               difflib             parted              timeit\n",
      "_pyrsistent_version dis                 pathlib             tinycss2\n",
      "_queue              distro              pdb                 token\n",
      "_random             distro_info         pexpect             tokenize\n",
      "_selinux            distutils           pickle              tornado\n",
      "_sha1               dns                 pickleshare         trace\n",
      "_sha256             doctest             pickletools         traceback\n",
      "_sha3               dummy_threading     pip                 tracemalloc\n",
      "_sha512             easy_install        pipes               traitlets\n",
      "_signal             email               pkg_resources       tty\n",
      "_sitebuiltins       encodings           pkgutil             turtle\n",
      "_socket             entrypoints         platform            types\n",
      "_sqlite3            enum                plistlib            typing\n",
      "_sre                errno               poplib              uaclient\n",
      "_ssl                faulthandler        posix               ufw\n",
      "_stat               fcntl               posixpath           unicodedata\n",
      "_statistics         filecmp             pprint              unidecode\n",
      "_string             fileinput           prettytable         unittest\n",
      "_strptime           fnmatch             problem_report      urllib\n",
      "_struct             formatter           profile             urllib3\n",
      "_symtable           fractions           progressbar         uu\n",
      "_sysconfigdata__linux_x86_64-linux-gnu ftplib              prometheus_client   uuid\n",
      "_sysconfigdata__x86_64-linux-gnu functionfile        prompt_toolkit      validate\n",
      "_tdb_text           functools           proton              venv\n",
      "_testbuffer         gc                  protonvpn_cli       wadllib\n",
      "_testcapi           genericpath         protonvpn_gui       warnings\n",
      "_testimportmultiple getopt              protonvpn_nm_lib    wave\n",
      "_testinternalcapi   getpass             pstats              wcwidth\n",
      "_testmultiphase     gettext             psutil              weakref\n",
      "_thread             gi                  pty                 webbrowser\n",
      "_threading_local    glob                ptyprocess          webencodings\n",
      "_tracemalloc        gnupg               pvectorc            wheel\n",
      "_uuid               grp                 pwd                 widgetsnbextension\n",
      "_version            grpc                py_compile          win_inet_pton\n",
      "_warnings           gzip                pyatspi             winrm\n",
      "_weakref            hashlib             pyclbr              wsgiref\n",
      "_weakrefset         heapq               pycurl              xapp\n",
      "_xxsubinterpreters  hmac                pydoc               xattr\n",
      "_xxtestfuzz         html                pydoc_data          xdg\n",
      "_yaml               html5lib            pyexpat             xdrlib\n",
      "abc                 http                pygments            xkit\n",
      "aifc                httplib2            pygtkcompat         xml\n",
      "anchorecli          icu                 pyinotify           xmlrpc\n",
      "ansible             idna                pylab               xmltodict\n",
      "antigravity         ifaddr              pymacaroons         xxlimited\n",
      "apport              imaplib             pyparsing           xxsubtype\n",
      "apport_python_hook  imghdr              pyrfc3339           yaml\n",
      "apt                 imp                 pyrsistent          zeroconf\n",
      "apt_clone           importlib           pytz                zipapp\n",
      "apt_inst            importlib_metadata  queue               zipfile\n",
      "apt_pkg             inspect             quopri              zipimport\n",
      "aptdaemon           io                  random              zipp\n",
      "aptsources          ipaddress           re                  zlib\n",
      "argcomplete         ipykernel           readline            zmq\n",
      "\n",
      "Enter any module name to get more help.  Or, type \"modules spam\" to search\n",
      "for modules whose name or summary contain the string \"spam\".\n",
      "\n"
     ]
    },
    {
     "name": "stderr",
     "output_type": "stream",
     "text": [
      "/usr/lib/python3.8/pkgutil.py:107: VisibleDeprecationWarning: zmq.eventloop.minitornado is deprecated in pyzmq 14.0 and will be removed.\n",
      "    Install tornado itself to use zmq with the tornado IOLoop.\n",
      "    \n",
      "  yield from walk_packages(path, info.name+'.', onerror)\n"
     ]
    }
   ],
   "source": [
    "help(\"modules\")"
   ]
  },
  {
   "cell_type": "markdown",
   "metadata": {},
   "source": [
    "### help() function\n",
    "- provides a list of all the built-in modules in Python by typing \"modules\" within the parenthesis.\n",
    "\n",
    "### dir\n",
    "- returns a list of valid attributes of the object."
   ]
  },
  {
   "cell_type": "code",
   "execution_count": 4,
   "metadata": {},
   "outputs": [
    {
     "name": "stdout",
     "output_type": "stream",
     "text": [
      "Help on module random:\n",
      "\n",
      "NAME\n",
      "    random - Random variable generators.\n",
      "\n",
      "MODULE REFERENCE\n",
      "    https://docs.python.org/3.8/library/random\n",
      "    \n",
      "    The following documentation is automatically generated from the Python\n",
      "    source files.  It may be incomplete, incorrect or include features that\n",
      "    are considered implementation detail and may vary between Python\n",
      "    implementations.  When in doubt, consult the module reference at the\n",
      "    location listed above.\n",
      "\n",
      "DESCRIPTION\n",
      "        integers\n",
      "        --------\n",
      "               uniform within range\n",
      "    \n",
      "        sequences\n",
      "        ---------\n",
      "               pick random element\n",
      "               pick random sample\n",
      "               pick weighted random sample\n",
      "               generate random permutation\n",
      "    \n",
      "        distributions on the real line:\n",
      "        ------------------------------\n",
      "               uniform\n",
      "               triangular\n",
      "               normal (Gaussian)\n",
      "               lognormal\n",
      "               negative exponential\n",
      "               gamma\n",
      "               beta\n",
      "               pareto\n",
      "               Weibull\n",
      "    \n",
      "        distributions on the circle (angles 0 to 2pi)\n",
      "        ---------------------------------------------\n",
      "               circular uniform\n",
      "               von Mises\n",
      "    \n",
      "    General notes on the underlying Mersenne Twister core generator:\n",
      "    \n",
      "    * The period is 2**19937-1.\n",
      "    * It is one of the most extensively tested generators in existence.\n",
      "    * The random() method is implemented in C, executes in a single Python step,\n",
      "      and is, therefore, threadsafe.\n",
      "\n",
      "CLASSES\n",
      "    _random.Random(builtins.object)\n",
      "        Random\n",
      "            SystemRandom\n",
      "    \n",
      "    class Random(_random.Random)\n",
      "     |  Random(x=None)\n",
      "     |  \n",
      "     |  Random number generator base class used by bound module functions.\n",
      "     |  \n",
      "     |  Used to instantiate instances of Random to get generators that don't\n",
      "     |  share state.\n",
      "     |  \n",
      "     |  Class Random can also be subclassed if you want to use a different basic\n",
      "     |  generator of your own devising: in that case, override the following\n",
      "     |  methods:  random(), seed(), getstate(), and setstate().\n",
      "     |  Optionally, implement a getrandbits() method so that randrange()\n",
      "     |  can cover arbitrarily large ranges.\n",
      "     |  \n",
      "     |  Method resolution order:\n",
      "     |      Random\n",
      "     |      _random.Random\n",
      "     |      builtins.object\n",
      "     |  \n",
      "     |  Methods defined here:\n",
      "     |  \n",
      "     |  __getstate__(self)\n",
      "     |      # Issue 17489: Since __reduce__ was defined to fix #759889 this is no\n",
      "     |      # longer called; we leave it here because it has been here since random was\n",
      "     |      # rewritten back in 2001 and why risk breaking something.\n",
      "     |  \n",
      "     |  __init__(self, x=None)\n",
      "     |      Initialize an instance.\n",
      "     |      \n",
      "     |      Optional argument x controls seeding, as for Random.seed().\n",
      "     |  \n",
      "     |  __reduce__(self)\n",
      "     |      Helper for pickle.\n",
      "     |  \n",
      "     |  __setstate__(self, state)\n",
      "     |  \n",
      "     |  betavariate(self, alpha, beta)\n",
      "     |      Beta distribution.\n",
      "     |      \n",
      "     |      Conditions on the parameters are alpha > 0 and beta > 0.\n",
      "     |      Returned values range between 0 and 1.\n",
      "     |  \n",
      "     |  choice(self, seq)\n",
      "     |      Choose a random element from a non-empty sequence.\n",
      "     |  \n",
      "     |  choices(self, population, weights=None, *, cum_weights=None, k=1)\n",
      "     |      Return a k sized list of population elements chosen with replacement.\n",
      "     |      \n",
      "     |      If the relative weights or cumulative weights are not specified,\n",
      "     |      the selections are made with equal probability.\n",
      "     |  \n",
      "     |  expovariate(self, lambd)\n",
      "     |      Exponential distribution.\n",
      "     |      \n",
      "     |      lambd is 1.0 divided by the desired mean.  It should be\n",
      "     |      nonzero.  (The parameter would be called \"lambda\", but that is\n",
      "     |      a reserved word in Python.)  Returned values range from 0 to\n",
      "     |      positive infinity if lambd is positive, and from negative\n",
      "     |      infinity to 0 if lambd is negative.\n",
      "     |  \n",
      "     |  gammavariate(self, alpha, beta)\n",
      "     |      Gamma distribution.  Not the gamma function!\n",
      "     |      \n",
      "     |      Conditions on the parameters are alpha > 0 and beta > 0.\n",
      "     |      \n",
      "     |      The probability distribution function is:\n",
      "     |      \n",
      "     |                  x ** (alpha - 1) * math.exp(-x / beta)\n",
      "     |        pdf(x) =  --------------------------------------\n",
      "     |                    math.gamma(alpha) * beta ** alpha\n",
      "     |  \n",
      "     |  gauss(self, mu, sigma)\n",
      "     |      Gaussian distribution.\n",
      "     |      \n",
      "     |      mu is the mean, and sigma is the standard deviation.  This is\n",
      "     |      slightly faster than the normalvariate() function.\n",
      "     |      \n",
      "     |      Not thread-safe without a lock around calls.\n",
      "     |  \n",
      "     |  getstate(self)\n",
      "     |      Return internal state; can be passed to setstate() later.\n",
      "     |  \n",
      "     |  lognormvariate(self, mu, sigma)\n",
      "     |      Log normal distribution.\n",
      "     |      \n",
      "     |      If you take the natural logarithm of this distribution, you'll get a\n",
      "     |      normal distribution with mean mu and standard deviation sigma.\n",
      "     |      mu can have any value, and sigma must be greater than zero.\n",
      "     |  \n",
      "     |  normalvariate(self, mu, sigma)\n",
      "     |      Normal distribution.\n",
      "     |      \n",
      "     |      mu is the mean, and sigma is the standard deviation.\n",
      "     |  \n",
      "     |  paretovariate(self, alpha)\n",
      "     |      Pareto distribution.  alpha is the shape parameter.\n",
      "     |  \n",
      "     |  randint(self, a, b)\n",
      "     |      Return random integer in range [a, b], including both end points.\n",
      "     |  \n",
      "     |  randrange(self, start, stop=None, step=1, _int=<class 'int'>)\n",
      "     |      Choose a random item from range(start, stop[, step]).\n",
      "     |      \n",
      "     |      This fixes the problem with randint() which includes the\n",
      "     |      endpoint; in Python this is usually not what you want.\n",
      "     |  \n",
      "     |  sample(self, population, k)\n",
      "     |      Chooses k unique random elements from a population sequence or set.\n",
      "     |      \n",
      "     |      Returns a new list containing elements from the population while\n",
      "     |      leaving the original population unchanged.  The resulting list is\n",
      "     |      in selection order so that all sub-slices will also be valid random\n",
      "     |      samples.  This allows raffle winners (the sample) to be partitioned\n",
      "     |      into grand prize and second place winners (the subslices).\n",
      "     |      \n",
      "     |      Members of the population need not be hashable or unique.  If the\n",
      "     |      population contains repeats, then each occurrence is a possible\n",
      "     |      selection in the sample.\n",
      "     |      \n",
      "     |      To choose a sample in a range of integers, use range as an argument.\n",
      "     |      This is especially fast and space efficient for sampling from a\n",
      "     |      large population:   sample(range(10000000), 60)\n",
      "     |  \n",
      "     |  seed(self, a=None, version=2)\n",
      "     |      Initialize internal state from hashable object.\n",
      "     |      \n",
      "     |      None or no argument seeds from current time or from an operating\n",
      "     |      system specific randomness source if available.\n",
      "     |      \n",
      "     |      If *a* is an int, all bits are used.\n",
      "     |      \n",
      "     |      For version 2 (the default), all of the bits are used if *a* is a str,\n",
      "     |      bytes, or bytearray.  For version 1 (provided for reproducing random\n",
      "     |      sequences from older versions of Python), the algorithm for str and\n",
      "     |      bytes generates a narrower range of seeds.\n",
      "     |  \n",
      "     |  setstate(self, state)\n",
      "     |      Restore internal state from object returned by getstate().\n",
      "     |  \n",
      "     |  shuffle(self, x, random=None)\n",
      "     |      Shuffle list x in place, and return None.\n",
      "     |      \n",
      "     |      Optional argument random is a 0-argument function returning a\n",
      "     |      random float in [0.0, 1.0); if it is the default None, the\n",
      "     |      standard random.random will be used.\n",
      "     |  \n",
      "     |  triangular(self, low=0.0, high=1.0, mode=None)\n",
      "     |      Triangular distribution.\n",
      "     |      \n",
      "     |      Continuous distribution bounded by given lower and upper limits,\n",
      "     |      and having a given mode value in-between.\n",
      "     |      \n",
      "     |      http://en.wikipedia.org/wiki/Triangular_distribution\n",
      "     |  \n",
      "     |  uniform(self, a, b)\n",
      "     |      Get a random number in the range [a, b) or [a, b] depending on rounding.\n",
      "     |  \n",
      "     |  vonmisesvariate(self, mu, kappa)\n",
      "     |      Circular data distribution.\n",
      "     |      \n",
      "     |      mu is the mean angle, expressed in radians between 0 and 2*pi, and\n",
      "     |      kappa is the concentration parameter, which must be greater than or\n",
      "     |      equal to zero.  If kappa is equal to zero, this distribution reduces\n",
      "     |      to a uniform random angle over the range 0 to 2*pi.\n",
      "     |  \n",
      "     |  weibullvariate(self, alpha, beta)\n",
      "     |      Weibull distribution.\n",
      "     |      \n",
      "     |      alpha is the scale parameter and beta is the shape parameter.\n",
      "     |  \n",
      "     |  ----------------------------------------------------------------------\n",
      "     |  Class methods defined here:\n",
      "     |  \n",
      "     |  __init_subclass__(**kwargs) from builtins.type\n",
      "     |      Control how subclasses generate random integers.\n",
      "     |      \n",
      "     |      The algorithm a subclass can use depends on the random() and/or\n",
      "     |      getrandbits() implementation available to it and determines\n",
      "     |      whether it can generate random integers from arbitrarily large\n",
      "     |      ranges.\n",
      "     |  \n",
      "     |  ----------------------------------------------------------------------\n",
      "     |  Data descriptors defined here:\n",
      "     |  \n",
      "     |  __dict__\n",
      "     |      dictionary for instance variables (if defined)\n",
      "     |  \n",
      "     |  __weakref__\n",
      "     |      list of weak references to the object (if defined)\n",
      "     |  \n",
      "     |  ----------------------------------------------------------------------\n",
      "     |  Data and other attributes defined here:\n",
      "     |  \n",
      "     |  VERSION = 3\n",
      "     |  \n",
      "     |  ----------------------------------------------------------------------\n",
      "     |  Methods inherited from _random.Random:\n",
      "     |  \n",
      "     |  __getattribute__(self, name, /)\n",
      "     |      Return getattr(self, name).\n",
      "     |  \n",
      "     |  getrandbits(self, k, /)\n",
      "     |      getrandbits(k) -> x.  Generates an int with k random bits.\n",
      "     |  \n",
      "     |  random(self, /)\n",
      "     |      random() -> x in the interval [0, 1).\n",
      "     |  \n",
      "     |  ----------------------------------------------------------------------\n",
      "     |  Static methods inherited from _random.Random:\n",
      "     |  \n",
      "     |  __new__(*args, **kwargs) from builtins.type\n",
      "     |      Create and return a new object.  See help(type) for accurate signature.\n",
      "    \n",
      "    class SystemRandom(Random)\n",
      "     |  SystemRandom(x=None)\n",
      "     |  \n",
      "     |  Alternate random number generator using sources provided\n",
      "     |  by the operating system (such as /dev/urandom on Unix or\n",
      "     |  CryptGenRandom on Windows).\n",
      "     |  \n",
      "     |   Not available on all systems (see os.urandom() for details).\n",
      "     |  \n",
      "     |  Method resolution order:\n",
      "     |      SystemRandom\n",
      "     |      Random\n",
      "     |      _random.Random\n",
      "     |      builtins.object\n",
      "     |  \n",
      "     |  Methods defined here:\n",
      "     |  \n",
      "     |  getrandbits(self, k)\n",
      "     |      getrandbits(k) -> x.  Generates an int with k random bits.\n",
      "     |  \n",
      "     |  getstate = _notimplemented(self, *args, **kwds)\n",
      "     |  \n",
      "     |  random(self)\n",
      "     |      Get the next random number in the range [0.0, 1.0).\n",
      "     |  \n",
      "     |  seed(self, *args, **kwds)\n",
      "     |      Stub method.  Not used for a system random number generator.\n",
      "     |  \n",
      "     |  setstate = _notimplemented(self, *args, **kwds)\n",
      "     |  \n",
      "     |  ----------------------------------------------------------------------\n",
      "     |  Methods inherited from Random:\n",
      "     |  \n",
      "     |  __getstate__(self)\n",
      "     |      # Issue 17489: Since __reduce__ was defined to fix #759889 this is no\n",
      "     |      # longer called; we leave it here because it has been here since random was\n",
      "     |      # rewritten back in 2001 and why risk breaking something.\n",
      "     |  \n",
      "     |  __init__(self, x=None)\n",
      "     |      Initialize an instance.\n",
      "     |      \n",
      "     |      Optional argument x controls seeding, as for Random.seed().\n",
      "     |  \n",
      "     |  __reduce__(self)\n",
      "     |      Helper for pickle.\n",
      "     |  \n",
      "     |  __setstate__(self, state)\n",
      "     |  \n",
      "     |  betavariate(self, alpha, beta)\n",
      "     |      Beta distribution.\n",
      "     |      \n",
      "     |      Conditions on the parameters are alpha > 0 and beta > 0.\n",
      "     |      Returned values range between 0 and 1.\n",
      "     |  \n",
      "     |  choice(self, seq)\n",
      "     |      Choose a random element from a non-empty sequence.\n",
      "     |  \n",
      "     |  choices(self, population, weights=None, *, cum_weights=None, k=1)\n",
      "     |      Return a k sized list of population elements chosen with replacement.\n",
      "     |      \n",
      "     |      If the relative weights or cumulative weights are not specified,\n",
      "     |      the selections are made with equal probability.\n",
      "     |  \n",
      "     |  expovariate(self, lambd)\n",
      "     |      Exponential distribution.\n",
      "     |      \n",
      "     |      lambd is 1.0 divided by the desired mean.  It should be\n",
      "     |      nonzero.  (The parameter would be called \"lambda\", but that is\n",
      "     |      a reserved word in Python.)  Returned values range from 0 to\n",
      "     |      positive infinity if lambd is positive, and from negative\n",
      "     |      infinity to 0 if lambd is negative.\n",
      "     |  \n",
      "     |  gammavariate(self, alpha, beta)\n",
      "     |      Gamma distribution.  Not the gamma function!\n",
      "     |      \n",
      "     |      Conditions on the parameters are alpha > 0 and beta > 0.\n",
      "     |      \n",
      "     |      The probability distribution function is:\n",
      "     |      \n",
      "     |                  x ** (alpha - 1) * math.exp(-x / beta)\n",
      "     |        pdf(x) =  --------------------------------------\n",
      "     |                    math.gamma(alpha) * beta ** alpha\n",
      "     |  \n",
      "     |  gauss(self, mu, sigma)\n",
      "     |      Gaussian distribution.\n",
      "     |      \n",
      "     |      mu is the mean, and sigma is the standard deviation.  This is\n",
      "     |      slightly faster than the normalvariate() function.\n",
      "     |      \n",
      "     |      Not thread-safe without a lock around calls.\n",
      "     |  \n",
      "     |  lognormvariate(self, mu, sigma)\n",
      "     |      Log normal distribution.\n",
      "     |      \n",
      "     |      If you take the natural logarithm of this distribution, you'll get a\n",
      "     |      normal distribution with mean mu and standard deviation sigma.\n",
      "     |      mu can have any value, and sigma must be greater than zero.\n",
      "     |  \n",
      "     |  normalvariate(self, mu, sigma)\n",
      "     |      Normal distribution.\n",
      "     |      \n",
      "     |      mu is the mean, and sigma is the standard deviation.\n",
      "     |  \n",
      "     |  paretovariate(self, alpha)\n",
      "     |      Pareto distribution.  alpha is the shape parameter.\n",
      "     |  \n",
      "     |  randint(self, a, b)\n",
      "     |      Return random integer in range [a, b], including both end points.\n",
      "     |  \n",
      "     |  randrange(self, start, stop=None, step=1, _int=<class 'int'>)\n",
      "     |      Choose a random item from range(start, stop[, step]).\n",
      "     |      \n",
      "     |      This fixes the problem with randint() which includes the\n",
      "     |      endpoint; in Python this is usually not what you want.\n",
      "     |  \n",
      "     |  sample(self, population, k)\n",
      "     |      Chooses k unique random elements from a population sequence or set.\n",
      "     |      \n",
      "     |      Returns a new list containing elements from the population while\n",
      "     |      leaving the original population unchanged.  The resulting list is\n",
      "     |      in selection order so that all sub-slices will also be valid random\n",
      "     |      samples.  This allows raffle winners (the sample) to be partitioned\n",
      "     |      into grand prize and second place winners (the subslices).\n",
      "     |      \n",
      "     |      Members of the population need not be hashable or unique.  If the\n",
      "     |      population contains repeats, then each occurrence is a possible\n",
      "     |      selection in the sample.\n",
      "     |      \n",
      "     |      To choose a sample in a range of integers, use range as an argument.\n",
      "     |      This is especially fast and space efficient for sampling from a\n",
      "     |      large population:   sample(range(10000000), 60)\n",
      "     |  \n",
      "     |  shuffle(self, x, random=None)\n",
      "     |      Shuffle list x in place, and return None.\n",
      "     |      \n",
      "     |      Optional argument random is a 0-argument function returning a\n",
      "     |      random float in [0.0, 1.0); if it is the default None, the\n",
      "     |      standard random.random will be used.\n",
      "     |  \n",
      "     |  triangular(self, low=0.0, high=1.0, mode=None)\n",
      "     |      Triangular distribution.\n",
      "     |      \n",
      "     |      Continuous distribution bounded by given lower and upper limits,\n",
      "     |      and having a given mode value in-between.\n",
      "     |      \n",
      "     |      http://en.wikipedia.org/wiki/Triangular_distribution\n",
      "     |  \n",
      "     |  uniform(self, a, b)\n",
      "     |      Get a random number in the range [a, b) or [a, b] depending on rounding.\n",
      "     |  \n",
      "     |  vonmisesvariate(self, mu, kappa)\n",
      "     |      Circular data distribution.\n",
      "     |      \n",
      "     |      mu is the mean angle, expressed in radians between 0 and 2*pi, and\n",
      "     |      kappa is the concentration parameter, which must be greater than or\n",
      "     |      equal to zero.  If kappa is equal to zero, this distribution reduces\n",
      "     |      to a uniform random angle over the range 0 to 2*pi.\n",
      "     |  \n",
      "     |  weibullvariate(self, alpha, beta)\n",
      "     |      Weibull distribution.\n",
      "     |      \n",
      "     |      alpha is the scale parameter and beta is the shape parameter.\n",
      "     |  \n",
      "     |  ----------------------------------------------------------------------\n",
      "     |  Class methods inherited from Random:\n",
      "     |  \n",
      "     |  __init_subclass__(**kwargs) from builtins.type\n",
      "     |      Control how subclasses generate random integers.\n",
      "     |      \n",
      "     |      The algorithm a subclass can use depends on the random() and/or\n",
      "     |      getrandbits() implementation available to it and determines\n",
      "     |      whether it can generate random integers from arbitrarily large\n",
      "     |      ranges.\n",
      "     |  \n",
      "     |  ----------------------------------------------------------------------\n",
      "     |  Data descriptors inherited from Random:\n",
      "     |  \n",
      "     |  __dict__\n",
      "     |      dictionary for instance variables (if defined)\n",
      "     |  \n",
      "     |  __weakref__\n",
      "     |      list of weak references to the object (if defined)\n",
      "     |  \n",
      "     |  ----------------------------------------------------------------------\n",
      "     |  Data and other attributes inherited from Random:\n",
      "     |  \n",
      "     |  VERSION = 3\n",
      "     |  \n",
      "     |  ----------------------------------------------------------------------\n",
      "     |  Methods inherited from _random.Random:\n",
      "     |  \n",
      "     |  __getattribute__(self, name, /)\n",
      "     |      Return getattr(self, name).\n",
      "     |  \n",
      "     |  ----------------------------------------------------------------------\n",
      "     |  Static methods inherited from _random.Random:\n",
      "     |  \n",
      "     |  __new__(*args, **kwargs) from builtins.type\n",
      "     |      Create and return a new object.  See help(type) for accurate signature.\n",
      "\n",
      "FUNCTIONS\n",
      "    betavariate(alpha, beta) method of Random instance\n",
      "        Beta distribution.\n",
      "        \n",
      "        Conditions on the parameters are alpha > 0 and beta > 0.\n",
      "        Returned values range between 0 and 1.\n",
      "    \n",
      "    choice(seq) method of Random instance\n",
      "        Choose a random element from a non-empty sequence.\n",
      "    \n",
      "    choices(population, weights=None, *, cum_weights=None, k=1) method of Random instance\n",
      "        Return a k sized list of population elements chosen with replacement.\n",
      "        \n",
      "        If the relative weights or cumulative weights are not specified,\n",
      "        the selections are made with equal probability.\n",
      "    \n",
      "    expovariate(lambd) method of Random instance\n",
      "        Exponential distribution.\n",
      "        \n",
      "        lambd is 1.0 divided by the desired mean.  It should be\n",
      "        nonzero.  (The parameter would be called \"lambda\", but that is\n",
      "        a reserved word in Python.)  Returned values range from 0 to\n",
      "        positive infinity if lambd is positive, and from negative\n",
      "        infinity to 0 if lambd is negative.\n",
      "    \n",
      "    gammavariate(alpha, beta) method of Random instance\n",
      "        Gamma distribution.  Not the gamma function!\n",
      "        \n",
      "        Conditions on the parameters are alpha > 0 and beta > 0.\n",
      "        \n",
      "        The probability distribution function is:\n",
      "        \n",
      "                    x ** (alpha - 1) * math.exp(-x / beta)\n",
      "          pdf(x) =  --------------------------------------\n",
      "                      math.gamma(alpha) * beta ** alpha\n",
      "    \n",
      "    gauss(mu, sigma) method of Random instance\n",
      "        Gaussian distribution.\n",
      "        \n",
      "        mu is the mean, and sigma is the standard deviation.  This is\n",
      "        slightly faster than the normalvariate() function.\n",
      "        \n",
      "        Not thread-safe without a lock around calls.\n",
      "    \n",
      "    getrandbits(k, /) method of Random instance\n",
      "        getrandbits(k) -> x.  Generates an int with k random bits.\n",
      "    \n",
      "    getstate() method of Random instance\n",
      "        Return internal state; can be passed to setstate() later.\n",
      "    \n",
      "    lognormvariate(mu, sigma) method of Random instance\n",
      "        Log normal distribution.\n",
      "        \n",
      "        If you take the natural logarithm of this distribution, you'll get a\n",
      "        normal distribution with mean mu and standard deviation sigma.\n",
      "        mu can have any value, and sigma must be greater than zero.\n",
      "    \n",
      "    normalvariate(mu, sigma) method of Random instance\n",
      "        Normal distribution.\n",
      "        \n",
      "        mu is the mean, and sigma is the standard deviation.\n",
      "    \n",
      "    paretovariate(alpha) method of Random instance\n",
      "        Pareto distribution.  alpha is the shape parameter.\n",
      "    \n",
      "    randint(a, b) method of Random instance\n",
      "        Return random integer in range [a, b], including both end points.\n",
      "    \n",
      "    random() method of Random instance\n",
      "        random() -> x in the interval [0, 1).\n",
      "    \n",
      "    randrange(start, stop=None, step=1, _int=<class 'int'>) method of Random instance\n",
      "        Choose a random item from range(start, stop[, step]).\n",
      "        \n",
      "        This fixes the problem with randint() which includes the\n",
      "        endpoint; in Python this is usually not what you want.\n",
      "    \n",
      "    sample(population, k) method of Random instance\n",
      "        Chooses k unique random elements from a population sequence or set.\n",
      "        \n",
      "        Returns a new list containing elements from the population while\n",
      "        leaving the original population unchanged.  The resulting list is\n",
      "        in selection order so that all sub-slices will also be valid random\n",
      "        samples.  This allows raffle winners (the sample) to be partitioned\n",
      "        into grand prize and second place winners (the subslices).\n",
      "        \n",
      "        Members of the population need not be hashable or unique.  If the\n",
      "        population contains repeats, then each occurrence is a possible\n",
      "        selection in the sample.\n",
      "        \n",
      "        To choose a sample in a range of integers, use range as an argument.\n",
      "        This is especially fast and space efficient for sampling from a\n",
      "        large population:   sample(range(10000000), 60)\n",
      "    \n",
      "    seed(a=None, version=2) method of Random instance\n",
      "        Initialize internal state from hashable object.\n",
      "        \n",
      "        None or no argument seeds from current time or from an operating\n",
      "        system specific randomness source if available.\n",
      "        \n",
      "        If *a* is an int, all bits are used.\n",
      "        \n",
      "        For version 2 (the default), all of the bits are used if *a* is a str,\n",
      "        bytes, or bytearray.  For version 1 (provided for reproducing random\n",
      "        sequences from older versions of Python), the algorithm for str and\n",
      "        bytes generates a narrower range of seeds.\n",
      "    \n",
      "    setstate(state) method of Random instance\n",
      "        Restore internal state from object returned by getstate().\n",
      "    \n",
      "    shuffle(x, random=None) method of Random instance\n",
      "        Shuffle list x in place, and return None.\n",
      "        \n",
      "        Optional argument random is a 0-argument function returning a\n",
      "        random float in [0.0, 1.0); if it is the default None, the\n",
      "        standard random.random will be used.\n",
      "    \n",
      "    triangular(low=0.0, high=1.0, mode=None) method of Random instance\n",
      "        Triangular distribution.\n",
      "        \n",
      "        Continuous distribution bounded by given lower and upper limits,\n",
      "        and having a given mode value in-between.\n",
      "        \n",
      "        http://en.wikipedia.org/wiki/Triangular_distribution\n",
      "    \n",
      "    uniform(a, b) method of Random instance\n",
      "        Get a random number in the range [a, b) or [a, b] depending on rounding.\n",
      "    \n",
      "    vonmisesvariate(mu, kappa) method of Random instance\n",
      "        Circular data distribution.\n",
      "        \n",
      "        mu is the mean angle, expressed in radians between 0 and 2*pi, and\n",
      "        kappa is the concentration parameter, which must be greater than or\n",
      "        equal to zero.  If kappa is equal to zero, this distribution reduces\n",
      "        to a uniform random angle over the range 0 to 2*pi.\n",
      "    \n",
      "    weibullvariate(alpha, beta) method of Random instance\n",
      "        Weibull distribution.\n",
      "        \n",
      "        alpha is the scale parameter and beta is the shape parameter.\n",
      "\n",
      "DATA\n",
      "    __all__ = ['Random', 'seed', 'random', 'uniform', 'randint', 'choice',...\n",
      "\n",
      "FILE\n",
      "    /usr/lib/python3.8/random.py\n",
      "\n",
      "\n",
      "['__add__', '__class__', '__contains__', '__delattr__', '__dir__', '__doc__', '__eq__', '__format__', '__ge__', '__getattribute__', '__getitem__', '__getnewargs__', '__gt__', '__hash__', '__init__', '__init_subclass__', '__iter__', '__le__', '__len__', '__lt__', '__mod__', '__mul__', '__ne__', '__new__', '__reduce__', '__reduce_ex__', '__repr__', '__rmod__', '__rmul__', '__setattr__', '__sizeof__', '__str__', '__subclasshook__', 'capitalize', 'casefold', 'center', 'count', 'encode', 'endswith', 'expandtabs', 'find', 'format', 'format_map', 'index', 'isalnum', 'isalpha', 'isascii', 'isdecimal', 'isdigit', 'isidentifier', 'islower', 'isnumeric', 'isprintable', 'isspace', 'istitle', 'isupper', 'join', 'ljust', 'lower', 'lstrip', 'maketrans', 'partition', 'replace', 'rfind', 'rindex', 'rjust', 'rpartition', 'rsplit', 'rstrip', 'split', 'splitlines', 'startswith', 'strip', 'swapcase', 'title', 'translate', 'upper', 'zfill']\n"
     ]
    }
   ],
   "source": [
    "help(\"random\")\n",
    "\n",
    "print(dir(\"random\"))"
   ]
  },
  {
   "cell_type": "markdown",
   "metadata": {},
   "source": [
    "### Random Module\n",
    "- is a module that provides pseudo-random numbers."
   ]
  },
  {
   "cell_type": "code",
   "execution_count": 6,
   "metadata": {},
   "outputs": [
    {
     "name": "stdout",
     "output_type": "stream",
     "text": [
      "479\n"
     ]
    }
   ],
   "source": [
    "from random import randint\n",
    "\n",
    "print(int(randint(1,1000)))"
   ]
  },
  {
   "cell_type": "markdown",
   "metadata": {},
   "source": [
    "### datetime module\n",
    "- provides classes which allows us to work with date and time."
   ]
  },
  {
   "cell_type": "code",
   "execution_count": 7,
   "metadata": {},
   "outputs": [
    {
     "name": "stdout",
     "output_type": "stream",
     "text": [
      "2021-11-14 20:51:09.480245\n"
     ]
    }
   ],
   "source": [
    "import datetime\n",
    "\n",
    "t = datetime.datetime.now()\n",
    "\n",
    "print(t)"
   ]
  },
  {
   "cell_type": "markdown",
   "metadata": {},
   "source": [
    "### strftime() function\n",
    "- is used to make strings out of our imported date objects.\n",
    "- is used to improve the readability of the code by displaying strings on the console."
   ]
  },
  {
   "cell_type": "code",
   "execution_count": 9,
   "metadata": {},
   "outputs": [
    {
     "name": "stdout",
     "output_type": "stream",
     "text": [
      "May\n",
      "2021\n"
     ]
    }
   ],
   "source": [
    "import datetime\n",
    "\n",
    "t = datetime.datetime(2021, 5, 17)\n",
    "\n",
    "print(t.strftime(\"%B\"))\n",
    "\n",
    "print(t.year)"
   ]
  },
  {
   "cell_type": "code",
   "execution_count": null,
   "metadata": {},
   "outputs": [],
   "source": [
    "### pip\n",
    "- is the sandard package manager for Python.\n"
   ]
  },
  {
   "cell_type": "markdown",
   "metadata": {},
   "source": [
    "### Python module index\n",
    "\n",
    "https://docs.python.org/3/py-modindex.html"
   ]
  }
 ],
 "metadata": {
  "kernelspec": {
   "display_name": "Python 3",
   "language": "python",
   "name": "python3"
  },
  "language_info": {
   "codemirror_mode": {
    "name": "ipython",
    "version": 3
   },
   "file_extension": ".py",
   "mimetype": "text/x-python",
   "name": "python",
   "nbconvert_exporter": "python",
   "pygments_lexer": "ipython3",
   "version": "3.8.10"
  }
 },
 "nbformat": 4,
 "nbformat_minor": 4
}
