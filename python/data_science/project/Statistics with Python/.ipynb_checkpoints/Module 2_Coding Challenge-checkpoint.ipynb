{
 "cells": [
  {
   "cell_type": "code",
   "execution_count": 1,
   "id": "223e6698",
   "metadata": {},
   "outputs": [],
   "source": [
    "## Coding Challenge"
   ]
  },
  {
   "cell_type": "code",
   "execution_count": 3,
   "id": "1dff13b6",
   "metadata": {},
   "outputs": [
    {
     "name": "stdout",
     "output_type": "stream",
     "text": [
      "Average puchased items:\n",
      "20.6\n"
     ]
    }
   ],
   "source": [
    "import array as arr\n",
    "\n",
    "def display_ave():\n",
    "    print(\"Average puchased items:\")\n",
    "    \n",
    "def get_ave():\n",
    "    n = len(items)\n",
    "    get_sum = sum(items)\n",
    "    mean = get_sum / n\n",
    "    m = str(mean)\n",
    "    print(m)\n",
    "    \n",
    "online_pur = [19, 27, 17, 24, 16]\n",
    "\n",
    "sample_data = arr.array('i', online_pur)\n",
    "items = sample_data[0:5]\n",
    "sample_data_lits = items.tolist()\n",
    "\n",
    "display_ave()\n",
    "get_ave()"
   ]
  },
  {
   "cell_type": "code",
   "execution_count": null,
   "id": "f8812644",
   "metadata": {},
   "outputs": [],
   "source": []
  }
 ],
 "metadata": {
  "kernelspec": {
   "display_name": "Python 3 (ipykernel)",
   "language": "python",
   "name": "python3"
  },
  "language_info": {
   "codemirror_mode": {
    "name": "ipython",
    "version": 3
   },
   "file_extension": ".py",
   "mimetype": "text/x-python",
   "name": "python",
   "nbconvert_exporter": "python",
   "pygments_lexer": "ipython3",
   "version": "3.9.7"
  }
 },
 "nbformat": 4,
 "nbformat_minor": 5
}
