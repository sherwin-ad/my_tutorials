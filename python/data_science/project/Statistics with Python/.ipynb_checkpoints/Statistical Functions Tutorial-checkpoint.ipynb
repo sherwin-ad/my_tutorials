{
 "cells": [
  {
   "cell_type": "code",
   "execution_count": 5,
   "id": "513d403d",
   "metadata": {},
   "outputs": [
    {
     "name": "stdout",
     "output_type": "stream",
     "text": [
      "Descriptive Statistics\n",
      "Mean: 5.76\n",
      "Mode: 5\n",
      "Median: 5\n",
      "Range: 8\n",
      "Population Variance: 5.14\n",
      "Population Standard Deviation: 2.27\n"
     ]
    }
   ],
   "source": [
    "import statistics\n",
    "\n",
    "friends_usage = [5, 4, 3, 5, 8, 2, 5, 2, 5, 8, 10, 8, 7, 9, 10, 5, 7, 5, 7, 5, 4, 3, 5, 8, 4]\n",
    "\n",
    "mean = statistics.mean(friends_usage)\n",
    "mode = statistics.mode(friends_usage)\n",
    "median = statistics.median(friends_usage)\n",
    "pstdev = round(statistics.pstdev(friends_usage),2)\n",
    "pvariance = round(statistics.pvariance(friends_usage),2)\n",
    "srange = (max(friends_usage)-min(friends_usage))\n",
    "\n",
    "print(\"Descriptive Statistics\")\n",
    "print(\"Mean:\", mean)\n",
    "print(\"Mode:\", mode)\n",
    "print(\"Median:\", median)\n",
    "print(\"Range:\", srange)\n",
    "print(\"Population Variance:\", pvariance)\n",
    "print(\"Population Standard Deviation:\", pstdev)"
   ]
  },
  {
   "cell_type": "code",
   "execution_count": 7,
   "id": "46ae2a16",
   "metadata": {},
   "outputs": [
    {
     "name": "stdout",
     "output_type": "stream",
     "text": [
      "Descriptive Statistics\n",
      "Mean: 5.76\n",
      "Mode: 5\n",
      "Median: 5\n",
      "Range: 8\n",
      "Population Variance: 5.14\n",
      "Population Standard Deviation: 2.27\n",
      "Variance: 3.5\n",
      "Standard Deviation: 1.87\n"
     ]
    }
   ],
   "source": [
    "import statistics\n",
    "import array as arr\n",
    "\n",
    "friends_usage = [5, 4, 3, 5, 8, 2, 5, 2, 5, 8, 10, 8, 7, 9, 10, 5, 7, 5, 7, 5, 4, 3, 5, 8, 4]\n",
    "\n",
    "sample_data = arr.array(\"i\",friends_usage)\n",
    "dataset = sample_data[0:5]\n",
    "sample_data_list = dataset.tolist()\n",
    "\n",
    "mean = statistics.mean(friends_usage)\n",
    "mode = statistics.mode(friends_usage)\n",
    "median = statistics.median(friends_usage)\n",
    "pstdev = round(statistics.pstdev(friends_usage),2)\n",
    "pvariance = round(statistics.pvariance(friends_usage),2)\n",
    "srange = (max(friends_usage)-min(friends_usage))\n",
    "\n",
    "variance = round(statistics.variance(sample_data_list),2)\n",
    "stdev = round(statistics.stdev(sample_data_list),2)\n",
    "\n",
    "print(\"Descriptive Statistics\")\n",
    "print(\"Mean:\", mean)\n",
    "print(\"Mode:\", mode)\n",
    "print(\"Median:\", median)\n",
    "print(\"Range:\", srange)\n",
    "print(\"Population Variance:\", pvariance)\n",
    "print(\"Population Standard Deviation:\", pstdev)\n",
    "print(\"Variance:\", variance)\n",
    "print(\"Standard Deviation:\", stdev)\n"
   ]
  },
  {
   "cell_type": "code",
   "execution_count": 1,
   "id": "6e02d238",
   "metadata": {},
   "outputs": [
    {
     "name": "stdout",
     "output_type": "stream",
     "text": [
      "Mean: 5.76\n",
      "Median: 5.0\n",
      "Mode: ModeResult(mode=array([5]), count=array([8]))\n",
      "Range: 8\n",
      "Population Variance: 5.14\n",
      "Standard Deviation: 2.27\n",
      "Sample variance: 3.5\n",
      "Sample Standard Deviation: 1.87\n"
     ]
    }
   ],
   "source": [
    "import numpy as np\n",
    "import array as arr\n",
    "from scipy import stats\n",
    "\n",
    "f_usage = [5, 4, 3, 5, 8, 2, 5, 2, 5, 8, 10, 8, 7, 9, 10, 5, 7, 5, 7, 5, 4, 3, 5, 8, 4]\n",
    "\n",
    "def display_stat():\n",
    "    print(\"Mean:\", mean)\n",
    "    print(\"Median:\", median)\n",
    "    print(\"Mode:\", mode)\n",
    "    print(\"Range:\", srange)\n",
    "    print(\"Population Variance:\", pvariance)\n",
    "    print(\"Standard Deviation:\", pstdev)\n",
    "    print(\"Sample variance:\", variance)\n",
    "    print(\"Sample Standard Deviation:\", sdeviation)\n",
    "    \n",
    "    \n",
    "mean = np.mean(f_usage)\n",
    "median = np.median(f_usage)\n",
    "pvariance = round(np.var(f_usage),2)\n",
    "pstdev = round(np.std(f_usage),2)\n",
    "\n",
    "srange = np.ptp(f_usage)\n",
    "mode = stats.mode(f_usage)\n",
    "\n",
    "sample_data = arr.array('i', f_usage)\n",
    "dataset = sample_data[0:5]\n",
    "f_usage_s = dataset.tolist()\n",
    "\n",
    "variance = round(np.var(f_usage_s,ddof=1),2)\n",
    "sdeviation = round(np.std(f_usage_s,ddof=1),2)\n",
    "\n",
    "display_stat()"
   ]
  },
  {
   "cell_type": "code",
   "execution_count": 3,
   "id": "f03a667e",
   "metadata": {},
   "outputs": [
    {
     "name": "stdout",
     "output_type": "stream",
     "text": [
      "Mean: 151.3\n",
      "Median: 157.0\n",
      "Mode: ModeResult(mode=array([103]), count=array([1]))\n",
      "Variance: 994.23\n",
      "Standard Deviation: 31.53\n",
      "Range: 85\n"
     ]
    }
   ],
   "source": [
    "import numpy as np\n",
    "from scipy import stats as sp\n",
    "\n",
    "sample_data = [103,151,176,188,146,184,175,112,115,163]\n",
    "\n",
    "mean = np.mean(sample_data)\n",
    "median = np.median(sample_data)\n",
    "mode = sp.mode(sample_data)\n",
    "var = round(np.var(sample_data,ddof=1),2)\n",
    "sdev = round(np.std(sample_data,ddof=1),2)\n",
    "range = np.ptp(sample_data)\n",
    "\n",
    "print(\"Mean:\",mean)\n",
    "print(\"Median:\",median)\n",
    "print(\"Mode:\",mode)\n",
    "print(\"Variance:\",var)\n",
    "print(\"Standard Deviation:\",sdev)\n",
    "print(\"Range:\",range)\n"
   ]
  }
 ],
 "metadata": {
  "kernelspec": {
   "display_name": "Python 3 (ipykernel)",
   "language": "python",
   "name": "python3"
  },
  "language_info": {
   "codemirror_mode": {
    "name": "ipython",
    "version": 3
   },
   "file_extension": ".py",
   "mimetype": "text/x-python",
   "name": "python",
   "nbconvert_exporter": "python",
   "pygments_lexer": "ipython3",
   "version": "3.9.7"
  }
 },
 "nbformat": 4,
 "nbformat_minor": 5
}
