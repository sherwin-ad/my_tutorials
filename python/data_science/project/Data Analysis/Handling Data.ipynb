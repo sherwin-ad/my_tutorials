{
 "cells": [
  {
   "cell_type": "markdown",
   "id": "cd28a691",
   "metadata": {},
   "source": [
    "## Handling Data"
   ]
  },
  {
   "cell_type": "markdown",
   "id": "a76fdf0c",
   "metadata": {},
   "source": [
    "### Imported libraries/packages"
   ]
  },
  {
   "cell_type": "code",
   "execution_count": 1,
   "id": "3c6d22cd",
   "metadata": {},
   "outputs": [],
   "source": [
    "import pandas as pd"
   ]
  },
  {
   "cell_type": "markdown",
   "id": "6ae064d6",
   "metadata": {},
   "source": [
    "### Creating a Pandas Serie"
   ]
  },
  {
   "cell_type": "markdown",
   "id": "598740a2",
   "metadata": {},
   "source": [
    "Series is one-dimensional object"
   ]
  },
  {
   "cell_type": "code",
   "execution_count": 4,
   "id": "a90079c2",
   "metadata": {},
   "outputs": [
    {
     "data": {
      "text/plain": [
       "0    chairs\n",
       "1    labels\n",
       "2    tables\n",
       "dtype: object"
      ]
     },
     "execution_count": 4,
     "metadata": {},
     "output_type": "execute_result"
    }
   ],
   "source": [
    "# Creating a series by passing in a list\n",
    "items = pd.Series(['chairs', 'labels','tables'])\n",
    "items"
   ]
  },
  {
   "cell_type": "code",
   "execution_count": 6,
   "id": "7ba99617",
   "metadata": {},
   "outputs": [
    {
     "data": {
      "text/plain": [
       "OR 001    chairs\n",
       "OR 002    labels\n",
       "OR 003    tables\n",
       "dtype: object"
      ]
     },
     "execution_count": 6,
     "metadata": {},
     "output_type": "execute_result"
    }
   ],
   "source": [
    "# Creating a series by passing in a list\n",
    "items = pd.Series(['chairs', 'labels','tables'],index=['OR 001', 'OR 002', 'OR 003'])\n",
    "items\n"
   ]
  },
  {
   "cell_type": "code",
   "execution_count": null,
   "id": "d0f5918b",
   "metadata": {},
   "outputs": [],
   "source": []
  }
 ],
 "metadata": {
  "kernelspec": {
   "display_name": "Python 3 (ipykernel)",
   "language": "python",
   "name": "python3"
  },
  "language_info": {
   "codemirror_mode": {
    "name": "ipython",
    "version": 3
   },
   "file_extension": ".py",
   "mimetype": "text/x-python",
   "name": "python",
   "nbconvert_exporter": "python",
   "pygments_lexer": "ipython3",
   "version": "3.9.7"
  }
 },
 "nbformat": 4,
 "nbformat_minor": 5
}
