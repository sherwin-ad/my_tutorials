{
 "cells": [
  {
   "cell_type": "markdown",
   "id": "3875a449",
   "metadata": {},
   "source": [
    "# Basic Structures Introduction\n",
    "\n",
    "## What is a string?\n"
   ]
  },
  {
   "cell_type": "code",
   "execution_count": 9,
   "id": "a94deacc",
   "metadata": {},
   "outputs": [
    {
     "name": "stdout",
     "output_type": "stream",
     "text": [
      "Name: Sherwin, Favorite color: gold\n",
      "exampleexampleexample\n",
      "34\n"
     ]
    }
   ],
   "source": [
    "name = \"Sherwin\"\n",
    "color = 'gold'\n",
    "print(\"Name: \" + name + \", Favorite color: \" + color)\n",
    "print(\"example\" * 3)\n",
    "\n",
    "pet=\"looooooooooooooooooooooooooong cat\"\n",
    "word=len(pet)\n",
    "print(word)"
   ]
  },
  {
   "cell_type": "code",
   "execution_count": 12,
   "id": "deb9b993",
   "metadata": {},
   "outputs": [
    {
     "name": "stdout",
     "output_type": "stream",
     "text": [
      "hellohello10\n",
      "abcabc6\n",
      "0\n"
     ]
    }
   ],
   "source": [
    "def double_word(word):\n",
    "    return word*2 + str(len(word*2))\n",
    "\n",
    "print(double_word(\"hello\")) # Should return hellohello10\n",
    "print(double_word(\"abc\"))   # Should return abcabc6\n",
    "print(double_word(\"\"))      # Should return 0"
   ]
  },
  {
   "cell_type": "code",
   "execution_count": 20,
   "id": "3e30f454",
   "metadata": {},
   "outputs": [
    {
     "name": "stdout",
     "output_type": "stream",
     "text": [
      "h\n",
      "S\n",
      "n\n",
      "n\n"
     ]
    }
   ],
   "source": [
    "name = \"Sherwin\"\n",
    "print(name[1])\n",
    "print(name[0])\n",
    "last=len(name)-1\n",
    "print(name[last])"
   ]
  },
  {
   "cell_type": "code",
   "execution_count": 22,
   "id": "8811b680",
   "metadata": {},
   "outputs": [
    {
     "name": "stdout",
     "output_type": "stream",
     "text": [
      "s\n",
      "r\n"
     ]
    }
   ],
   "source": [
    "text = \"Random string with a lot of characters\"\n",
    "print(text[-1])\n",
    "print(text[-2])"
   ]
  },
  {
   "cell_type": "markdown",
   "id": "344176a6",
   "metadata": {},
   "source": [
    "Slice\n",
    "- The portion of a string that can contain more than one character; also sometimes called a substring."
   ]
  },
  {
   "cell_type": "code",
   "execution_count": 23,
   "id": "12c5f2f0",
   "metadata": {},
   "outputs": [
    {
     "data": {
      "text/plain": [
       "'ran'"
      ]
     },
     "execution_count": 23,
     "metadata": {},
     "output_type": "execute_result"
    }
   ],
   "source": [
    "color = \"Orange\"\n",
    "color[1:4]"
   ]
  },
  {
   "cell_type": "code",
   "execution_count": 25,
   "id": "b588d800",
   "metadata": {},
   "outputs": [
    {
     "name": "stdout",
     "output_type": "stream",
     "text": [
      "Pine\n",
      "apple\n"
     ]
    }
   ],
   "source": [
    "fruit = \"Pineapple\"\n",
    "print(fruit[:4])\n",
    "print(fruit[4:])"
   ]
  },
  {
   "cell_type": "markdown",
   "id": "2c78ef7d",
   "metadata": {},
   "source": [
    "String Indexing and Slicing\n",
    "String indexing allows you to access individual characters in a string. You can do this by using square brackets and the location, or index, of the character you want to access. It's important to remember that Python starts indexes at 0. So to access the first character in a string, you would use the index [0]. If you try to access an index that’s larger than the length of your string, you’ll get an IndexError. This is because you’re trying to access something that doesn't exist! You can also access indexes from the end of the string going towards the start of the string by using negative values. The index [-1] would access the last character of the string, and the index [-2] would access the second-to-last character.\n",
    "\n",
    "You can also access a portion of a string, called a slice or a substring. This allows you to access multiple characters of a string. You can do this by creating a range, using a colon as a separator between the start and end of the range, like [2:5]. \n",
    "\n",
    "This range is similar to the range() function we saw previously. It includes the first number, but goes to one less than the last number. For example:\n",
    "\n",
    "```\n",
    ">>> fruit = \"Mangosteen\"\n",
    ">>> fruit[1:4]\n",
    "'ang'\n",
    "```\n",
    "\n",
    "The slice includes the character at index 1, and excludes the character at index 4. You can also easily reference a substring at the start or end of the string by only specifying one end of the range. For example, only giving the end of the range:\n",
    "\n",
    "```\n",
    ">>> fruit[:5]\n",
    "'Mango'\n",
    "```\n",
    "\n",
    "This gave us the characters from the start of the string through index 4, excluding index 5. On the other hand this example gives is the characters including index 5, through the end of the string:\n",
    "\n",
    "```\n",
    ">>> fruit[5:]\n",
    "'steen'\n",
    "```\n",
    "\n",
    "You might have noticed that if you put both of those results together, you get the original string back!\n",
    "\n",
    "```\n",
    ">>> fruit[:5] + fruit[5:]\n",
    "'Mangosteen'\n",
    "```"
   ]
  },
  {
   "cell_type": "markdown",
   "id": "af676e5a",
   "metadata": {},
   "source": [
    "# Creating New Strings\n"
   ]
  },
  {
   "cell_type": "code",
   "execution_count": 31,
   "id": "98e01eb9",
   "metadata": {},
   "outputs": [
    {
     "name": "stdout",
     "output_type": "stream",
     "text": [
      "A long string with a silly typo\n",
      "This is a message\n",
      "Add another one\n"
     ]
    }
   ],
   "source": [
    "message = \"A kong string with a silly typo\"\n",
    "new_message = message[0:2] + \"l\" + message[3:]\n",
    "print(new_message)\n",
    "\n",
    "message = \"This is a message\"\n",
    "print(message)\n",
    "\n",
    "message = \"Add another one\"\n",
    "print(message)"
   ]
  },
  {
   "cell_type": "markdown",
   "id": "2ae5b569",
   "metadata": {},
   "source": [
    "Method\n",
    "A function associated with a specific class."
   ]
  },
  {
   "cell_type": "code",
   "execution_count": 43,
   "id": "6a23ec30",
   "metadata": {},
   "outputs": [
    {
     "name": "stdout",
     "output_type": "stream",
     "text": [
      "5\n",
      "0\n",
      "7\n",
      "3\n",
      "False\n",
      "True\n"
     ]
    }
   ],
   "source": [
    "pets = \"Cats & Dogs\"\n",
    "\n",
    "print (pets.index(\"&\"))\n",
    "\n",
    "print (pets.index(\"C\"))\n",
    "\n",
    "print (pets.index(\"Dog\"))\n",
    "\n",
    "print (pets.index(\"s\"))\n",
    "\n",
    "print (\"Dragons\" in pets)\n",
    "\n",
    "print (\"Cats\" in pets)"
   ]
  },
  {
   "cell_type": "markdown",
   "id": "b902ba47",
   "metadata": {},
   "source": [
    "Using the index method, find out the position of \"x\" in \"supercalifragilisticexpialidocious\"."
   ]
  },
  {
   "cell_type": "code",
   "execution_count": 33,
   "id": "f85629df",
   "metadata": {},
   "outputs": [
    {
     "name": "stdout",
     "output_type": "stream",
     "text": [
      "21\n"
     ]
    }
   ],
   "source": [
    "word = \"supercalifragilisticexpialidocious\"\n",
    "print(word.index(\"x\"))"
   ]
  },
  {
   "cell_type": "code",
   "execution_count": 53,
   "id": "d42355fd",
   "metadata": {},
   "outputs": [
    {
     "data": {
      "text/plain": [
       "'sherwin@mybusybee.com'"
      ]
     },
     "execution_count": 53,
     "metadata": {},
     "output_type": "execute_result"
    }
   ],
   "source": [
    "def replace_domain(email, old_domain, new_domain) :\n",
    "    if \"@\" + old_domain in email:\n",
    "        index = email.index(\"@\" + old_domain)\n",
    "        new_email = email[:index] + \"@\" + new_domain\n",
    "        return new_email \n",
    "    return email\n",
    "\n",
    "replace_domain(\"sherwin@mybusybee.net\", \"mybusybee.net\", \"mybusybee.com\")"
   ]
  },
  {
   "cell_type": "code",
   "execution_count": 69,
   "id": "64ddb731",
   "metadata": {},
   "outputs": [
    {
     "name": "stdout",
     "output_type": "stream",
     "text": [
      "MOUNTAINS\n",
      "mountains\n",
      "yes\n",
      "yes \n",
      " yes\n",
      "4\n",
      "True\n",
      "False\n",
      "True\n",
      "66666\n",
      "This is a phrase joined by spaces\n",
      "This...is...a...phrase...joined...by...spaces\n"
     ]
    }
   ],
   "source": [
    "print(\"Mountains\".upper())\n",
    "\n",
    "print(\"Mountains\".lower())\n",
    "\n",
    "print(\" yes \".strip())\n",
    "\n",
    "print(\" yes \".lstrip())\n",
    "\n",
    "print(\" yes \".rstrip())\n",
    "\n",
    "print(\"The number of times e occurs in this string is 4\".count(\"e\"))\n",
    "\n",
    "print(\"Forest\".endswith(\"rest\"))\n",
    "\n",
    "print(\"Forest\".isnumeric())\n",
    "\n",
    "print(\"12345\".isnumeric())\n",
    "\n",
    "print(int(\"12345\") + int(\"54321\"))\n",
    "\n",
    "print(\" \".join([\"This\", \"is\", \"a\", \"phrase\", \"joined\", \"by\", \"spaces\"]))\n",
    "\n",
    "print(\"...\".join([\"This\", \"is\", \"a\", \"phrase\", \"joined\", \"by\", \"spaces\"]))"
   ]
  },
  {
   "cell_type": "code",
   "execution_count": 60,
   "id": "b95e8ab6",
   "metadata": {},
   "outputs": [
    {
     "name": "stdout",
     "output_type": "stream",
     "text": [
      "User said yes\n"
     ]
    }
   ],
   "source": [
    "answer = \"YES\"\n",
    "if answer.lower() == \"yes\":\n",
    "    print(\"User said yes\")"
   ]
  },
  {
   "cell_type": "markdown",
   "id": "cba9eeaa",
   "metadata": {},
   "source": [
    "# Formatting Strings"
   ]
  },
  {
   "cell_type": "code",
   "execution_count": 72,
   "id": "ab9e2092",
   "metadata": {},
   "outputs": [
    {
     "name": "stdout",
     "output_type": "stream",
     "text": [
      "Hello Sherwin, your lucky numer is 21.\n",
      "Hello Sherwin, your lucky numer is 21.\n"
     ]
    }
   ],
   "source": [
    "name =\"Sherwin\"\n",
    "number = len(name) * 3\n",
    "print(\"Hello {}, your lucky numer is {}.\".format(name, number))\n",
    "\n",
    "print(\"Hello {name}, your lucky numer is {number}.\".format(name=name, number=number))"
   ]
  },
  {
   "cell_type": "markdown",
   "id": "10b4ed65",
   "metadata": {},
   "source": [
    "Modify the student_grade function using the format method, so that it returns the phrase \"X received Y% on the exam\". For example, student_grade(\"Reed\", 80) should return \"Reed received 80% on the exam\"."
   ]
  },
  {
   "cell_type": "code",
   "execution_count": 74,
   "id": "35533d20",
   "metadata": {},
   "outputs": [
    {
     "name": "stdout",
     "output_type": "stream",
     "text": [
      "Reed received 80% on the exam\n",
      "Paige received 92% on the exam\n",
      "Jesse received 85% on the exam\n"
     ]
    }
   ],
   "source": [
    "def student_grade(name, grade):\n",
    "    return f\"{name} received {grade}% on the exam\"\n",
    "\n",
    "print(student_grade(\"Reed\", 80))\n",
    "print(student_grade(\"Paige\", 92))\n",
    "print(student_grade(\"Jesse\", 85))"
   ]
  },
  {
   "cell_type": "code",
   "execution_count": 77,
   "id": "bff073f7",
   "metadata": {},
   "outputs": [
    {
     "name": "stdout",
     "output_type": "stream",
     "text": [
      "7.5 8.175\n",
      "The base price: $7.50. With Tax: $8.18\n"
     ]
    }
   ],
   "source": [
    "price = 7.5\n",
    "with_tax = price * 1.09\n",
    "print(price, with_tax)\n",
    "print(\"The base price: ${:.2f}. With Tax: ${:.2f}\".format(price, with_tax))"
   ]
  },
  {
   "cell_type": "code",
   "execution_count": 80,
   "id": "d958a12e",
   "metadata": {},
   "outputs": [
    {
     "name": "stdout",
     "output_type": "stream",
     "text": [
      "0 -17.77777777777778\n",
      "10 -12.222222222222221\n",
      "20 -6.666666666666667\n",
      "30 -1.1111111111111112\n",
      "40 4.444444444444445\n",
      "50 10.0\n",
      "60 15.555555555555555\n",
      "70 21.11111111111111\n",
      "80 26.666666666666668\n",
      "90 32.22222222222222\n",
      "100 37.77777777777778\n"
     ]
    }
   ],
   "source": [
    "def to_celcius(x):\n",
    "    return (x-32)*5/9\n",
    "\n",
    "for x in range(0,101,10):\n",
    "    print(x, to_celcius(x))"
   ]
  },
  {
   "cell_type": "code",
   "execution_count": 110,
   "id": "e94dde1e",
   "metadata": {},
   "outputs": [
    {
     "name": "stdout",
     "output_type": "stream",
     "text": [
      "  0 F | -17.78 C\n",
      " 10 F | -12.22 C\n",
      " 20 F |  -6.67 C\n",
      " 30 F |  -1.11 C\n",
      " 40 F |   4.44 C\n",
      " 50 F |  10.00 C\n",
      " 60 F |  15.56 C\n",
      " 70 F |  21.11 C\n",
      " 80 F |  26.67 C\n",
      " 90 F |  32.22 C\n",
      "100 F |  37.78 C\n"
     ]
    }
   ],
   "source": [
    "def to_celcius(x):\n",
    "    return (x-32)*5/9\n",
    "\n",
    "for x in range(0,101,10):\n",
    "    print(\"{:>3} F | {:>6.2f} C\".format(x, to_celcius(x)))"
   ]
  },
  {
   "cell_type": "markdown",
   "id": "ae570bfa",
   "metadata": {},
   "source": [
    "# String Reference Cheat Sheet\n",
    "In Python, there are a lot of things you can do with strings. In this cheat sheet, you’ll find the most common string operations and string methods.\n",
    "\n",
    "**String operations**\n",
    "- len(string) - Returns the length of the string\n",
    "- for character in string - Iterates over each character in the string\n",
    "- if substring in string - Checks whether the substring is part of the string\n",
    "- string[i] - Accesses the character at index i of the string, starting at zero\n",
    "- string[i:j] - Accesses the substring starting at index i, ending at index j minus 1. If i is omitted, its value defaults to 0. If j is omitted, the value will default to len(string).\n",
    "\n",
    "**String methods**\n",
    "- string.lower() - Returns a copy of the string with all lowercase characters\n",
    "\n",
    "- string.upper() - Returns a copy of the string with all uppercase characters\n",
    "\n",
    "- string.lstrip() - Returns a copy of the string with the left-side whitespace removed\n",
    "\n",
    "- string.rstrip() - Returns a copy of the string with the right-side whitespace removed\n",
    "\n",
    "- string.strip() - Returns a copy of the string with both the left and right-side whitespace removed\n",
    "\n",
    "- string.count(substring) - Returns the number of times substring is present in the string\n",
    "\n",
    "- string.isnumeric() - Returns True if there are only numeric characters in the string. If not, returns False.\n",
    "\n",
    "- string.isalpha() - Returns True if there are only alphabetic characters in the string. If not, returns False.\n",
    "\n",
    "- string.split() - Returns a list of substrings that were separated by whitespace (whitespace can be a space, tab, or new line)\n",
    "\n",
    "- string.split(delimiter) - Returns a list of substrings that were separated by whitespace or a delimiter\n",
    "\n",
    "- string.replace(old, new) - Returns a new string where all occurrences of old have been replaced by new.\n",
    "\n",
    "- delimiter.join(list of strings) - Returns a new string with all the strings joined by the delimiter \n",
    "\n",
    "Check out the official documentation for all available String methods.  \n",
    "https://docs.python.org/3/library/stdtypes.html#string-methods\n"
   ]
  },
  {
   "cell_type": "markdown",
   "id": "4c260cc4",
   "metadata": {},
   "source": [
    "# Formatting Strings Cheat Sheet\n",
    "Python offers different ways to format strings. In the video, we explained the format() method. In this reading, we'll highlight three different ways of formatting strings. For this course you only need to know the format() method. But on the internet, you might find any of the three, so it's a good idea to know that the others exist.\n",
    "\n",
    "**Using the format() method**\n",
    "The format method returns a copy of the string where the {} placeholders have been replaced with the values of the variables. These variables are converted to strings if they weren't strings already. Empty placeholders are replaced by the variables passed to format in the same order.\n",
    "\n",
    "```\n",
    "# \"base string with {} placeholders\".format(variables)\n",
    "\n",
    "example = \"format() method\"\n",
    "\n",
    "formatted_string = \"this is an example of using the {} on a string\".format(example)\n",
    "\n",
    "print(formatted_string)\n",
    "\n",
    "\"\"\"Outputs:\n",
    "this is an example of using the format() method on a string\n",
    "```\n",
    "If the placeholders indicate a number, they’re replaced by the variable corresponding to that order (starting at zero).\n",
    "\n",
    "```\n",
    "# \"{0} {1}\".format(first, second)\n",
    "\n",
    "first = \"apple\"\n",
    "second = \"banana\"\n",
    "third = \"carrot\"\n",
    "\n",
    "formatted_string = \"{0} {2} {1}\".format(first, second, third)\n",
    "\n",
    "print(formatted_string)\n",
    "\n",
    "```\n",
    "If the placeholders indicate a field name, they’re replaced by the variable corresponding to that field name. This means that parameters to format need to be passed indicating the field name.\n",
    "\n",
    "```\n",
    "# \"{var1} {var2}\".format(var1=value1, var2=value2)\n",
    "```\n",
    "\n",
    "```\n",
    "\"{:exp1} {:exp2}\".format(value1, value2)\n",
    "```\n",
    "If the placeholders include a colon, what comes after the colon is a formatting expression. See below for the expression reference.\n",
    "\n",
    "Official documentation for the format string syntax\n",
    "\n",
    "```\n",
    "# {:d} integer value\n",
    "'{:d}'.format(10.5) → '10'\n",
    "```"
   ]
  },
  {
   "cell_type": "markdown",
   "id": "8b8f08d2",
   "metadata": {},
   "source": [
    "# Resources\n",
    "- Check out the official documentation for all available String methods.\n",
    "https://docs.python.org/3/library/stdtypes.html#string-methods\n",
    "- Check out the official documentation for old string formatting.\n",
    "https://docs.python.org/3/library/stdtypes.html#old-string-formatting\n",
    "- Check out the official documentation for f-strings.\n",
    "https://docs.python.org/3/reference/lexical_analysis.html#f-strings\n",
    "- Check out the official documentation for sequence operations.\n",
    "https://docs.python.org/3/library/stdtypes.html#sequence-types-list-tuple-range\n",
    "- Most of these methods come from the fact that lists are mutable sequences. For more info, see the official documentation for mutable sequences and the list specific documentation.\n",
    "https://docs.python.org/3/library/stdtypes.html#mutable-sequence-types\n",
    "https://docs.python.org/3/library/stdtypes.html#lists\n",
    "- Check out the official documentation for dictionary operations and methods.\n",
    "https://docs.python.org/3/library/stdtypes.html#mapping-types-dict"
   ]
  },
  {
   "cell_type": "markdown",
   "id": "c9629b5d",
   "metadata": {},
   "source": [
    "# Practice Quiz: Strings\n"
   ]
  },
  {
   "cell_type": "markdown",
   "id": "b5f25abb",
   "metadata": {},
   "source": [
    "1. The is_palindrome function checks if a string is a palindrome. A palindrome is a string that can be equally read from left to right or right to left, omitting blank spaces, and ignoring capitalization. Examples of palindromes are words like kayak and radar, and phrases like \"Never Odd or Even\". Fill in the blanks in this function to return True if the passed string is a palindrome, False if not."
   ]
  },
  {
   "cell_type": "code",
   "execution_count": 116,
   "id": "8f8c5d04",
   "metadata": {},
   "outputs": [
    {
     "name": "stdout",
     "output_type": "stream",
     "text": [
      "True\n",
      "False\n",
      "True\n"
     ]
    }
   ],
   "source": [
    "def is_palindrome(input_string):\n",
    "    # We'll create two strings, to compare them\n",
    "    new_string = \"\"\n",
    "    reverse_string = \"\"\n",
    "    # Traverse through each letter of the input string\n",
    "    for letter in input_string.lower():\n",
    "        # Add any non-blank letters to the \n",
    "        # end of one string, and to the front\n",
    "        # of the other string. \n",
    "        if letter.isalpha():\n",
    "            new_string = new_string + letter\n",
    "            reverse_string = letter + reverse_string\n",
    "    # Compare the strings\n",
    "    if new_string == reverse_string:\n",
    "        return True\n",
    "    return False\n",
    "\n",
    "print(is_palindrome(\"Never Odd or Even\")) # Should be True\n",
    "print(is_palindrome(\"abc\")) # Should be False\n",
    "print(is_palindrome(\"kayak\")) # Should be True"
   ]
  },
  {
   "cell_type": "markdown",
   "id": "9ee2ea6f",
   "metadata": {},
   "source": [
    "2. Using the format method, fill in the gaps in the convert_distance function so that it returns the phrase \"X miles equals Y km\", with Y having only 1 decimal place. For example, convert_distance(12) should return \"12 miles equals 19.2 km\"."
   ]
  },
  {
   "cell_type": "code",
   "execution_count": 119,
   "id": "819b243d",
   "metadata": {},
   "outputs": [
    {
     "name": "stdout",
     "output_type": "stream",
     "text": [
      "12 miles equals 19.2 km\n",
      "5.5 miles equals 8.8 km\n",
      "11 miles equals 17.6 km\n"
     ]
    }
   ],
   "source": [
    "def convert_distance(miles):\n",
    "    km = miles * 1.6 \n",
    "    result = \"{} miles equals {:.1f} km\".format(miles, km)\n",
    "    return result\n",
    "\n",
    "print(convert_distance(12)) # Should be: 12 miles equals 19.2 km\n",
    "print(convert_distance(5.5)) # Should be: 5.5 miles equals 8.8 km\n",
    "print(convert_distance(11)) # Should be: 11 miles equals 17.6 km"
   ]
  },
  {
   "cell_type": "markdown",
   "id": "3192c6fc",
   "metadata": {},
   "source": [
    "3. If we have a string variable named Weather = \"Rainfall\", which of the following will print the substring or all characters before the \"f\"?\n",
    "\n",
    "- print(Weather[:4])\n",
    "\n",
    "\n",
    "- print(Weather[4:])\n",
    "\n",
    "\n",
    "- print(Weather[1:4])\n",
    "\n",
    "\n",
    "- print(Weather[:\"f\"])"
   ]
  },
  {
   "cell_type": "code",
   "execution_count": 121,
   "id": "e4dc0087",
   "metadata": {},
   "outputs": [
    {
     "name": "stdout",
     "output_type": "stream",
     "text": [
      "Rain\n",
      "fall\n",
      "ain\n"
     ]
    },
    {
     "ename": "TypeError",
     "evalue": "slice indices must be integers or None or have an __index__ method",
     "output_type": "error",
     "traceback": [
      "\u001b[0;31m---------------------------------------------------------------------------\u001b[0m",
      "\u001b[0;31mTypeError\u001b[0m                                 Traceback (most recent call last)",
      "Cell \u001b[0;32mIn [121], line 11\u001b[0m\n\u001b[1;32m      5\u001b[0m \u001b[38;5;28mprint\u001b[39m(Weather[\u001b[38;5;241m4\u001b[39m:])\n\u001b[1;32m      8\u001b[0m \u001b[38;5;28mprint\u001b[39m(Weather[\u001b[38;5;241m1\u001b[39m:\u001b[38;5;241m4\u001b[39m])\n\u001b[0;32m---> 11\u001b[0m \u001b[38;5;28mprint\u001b[39m(\u001b[43mWeather\u001b[49m\u001b[43m[\u001b[49m\u001b[43m:\u001b[49m\u001b[38;5;124;43m\"\u001b[39;49m\u001b[38;5;124;43mf\u001b[39;49m\u001b[38;5;124;43m\"\u001b[39;49m\u001b[43m]\u001b[49m)\n",
      "\u001b[0;31mTypeError\u001b[0m: slice indices must be integers or None or have an __index__ method"
     ]
    }
   ],
   "source": [
    "Weather = \"Rainfall\"\n",
    "print(Weather[:4])\n",
    "\n",
    "\n",
    "print(Weather[4:])\n",
    "\n",
    "\n",
    "print(Weather[1:4])\n",
    "\n",
    "\n",
    "print(Weather[:\"f\"])"
   ]
  },
  {
   "cell_type": "markdown",
   "id": "9f1d5200",
   "metadata": {},
   "source": [
    "4. Fill in the gaps in the nametag function so that it uses the format method to return first_name and the first initial of last_name followed by a period. For example, nametag(\"Jane\", \"Smith\") should return \"Jane S.\""
   ]
  },
  {
   "cell_type": "code",
   "execution_count": 123,
   "id": "d716d440",
   "metadata": {},
   "outputs": [
    {
     "name": "stdout",
     "output_type": "stream",
     "text": [
      "Jane S.\n",
      "Francesco R.\n",
      "Jean-Luc G.\n"
     ]
    }
   ],
   "source": [
    "def nametag(first_name, last_name):\n",
    "    return(\"{} {}.\".format(first_name, last_name[0]))\n",
    "\n",
    "print(nametag(\"Jane\", \"Smith\")) \n",
    "# Should display \"Jane S.\" \n",
    "print(nametag(\"Francesco\", \"Rinaldi\")) \n",
    "# Should display \"Francesco R.\" \n",
    "print(nametag(\"Jean-Luc\", \"Grand-Pierre\")) \n",
    "# Should display \"Jean-Luc G.\" "
   ]
  },
  {
   "cell_type": "markdown",
   "id": "3947d39d",
   "metadata": {},
   "source": [
    "5. The replace_ending function replaces the old string in a sentence with the new string, but only if the sentence ends with the old string. If there is more than one occurrence of the old string in the sentence, only the one at the end is replaced, not all of them. For example, replace_ending(\"abcabc\", \"abc\", \"xyz\") should return abcxyz, not xyzxyz or xyzabc. The string comparison is case-sensitive, so replace_ending(\"abcabc\", \"ABC\", \"xyz\") should return abcabc (no changes made). "
   ]
  },
  {
   "cell_type": "code",
   "execution_count": 129,
   "id": "f947d7df",
   "metadata": {},
   "outputs": [
    {
     "name": "stdout",
     "output_type": "stream",
     "text": [
      "It's raining cats and dogs\n",
      "She sells seashells by the seashore\n",
      "The weather is nice in May\n",
      "The weather is nice in April\n"
     ]
    }
   ],
   "source": [
    "def replace_ending(sentence, old, new):\n",
    "    # Check if the old string is at the end of the sentence \n",
    "    if sentence.endswith(old):\n",
    "        # Using i as the slicing index, combine the part\n",
    "        # of the sentence up to the matched string at the \n",
    "        # end with the new string\n",
    "        i = len(old)\n",
    "        new_sentence = sentence[:-i] + new\n",
    "        return new_sentence\n",
    "\n",
    "    # Return the original sentence if there is no match \n",
    "    return sentence\n",
    "    \n",
    "print(replace_ending(\"It's raining cats and cats\", \"cats\", \"dogs\")) \n",
    "# Should display \"It's raining cats and dogs\"\n",
    "print(replace_ending(\"She sells seashells by the seashore\", \"seashells\", \"donuts\")) \n",
    "# Should display \"She sells seashells by the seashore\"\n",
    "print(replace_ending(\"The weather is nice in May\", \"may\", \"april\")) \n",
    "# Should display \"The weather is nice in May\"\n",
    "print(replace_ending(\"The weather is nice in May\", \"May\", \"April\")) \n",
    "# Should display \"The weather is nice in April\""
   ]
  },
  {
   "cell_type": "markdown",
   "id": "10ce5da3",
   "metadata": {},
   "source": [
    "# What is a list?"
   ]
  },
  {
   "cell_type": "code",
   "execution_count": null,
   "id": "8f8f13ba",
   "metadata": {},
   "outputs": [],
   "source": []
  }
 ],
 "metadata": {
  "kernelspec": {
   "display_name": "Python 3 (ipykernel)",
   "language": "python",
   "name": "python3"
  },
  "language_info": {
   "codemirror_mode": {
    "name": "ipython",
    "version": 3
   },
   "file_extension": ".py",
   "mimetype": "text/x-python",
   "name": "python",
   "nbconvert_exporter": "python",
   "pygments_lexer": "ipython3",
   "version": "3.10.8"
  }
 },
 "nbformat": 4,
 "nbformat_minor": 5
}
