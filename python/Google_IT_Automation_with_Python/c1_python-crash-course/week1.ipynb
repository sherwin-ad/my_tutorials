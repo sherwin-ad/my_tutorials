{
 "cells": [
  {
   "cell_type": "code",
   "execution_count": 1,
   "metadata": {},
   "outputs": [
    {
     "name": "stdout",
     "output_type": "stream",
     "text": [
      " Hello World \n"
     ]
    }
   ],
   "source": [
    "print (\" Hello World \")"
   ]
  },
  {
   "cell_type": "code",
   "execution_count": 2,
   "metadata": {},
   "outputs": [
    {
     "name": "stdout",
     "output_type": "stream",
     "text": [
      "Hello World\n",
      "Hello World\n",
      "Hello World\n",
      "Hello World\n",
      "Hello World\n"
     ]
    }
   ],
   "source": [
    "for i in range (5) : \n",
    "    print ( \"Hello World\" )"
   ]
  },
  {
   "cell_type": "code",
   "execution_count": 3,
   "metadata": {},
   "outputs": [
    {
     "name": "stdout",
     "output_type": "stream",
     "text": [
      "Hello Sherwin  \n"
     ]
    }
   ],
   "source": [
    "name = \" Sherwin  \" \n",
    "print ( \"Hello\"+ name ) "
   ]
  },
  {
   "cell_type": "code",
   "execution_count": 4,
   "metadata": {},
   "outputs": [
    {
     "name": "stdout",
     "output_type": "stream",
     "text": [
      "15\n",
      "288\n",
      "-0.25\n",
      "0.25\n"
     ]
    }
   ],
   "source": [
    "print ( 10 + 5 ) \n",
    "print ( 12 * 24 )\n",
    "print ( -1 / 4)\n",
    "print ( 1/ 4 )"
   ]
  },
  {
   "cell_type": "markdown",
   "metadata": {},
   "source": [
    "# First Programming Concepts Cheat Sheet\n",
    "## Functions and Keywords\n",
    "\n",
    "Functions and keywords are the building blocks of a language's syntax.\n",
    "Functions are pieces of code that perform a unit of work. In the examples we've seen so far, we've only encountered the print) function, which prints a message to the screen.\n",
    "We'll learn about a lot of other functions in later lessons but, if you're too curious to wait until then, you can discover all the functions available here.\n",
    "Keywords are reserved words that are used to construct instructions. We briefly encountered for and in in our first Python example, and we'll use a bunch of other keywords as we go through the course. For reference, these are all the reserved keywords:\n",
    "\n",
    "False\n",
    "None\n",
    "True\n",
    "and\n",
    "as\n",
    "assert\n",
    "break\n",
    "class\n",
    "continue\n",
    "def\n",
    "del\n",
    "elif\n",
    "else\n",
    "except\n",
    "finally\n",
    "for\n",
    "from\n",
    "global\n",
    "if\n",
    "import\n",
    "in\n",
    "IS\n",
    "lambda\n",
    "nonlocal\n",
    "not\n",
    "Or\n",
    "pass\n",
    "raise\n",
    "return\n",
    "try\n",
    "while\n",
    "with\n",
    "yield\n",
    "\n",
    "You don't need to learn this list; we'll dive into each keyword as we encounter them. In the meantime, you can see examples of keyword usage here.\n",
    "\n",
    "Arithmetic operators\n",
    "\n",
    "Python can operate with numbers using the usual mathematical operators, and some special operators, too. These are all of them (we'll explore the last two in later videos).\n",
    "- a+ b = Adds a and b\n",
    "- a - b = Subtracts b from a\n",
    "- a * b = Multiplies a and b\n",
    "- a/b = Divides a by b\n",
    "- a ** b = Elevates a to the power of b. For non integer values of b, this becomes a root (i.e. a** (1/2) is the square root of a)\n",
    "- a // b = The integer part of the integer division of a by b\n",
    "- a % b = The remainder part of the integer division of a by b\n",
    "\n",
    "\n",
    "\n",
    "\n",
    "\n"
   ]
  },
  {
   "cell_type": "markdown",
   "metadata": {},
   "source": [
    "Module 1 Graded Assessment\n",
    "\n",
    "1.What is a computer program?\n",
    "ans:- \n",
    "A step-by-step recipe of what needs to be done to complete a task, that gets executed by the computer.\n",
    "\n",
    "2.What’s automation?\n",
    "ans:-\n",
    "The process of replacing a manual step with one that happens automatically.\n",
    "\n",
    "3.Which of the following tasks are good candidates for automation? Check all that apply.\n",
    "ans:-\n",
    "Creating a report of how much each sales person has sold in the last month.\n",
    "Setting the home directory and access permissions for new employees joining your company.\n",
    "Populating your company's e-commerce site with the latest products in the catalog.\n",
    "\n",
    "4.What are some characteristics of the Python programming language? Check all that apply.\n",
    "ans:-\n",
    "Python programs are easy to write and understand.\n",
    "We can practice Python using web interpreters or codepads as well as executing it locally.\n",
    "The Python interpreter reads our code and transforms it into computer instructions.\n",
    "\n",
    "5.How does Python compare to other programming languages?\n",
    "ans:-\n",
    "Each programming language has its advantages and disadvantages.\n",
    "\n",
    "6.Write a Python script that outputs \"Automating with Python is fun!\" to the screen.\n",
    "ans:- print(\"Automating with Python is fun!\")\n",
    "\n",
    "7.Fill in the blanks so that the code prints \"Yellow is the color of sunshine\".\n",
    "ans:- \n",
    "color = \"Yellow\"\n",
    "thing = \"sunshine\"\n",
    "print(color + \" is the color of \" + thing)\n",
    "\n",
    "8.Keeping in mind there are 86400 seconds per day, write a program that calculates how many seconds there are in a week, if a week is 7 days. Print the result on the screen.\n",
    "\n",
    "Note: Your result should be in the format of just a number, not a sentence.\n",
    "\n",
    "ans:- \n",
    "print(86400*7)\n",
    "\n",
    "9.Use Python to calculate how many different passwords can be formed with 6 lower case English letters. For a 1 letter password, there would be 26 possibilities. For a 2 letter password, each letter is independent of the other, so there would be 26 times 26 possibilities. Using this information, print the amount of possible passwords that can be formed with 6 letters.\n",
    "\n",
    "ans:- \n",
    "print(26**6)\n",
    "\n",
    "10.Most hard drives are divided into sectors of 512 bytes each. Our disk has a size of 16 GB. Fill in the blank to calculate how many sectors the disk has.\n",
    "\n",
    "Note: Your result should be in the format of just a number, not a sentence.\n",
    "\n",
    "ans:- \n",
    "disk_size = 16*1024*1024*1024\n",
    "sector_size = 512\n",
    "sector_amount = disk_size/sector_size\n",
    "print(sector_amount)\n"
   ]
  },
  {
   "cell_type": "markdown",
   "metadata": {},
   "source": [
    "check the data types"
   ]
  },
  {
   "cell_type": "code",
   "execution_count": 5,
   "metadata": {},
   "outputs": [
    {
     "name": "stdout",
     "output_type": "stream",
     "text": [
      "<class 'str'>\n",
      "<class 'int'>\n",
      "<class 'float'>\n"
     ]
    }
   ],
   "source": [
    "print ( type (\"a\") )\n",
    "print ( type (2) )\n",
    "print ( type (2.5) )"
   ]
  },
  {
   "cell_type": "code",
   "execution_count": 6,
   "metadata": {},
   "outputs": [],
   "source": [
    "def greeting ( name , department ) :\n",
    "    print (\" Welcome, \" + name )\n",
    "    print ( \" You are a part of \" + department)"
   ]
  },
  {
   "cell_type": "code",
   "execution_count": 7,
   "metadata": {
    "scrolled": true
   },
   "outputs": [
    {
     "name": "stdout",
     "output_type": "stream",
     "text": [
      " Welcome,  Sherwin \n",
      " You are a part of IT Support\n"
     ]
    }
   ],
   "source": [
    "greeting ( \" Sherwin \",\"IT Support\") "
   ]
  },
  {
   "cell_type": "code",
   "execution_count": 8,
   "metadata": {},
   "outputs": [],
   "source": [
    "def area_triangle ( base , height ):\n",
    "    return base * height /2"
   ]
  },
  {
   "cell_type": "code",
   "execution_count": 9,
   "metadata": {},
   "outputs": [
    {
     "name": "stdout",
     "output_type": "stream",
     "text": [
      " The sum of both area is: 20.5\n"
     ]
    }
   ],
   "source": [
    "area_a = area_triangle (5,4) \n",
    "area_b = area_triangle (7,3)\n",
    "sum = area_a + area_b \n",
    "print ( \" The sum of both area is: \" + str (sum) )\n"
   ]
  },
  {
   "cell_type": "code",
   "execution_count": 10,
   "metadata": {},
   "outputs": [],
   "source": [
    "def convert_seconds ( seconds ) : \n",
    "    hours = seconds // 3600\n",
    "    minutes = ( seconds - hours * 3600 ) // 60 \n",
    "    remaining_seconds = seconds - hours * 3600 - minutes * 60 \n",
    "    return hours , minutes , remaining_seconds"
   ]
  },
  {
   "cell_type": "code",
   "execution_count": 11,
   "metadata": {},
   "outputs": [
    {
     "name": "stdout",
     "output_type": "stream",
     "text": [
      "1 23 20\n"
     ]
    }
   ],
   "source": [
    "hours , minutes , seconds = convert_seconds ( 5000 )\n",
    "print ( hours , minutes , seconds ) "
   ]
  },
  {
   "cell_type": "markdown",
   "metadata": {},
   "source": [
    "Print none results because it did not return the variable."
   ]
  },
  {
   "cell_type": "code",
   "execution_count": 12,
   "metadata": {},
   "outputs": [
    {
     "name": "stdout",
     "output_type": "stream",
     "text": [
      "Welcome,Christine\n",
      "None\n"
     ]
    }
   ],
   "source": [
    "def greeting(name):\n",
    "    print(\"Welcome,\" + name)\n",
    "result = greeting(\"Christine\")\n",
    "print(result)\n",
    "    "
   ]
  },
  {
   "cell_type": "code",
   "execution_count": 13,
   "metadata": {},
   "outputs": [
    {
     "name": "stdout",
     "output_type": "stream",
     "text": [
      "Hello Sherwin Your lucky number is 63\n",
      "Hello Analette Your lucky number is 72\n"
     ]
    }
   ],
   "source": [
    "name = \"Sherwin\"\n",
    "number = len(name) * 9\n",
    "\n",
    "print (\"Hello \" + name + \" Your lucky number is \" + str(number))\n",
    "\n",
    "name = \"Analette\"\n",
    "number = len(name) * 9\n",
    "\n",
    "print (\"Hello \" + name + \" Your lucky number is \" + str(number))"
   ]
  },
  {
   "cell_type": "code",
   "execution_count": 14,
   "metadata": {},
   "outputs": [
    {
     "name": "stdout",
     "output_type": "stream",
     "text": [
      "Hello Sherwin Your lucky number is 63\n",
      "Hello Analette Your lucky number is 72\n"
     ]
    }
   ],
   "source": [
    "def lucky_number(name):\n",
    "    number = len(name) * 9\n",
    "    print (\"Hello \" + name + \" Your lucky number is \" + str(number))\n",
    "    \n",
    "lucky_number(\"Sherwin\")\n",
    "lucky_number(\"Analette\")"
   ]
  },
  {
   "cell_type": "markdown",
   "metadata": {},
   "source": [
    "# 1. This function converts miles to kilometers (km).\n",
    "\n",
    "1. Complete the function to return the result of the conversion\n",
    "\n",
    "2. Call the function to convert the trip distance from miles to kilometers\n",
    "\n",
    "3. Fill in the blank to print the result of the conversion\n",
    "\n",
    "4. Calculate the round-trip in kilometers by doubling the result, and fill in the blank to print the result\n"
   ]
  },
  {
   "cell_type": "code",
   "execution_count": 15,
   "metadata": {},
   "outputs": [
    {
     "name": "stdout",
     "output_type": "stream",
     "text": [
      "The distance in kilometers is 88.0\n",
      "The round-trip in kilometers is 176.0\n"
     ]
    }
   ],
   "source": [
    "# 1) Complete the function to return the result of the conversion\n",
    "def convert_distance(miles):\n",
    "    km = miles * 1.6  # approximately 1.6 km in 1 mile\n",
    "    return km\n",
    "\n",
    "my_trip_miles = 55\n",
    "\n",
    "# 2) Convert my_trip_miles to kilometers by calling the function above\n",
    "my_trip_km = convert_distance(my_trip_miles)\n",
    "\n",
    "# 3) Fill in the blank to print the result of the conversion\n",
    "print(\"The distance in kilometers is \" + str(my_trip_km))\n",
    "\n",
    "# 4) Calculate the round-trip in kilometers by doubling the result,\n",
    "#    and fill in the blank to print the result\n",
    "print(\"The round-trip in kilometers is \" + str(my_trip_km * 2))"
   ]
  },
  {
   "cell_type": "markdown",
   "metadata": {},
   "source": [
    "2.\n",
    "Question 2\n",
    "This function compares two numbers and returns them in increasing order.\n",
    "\n",
    "Fill in the blanks, so the print statement displays the result of the function call in order.\n",
    "\n",
    "Hint: if a function returns multiple values, don't forget to store these values in multiple variables\n",
    "\n",
    "1 point"
   ]
  },
  {
   "cell_type": "code",
   "execution_count": 16,
   "metadata": {},
   "outputs": [
    {
     "name": "stdout",
     "output_type": "stream",
     "text": [
      "99 100\n"
     ]
    }
   ],
   "source": [
    "# This function compares two numbers and returns them\n",
    "# in increasing order.\n",
    "def order_numbers(number1, number2):\n",
    "\tif number2 > number1:\n",
    "\t\treturn number1, number2\n",
    "\telse:\n",
    "\t\treturn number2, number1\n",
    "\n",
    "# 1) Fill in the blanks so the print statement displays the result\n",
    "#    of the function call\n",
    "smaller, bigger = order_numbers(100, 99)\n",
    "print(smaller, bigger)"
   ]
  },
  {
   "cell_type": "markdown",
   "metadata": {},
   "source": [
    "3. What are the values passed into functions as input called?\n",
    "\n",
    "- Variables\n",
    "\n",
    "- Return values\n",
    "\n",
    "- Parameters=\n",
    "\n",
    "- Data types"
   ]
  },
  {
   "cell_type": "markdown",
   "metadata": {},
   "source": [
    "4.\n",
    "Question 4\n",
    "Let's revisit our lucky_number function. We want to change it, so that instead of printing the message, it returns the message. This way, the calling line can print the message, or do something else with it if needed. Fill in the blanks to complete the code to make it work."
   ]
  },
  {
   "cell_type": "code",
   "execution_count": 17,
   "metadata": {},
   "outputs": [
    {
     "name": "stdout",
     "output_type": "stream",
     "text": [
      "Hello Kay. Your lucky number is 27\n",
      "Hello Cameron. Your lucky number is 63\n"
     ]
    }
   ],
   "source": [
    "def lucky_number(name):\n",
    "  number = len(name) * 9\n",
    "  message =\"Hello \" + name + \". Your lucky number is \" + str(number)\n",
    "  return message    \n",
    "print(lucky_number(\"Kay\"))\n",
    "print(lucky_number(\"Cameron\"))"
   ]
  },
  {
   "cell_type": "markdown",
   "metadata": {},
   "source": [
    "5.\n",
    "Question 5\n",
    "What is the purpose of the def keyword?\n",
    "\n",
    "- Used to define a new function\n",
    "\n",
    "- Used to define a return value\n",
    "\n",
    "- Used to define a new variable\n",
    "\n",
    "- Used to define a new parameter"
   ]
  },
  {
   "cell_type": "code",
   "execution_count": 18,
   "metadata": {},
   "outputs": [
    {
     "name": "stdout",
     "output_type": "stream",
     "text": [
      "True\n",
      "False\n",
      "True\n"
     ]
    }
   ],
   "source": [
    "print (10 > 2)\n",
    "\n",
    "print (\"Yellow\" > \"Cyan\" and \"Brown\" > \"Magenta\")\n",
    "\n",
    "print (\"Yellow\" > \"Cyan\" or \"Brown\" > \"Magenta\")"
   ]
  },
  {
   "cell_type": "code",
   "execution_count": 24,
   "metadata": {},
   "outputs": [
    {
     "name": "stdout",
     "output_type": "stream",
     "text": [
      "Invalid username. Must be at least 15 characters long\n"
     ]
    }
   ],
   "source": [
    "def hint_username(username):\n",
    "    if len(username) < 3:\n",
    "        print (\"Invalid username. Must be at least 3 characters long\")\n",
    "    elif len(username) > 15:\n",
    "        print (\"Invalid username. Must be at least 15 characters long\")\n",
    "    else:    \n",
    "        print (\"Valid username.\")\n",
    "\n",
    "hint_username(\"qw455wer@#$@#$@$F@#F@#\")"
   ]
  },
  {
   "cell_type": "code",
   "execution_count": 20,
   "metadata": {},
   "outputs": [
    {
     "data": {
      "text/plain": [
       "False"
      ]
     },
     "execution_count": 20,
     "metadata": {},
     "output_type": "execute_result"
    }
   ],
   "source": [
    "def is_positive(number):\n",
    "  if number > 0:\n",
    "    return True\n",
    "  else:\n",
    "    return False    \n",
    "\n",
    "is_positive(0)"
   ]
  },
  {
   "cell_type": "code",
   "execution_count": 21,
   "metadata": {},
   "outputs": [
    {
     "data": {
      "text/plain": [
       "False"
      ]
     },
     "execution_count": 21,
     "metadata": {},
     "output_type": "execute_result"
    }
   ],
   "source": [
    "def is_even(number):\n",
    "    if number % 2 == 0:\n",
    "        return True\n",
    "    return False\n",
    "\n",
    "is_even(23)\n",
    "    "
   ]
  },
  {
   "cell_type": "markdown",
   "metadata": {},
   "source": [
    "# Practice Quiz: Introduction to Programming"
   ]
  },
  {
   "cell_type": "markdown",
   "metadata": {},
   "source": [
    "1. What’s a computer program?\n",
    "\n",
    "- A set of languages available in the computer\n",
    "\n",
    "- A process for getting duplicate values removed from a list\n",
    "\n",
    "- **A list of instructions that the computer has to follow to reach a goal**\n",
    "\n",
    "- A file that gets copied to all machines in the network\n",
    "\n",
    "2. What’s the syntax of a language?\n",
    "\n",
    "- **The rules of how to express things in that language**\n",
    "\n",
    "- The subject of a sentence\n",
    "\n",
    "- The difference between one language and another\n",
    "\n",
    "- The meaning of the words\n",
    "\n",
    "3. What’s the difference between a program and a script?\n",
    "\n",
    "- **There’s not much difference, but scripts are usually simpler and shorter.**\n",
    "\n",
    "- Scripts are only written in Python.\n",
    "\n",
    "- Scripts can only be used for simple tasks.\n",
    "\n",
    "- Programs are written by software engineers; scripts are written by system administrators.\n",
    "\n",
    "4. Which of these scenarios are good candidates for automation? Select all that apply.\n",
    "\n",
    "- **Generating a sales report, split by region and product type**\n",
    "\n",
    "- Creating your own startup company\n",
    "\n",
    "- Helping a user who’s having network troubles\n",
    "\n",
    "- **Copying a file to all computers in a company**\n",
    "\n",
    "- Interviewing a candidate for a job \n",
    "\n",
    "- **Sending personalized emails to subscribers of your website**\n",
    "\n",
    "- Investigating the root cause of a machine failing to boot\n",
    "\n",
    "5. What are semantics when applied to programming code and pseudocode?\n",
    "\n",
    "- The rules for how a programming instruction is written\n",
    "\n",
    "- The difference in number values in one instance of a script compared to another\n",
    "\n",
    "- **The meaning of coded statements**\n",
    "\n",
    "- The end result of a programming instruction"
   ]
  },
  {
   "cell_type": "markdown",
   "metadata": {},
   "source": [
    "# Practice Quiz: Introduction to Python"
   ]
  },
  {
   "cell_type": "markdown",
   "metadata": {},
   "source": [
    "1. Fill in the correct Python command to put “My first Python program” onto the screen."
   ]
  },
  {
   "cell_type": "code",
   "execution_count": 2,
   "metadata": {},
   "outputs": [
    {
     "name": "stdout",
     "output_type": "stream",
     "text": [
      "My first Python program\n"
     ]
    }
   ],
   "source": [
    "print(\"My first Python program\")"
   ]
  },
  {
   "cell_type": "markdown",
   "metadata": {},
   "source": [
    "2. Python is an example of what type of programming language?\n",
    "\n",
    "- Platform-specific scripting language\n",
    "\n",
    "- Machine language \n",
    "\n",
    "- Client-side scripting language\n",
    "\n",
    "- General purpose scripting language "
   ]
  },
  {
   "cell_type": "markdown",
   "metadata": {},
   "source": [
    "3. Convert this Bash command into Python:"
   ]
  },
  {
   "cell_type": "code",
   "execution_count": 3,
   "metadata": {},
   "outputs": [
    {
     "name": "stdout",
     "output_type": "stream",
     "text": [
      "Have a nice day\n"
     ]
    }
   ],
   "source": [
    "print(\"Have a nice day\")"
   ]
  },
  {
   "cell_type": "markdown",
   "metadata": {},
   "source": [
    "4. Fill in the correct Python commands to put “This is fun!” onto the screen 5 times. "
   ]
  },
  {
   "cell_type": "code",
   "execution_count": 4,
   "metadata": {},
   "outputs": [
    {
     "name": "stdout",
     "output_type": "stream",
     "text": [
      "This is fun!\n",
      "This is fun!\n",
      "This is fun!\n",
      "This is fun!\n",
      "This is fun!\n"
     ]
    }
   ],
   "source": [
    "for i in range (5):\n",
    "  print (\"This is fun!\")"
   ]
  },
  {
   "cell_type": "markdown",
   "metadata": {},
   "source": [
    "5. Select the Python code snippet that corresponds to the following Javascript snippet:\n",
    "\n",
    "for (let i = 0; i < 10; i++) {\n",
    "        console.log(i);\n",
    "    }"
   ]
  },
  {
   "cell_type": "code",
   "execution_count": 7,
   "metadata": {},
   "outputs": [
    {
     "name": "stdout",
     "output_type": "stream",
     "text": [
      "0\n",
      "1\n",
      "2\n",
      "3\n",
      "4\n",
      "5\n",
      "6\n",
      "7\n",
      "8\n",
      "9\n"
     ]
    }
   ],
   "source": [
    "for i in range(10):\n",
    "  print(i)"
   ]
  },
  {
   "cell_type": "markdown",
   "metadata": {},
   "source": [
    "# Practice Quiz: Hello World"
   ]
  },
  {
   "cell_type": "markdown",
   "metadata": {},
   "source": [
    "1. What are functions in Python?\n",
    "\n",
    "- Functions let us use Python as a calculator.\n",
    "\n",
    "- **Functions are pieces of code that perform a unit of work.**\n",
    "\n",
    "- Functions are only used to print messages to the screen.\n",
    "\n",
    "- Functions are how we tell if our program is functioning or not.\n",
    "\n",
    "2. What are keywords in Python?\n",
    "\n",
    "- **Keywords are reserved words that are used to construct instructions.**\n",
    "\n",
    "- Keywords are used to calculate mathematical operations.\n",
    "\n",
    "- Keywords are used to print messages like \"Hello World!\" to the screen.\n",
    "\n",
    "- Keywords are the words that we need to memorize to program in Python.\n",
    "\n",
    "3. What does the print function do in Python?\n",
    "\n",
    "- The print function generates PDFs and sends it to the nearest printer.\n",
    "\n",
    "- The print function stores values provided by the user.\n",
    "\n",
    "- **The print function outputs messages to the screen**\n",
    "\n",
    "- The print function calculates mathematical operations."
   ]
  },
  {
   "cell_type": "markdown",
   "metadata": {},
   "source": [
    "4. Output a message that says \"Programming in Python is fun!\" to the screen."
   ]
  },
  {
   "cell_type": "code",
   "execution_count": 9,
   "metadata": {},
   "outputs": [
    {
     "name": "stdout",
     "output_type": "stream",
     "text": [
      "Programming in Python is fun!\n"
     ]
    }
   ],
   "source": [
    "print ( \"Programming in Python is fun!\" )"
   ]
  },
  {
   "cell_type": "markdown",
   "metadata": {},
   "source": [
    "5 Replace the ___ placeholder and calculate the Golden ratio:  \\frac{1+\\sqrt{5}}{2} \n",
    "2\n",
    "1+ \n",
    "5\n",
    " .\n",
    "\n",
    "Tip: to calculate the square root of a number xx, you can use x**(1/2)."
   ]
  },
  {
   "cell_type": "code",
   "execution_count": 14,
   "metadata": {},
   "outputs": [
    {
     "name": "stdout",
     "output_type": "stream",
     "text": [
      "1.618033988749895\n"
     ]
    }
   ],
   "source": [
    "ratio = (1 + 5**(1/2))/2\n",
    "print (ratio)"
   ]
  },
  {
   "cell_type": "markdown",
   "metadata": {},
   "source": [
    "# Module 1 Graded Assessment"
   ]
  },
  {
   "cell_type": "markdown",
   "metadata": {},
   "source": [
    "1. What is a computer program?\n",
    "\n",
    "- A file that gets printed by the Python interpreter.\n",
    "\n",
    "- The syntax and semantics of Python.\n",
    "\n",
    "- The overview of what the computer will have to do to solve an automation problem.\n",
    "\n",
    "- **A step-by-step recipe of what needs to be done to complete a task that gets executed by the computer.**\n",
    "\n",
    "2. What’s automation?\n",
    "\n",
    "- The inputs and outputs of a program.\n",
    "\n",
    "- **The process of replacing a manual step with one that happens automatically.**\n",
    "\n",
    "- The checkout processes at a grocery store.\n",
    "\n",
    "- The process of getting a haircut.\n",
    "\n",
    "3. Which of the following tasks are good candidates for automation? Check all that apply.\n",
    "\n",
    "- Writing a computer program.\n",
    "\n",
    "- **Creating a report of how much each sales person has sold in the last month.**\n",
    "\n",
    "- **Setting the home directory and access permissions for new employees joining your company.**\n",
    "\n",
    "- Designing the new webpage for your company.\n",
    "\n",
    "- Taking pictures of friends and family at a wedding.\n",
    "\n",
    "- **Populating your company's e-commerce site with the latest products in the catalog.**\n",
    "\n",
    "4. What are some characteristics of the Python programming language? Check all that apply.\n",
    "\n",
    "- **Python programs are easy to write and understand.**\n",
    "\n",
    "- **The Python interpreter reads our code and transforms it into computer instructions.**\n",
    "\n",
    "- It's an outdated language that's barely in use anymore.\n",
    "\n",
    "- **We can practice Python using web interpreters or codepads as well as executing it locally.**\n",
    "\n",
    "5. How does Python compare to other programming languages?\n",
    "\n",
    "- Python is the only programming language that is worth learning.\n",
    "\n",
    "- **Each programming language has its advantages and disadvantages.**\n",
    "\n",
    "- It's always better to use an OS specific language like Bash or Powershell than using a generic language like Python.\n",
    "\n",
    "- Programming languages are so different that learning a second one is harder than learning the first one. "
   ]
  },
  {
   "cell_type": "markdown",
   "metadata": {},
   "source": [
    "6. Write a Python script that outputs \"Automating with Python is fun!\" to the screen."
   ]
  },
  {
   "cell_type": "code",
   "execution_count": 15,
   "metadata": {},
   "outputs": [
    {
     "name": "stdout",
     "output_type": "stream",
     "text": [
      "Automating with Python is fun!\n"
     ]
    }
   ],
   "source": [
    "print ( \"Automating with Python is fun!\" )"
   ]
  },
  {
   "cell_type": "markdown",
   "metadata": {},
   "source": [
    "7. Fill in the blanks so that the code prints \"Yellow is the color of sunshine\"."
   ]
  },
  {
   "cell_type": "code",
   "execution_count": 20,
   "metadata": {},
   "outputs": [
    {
     "name": "stdout",
     "output_type": "stream",
     "text": [
      "Yellow is the color of sunshine\n"
     ]
    }
   ],
   "source": [
    "color = \"Yellow\"\n",
    "thing = \"sunshine\"\n",
    "print(color + \" is the color of \" + thing)"
   ]
  },
  {
   "cell_type": "markdown",
   "metadata": {},
   "source": [
    "8. Keeping in mind there are 86400 seconds per day, write a program that calculates how many seconds there are in a week, if a week is 7 days.  Print the result on the screen.\n",
    "\n",
    "Note: Your result should be in the format of just a number, not a sentence."
   ]
  },
  {
   "cell_type": "code",
   "execution_count": 17,
   "metadata": {},
   "outputs": [
    {
     "name": "stdout",
     "output_type": "stream",
     "text": [
      "604800\n"
     ]
    }
   ],
   "source": [
    "print ( 86400 * 7 )"
   ]
  },
  {
   "cell_type": "markdown",
   "metadata": {},
   "source": [
    "9. Use Python to calculate how many different passwords can be formed with 6 lower case English letters.  For a 1 letter password, there would be 26 possibilities.  For a 2 letter password, each letter is independent of the other, so there would be 26 times 26 possibilities.  Using this information, print the amount of possible passwords that can be formed with 6 letters."
   ]
  },
  {
   "cell_type": "code",
   "execution_count": 18,
   "metadata": {},
   "outputs": [
    {
     "name": "stdout",
     "output_type": "stream",
     "text": [
      "308915776\n"
     ]
    }
   ],
   "source": [
    "print (26**6)"
   ]
  },
  {
   "cell_type": "markdown",
   "metadata": {},
   "source": [
    "10. Most hard drives are divided into sectors of 512 bytes each.  Our disk has a size of 16 GB. Fill in the blank to calculate how many sectors the disk has.\n",
    "\n",
    "Note: Your result should be in the format of just a number, not a sentence."
   ]
  },
  {
   "cell_type": "code",
   "execution_count": 19,
   "metadata": {},
   "outputs": [
    {
     "name": "stdout",
     "output_type": "stream",
     "text": [
      "33554432.0\n"
     ]
    }
   ],
   "source": [
    "disk_size = 16 * 1024 * 1024 * 1024\n",
    "sector_size = 512\n",
    "sector_amount=disk_size/sector_size\n",
    "print(sector_amount)"
   ]
  },
  {
   "cell_type": "code",
   "execution_count": null,
   "metadata": {},
   "outputs": [],
   "source": []
  }
 ],
 "metadata": {
  "kernelspec": {
   "display_name": "Python 3 (ipykernel)",
   "language": "python",
   "name": "python3"
  },
  "language_info": {
   "codemirror_mode": {
    "name": "ipython",
    "version": 3
   },
   "file_extension": ".py",
   "mimetype": "text/x-python",
   "name": "python",
   "nbconvert_exporter": "python",
   "pygments_lexer": "ipython3",
   "version": "3.10.8"
  }
 },
 "nbformat": 4,
 "nbformat_minor": 2
}
