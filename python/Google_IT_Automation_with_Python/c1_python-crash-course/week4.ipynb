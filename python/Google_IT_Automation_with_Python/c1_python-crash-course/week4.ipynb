{
 "cells": [
  {
   "cell_type": "markdown",
   "id": "3875a449",
   "metadata": {},
   "source": [
    "# Basic Structures Introduction\n",
    "\n",
    "## What is a string?\n"
   ]
  },
  {
   "cell_type": "code",
   "execution_count": 9,
   "id": "a94deacc",
   "metadata": {},
   "outputs": [
    {
     "name": "stdout",
     "output_type": "stream",
     "text": [
      "Name: Sherwin, Favorite color: gold\n",
      "exampleexampleexample\n",
      "34\n"
     ]
    }
   ],
   "source": [
    "name = \"Sherwin\"\n",
    "color = 'gold'\n",
    "print(\"Name: \" + name + \", Favorite color: \" + color)\n",
    "print(\"example\" * 3)\n",
    "\n",
    "pet=\"looooooooooooooooooooooooooong cat\"\n",
    "word=len(pet)\n",
    "print(word)"
   ]
  },
  {
   "cell_type": "code",
   "execution_count": 12,
   "id": "deb9b993",
   "metadata": {},
   "outputs": [
    {
     "name": "stdout",
     "output_type": "stream",
     "text": [
      "hellohello10\n",
      "abcabc6\n",
      "0\n"
     ]
    }
   ],
   "source": [
    "def double_word(word):\n",
    "    return word*2 + str(len(word*2))\n",
    "\n",
    "print(double_word(\"hello\")) # Should return hellohello10\n",
    "print(double_word(\"abc\"))   # Should return abcabc6\n",
    "print(double_word(\"\"))      # Should return 0"
   ]
  },
  {
   "cell_type": "code",
   "execution_count": 20,
   "id": "3e30f454",
   "metadata": {},
   "outputs": [
    {
     "name": "stdout",
     "output_type": "stream",
     "text": [
      "h\n",
      "S\n",
      "n\n",
      "n\n"
     ]
    }
   ],
   "source": [
    "name = \"Sherwin\"\n",
    "print(name[1])\n",
    "print(name[0])\n",
    "last=len(name)-1\n",
    "print(name[last])"
   ]
  },
  {
   "cell_type": "code",
   "execution_count": 22,
   "id": "8811b680",
   "metadata": {},
   "outputs": [
    {
     "name": "stdout",
     "output_type": "stream",
     "text": [
      "s\n",
      "r\n"
     ]
    }
   ],
   "source": [
    "text = \"Random string with a lot of characters\"\n",
    "print(text[-1])\n",
    "print(text[-2])"
   ]
  },
  {
   "cell_type": "markdown",
   "id": "344176a6",
   "metadata": {},
   "source": [
    "Slice\n",
    "- The portion of a string that can contain more than one character; also sometimes called a substring."
   ]
  },
  {
   "cell_type": "code",
   "execution_count": 23,
   "id": "12c5f2f0",
   "metadata": {},
   "outputs": [
    {
     "data": {
      "text/plain": [
       "'ran'"
      ]
     },
     "execution_count": 23,
     "metadata": {},
     "output_type": "execute_result"
    }
   ],
   "source": [
    "color = \"Orange\"\n",
    "color[1:4]"
   ]
  },
  {
   "cell_type": "code",
   "execution_count": 25,
   "id": "b588d800",
   "metadata": {},
   "outputs": [
    {
     "name": "stdout",
     "output_type": "stream",
     "text": [
      "Pine\n",
      "apple\n"
     ]
    }
   ],
   "source": [
    "fruit = \"Pineapple\"\n",
    "print(fruit[:4])\n",
    "print(fruit[4:])"
   ]
  },
  {
   "cell_type": "markdown",
   "id": "2c78ef7d",
   "metadata": {},
   "source": [
    "String Indexing and Slicing\n",
    "String indexing allows you to access individual characters in a string. You can do this by using square brackets and the location, or index, of the character you want to access. It's important to remember that Python starts indexes at 0. So to access the first character in a string, you would use the index [0]. If you try to access an index that’s larger than the length of your string, you’ll get an IndexError. This is because you’re trying to access something that doesn't exist! You can also access indexes from the end of the string going towards the start of the string by using negative values. The index [-1] would access the last character of the string, and the index [-2] would access the second-to-last character.\n",
    "\n",
    "You can also access a portion of a string, called a slice or a substring. This allows you to access multiple characters of a string. You can do this by creating a range, using a colon as a separator between the start and end of the range, like [2:5]. \n",
    "\n",
    "This range is similar to the range() function we saw previously. It includes the first number, but goes to one less than the last number. For example:\n",
    "\n",
    "```\n",
    ">>> fruit = \"Mangosteen\"\n",
    ">>> fruit[1:4]\n",
    "'ang'\n",
    "```\n",
    "\n",
    "The slice includes the character at index 1, and excludes the character at index 4. You can also easily reference a substring at the start or end of the string by only specifying one end of the range. For example, only giving the end of the range:\n",
    "\n",
    "```\n",
    ">>> fruit[:5]\n",
    "'Mango'\n",
    "```\n",
    "\n",
    "This gave us the characters from the start of the string through index 4, excluding index 5. On the other hand this example gives is the characters including index 5, through the end of the string:\n",
    "\n",
    "```\n",
    ">>> fruit[5:]\n",
    "'steen'\n",
    "```\n",
    "\n",
    "You might have noticed that if you put both of those results together, you get the original string back!\n",
    "\n",
    "```\n",
    ">>> fruit[:5] + fruit[5:]\n",
    "'Mangosteen'\n",
    "```"
   ]
  },
  {
   "cell_type": "markdown",
   "id": "af676e5a",
   "metadata": {},
   "source": [
    "# Creating New Strings\n"
   ]
  },
  {
   "cell_type": "code",
   "execution_count": 31,
   "id": "98e01eb9",
   "metadata": {},
   "outputs": [
    {
     "name": "stdout",
     "output_type": "stream",
     "text": [
      "A long string with a silly typo\n",
      "This is a message\n",
      "Add another one\n"
     ]
    }
   ],
   "source": [
    "message = \"A kong string with a silly typo\"\n",
    "new_message = message[0:2] + \"l\" + message[3:]\n",
    "print(new_message)\n",
    "\n",
    "message = \"This is a message\"\n",
    "print(message)\n",
    "\n",
    "message = \"Add another one\"\n",
    "print(message)"
   ]
  },
  {
   "cell_type": "markdown",
   "id": "2ae5b569",
   "metadata": {},
   "source": [
    "Method\n",
    "A function associated with a specific class."
   ]
  },
  {
   "cell_type": "code",
   "execution_count": 43,
   "id": "6a23ec30",
   "metadata": {},
   "outputs": [
    {
     "name": "stdout",
     "output_type": "stream",
     "text": [
      "5\n",
      "0\n",
      "7\n",
      "3\n",
      "False\n",
      "True\n"
     ]
    }
   ],
   "source": [
    "pets = \"Cats & Dogs\"\n",
    "\n",
    "print (pets.index(\"&\"))\n",
    "\n",
    "print (pets.index(\"C\"))\n",
    "\n",
    "print (pets.index(\"Dog\"))\n",
    "\n",
    "print (pets.index(\"s\"))\n",
    "\n",
    "print (\"Dragons\" in pets)\n",
    "\n",
    "print (\"Cats\" in pets)"
   ]
  },
  {
   "cell_type": "markdown",
   "id": "b902ba47",
   "metadata": {},
   "source": [
    "Using the index method, find out the position of \"x\" in \"supercalifragilisticexpialidocious\"."
   ]
  },
  {
   "cell_type": "code",
   "execution_count": 33,
   "id": "f85629df",
   "metadata": {},
   "outputs": [
    {
     "name": "stdout",
     "output_type": "stream",
     "text": [
      "21\n"
     ]
    }
   ],
   "source": [
    "word = \"supercalifragilisticexpialidocious\"\n",
    "print(word.index(\"x\"))"
   ]
  },
  {
   "cell_type": "code",
   "execution_count": 53,
   "id": "d42355fd",
   "metadata": {},
   "outputs": [
    {
     "data": {
      "text/plain": [
       "'sherwin@mybusybee.com'"
      ]
     },
     "execution_count": 53,
     "metadata": {},
     "output_type": "execute_result"
    }
   ],
   "source": [
    "def replace_domain(email, old_domain, new_domain) :\n",
    "    if \"@\" + old_domain in email:\n",
    "        index = email.index(\"@\" + old_domain)\n",
    "        new_email = email[:index] + \"@\" + new_domain\n",
    "        return new_email \n",
    "    return email\n",
    "\n",
    "replace_domain(\"sherwin@mybusybee.net\", \"mybusybee.net\", \"mybusybee.com\")"
   ]
  },
  {
   "cell_type": "code",
   "execution_count": 69,
   "id": "64ddb731",
   "metadata": {},
   "outputs": [
    {
     "name": "stdout",
     "output_type": "stream",
     "text": [
      "MOUNTAINS\n",
      "mountains\n",
      "yes\n",
      "yes \n",
      " yes\n",
      "4\n",
      "True\n",
      "False\n",
      "True\n",
      "66666\n",
      "This is a phrase joined by spaces\n",
      "This...is...a...phrase...joined...by...spaces\n"
     ]
    }
   ],
   "source": [
    "print(\"Mountains\".upper())\n",
    "\n",
    "print(\"Mountains\".lower())\n",
    "\n",
    "print(\" yes \".strip())\n",
    "\n",
    "print(\" yes \".lstrip())\n",
    "\n",
    "print(\" yes \".rstrip())\n",
    "\n",
    "print(\"The number of times e occurs in this string is 4\".count(\"e\"))\n",
    "\n",
    "print(\"Forest\".endswith(\"rest\"))\n",
    "\n",
    "print(\"Forest\".isnumeric())\n",
    "\n",
    "print(\"12345\".isnumeric())\n",
    "\n",
    "print(int(\"12345\") + int(\"54321\"))\n",
    "\n",
    "print(\" \".join([\"This\", \"is\", \"a\", \"phrase\", \"joined\", \"by\", \"spaces\"]))\n",
    "\n",
    "print(\"...\".join([\"This\", \"is\", \"a\", \"phrase\", \"joined\", \"by\", \"spaces\"]))"
   ]
  },
  {
   "cell_type": "code",
   "execution_count": 60,
   "id": "b95e8ab6",
   "metadata": {},
   "outputs": [
    {
     "name": "stdout",
     "output_type": "stream",
     "text": [
      "User said yes\n"
     ]
    }
   ],
   "source": [
    "answer = \"YES\"\n",
    "if answer.lower() == \"yes\":\n",
    "    print(\"User said yes\")"
   ]
  },
  {
   "cell_type": "markdown",
   "id": "cba9eeaa",
   "metadata": {},
   "source": [
    "# Formatting Strings"
   ]
  },
  {
   "cell_type": "code",
   "execution_count": 72,
   "id": "ab9e2092",
   "metadata": {},
   "outputs": [
    {
     "name": "stdout",
     "output_type": "stream",
     "text": [
      "Hello Sherwin, your lucky numer is 21.\n",
      "Hello Sherwin, your lucky numer is 21.\n"
     ]
    }
   ],
   "source": [
    "name =\"Sherwin\"\n",
    "number = len(name) * 3\n",
    "print(\"Hello {}, your lucky numer is {}.\".format(name, number))\n",
    "\n",
    "print(\"Hello {name}, your lucky numer is {number}.\".format(name=name, number=number))"
   ]
  },
  {
   "cell_type": "markdown",
   "id": "10b4ed65",
   "metadata": {},
   "source": [
    "Modify the student_grade function using the format method, so that it returns the phrase \"X received Y% on the exam\". For example, student_grade(\"Reed\", 80) should return \"Reed received 80% on the exam\"."
   ]
  },
  {
   "cell_type": "code",
   "execution_count": 74,
   "id": "35533d20",
   "metadata": {},
   "outputs": [
    {
     "name": "stdout",
     "output_type": "stream",
     "text": [
      "Reed received 80% on the exam\n",
      "Paige received 92% on the exam\n",
      "Jesse received 85% on the exam\n"
     ]
    }
   ],
   "source": [
    "def student_grade(name, grade):\n",
    "    return f\"{name} received {grade}% on the exam\"\n",
    "\n",
    "print(student_grade(\"Reed\", 80))\n",
    "print(student_grade(\"Paige\", 92))\n",
    "print(student_grade(\"Jesse\", 85))"
   ]
  },
  {
   "cell_type": "code",
   "execution_count": 77,
   "id": "bff073f7",
   "metadata": {},
   "outputs": [
    {
     "name": "stdout",
     "output_type": "stream",
     "text": [
      "7.5 8.175\n",
      "The base price: $7.50. With Tax: $8.18\n"
     ]
    }
   ],
   "source": [
    "price = 7.5\n",
    "with_tax = price * 1.09\n",
    "print(price, with_tax)\n",
    "print(\"The base price: ${:.2f}. With Tax: ${:.2f}\".format(price, with_tax))"
   ]
  },
  {
   "cell_type": "code",
   "execution_count": 80,
   "id": "d958a12e",
   "metadata": {},
   "outputs": [
    {
     "name": "stdout",
     "output_type": "stream",
     "text": [
      "0 -17.77777777777778\n",
      "10 -12.222222222222221\n",
      "20 -6.666666666666667\n",
      "30 -1.1111111111111112\n",
      "40 4.444444444444445\n",
      "50 10.0\n",
      "60 15.555555555555555\n",
      "70 21.11111111111111\n",
      "80 26.666666666666668\n",
      "90 32.22222222222222\n",
      "100 37.77777777777778\n"
     ]
    }
   ],
   "source": [
    "def to_celcius(x):\n",
    "    return (x-32)*5/9\n",
    "\n",
    "for x in range(0,101,10):\n",
    "    print(x, to_celcius(x))"
   ]
  },
  {
   "cell_type": "code",
   "execution_count": 110,
   "id": "e94dde1e",
   "metadata": {},
   "outputs": [
    {
     "name": "stdout",
     "output_type": "stream",
     "text": [
      "  0 F | -17.78 C\n",
      " 10 F | -12.22 C\n",
      " 20 F |  -6.67 C\n",
      " 30 F |  -1.11 C\n",
      " 40 F |   4.44 C\n",
      " 50 F |  10.00 C\n",
      " 60 F |  15.56 C\n",
      " 70 F |  21.11 C\n",
      " 80 F |  26.67 C\n",
      " 90 F |  32.22 C\n",
      "100 F |  37.78 C\n"
     ]
    }
   ],
   "source": [
    "def to_celcius(x):\n",
    "    return (x-32)*5/9\n",
    "\n",
    "for x in range(0,101,10):\n",
    "    print(\"{:>3} F | {:>6.2f} C\".format(x, to_celcius(x)))"
   ]
  },
  {
   "cell_type": "markdown",
   "id": "ae570bfa",
   "metadata": {},
   "source": [
    "# String Reference Cheat Sheet\n",
    "In Python, there are a lot of things you can do with strings. In this cheat sheet, you’ll find the most common string operations and string methods.\n",
    "\n",
    "**String operations**\n",
    "- len(string) - Returns the length of the string\n",
    "- for character in string - Iterates over each character in the string\n",
    "- if substring in string - Checks whether the substring is part of the string\n",
    "- string[i] - Accesses the character at index i of the string, starting at zero\n",
    "- string[i:j] - Accesses the substring starting at index i, ending at index j minus 1. If i is omitted, its value defaults to 0. If j is omitted, the value will default to len(string).\n",
    "\n",
    "**String methods**\n",
    "- string.lower() - Returns a copy of the string with all lowercase characters\n",
    "\n",
    "- string.upper() - Returns a copy of the string with all uppercase characters\n",
    "\n",
    "- string.lstrip() - Returns a copy of the string with the left-side whitespace removed\n",
    "\n",
    "- string.rstrip() - Returns a copy of the string with the right-side whitespace removed\n",
    "\n",
    "- string.strip() - Returns a copy of the string with both the left and right-side whitespace removed\n",
    "\n",
    "- string.count(substring) - Returns the number of times substring is present in the string\n",
    "\n",
    "- string.isnumeric() - Returns True if there are only numeric characters in the string. If not, returns False.\n",
    "\n",
    "- string.isalpha() - Returns True if there are only alphabetic characters in the string. If not, returns False.\n",
    "\n",
    "- string.split() - Returns a list of substrings that were separated by whitespace (whitespace can be a space, tab, or new line)\n",
    "\n",
    "- string.split(delimiter) - Returns a list of substrings that were separated by whitespace or a delimiter\n",
    "\n",
    "- string.replace(old, new) - Returns a new string where all occurrences of old have been replaced by new.\n",
    "\n",
    "- delimiter.join(list of strings) - Returns a new string with all the strings joined by the delimiter \n",
    "\n",
    "Check out the official documentation for all available String methods.  \n",
    "https://docs.python.org/3/library/stdtypes.html#string-methods\n"
   ]
  },
  {
   "cell_type": "markdown",
   "id": "4c260cc4",
   "metadata": {},
   "source": [
    "# Formatting Strings Cheat Sheet\n",
    "Python offers different ways to format strings. In the video, we explained the format() method. In this reading, we'll highlight three different ways of formatting strings. For this course you only need to know the format() method. But on the internet, you might find any of the three, so it's a good idea to know that the others exist.\n",
    "\n",
    "**Using the format() method**\n",
    "The format method returns a copy of the string where the {} placeholders have been replaced with the values of the variables. These variables are converted to strings if they weren't strings already. Empty placeholders are replaced by the variables passed to format in the same order.\n",
    "\n",
    "```\n",
    "# \"base string with {} placeholders\".format(variables)\n",
    "\n",
    "example = \"format() method\"\n",
    "\n",
    "formatted_string = \"this is an example of using the {} on a string\".format(example)\n",
    "\n",
    "print(formatted_string)\n",
    "\n",
    "\"\"\"Outputs:\n",
    "this is an example of using the format() method on a string\n",
    "```\n",
    "If the placeholders indicate a number, they’re replaced by the variable corresponding to that order (starting at zero).\n",
    "\n",
    "```\n",
    "# \"{0} {1}\".format(first, second)\n",
    "\n",
    "first = \"apple\"\n",
    "second = \"banana\"\n",
    "third = \"carrot\"\n",
    "\n",
    "formatted_string = \"{0} {2} {1}\".format(first, second, third)\n",
    "\n",
    "print(formatted_string)\n",
    "\n",
    "```\n",
    "If the placeholders indicate a field name, they’re replaced by the variable corresponding to that field name. This means that parameters to format need to be passed indicating the field name.\n",
    "\n",
    "```\n",
    "# \"{var1} {var2}\".format(var1=value1, var2=value2)\n",
    "```\n",
    "\n",
    "```\n",
    "\"{:exp1} {:exp2}\".format(value1, value2)\n",
    "```\n",
    "If the placeholders include a colon, what comes after the colon is a formatting expression. See below for the expression reference.\n",
    "\n",
    "Official documentation for the format string syntax\n",
    "\n",
    "```\n",
    "# {:d} integer value\n",
    "'{:d}'.format(10.5) → '10'\n",
    "```"
   ]
  },
  {
   "cell_type": "markdown",
   "id": "8b8f08d2",
   "metadata": {},
   "source": [
    "# Resources\n",
    "- Check out the official documentation for all available String methods.\n",
    "https://docs.python.org/3/library/stdtypes.html#string-methods\n",
    "- Check out the official documentation for old string formatting.\n",
    "https://docs.python.org/3/library/stdtypes.html#old-string-formatting\n",
    "- Check out the official documentation for f-strings.\n",
    "https://docs.python.org/3/reference/lexical_analysis.html#f-strings\n",
    "- Check out the official documentation for sequence operations.\n",
    "https://docs.python.org/3/library/stdtypes.html#sequence-types-list-tuple-range\n",
    "- Most of these methods come from the fact that lists are mutable sequences. For more info, see the official documentation for mutable sequences and the list specific documentation.\n",
    "https://docs.python.org/3/library/stdtypes.html#mutable-sequence-types\n",
    "https://docs.python.org/3/library/stdtypes.html#lists\n",
    "- Check out the official documentation for dictionary operations and methods.\n",
    "https://docs.python.org/3/library/stdtypes.html#mapping-types-dict"
   ]
  },
  {
   "cell_type": "markdown",
   "id": "c9629b5d",
   "metadata": {},
   "source": [
    "# Practice Quiz: Strings\n"
   ]
  },
  {
   "cell_type": "markdown",
   "id": "b5f25abb",
   "metadata": {},
   "source": [
    "1. The is_palindrome function checks if a string is a palindrome. A palindrome is a string that can be equally read from left to right or right to left, omitting blank spaces, and ignoring capitalization. Examples of palindromes are words like kayak and radar, and phrases like \"Never Odd or Even\". Fill in the blanks in this function to return True if the passed string is a palindrome, False if not."
   ]
  },
  {
   "cell_type": "code",
   "execution_count": 116,
   "id": "8f8c5d04",
   "metadata": {},
   "outputs": [
    {
     "name": "stdout",
     "output_type": "stream",
     "text": [
      "True\n",
      "False\n",
      "True\n"
     ]
    }
   ],
   "source": [
    "def is_palindrome(input_string):\n",
    "    # We'll create two strings, to compare them\n",
    "    new_string = \"\"\n",
    "    reverse_string = \"\"\n",
    "    # Traverse through each letter of the input string\n",
    "    for letter in input_string.lower():\n",
    "        # Add any non-blank letters to the \n",
    "        # end of one string, and to the front\n",
    "        # of the other string. \n",
    "        if letter.isalpha():\n",
    "            new_string = new_string + letter\n",
    "            reverse_string = letter + reverse_string\n",
    "    # Compare the strings\n",
    "    if new_string == reverse_string:\n",
    "        return True\n",
    "    return False\n",
    "\n",
    "print(is_palindrome(\"Never Odd or Even\")) # Should be True\n",
    "print(is_palindrome(\"abc\")) # Should be False\n",
    "print(is_palindrome(\"kayak\")) # Should be True"
   ]
  },
  {
   "cell_type": "markdown",
   "id": "9ee2ea6f",
   "metadata": {},
   "source": [
    "2. Using the format method, fill in the gaps in the convert_distance function so that it returns the phrase \"X miles equals Y km\", with Y having only 1 decimal place. For example, convert_distance(12) should return \"12 miles equals 19.2 km\"."
   ]
  },
  {
   "cell_type": "code",
   "execution_count": 119,
   "id": "819b243d",
   "metadata": {},
   "outputs": [
    {
     "name": "stdout",
     "output_type": "stream",
     "text": [
      "12 miles equals 19.2 km\n",
      "5.5 miles equals 8.8 km\n",
      "11 miles equals 17.6 km\n"
     ]
    }
   ],
   "source": [
    "def convert_distance(miles):\n",
    "    km = miles * 1.6 \n",
    "    result = \"{} miles equals {:.1f} km\".format(miles, km)\n",
    "    return result\n",
    "\n",
    "print(convert_distance(12)) # Should be: 12 miles equals 19.2 km\n",
    "print(convert_distance(5.5)) # Should be: 5.5 miles equals 8.8 km\n",
    "print(convert_distance(11)) # Should be: 11 miles equals 17.6 km"
   ]
  },
  {
   "cell_type": "markdown",
   "id": "3192c6fc",
   "metadata": {},
   "source": [
    "3. If we have a string variable named Weather = \"Rainfall\", which of the following will print the substring or all characters before the \"f\"?\n",
    "\n",
    "- print(Weather[:4])\n",
    "\n",
    "\n",
    "- print(Weather[4:])\n",
    "\n",
    "\n",
    "- print(Weather[1:4])\n",
    "\n",
    "\n",
    "- print(Weather[:\"f\"])"
   ]
  },
  {
   "cell_type": "code",
   "execution_count": 121,
   "id": "e4dc0087",
   "metadata": {},
   "outputs": [
    {
     "name": "stdout",
     "output_type": "stream",
     "text": [
      "Rain\n",
      "fall\n",
      "ain\n"
     ]
    },
    {
     "ename": "TypeError",
     "evalue": "slice indices must be integers or None or have an __index__ method",
     "output_type": "error",
     "traceback": [
      "\u001b[0;31m---------------------------------------------------------------------------\u001b[0m",
      "\u001b[0;31mTypeError\u001b[0m                                 Traceback (most recent call last)",
      "Cell \u001b[0;32mIn [121], line 11\u001b[0m\n\u001b[1;32m      5\u001b[0m \u001b[38;5;28mprint\u001b[39m(Weather[\u001b[38;5;241m4\u001b[39m:])\n\u001b[1;32m      8\u001b[0m \u001b[38;5;28mprint\u001b[39m(Weather[\u001b[38;5;241m1\u001b[39m:\u001b[38;5;241m4\u001b[39m])\n\u001b[0;32m---> 11\u001b[0m \u001b[38;5;28mprint\u001b[39m(\u001b[43mWeather\u001b[49m\u001b[43m[\u001b[49m\u001b[43m:\u001b[49m\u001b[38;5;124;43m\"\u001b[39;49m\u001b[38;5;124;43mf\u001b[39;49m\u001b[38;5;124;43m\"\u001b[39;49m\u001b[43m]\u001b[49m)\n",
      "\u001b[0;31mTypeError\u001b[0m: slice indices must be integers or None or have an __index__ method"
     ]
    }
   ],
   "source": [
    "Weather = \"Rainfall\"\n",
    "print(Weather[:4])\n",
    "\n",
    "\n",
    "print(Weather[4:])\n",
    "\n",
    "\n",
    "print(Weather[1:4])\n",
    "\n",
    "\n",
    "print(Weather[:\"f\"])"
   ]
  },
  {
   "cell_type": "markdown",
   "id": "9f1d5200",
   "metadata": {},
   "source": [
    "4. Fill in the gaps in the nametag function so that it uses the format method to return first_name and the first initial of last_name followed by a period. For example, nametag(\"Jane\", \"Smith\") should return \"Jane S.\""
   ]
  },
  {
   "cell_type": "code",
   "execution_count": 123,
   "id": "d716d440",
   "metadata": {},
   "outputs": [
    {
     "name": "stdout",
     "output_type": "stream",
     "text": [
      "Jane S.\n",
      "Francesco R.\n",
      "Jean-Luc G.\n"
     ]
    }
   ],
   "source": [
    "def nametag(first_name, last_name):\n",
    "    return(\"{} {}.\".format(first_name, last_name[0]))\n",
    "\n",
    "print(nametag(\"Jane\", \"Smith\")) \n",
    "# Should display \"Jane S.\" \n",
    "print(nametag(\"Francesco\", \"Rinaldi\")) \n",
    "# Should display \"Francesco R.\" \n",
    "print(nametag(\"Jean-Luc\", \"Grand-Pierre\")) \n",
    "# Should display \"Jean-Luc G.\" "
   ]
  },
  {
   "cell_type": "markdown",
   "id": "3947d39d",
   "metadata": {},
   "source": [
    "5. The replace_ending function replaces the old string in a sentence with the new string, but only if the sentence ends with the old string. If there is more than one occurrence of the old string in the sentence, only the one at the end is replaced, not all of them. For example, replace_ending(\"abcabc\", \"abc\", \"xyz\") should return abcxyz, not xyzxyz or xyzabc. The string comparison is case-sensitive, so replace_ending(\"abcabc\", \"ABC\", \"xyz\") should return abcabc (no changes made). "
   ]
  },
  {
   "cell_type": "code",
   "execution_count": 129,
   "id": "f947d7df",
   "metadata": {},
   "outputs": [
    {
     "name": "stdout",
     "output_type": "stream",
     "text": [
      "It's raining cats and dogs\n",
      "She sells seashells by the seashore\n",
      "The weather is nice in May\n",
      "The weather is nice in April\n"
     ]
    }
   ],
   "source": [
    "def replace_ending(sentence, old, new):\n",
    "    # Check if the old string is at the end of the sentence \n",
    "    if sentence.endswith(old):\n",
    "        # Using i as the slicing index, combine the part\n",
    "        # of the sentence up to the matched string at the \n",
    "        # end with the new string\n",
    "        i = len(old)\n",
    "        new_sentence = sentence[:-i] + new\n",
    "        return new_sentence\n",
    "\n",
    "    # Return the original sentence if there is no match \n",
    "    return sentence\n",
    "    \n",
    "print(replace_ending(\"It's raining cats and cats\", \"cats\", \"dogs\")) \n",
    "# Should display \"It's raining cats and dogs\"\n",
    "print(replace_ending(\"She sells seashells by the seashore\", \"seashells\", \"donuts\")) \n",
    "# Should display \"She sells seashells by the seashore\"\n",
    "print(replace_ending(\"The weather is nice in May\", \"may\", \"april\")) \n",
    "# Should display \"The weather is nice in May\"\n",
    "print(replace_ending(\"The weather is nice in May\", \"May\", \"April\")) \n",
    "# Should display \"The weather is nice in April\""
   ]
  },
  {
   "cell_type": "markdown",
   "id": "10ce5da3",
   "metadata": {},
   "source": [
    "# What is a list?"
   ]
  },
  {
   "cell_type": "code",
   "execution_count": 21,
   "id": "8f8f13ba",
   "metadata": {},
   "outputs": [
    {
     "name": "stdout",
     "output_type": "stream",
     "text": [
      "<class 'list'>\n",
      "['Now', 'we', 'are', 'cooking!']\n",
      "True\n",
      "False\n",
      "Now\n",
      "cooking!\n",
      "['we', 'are']\n",
      "['Now', 'we']\n",
      "['Now', 'we', 'are']\n",
      "['Now', 'we', 'are', 'cooking!']\n",
      "['we', 'are', 'cooking!']\n",
      "['are', 'cooking!']\n",
      "['cooking!']\n"
     ]
    }
   ],
   "source": [
    "x = [\"Now\", \"we\", \"are\", \"cooking!\"]\n",
    "print(type(x))\n",
    "print(x)\n",
    "len(x)\n",
    "\n",
    "print(\"are\" in x)\n",
    "print(\"Today\" in x)\n",
    "\n",
    "print(x[0])\n",
    "print(x[3])\n",
    "\n",
    "print(x[1:3])\n",
    "print(x[:2])\n",
    "print(x[:3])\n",
    "\n",
    "\n",
    "print(x[0:])\n",
    "print(x[1:])\n",
    "print(x[2:])\n",
    "print(x[3:])"
   ]
  },
  {
   "cell_type": "code",
   "execution_count": 29,
   "id": "593e19c8",
   "metadata": {},
   "outputs": [
    {
     "name": "stdout",
     "output_type": "stream",
     "text": [
      "lesson\n",
      "Nothing\n",
      "Now\n",
      "Nothing\n"
     ]
    }
   ],
   "source": [
    "def get_word(sentence, n):\n",
    "    # Only proceed if n is positive \n",
    "    if n > 0:\n",
    "        words = sentence.split()\n",
    "        # Only proceed if n is not more than the number of words \n",
    "        if n <= len(words):\n",
    "            return(words[n-1])\n",
    "    return(\"Nothing\")\n",
    "\n",
    "print(get_word(\"This is a lesson about lists\", 4)) # Should print: lesson\n",
    "print(get_word(\"This is a lesson about lists\", -4)) # Nothing\n",
    "print(get_word(\"Now we are cooking!\", 1)) # Should print: Now\n",
    "print(get_word(\"Now we are cooking!\", 5)) # Nothing"
   ]
  },
  {
   "cell_type": "markdown",
   "id": "92d194ed",
   "metadata": {},
   "source": [
    "# Modifying the Contents of a List"
   ]
  },
  {
   "cell_type": "code",
   "execution_count": 39,
   "id": "47626391",
   "metadata": {},
   "outputs": [
    {
     "name": "stdout",
     "output_type": "stream",
     "text": [
      "['Pineapple', 'Banana', 'Apple', 'Melon', 'Kiwi']\n",
      "['Orange', 'Pineapple', 'Banana', 'Apple', 'Melon', 'Kiwi']\n",
      "['Orange', 'Pineapple', 'Banana', 'Apple', 'Melon', 'Kiwi', 'Peach']\n",
      "['Orange', 'Pineapple', 'Banana', 'Apple', 'Kiwi', 'Peach']\n",
      "['Orange', 'Pineapple', 'Banana', 'Kiwi', 'Peach']\n",
      "['Orange', 'Pineapple', 'Strawberry', 'Kiwi', 'Peach']\n"
     ]
    }
   ],
   "source": [
    "fruits=[\"Pineapple\", \"Banana\", \"Apple\", \"Melon\"]\n",
    "fruits.append(\"Kiwi\")\n",
    "print(fruits)\n",
    "\n",
    "fruits.insert(0, \"Orange\")\n",
    "print(fruits)\n",
    "\n",
    "fruits.insert(25, \"Peach\")\n",
    "print(fruits)\n",
    "\n",
    "# Remove elements\n",
    "fruits.remove(\"Melon\")\n",
    "print(fruits)\n",
    "\n",
    "fruits.pop(3)\n",
    "print(fruits)\n",
    "\n",
    "#Insert element\n",
    "fruits[2] = \"Strawberry\"\n",
    "print(fruits)"
   ]
  },
  {
   "cell_type": "markdown",
   "id": "0c0b686e",
   "metadata": {},
   "source": [
    "# Lists and Tuples"
   ]
  },
  {
   "cell_type": "code",
   "execution_count": 40,
   "id": "4eb26d8c",
   "metadata": {},
   "outputs": [
    {
     "name": "stdout",
     "output_type": "stream",
     "text": [
      "<class 'tuple'>\n",
      "('Sherwin Owen', 'Santiago', 'Adriano')\n"
     ]
    }
   ],
   "source": [
    "fullname=(\"Sherwin Owen\", \"Santiago\", \"Adriano\")\n",
    "print(type(fullname))\n",
    "print(fullname)"
   ]
  },
  {
   "cell_type": "code",
   "execution_count": 52,
   "id": "e092297e",
   "metadata": {},
   "outputs": [
    {
     "name": "stdout",
     "output_type": "stream",
     "text": [
      "<class 'tuple'>\n",
      "(1, 23, 20)\n",
      "1 23 20\n",
      "1 23 20\n"
     ]
    }
   ],
   "source": [
    "def convert_seconds(seconds):\n",
    "    hours = seconds // 3600\n",
    "    minutes = (seconds - hours * 3600) // 60\n",
    "    remaining_secods = seconds - hours * 3600 - minutes * 60\n",
    "    return hours, minutes, remaining_secods\n",
    "\n",
    "result=convert_seconds(5000)\n",
    "print(type(result))\n",
    "print(result)\n",
    "\n",
    "# Split tuples in separate values\n",
    "hours, minutes, remaining_secods = result\n",
    "print(hours,minutes,remaining_secods)\n",
    "\n",
    "# We can also do this directly calling the function without the intermediate result variable\n",
    "hours, minutes, remaining_secods = convert_seconds(5000)\n",
    "print(hours, minutes, remaining_secods)\n"
   ]
  },
  {
   "cell_type": "code",
   "execution_count": 53,
   "id": "32b755ab",
   "metadata": {},
   "outputs": [
    {
     "name": "stdout",
     "output_type": "stream",
     "text": [
      "17.46\n",
      "0.48\n",
      "1.21\n"
     ]
    }
   ],
   "source": [
    "def file_size(file_info):\n",
    "    name, type, size = file_info\n",
    "    return(\"{:.2f}\".format(size / 1024))\n",
    "\n",
    "print(file_size(('Class Assignment', 'docx', 17875))) # Should print 17.46\n",
    "print(file_size(('Notes', 'txt', 496))) # Should print 0.48\n",
    "print(file_size(('Program', 'py', 1239))) # Should print 1.21"
   ]
  },
  {
   "cell_type": "markdown",
   "id": "c80cdeb7",
   "metadata": {},
   "source": [
    "# Iterating over Lists and Tuples"
   ]
  },
  {
   "cell_type": "code",
   "execution_count": 57,
   "id": "4ff7db01",
   "metadata": {},
   "outputs": [
    {
     "name": "stdout",
     "output_type": "stream",
     "text": [
      "Total charaters: 22, Average length: 5.5\n"
     ]
    }
   ],
   "source": [
    "animals = [\"Lion\", \"Zebra\", \"Dolphin\", \"Monkey\"]\n",
    "chars = 0\n",
    "for animal in animals:\n",
    "    chars += len(animal)\n",
    "    \n",
    "print(\"Total charaters: {}, Average length: {}\".format(chars, chars/len(animals)))    "
   ]
  },
  {
   "cell_type": "code",
   "execution_count": 60,
   "id": "11c15a24",
   "metadata": {},
   "outputs": [
    {
     "name": "stdout",
     "output_type": "stream",
     "text": [
      "1. Sherwin\n",
      "2. Reine\n",
      "3. Lesyl\n",
      "4. Shen\n"
     ]
    }
   ],
   "source": [
    "winners = [\"Sherwin\", \"Reine\", \"Lesyl\", \"Shen\"]\n",
    "for index, person in enumerate(winners):\n",
    "    print(\"{}. {}\".format(index +1, person))"
   ]
  },
  {
   "cell_type": "code",
   "execution_count": 64,
   "id": "6dc20f1a",
   "metadata": {},
   "outputs": [
    {
     "name": "stdout",
     "output_type": "stream",
     "text": [
      "['Sherwin Adriano <sherwin.adriano@gmail.com>', 'Reine Adriano <reine.adriano@gmail.com>', 'Lesyl Adriano <lesyl.adriano@gmail.com>', 'Shen Adriano <shen.adriano@gmail.com>']\n"
     ]
    }
   ],
   "source": [
    "def full_emails(people):\n",
    "    result=[]\n",
    "    for email, name in people:\n",
    "        result.append(\"{} <{}>\".format(name, email))\n",
    "    return result\n",
    "\n",
    "print(full_emails([(\"sherwin.adriano@gmail.com\",\"Sherwin Adriano\"),\n",
    "                   (\"reine.adriano@gmail.com\",\"Reine Adriano\"),\n",
    "                   (\"lesyl.adriano@gmail.com\",\"Lesyl Adriano\"),\n",
    "                   (\"shen.adriano@gmail.com\",\"Shen Adriano\")]))"
   ]
  },
  {
   "cell_type": "code",
   "execution_count": 72,
   "id": "0f8282ec",
   "metadata": {},
   "outputs": [
    {
     "name": "stdout",
     "output_type": "stream",
     "text": [
      "['a', 'c', 'e', 'g']\n",
      "['Orange', 'Strawberry', 'Peach']\n"
     ]
    }
   ],
   "source": [
    "def skip_elements(elements):\n",
    "    new_list = []\n",
    "    for idx, ele in enumerate(elements):\n",
    "        if not idx % 2:\n",
    "            new_list.append(ele)\n",
    "    return new_list\n",
    "\n",
    "print(skip_elements([\"a\", \"b\", \"c\", \"d\", \"e\", \"f\", \"g\"])) # Should be ['a', 'c', 'e', 'g']\n",
    "print(skip_elements(['Orange', 'Pineapple', 'Strawberry', 'Kiwi', 'Peach'])) # Should be ['Orange', 'Strawberry', 'Peach']"
   ]
  },
  {
   "cell_type": "markdown",
   "id": "3e0fad1a",
   "metadata": {},
   "source": [
    "# List Comprehensions"
   ]
  },
  {
   "cell_type": "code",
   "execution_count": 73,
   "id": "85277921",
   "metadata": {},
   "outputs": [
    {
     "name": "stdout",
     "output_type": "stream",
     "text": [
      "[7, 14, 21, 28, 35, 42, 49, 56, 63, 70]\n"
     ]
    }
   ],
   "source": [
    "multiples = []\n",
    "for x in range(1,11):\n",
    "    multiples.append(x*7)\n",
    "    \n",
    "print(multiples)"
   ]
  },
  {
   "cell_type": "code",
   "execution_count": 74,
   "id": "68b16ebe",
   "metadata": {},
   "outputs": [
    {
     "name": "stdout",
     "output_type": "stream",
     "text": [
      "[8, 16, 24, 32, 40, 48, 56, 64, 72, 80]\n"
     ]
    }
   ],
   "source": [
    "multiples = [ x*8 for x in range(1,11) ]\n",
    "print(multiples)"
   ]
  },
  {
   "cell_type": "code",
   "execution_count": 76,
   "id": "19188ffe",
   "metadata": {},
   "outputs": [
    {
     "name": "stdout",
     "output_type": "stream",
     "text": [
      "[6, 4, 4, 2, 4, 1]\n"
     ]
    }
   ],
   "source": [
    "languages = [\"Python\",\"Perl\",\"Ruby\",\"Go\",\"Java\",\"C\"]\n",
    "lengths = [len(language) for language in languages]\n",
    "print(lengths)"
   ]
  },
  {
   "cell_type": "code",
   "execution_count": 79,
   "id": "fed8422b",
   "metadata": {},
   "outputs": [
    {
     "name": "stdout",
     "output_type": "stream",
     "text": [
      "[0, 3, 6, 9, 12, 15, 18, 21, 24, 27, 30, 33, 36, 39, 42, 45, 48, 51, 54, 57, 60, 63, 66, 69, 72, 75, 78, 81, 84, 87, 90, 93, 96, 99, 102]\n"
     ]
    }
   ],
   "source": [
    "z = [x for x in range(0,103) if x % 3 == 0]\n",
    "print(z)"
   ]
  },
  {
   "cell_type": "code",
   "execution_count": 80,
   "id": "cd9b4c4f",
   "metadata": {},
   "outputs": [
    {
     "name": "stdout",
     "output_type": "stream",
     "text": [
      "[1, 3, 5]\n",
      "[1, 3, 5, 7, 9]\n",
      "[1, 3, 5, 7, 9, 11]\n",
      "[1]\n",
      "[]\n"
     ]
    }
   ],
   "source": [
    "def odd_numbers(n):\n",
    "    return [x for x in range(1, n+1) if x % 2]\n",
    "\n",
    "print(odd_numbers(5))  # Should print [1, 3, 5]\n",
    "print(odd_numbers(10)) # Should print [1, 3, 5, 7, 9]\n",
    "print(odd_numbers(11)) # Should print [1, 3, 5, 7, 9, 11]\n",
    "print(odd_numbers(1))  # Should print [1]\n",
    "print(odd_numbers(-1)) # Should print []"
   ]
  },
  {
   "cell_type": "markdown",
   "id": "00b3d1fb",
   "metadata": {},
   "source": [
    "# Lists and Tuples Operations Cheat Sheet\n",
    "Lists and Tuples Operations Cheat Sheet\n",
    "Lists and tuples are both sequences, so they share a number of sequence operations. But, because lists are mutable, there are also a number of methods specific just to lists. This cheat sheet gives you a run down of the common operations first, and the list-specific operations second.\n",
    "\n",
    "**Common sequence operations**\n",
    "- len(sequence) - Returns the length of the sequence\n",
    "\n",
    "- for element in sequence - Iterates over each element in the sequence\n",
    "\n",
    "- if element in sequence - Checks whether the element is part of the sequence\n",
    "\n",
    "- sequence[i] - Accesses the element at index i of the sequence, starting at zero\n",
    "\n",
    "- sequence[i:j] - Accesses a slice starting at index i, ending at index j-1. If i is omitted, it's 0 by default. If j is omitted, it's len(sequence) by default.\n",
    "\n",
    "- for index, element in enumerate(sequence) - Iterates over both the indexes and the elements in the sequence at the same time\n",
    "\n",
    "## Check out the official documentation for sequence operations.\n",
    "\n",
    "**List-specific operations and methods**\n",
    "\n",
    "- list[i] = x - Replaces the element at index i with x\n",
    "\n",
    "- list.append(x) - Inserts x at the end of the list\n",
    "\n",
    "- list.insert(i, x) - Inserts x at index i\n",
    "\n",
    "- list.pop(i) - Returns the element a index i, also removing it from the list. If i is omitted, the last element is returned and removed.\n",
    "\n",
    "- list.remove(x) - Removes the first occurrence of x in the list\n",
    "\n",
    "- list.sort() - Sorts the items in the list\n",
    "\n",
    "- list.reverse() - Reverses the order of items of the list\n",
    "\n",
    "- list.clear() - Removes all the items of the list\n",
    "\n",
    "- list.copy() - Creates a copy of the list\n",
    "\n",
    "- list.extend(other_list) - Appends all the elements of other_list at the end of list\n",
    "\n",
    "Most of these methods come from the fact that lists are mutable sequences. For more info, see the official documentation for mutable sequences and the list specific documentation.\n",
    "\n",
    "**List comprehension**\n",
    "\n",
    "- [expression for variable in sequence] - Creates a new list based on the given sequence. Each element is the result of the given expression.\n",
    "\n",
    "- [expression for variable in sequence if condition] - Creates a new list based on the given sequence. Each element is the result of the given expression; elements only get added if the condition is true.  "
   ]
  },
  {
   "cell_type": "markdown",
   "id": "de446637",
   "metadata": {},
   "source": [
    "# Practice Quiz: Lists"
   ]
  },
  {
   "cell_type": "markdown",
   "id": "ca7b82cf",
   "metadata": {},
   "source": [
    "1. Given a list of filenames, we want to rename all the files with extension hpp to the extension h. To do this, we would like to generate a new list called newfilenames, consisting of the new filenames. Fill in the blanks in the code using any of the methods you’ve learned thus far, like a for loop or a list comprehension."
   ]
  },
  {
   "cell_type": "code",
   "execution_count": 82,
   "id": "c63d9bd0",
   "metadata": {},
   "outputs": [
    {
     "name": "stdout",
     "output_type": "stream",
     "text": [
      "['program.c', 'stdio.h', 'sample.h', 'a.out', 'math.h', 'hpp.out']\n"
     ]
    }
   ],
   "source": [
    "filenames = [\"program.c\", \"stdio.hpp\", \"sample.hpp\", \"a.out\", \"math.hpp\", \"hpp.out\"]\n",
    "# Generate newfilenames as a list containing the new filenames\n",
    "# using as many lines of code as your chosen method requires.\n",
    "newfilenames = [file.replace('.hpp', '.h') for file in filenames]\n",
    "\n",
    "print(newfilenames)\n",
    "# Should be [\"program.c\", \"stdio.h\", \"sample.h\", \"a.out\", \"math.h\", \"hpp.out\"]"
   ]
  },
  {
   "cell_type": "markdown",
   "id": "f7ef0443",
   "metadata": {},
   "source": [
    "2. Let's create a function that turns text into pig latin: a simple text transformation that modifies each word moving the first character to the end and appending \"ay\" to the end. For example, python ends up as ythonpay."
   ]
  },
  {
   "cell_type": "code",
   "execution_count": 83,
   "id": "76a61754",
   "metadata": {},
   "outputs": [
    {
     "name": "stdout",
     "output_type": "stream",
     "text": [
      " ellohay owhay reaay ouyay\n",
      " rogrammingpay niay ythonpay siay unfay\n"
     ]
    }
   ],
   "source": [
    "def pig_latin(text):\n",
    "  say = \"\"\n",
    "  # Separate the text into words\n",
    "  words = text.split()\n",
    "  for word in words:\n",
    "    # Create the pig latin word and add it to the list\n",
    "    pig_latin_word = word[1:] + word[0] + 'ay'\n",
    "    say += ' ' + pig_latin_word\n",
    "    # Turn the list back into a phrase\n",
    "  return say\n",
    "\t\t\n",
    "print(pig_latin(\"hello how are you\")) # Should be \"ellohay owhay reaay ouyay\"\n",
    "print(pig_latin(\"programming in python is fun\")) # Should be \"rogrammingpay niay ythonpay siay unfay\""
   ]
  },
  {
   "cell_type": "markdown",
   "id": "a2b45a18",
   "metadata": {},
   "source": [
    "3. The permissions of a file in a Linux system are split into three sets of three permissions: read, write, and execute for the owner, group, and others. Each of the three values can be expressed as an octal number summing each permission, with 4 corresponding to read, 2 to write, and 1 to execute. Or it can be written with a string using the letters r, w, and x or - when the permission is not granted.\n",
    " For example: \n",
    " 640 is read/write for the owner, read for the group, and no permissions for the others; converted to a string, it would be: \"rw-r-----\"\n",
    " 755 is read/write/execute for the owner, and read/execute for group and others; converted to a string, it would be: \"rwxr-xr-x\"\n",
    " Fill in the blanks to make the code convert a permission in octal format into a string format.\n",
    " \n",
    "\n"
   ]
  },
  {
   "cell_type": "code",
   "execution_count": 84,
   "id": "a0e1c9d7",
   "metadata": {},
   "outputs": [
    {
     "name": "stdout",
     "output_type": "stream",
     "text": [
      "rwxr-xr-x\n",
      "rw-r--r--\n",
      "rwxr-x---\n",
      "rw-------\n"
     ]
    }
   ],
   "source": [
    "def octal_to_string(octal):\n",
    "    result = \"\"\n",
    "    value_letters = [(4,\"r\"),(2,\"w\"),(1,\"x\")]\n",
    "    # Iterate over each of the digits in octal\n",
    "    for digit in [int(n) for n in str(octal)]:\n",
    "        # Check for each of the permissions values\n",
    "        for value, letter in value_letters:\n",
    "            if digit >= value:\n",
    "                result += letter\n",
    "                digit -= value\n",
    "            else:\n",
    "                result += '-'\n",
    "    return result\n",
    "    \n",
    "print(octal_to_string(755)) # Should be rwxr-xr-x\n",
    "print(octal_to_string(644)) # Should be rw-r--r--\n",
    "print(octal_to_string(750)) # Should be rwxr-x---\n",
    "print(octal_to_string(600)) # Should be rw-------"
   ]
  },
  {
   "cell_type": "markdown",
   "id": "5304e5c8",
   "metadata": {},
   "source": [
    "4. Tuples and lists are very similar types of sequences. What is the main thing that makes a tuple different from a list?\n",
    "\n",
    "\n",
    "- A tuple is mutable\n",
    "\n",
    "- A tuple contains only numeric characters\n",
    "\n",
    "- **A tuple is immutable**\n",
    "\n",
    "- A tuple can contain only one type of data at a time"
   ]
  },
  {
   "cell_type": "markdown",
   "id": "81e389ed",
   "metadata": {},
   "source": [
    "5. The group_list function accepts a group name and a list of members, and returns a string with the format: group_name: member1, member2, … For example, group_list(\"g\", [\"a\",\"b\",\"c\"]) returns \"g: a, b, c\". Fill in the gaps in this function to do that."
   ]
  },
  {
   "cell_type": "code",
   "execution_count": 85,
   "id": "cb3384f1",
   "metadata": {},
   "outputs": [
    {
     "name": "stdout",
     "output_type": "stream",
     "text": [
      "Marketing: Mike, Karen, Jake, Tasha\n",
      "Engineering: Kim, Jay, Tom\n",
      "Users: \n"
     ]
    }
   ],
   "source": [
    "def group_list(group, users):\n",
    "  members = ', '.join(users)\n",
    "  return '{}:{}'.format(group, ' ' + members)\n",
    "\n",
    "print(group_list(\"Marketing\", [\"Mike\", \"Karen\", \"Jake\", \"Tasha\"])) # Should be \"Marketing: Mike, Karen, Jake, Tasha\"\n",
    "print(group_list(\"Engineering\", [\"Kim\", \"Jay\", \"Tom\"])) # Should be \"Engineering: Kim, Jay, Tom\"\n",
    "print(group_list(\"Users\", \"\")) # Should be \"Users:\""
   ]
  },
  {
   "cell_type": "markdown",
   "id": "8620f761",
   "metadata": {},
   "source": [
    "6. The guest_list function reads in a list of tuples with the name, age, and profession of each party guest, and prints the sentence \"Guest is X years old and works as __.\" for each one. For example, guest_list(('Ken', 30, \"Chef\"), (\"Pat\", 35, 'Lawyer'), ('Amanda', 25, \"Engineer\")) should print out: Ken is 30 years old and works as Chef. Pat is 35 years old and works as Lawyer. Amanda is 25 years old and works as Engineer. Fill in the gaps in this function to do that. "
   ]
  },
  {
   "cell_type": "code",
   "execution_count": 86,
   "id": "464ba579",
   "metadata": {},
   "outputs": [
    {
     "name": "stdout",
     "output_type": "stream",
     "text": [
      "Ken is 30 years old and works as Chef\n",
      "Pat is 35 years old and works as Lawyer\n",
      "Amanda is 25 years old and works as Engineer\n"
     ]
    },
    {
     "data": {
      "text/plain": [
       "'\\nOutput should match:\\nKen is 30 years old and works as Chef\\nPat is 35 years old and works as Lawyer\\nAmanda is 25 years old and works as Engineer\\n'"
      ]
     },
     "execution_count": 86,
     "metadata": {},
     "output_type": "execute_result"
    }
   ],
   "source": [
    "def guest_list(guests):\n",
    "    for person in guests:\n",
    "        name, age, profession = person\n",
    "        print('{} is {} years old and works as {}'.format(name, age, profession))\n",
    "\n",
    "\n",
    "guest_list([('Ken', 30, \"Chef\"), (\"Pat\", 35, 'Lawyer'), ('Amanda', 25, \"Engineer\")])\n",
    "\n",
    "\"\"\"\n",
    "Output should match:\n",
    "Ken is 30 years old and works as Chef\n",
    "Pat is 35 years old and works as Lawyer\n",
    "Amanda is 25 years old and works as Engineer\n",
    "\"\"\""
   ]
  },
  {
   "cell_type": "markdown",
   "id": "878def0f",
   "metadata": {},
   "source": [
    "# What is a dictionary?"
   ]
  },
  {
   "cell_type": "code",
   "execution_count": 87,
   "id": "04995d57",
   "metadata": {},
   "outputs": [
    {
     "name": "stdout",
     "output_type": "stream",
     "text": [
      "<class 'list'>\n",
      "<class 'tuple'>\n",
      "<class 'dict'>\n"
     ]
    }
   ],
   "source": [
    "x = []\n",
    "y = ()\n",
    "z = {}\n",
    "print (type(x))\n",
    "print (type(y))\n",
    "print (type(z))"
   ]
  },
  {
   "cell_type": "code",
   "execution_count": 94,
   "id": "4fc9a2ac",
   "metadata": {},
   "outputs": [
    {
     "name": "stdout",
     "output_type": "stream",
     "text": [
      "{'jpg': 10, 'txt': 14, 'csv': 2, 'py': 23}\n",
      "14\n",
      "True\n",
      "False\n",
      "{'jpg': 10, 'txt': 14, 'csv': 2, 'py': 23, 'cfg': 8}\n",
      "{'jpg': 10, 'txt': 14, 'csv': 17, 'py': 23, 'cfg': 8}\n",
      "{'jpg': 10, 'txt': 14, 'csv': 17, 'py': 23}\n"
     ]
    }
   ],
   "source": [
    "file_counts = {\"jpg\":10, \"txt\":14, \"csv\":2, \"py\":23}\n",
    "\n",
    "print(file_counts)\n",
    "\n",
    "print(file_counts[\"txt\"])\n",
    "\n",
    "print(\"jpg\" in file_counts)\n",
    "\n",
    "print(\"html\" in file_counts)\n",
    "\n",
    "# append element\n",
    "file_counts[\"cfg\"] = 8\n",
    "print(file_counts)\n",
    "\n",
    "# replace key\n",
    "file_counts[\"csv\"] = 17\n",
    "print(file_counts)\n",
    "\n",
    "# delete element\n",
    "del file_counts[\"cfg\"]\n",
    "print(file_counts)"
   ]
  },
  {
   "cell_type": "markdown",
   "id": "5889aeb1",
   "metadata": {},
   "source": [
    "# Iterating over the Contents of a Dictionary"
   ]
  },
  {
   "cell_type": "code",
   "execution_count": 103,
   "id": "9706f9c8",
   "metadata": {},
   "outputs": [
    {
     "name": "stdout",
     "output_type": "stream",
     "text": [
      "jpg\n",
      "txt\n",
      "csv\n",
      "py\n",
      "There are 10 files with the .jpg extension\n",
      "There are 14 files with the .txt extension\n",
      "There are 2 files with the .csv extension\n",
      "There are 23 files with the .py extension\n",
      "dict_keys(['jpg', 'txt', 'csv', 'py'])\n",
      "dict_values([10, 14, 2, 23])\n",
      "jpg\n",
      "txt\n",
      "csv\n",
      "py\n",
      "10\n",
      "14\n",
      "2\n",
      "23\n"
     ]
    }
   ],
   "source": [
    "file_counts = {\"jpg\":10, \"txt\":14, \"csv\":2, \"py\":23}\n",
    "for extension in file_counts:\n",
    "    print(extension)\n",
    "    \n",
    "for ext, amount in file_counts.items():\n",
    "    print(\"There are {} files with the .{} extension\".format(amount, ext))\n",
    "    \n",
    "    \n",
    "print(file_counts.keys())\n",
    "\n",
    "print(file_counts.values())\n",
    "\n",
    "for key in file_counts.keys():\n",
    "    print(key)\n",
    "    \n",
    "for value in file_counts.values():\n",
    "    print(value)"
   ]
  },
  {
   "cell_type": "code",
   "execution_count": 104,
   "id": "9f320838",
   "metadata": {},
   "outputs": [
    {
     "name": "stdout",
     "output_type": "stream",
     "text": [
      "octopuses have tentacles\n",
      "dolphins have fins\n",
      "rhinos have horns\n"
     ]
    }
   ],
   "source": [
    "cool_beasts = {\"octopuses\":\"tentacles\", \"dolphins\":\"fins\", \"rhinos\":\"horns\"}\n",
    "for key, value in cool_beasts.items():\n",
    "    print(\"{} have {}\".format(key, value))"
   ]
  },
  {
   "cell_type": "code",
   "execution_count": 111,
   "id": "02f737f5",
   "metadata": {},
   "outputs": [
    {
     "name": "stdout",
     "output_type": "stream",
     "text": [
      "{}\n",
      "{'a': 5}\n",
      "{}\n",
      "{'t': 2, 'e': 1, 'n': 2, 'a': 1}\n",
      "{}\n",
      "{'a': 2, ' ': 7, 'l': 3, 'o': 3, 'n': 2, 'g': 2, 's': 2, 't': 5, 'r': 2, 'i': 2, 'w': 1, 'h': 1, 'f': 1, 'e': 2}\n"
     ]
    }
   ],
   "source": [
    "def count_letters(text):\n",
    "    result = {}\n",
    "    for letter in text:\n",
    "        if letter not in result:\n",
    "            result[letter] = 0\n",
    "        result[letter] += 1\n",
    "    return result\n",
    "\n",
    "print(count_letters(\"aaaaa\"))\n",
    "\n",
    "print(count_letters(\"tenant\"))\n",
    "\n",
    "print(count_letters(\"a long string with a lot of letters\"))"
   ]
  },
  {
   "cell_type": "markdown",
   "id": "c9fdbe65",
   "metadata": {},
   "source": [
    "# Dictionaries vs. Lists"
   ]
  },
  {
   "cell_type": "markdown",
   "id": "1c864895",
   "metadata": {},
   "source": [
    "**Set**\n",
    "- Used when you want to store a bunch of elements and be certain that they-re only present once.\n",
    "\n",
    "## Dictionary Methods Cheat Sheet\n",
    "\n",
    "**Syntax**\n",
    "\n",
    "x = {key1:value1, key2:value2} \n",
    "\n",
    "**Operations**\n",
    "\n",
    "- len(dictionary) - Returns the number of items in the dictionary\n",
    "\n",
    "- for key in dictionary - Iterates over each key in the dictionary\n",
    "\n",
    "- for key, value in dictionary.items() - Iterates over each key,value pair in the dictionary\n",
    "\n",
    "- if key in dictionary - Checks whether the key is in the dictionary\n",
    "\n",
    "- dictionary[key] - Accesses the item with key key of the dictionary\n",
    "\n",
    "- dictionary[key] = value - Sets the value associated with key\n",
    "\n",
    "- del dictionary[key] - Removes the item with key key from the dictionary\n",
    "\n",
    "**Methods**\n",
    "\n",
    "- dict.get(key, default) - Returns the element corresponding to key, or default if it's not present\n",
    "\n",
    "- dict.keys() - Returns a sequence containing the keys in the dictionary\n",
    "\n",
    "- dict.values() - Returns a sequence containing the values in the dictionary\n",
    "\n",
    "- dict.update(other_dictionary) - Updates the dictionary with the items coming from the other dictionary. Existing entries will be replaced; new entries will be added.\n",
    "\n",
    "- dict.clear() - Removes all the items of the dictionary\n",
    "\n",
    "Check out the official documentation for dictionary operations and methods. \n",
    "https://docs.python.org/3/library/stdtypes.html#mapping-types-dict"
   ]
  },
  {
   "cell_type": "markdown",
   "id": "e5474d35",
   "metadata": {},
   "source": [
    "# Practice Quiz: Dictionaries"
   ]
  },
  {
   "cell_type": "markdown",
   "id": "db1fea57",
   "metadata": {},
   "source": [
    "1. The email_list function receives a dictionary, which contains domain names as keys, and a list of users as values. Fill in the blanks to generate a list that contains complete email addresses (e.g. diana.prince@gmail.com)."
   ]
  },
  {
   "cell_type": "code",
   "execution_count": 115,
   "id": "fd20f37d",
   "metadata": {},
   "outputs": [
    {
     "name": "stdout",
     "output_type": "stream",
     "text": [
      "['clark.kent@gmail.com', 'diana.prince@gmail.com', 'peter.parker@gmail.com', 'barbara.gordon@yahoo.com', 'jean.grey@yahoo.com', 'bruce.wayne@hotmail.com']\n"
     ]
    }
   ],
   "source": [
    "def email_list(domains):\n",
    "    emails = []\n",
    "    for domain, users in domains.items():\n",
    "        for user in users:\n",
    "            emails.append(user + '@' + domain)\n",
    "    return(emails)\n",
    "\n",
    "print(email_list({\"gmail.com\": [\"clark.kent\", \"diana.prince\", \"peter.parker\"], \"yahoo.com\": [\"barbara.gordon\", \"jean.grey\"], \"hotmail.com\": [\"bruce.wayne\"]}))\n"
   ]
  },
  {
   "cell_type": "markdown",
   "id": "83cd064c",
   "metadata": {},
   "source": [
    "2. The groups_per_user function receives a dictionary, which contains group names with the list of users. Users can belong to multiple groups. Fill in the blanks to return a dictionary with the users as keys and a list of their groups as values. "
   ]
  },
  {
   "cell_type": "code",
   "execution_count": 116,
   "id": "246573a0",
   "metadata": {},
   "outputs": [
    {
     "name": "stdout",
     "output_type": "stream",
     "text": [
      "{'admin': ['local', 'public', 'administrator'], 'userA': ['local'], 'userB': ['public']}\n"
     ]
    }
   ],
   "source": [
    "def groups_per_user(group_dictionary):\n",
    "    user_groups = {}\n",
    "    # Go through group_dictionary\n",
    "    for group, users in group_dictionary.items():\n",
    "        # Now go through the users in the group\n",
    "        for user in users:\n",
    "            # Now add the group to the the list of\n",
    "            # groups for this user, creating the entry\n",
    "            # in the dictionary if necessary\n",
    "            user_groups[user] = user_groups.get(user,[]) + [group]\n",
    "    return(user_groups)\n",
    "\n",
    "print(groups_per_user({\"local\": [\"admin\", \"userA\"],                      \n",
    "        \"public\":  [\"admin\", \"userB\"],\n",
    "        \"administrator\": [\"admin\"] }))"
   ]
  },
  {
   "cell_type": "markdown",
   "id": "2221872d",
   "metadata": {},
   "source": [
    "3. The dict.update method updates one dictionary with the items coming from the other dictionary, so that existing entries are replaced and new entries are added. What is the content of the dictionary “wardrobe“ at the end of the following code?"
   ]
  },
  {
   "cell_type": "code",
   "execution_count": 121,
   "id": "e5605382",
   "metadata": {},
   "outputs": [
    {
     "name": "stdout",
     "output_type": "stream",
     "text": [
      "None\n"
     ]
    }
   ],
   "source": [
    "wardrobe = {'shirt': ['red', 'blue', 'white'], 'jeans': ['blue', 'black']}\n",
    "new_items = {'jeans': ['white'], 'scarf': ['yellow'], 'socks': ['black', 'brown']}\n",
    "result=(wardrobe.update(new_items))\n",
    "print(result)"
   ]
  },
  {
   "cell_type": "markdown",
   "id": "282df3cc",
   "metadata": {},
   "source": [
    "- {'jeans': ['white'], 'scarf': ['yellow'], 'socks': ['black', 'brown']}\n",
    "\n",
    "\n",
    "- **{'shirt': ['red', 'blue', 'white'], 'jeans': ['white'], 'scarf': ['yellow'], 'socks': ['black', 'brown']}**\n",
    "\n",
    "\n",
    "- {'shirt': ['red', 'blue', 'white'], 'jeans': ['blue', 'black', 'white'], 'scarf': ['yellow'], 'socks': ['black', 'brown']}\n",
    "\n",
    "\n",
    "- {'shirt': ['red', 'blue', 'white'], 'jeans': ['blue', 'black'], 'jeans': ['white'], 'scarf': ['yellow'], 'socks': ['black', 'brown']}"
   ]
  },
  {
   "cell_type": "markdown",
   "id": "bcd1667e",
   "metadata": {},
   "source": [
    "4.  What’s a major advantage of using dictionaries over lists?\n",
    "\n",
    "- Dictionaries are ordered sets\n",
    "\n",
    "- Dictionaries can be accessed by the index number of the element\n",
    "\n",
    "- Elements can be removed and inserted into dictionaries\n",
    "\n",
    "- **It’s quicker and easier to find a specific element in a dictionary**"
   ]
  },
  {
   "cell_type": "markdown",
   "id": "57fc3e12",
   "metadata": {},
   "source": [
    "5. The add_prices function returns the total price of all of the groceries in the  dictionary. Fill in the blanks to complete this function."
   ]
  },
  {
   "cell_type": "code",
   "execution_count": 120,
   "id": "6cefdef4",
   "metadata": {},
   "outputs": [
    {
     "name": "stdout",
     "output_type": "stream",
     "text": [
      "28.44\n"
     ]
    }
   ],
   "source": [
    "def add_prices(basket):\n",
    "    # Initialize the variable that will be used for the calculation\n",
    "    total = 0\n",
    "    # Iterate through the dictionary items\n",
    "    for item in basket:\n",
    "        # Add each price to the total calculation\n",
    "        # Hint: how do you access the values of\n",
    "        # dictionary items?\n",
    "        total += basket[item]\n",
    "    # Limit the return value to 2 decimal places\n",
    "    return round(total, 2)  \n",
    "\n",
    "groceries = {\"bananas\": 1.56, \"apples\": 2.50, \"oranges\": 0.99, \"bread\": 4.59, \n",
    "    \"coffee\": 6.99, \"milk\": 3.39, \"eggs\": 2.98, \"cheese\": 5.44}\n",
    "\n",
    "print(add_prices(groceries)) # Should print 28.44"
   ]
  },
  {
   "cell_type": "markdown",
   "id": "12ef931a",
   "metadata": {},
   "source": [
    "# Basic Structures Wrap Up"
   ]
  },
  {
   "cell_type": "markdown",
   "id": "91d88eba",
   "metadata": {},
   "source": [
    "\n",
    "1. The format_address function separates out parts of the address string into new strings: house_number and street_name, and returns: \"house number X on street named Y\". The format of the input string is: numeric house number, followed by the street name which may contain numbers, but never by themselves, and could be several words long. For example, \"123 Main Street\", \"1001 1st Ave\", or \"55 North Center Drive\". Fill in the gaps to complete this function."
   ]
  },
  {
   "cell_type": "code",
   "execution_count": 122,
   "id": "0bbe3ee3",
   "metadata": {},
   "outputs": [
    {
     "name": "stdout",
     "output_type": "stream",
     "text": [
      "house number 123 on street named Main Street \n",
      "house number 1001 on street named 1st Ave \n",
      "house number 55 on street named North Center Drive \n"
     ]
    }
   ],
   "source": [
    "def format_address(address_string):\n",
    "  # Declare variables\n",
    "  hourse_number = ''\n",
    "  street_name = ''\n",
    "  # Separate the address string into parts\n",
    "  address_string = address_string.split()\n",
    "\n",
    "  # Traverse through the address parts\n",
    "  for string in address_string:\n",
    "    # Determine if the address part is the\n",
    "    # house number or part of the street name\n",
    "    if string.isdigit():\n",
    "      hourse_number = string\n",
    "    # Does anything else need to be done \n",
    "    # before returning the result?\n",
    "    else:\n",
    "      street_name += string + ' '\n",
    "  \n",
    "  # Return the formatted string  \n",
    "  return \"house number {} on street named {}\".format(hourse_number, street_name)\n",
    "\n",
    "print(format_address(\"123 Main Street\"))\n",
    "# Should print: \"house number 123 on street named Main Street\"\n",
    "\n",
    "print(format_address(\"1001 1st Ave\"))\n",
    "# Should print: \"house number 1001 on street named 1st Ave\"\n",
    "\n",
    "print(format_address(\"55 North Center Drive\"))\n",
    "# Should print \"house number 55 on street named North Center Drive\""
   ]
  },
  {
   "cell_type": "markdown",
   "id": "0420a81e",
   "metadata": {},
   "source": [
    "2. The highlight_word function changes the given word in a sentence to its upper-case version. For example, highlight_word(\"Have a nice day\", \"nice\") returns \"Have a NICE day\". Can you write this function in just one line?"
   ]
  },
  {
   "cell_type": "code",
   "execution_count": 124,
   "id": "d1a97418",
   "metadata": {},
   "outputs": [
    {
     "name": "stdout",
     "output_type": "stream",
     "text": [
      "Have a NICE day\n",
      "Shhh, don't be so LOUD!\n",
      "Automating with Python is FUN\n"
     ]
    }
   ],
   "source": [
    "def highlight_word(sentence, word):\n",
    "    return(sentence.replace(word, word.upper(), 1))\n",
    "\n",
    "print(highlight_word(\"Have a nice day\", \"nice\"))\n",
    "print(highlight_word(\"Shhh, don't be so loud!\", \"loud\"))\n",
    "print(highlight_word(\"Automating with Python is fun\", \"fun\"))"
   ]
  },
  {
   "cell_type": "markdown",
   "id": "f9fe9d79",
   "metadata": {},
   "source": [
    "3. A professor with two assistants, Jamie and Drew, wants an attendance list of the students, in the order that they arrived in the classroom. Drew was the first one to note which students arrived, and then Jamie took over. After the class, they each entered their lists into the computer and emailed them to the professor, who needs to combine them into one, in the order of each student's arrival. Jamie emailed a follow-up, saying that her list is in reverse order. Complete the steps to combine them into one list as follows: the contents of Drew's list, followed by Jamie's list in reverse order, to get an accurate list of the students as they arrived."
   ]
  },
  {
   "cell_type": "code",
   "execution_count": 125,
   "id": "b5916cc4",
   "metadata": {},
   "outputs": [
    {
     "name": "stdout",
     "output_type": "stream",
     "text": [
      "['Mike', 'Carol', 'Greg', 'Marcia', 'Peter', 'Jan', 'Bobby', 'Cindy', 'Alice']\n"
     ]
    }
   ],
   "source": [
    "def combine_lists(list1, list2):\n",
    "  # Generate a new list containing the elements of list2\n",
    "  # Followed by the elements of list1 in reverse order\n",
    "  return list2 + list1[::-1]\n",
    "  \n",
    "\t\n",
    "Jamies_list = [\"Alice\", \"Cindy\", \"Bobby\", \"Jan\", \"Peter\"]\n",
    "Drews_list = [\"Mike\", \"Carol\", \"Greg\", \"Marcia\"]\n",
    "\n",
    "print(combine_lists(Jamies_list, Drews_list))"
   ]
  },
  {
   "cell_type": "markdown",
   "id": "255ef54b",
   "metadata": {},
   "source": [
    "4. Question 4\n",
    "Use a list comprehension to create a list of squared numbers (n*n). The function receives the variables start and end, and returns a list of squares of consecutive numbers between start and end inclusively.\n",
    "For example, squares(2, 3) should return [4, 9]."
   ]
  },
  {
   "cell_type": "code",
   "execution_count": 126,
   "id": "bafcf932",
   "metadata": {},
   "outputs": [
    {
     "name": "stdout",
     "output_type": "stream",
     "text": [
      "[4, 9]\n",
      "[1, 4, 9, 16, 25]\n",
      "[0, 1, 4, 9, 16, 25, 36, 49, 64, 81, 100]\n"
     ]
    }
   ],
   "source": [
    "def squares(start, end):\n",
    "\treturn [ num**2 for num in range(start, end+1) ]\n",
    "\n",
    "print(squares(2, 3)) # Should be [4, 9]\n",
    "print(squares(1, 5)) # Should be [1, 4, 9, 16, 25]\n",
    "print(squares(0, 10)) # Should be [0, 1, 4, 9, 16, 25, 36, 49, 64, 81, 100]"
   ]
  },
  {
   "cell_type": "markdown",
   "id": "9549fc4a",
   "metadata": {},
   "source": [
    "5. Complete the code to iterate through the keys and values of the car_prices dictionary, printing out some information about each one."
   ]
  },
  {
   "cell_type": "code",
   "execution_count": 129,
   "id": "a97dcca5",
   "metadata": {},
   "outputs": [
    {
     "name": "stdout",
     "output_type": "stream",
     "text": [
      "Kia Soul costs 19000 dollars\n",
      "Lamborghini Diablo costs 55000 dollars\n",
      "Ford Fiesta costs 13000 dollars\n",
      "Toyota Prius costs 24000 dollars\n",
      "\n"
     ]
    }
   ],
   "source": [
    "def car_listing(car_prices):\n",
    "  result = \"\"\n",
    "  for cars in car_prices:\n",
    "    result += \"{} costs {} dollars\".format(cars, car_prices[cars]) + \"\\n\"\n",
    "  return result\n",
    "\n",
    "print(car_listing({\"Kia Soul\":19000, \"Lamborghini Diablo\":55000, \"Ford Fiesta\":13000, \"Toyota Prius\":24000}))"
   ]
  },
  {
   "cell_type": "markdown",
   "id": "72d37723",
   "metadata": {},
   "source": [
    "6. Taylor and Rory are hosting a party. They sent out invitations, and each one collected responses into dictionaries, with names of their friends and how many guests each friend is bringing. Each dictionary is a partial list, but Rory's list has more current information about the number of guests. Fill in the blanks to combine both dictionaries into one, with each friend listed only once, and the number of guests from Rory's dictionary taking precedence, if a name is included in both dictionaries. Then print the resulting dictionary."
   ]
  },
  {
   "cell_type": "code",
   "execution_count": 130,
   "id": "81fc8997",
   "metadata": {},
   "outputs": [
    {
     "name": "stdout",
     "output_type": "stream",
     "text": [
      "{'David': 1, 'Nancy': 1, 'Robert': 4, 'Adam': 2, 'Samantha': 3, 'Chris': 5, 'Brenda': 3, 'Jose': 3, 'Charlotte': 2, 'Terry': 1}\n"
     ]
    }
   ],
   "source": [
    "def combine_guests(guests1, guests2):\n",
    "  # Combine both dictionaries into one, with each key listed \n",
    "  # only once, and the value from guests1 taking precedence\n",
    "  guests = guests2.copy()\n",
    "  guests.update(guests1)\n",
    "  return guests\n",
    "\n",
    "Rorys_guests = { \"Adam\":2, \"Brenda\":3, \"David\":1, \"Jose\":3, \"Charlotte\":2, \"Terry\":1, \"Robert\":4}\n",
    "Taylors_guests = { \"David\":4, \"Nancy\":1, \"Robert\":2, \"Adam\":1, \"Samantha\":3, \"Chris\":5}\n",
    "\n",
    "print(combine_guests(Rorys_guests, Taylors_guests))"
   ]
  },
  {
   "cell_type": "markdown",
   "id": "e7d1aea2",
   "metadata": {},
   "source": [
    "7. Use a dictionary to count the frequency of letters in the input string. Only letters should be counted, not blank spaces, numbers, or punctuation. Upper case should be considered the same as lower case. For example, count_letters(\"This is a sentence.\") should return {'t': 2, 'h': 1, 'i': 2, 's': 3, 'a': 1, 'e': 3, 'n': 2, 'c': 1}."
   ]
  },
  {
   "cell_type": "code",
   "execution_count": 132,
   "id": "93311615",
   "metadata": {},
   "outputs": [
    {
     "name": "stdout",
     "output_type": "stream",
     "text": [
      "{'a': 2, 'b': 2, 'c': 2}\n",
      "{'m': 1, 'a': 1, 't': 1, 'h': 1, 'i': 1, 's': 1, 'f': 1, 'u': 1, 'n': 1}\n",
      "{'t': 2, 'h': 1, 'i': 2, 's': 3, 'a': 1, 'e': 3, 'n': 2, 'c': 1}\n"
     ]
    }
   ],
   "source": [
    "def count_letters(text):\n",
    "  result = {}\n",
    "  # Go through each letter in the text\n",
    "  for letter in text.lower():\n",
    "    # Check if the letter needs to be counted or not\n",
    "    if letter.isalpha():\n",
    "      if letter not in result:\n",
    "        result[letter] = 1\n",
    "        # Add or increment the value in the dictionary\n",
    "      else:\n",
    "        result[letter] += 1\n",
    "  return result\n",
    "\n",
    "print(count_letters(\"AaBbCc\"))\n",
    "# Should be {'a': 2, 'b': 2, 'c': 2}\n",
    "\n",
    "print(count_letters(\"Math is fun! 2+2=4\"))\n",
    "# Should be {'m': 1, 'a': 1, 't': 1, 'h': 1, 'i': 1, 's': 1, 'f': 1, 'u': 1, 'n': 1}\n",
    "\n",
    "print(count_letters(\"This is a sentence.\"))\n",
    "# Should be {'t': 2, 'h': 1, 'i': 2, 's': 3, 'a': 1, 'e': 3, 'n': 2, 'c': 1}"
   ]
  },
  {
   "cell_type": "markdown",
   "id": "ed84b00a",
   "metadata": {},
   "source": [
    "8. What do the following commands return when animal = \"Hippopotamus\"?"
   ]
  },
  {
   "cell_type": "code",
   "execution_count": 134,
   "id": "5e602955",
   "metadata": {},
   "outputs": [
    {
     "name": "stdout",
     "output_type": "stream",
     "text": [
      "pop\n",
      "t\n",
      "us\n"
     ]
    }
   ],
   "source": [
    "animal = \"Hippopotamus\"\n",
    "print(animal[3:6])\n",
    "print(animal[-5])\n",
    "print(animal[10:])"
   ]
  },
  {
   "cell_type": "markdown",
   "id": "c2191655",
   "metadata": {},
   "source": [
    "- ppo, t, mus\n",
    "\n",
    "- ppop, o, s\n",
    "\n",
    "- **pop, t, us**\n",
    "\n",
    "- popo, t, mus"
   ]
  },
  {
   "cell_type": "markdown",
   "id": "f542d5c8",
   "metadata": {},
   "source": [
    "9. What does the list \"colors\" contain after these commands are executed?"
   ]
  },
  {
   "cell_type": "code",
   "execution_count": 141,
   "id": "c59d977c",
   "metadata": {},
   "outputs": [
    {
     "name": "stdout",
     "output_type": "stream",
     "text": [
      "None\n"
     ]
    }
   ],
   "source": [
    "colors = [\"red\", \"white\", \"blue\"]\n",
    "result=colors.insert(2, \"yellow\")\n",
    "print(result)"
   ]
  },
  {
   "cell_type": "markdown",
   "id": "5f3991e7",
   "metadata": {},
   "source": [
    "- **['red', 'white', 'yellow', 'blue']**\n",
    "\n",
    "- ['red', 'yellow', 'white', 'blue']\n",
    "\n",
    "- ['red', 'yellow', 'blue']\n",
    "\n",
    "- ['red', 'white', 'yellow']"
   ]
  },
  {
   "cell_type": "markdown",
   "id": "fd7ba7cb",
   "metadata": {},
   "source": [
    "10. What do the following commands return?"
   ]
  },
  {
   "cell_type": "code",
   "execution_count": 142,
   "id": "110ee086",
   "metadata": {},
   "outputs": [
    {
     "data": {
      "text/plain": [
       "dict_keys(['router', 'localhost', 'google'])"
      ]
     },
     "execution_count": 142,
     "metadata": {},
     "output_type": "execute_result"
    }
   ],
   "source": [
    "host_addresses = {\"router\": \"192.168.1.1\", \"localhost\": \"127.0.0.1\", \"google\": \"8.8.8.8\"}\n",
    "host_addresses.keys()"
   ]
  },
  {
   "cell_type": "markdown",
   "id": "3d88b806",
   "metadata": {},
   "source": [
    "\n",
    "- {\"router\": \"192.168.1.1\", \"localhost\": \"127.0.0.1\", \"google\": \"8.8.8.8\"}\n",
    "\n",
    "- [\"router\", \"192.168.1.1\", \"localhost\", \"127.0.0.1\", \"google\", \"8.8.8.8\"]\n",
    "\n",
    "- ['192.168.1.1', '127.0.0.1', '8.8.8.8']\n",
    "\n",
    "- **['router', 'localhost', 'google']**"
   ]
  },
  {
   "cell_type": "code",
   "execution_count": null,
   "id": "55645013",
   "metadata": {},
   "outputs": [],
   "source": []
  }
 ],
 "metadata": {
  "kernelspec": {
   "display_name": "Python 3 (ipykernel)",
   "language": "python",
   "name": "python3"
  },
  "language_info": {
   "codemirror_mode": {
    "name": "ipython",
    "version": 3
   },
   "file_extension": ".py",
   "mimetype": "text/x-python",
   "name": "python",
   "nbconvert_exporter": "python",
   "pygments_lexer": "ipython3",
   "version": "3.10.8"
  }
 },
 "nbformat": 4,
 "nbformat_minor": 5
}
