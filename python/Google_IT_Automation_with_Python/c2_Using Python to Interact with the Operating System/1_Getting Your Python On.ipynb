{
 "cells": [
  {
   "cell_type": "code",
   "execution_count": 8,
   "id": "00ae5207",
   "metadata": {},
   "outputs": [
    {
     "name": "stdout",
     "output_type": "stream",
     "text": [
      "17.5\n",
      "35\n",
      "78.53981633974483\n",
      "235.61944901923448\n"
     ]
    }
   ],
   "source": [
    "import math\n",
    "\n",
    "def triagle(base, height):\n",
    "    return base*height/2\n",
    "\n",
    "def rectangle(base, height):\n",
    "    return base*height\n",
    "\n",
    "def circle(radius):\n",
    "    return math.pi*(radius**2)\n",
    "\n",
    "def donut(outside_circle, inside_circle):\n",
    "    return circle(outside_circle) - circle(inside_circle)\n",
    "\n",
    "tri=triagle(7,5)\n",
    "rec=rectangle(7,5)\n",
    "cir=circle(5)\n",
    "don=donut(10,5)\n",
    "\n",
    "print(t)\n",
    "print(rec)\n",
    "print(cir)\n",
    "print(don)\n"
   ]
  },
  {
   "cell_type": "code",
   "execution_count": null,
   "id": "cc03d58a",
   "metadata": {},
   "outputs": [],
   "source": []
  }
 ],
 "metadata": {
  "kernelspec": {
   "display_name": "Python 3 (ipykernel)",
   "language": "python",
   "name": "python3"
  },
  "language_info": {
   "codemirror_mode": {
    "name": "ipython",
    "version": 3
   },
   "file_extension": ".py",
   "mimetype": "text/x-python",
   "name": "python",
   "nbconvert_exporter": "python",
   "pygments_lexer": "ipython3",
   "version": "3.10.9"
  }
 },
 "nbformat": 4,
 "nbformat_minor": 5
}
