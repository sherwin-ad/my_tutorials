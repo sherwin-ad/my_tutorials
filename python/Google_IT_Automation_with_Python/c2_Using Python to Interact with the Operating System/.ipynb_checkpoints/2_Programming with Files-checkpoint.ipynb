{
 "cells": [
  {
   "cell_type": "markdown",
   "id": "cec0beaa",
   "metadata": {},
   "source": [
    "# Read and Display Files"
   ]
  },
  {
   "cell_type": "markdown",
   "id": "9efbf8e0",
   "metadata": {},
   "source": [
    "Remember to close line after using "
   ]
  },
  {
   "cell_type": "markdown",
   "id": "ba8fff1c",
   "metadata": {},
   "source": [
    "file = open(\"spider.txt\")\n",
    "print(file.readline())\n",
    "\n",
    "print(file.readline())\n",
    "\n",
    "print(file.read())\n",
    "\n",
    "file.close()"
   ]
  },
  {
   "cell_type": "markdown",
   "id": "9aca2fa0",
   "metadata": {},
   "source": [
    " \"with\" block, Python will automatically close the file"
   ]
  },
  {
   "cell_type": "code",
   "execution_count": 13,
   "id": "50f31598",
   "metadata": {},
   "outputs": [
    {
     "name": "stdout",
     "output_type": "stream",
     "text": [
      "Incy Wincy spider Climbed up the water spout\n",
      "\n"
     ]
    }
   ],
   "source": [
    "with open(\"spider.txt\") as file:\n",
    "    print(file.readline())"
   ]
  },
  {
   "cell_type": "code",
   "execution_count": null,
   "id": "29ad5265",
   "metadata": {},
   "outputs": [],
   "source": []
  }
 ],
 "metadata": {
  "kernelspec": {
   "display_name": "Python 3 (ipykernel)",
   "language": "python",
   "name": "python3"
  },
  "language_info": {
   "codemirror_mode": {
    "name": "ipython",
    "version": 3
   },
   "file_extension": ".py",
   "mimetype": "text/x-python",
   "name": "python",
   "nbconvert_exporter": "python",
   "pygments_lexer": "ipython3",
   "version": "3.10.9"
  }
 },
 "nbformat": 4,
 "nbformat_minor": 5
}
