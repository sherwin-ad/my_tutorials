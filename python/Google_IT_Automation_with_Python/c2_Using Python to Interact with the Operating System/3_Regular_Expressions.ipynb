{
 "cells": [
  {
   "cell_type": "markdown",
   "id": "9b738368",
   "metadata": {},
   "source": [
    "**Regural Expressions (regex)**\n",
    "- find strings of text that match a pattern\n"
   ]
  },
  {
   "cell_type": "code",
   "execution_count": 11,
   "id": "c32042e8",
   "metadata": {},
   "outputs": [
    {
     "name": "stdout",
     "output_type": "stream",
     "text": [
      "12345\n"
     ]
    }
   ],
   "source": [
    "# w/o using regex\n",
    "log = \"July 31 07:51:48 mycomputer bad_process [12345]: ERROR Performing package upgrade\"\n",
    "index = log.index(\"[\")\n",
    "print(log[index+1:index+6])"
   ]
  },
  {
   "cell_type": "code",
   "execution_count": 14,
   "id": "afb76db5",
   "metadata": {},
   "outputs": [
    {
     "name": "stdout",
     "output_type": "stream",
     "text": [
      "12345\n"
     ]
    }
   ],
   "source": [
    "# using regex\n",
    "import re\n",
    "log = \"July 31 07:51:48 mycomputer bad_process [12345]: ERROR Performing package upgrade\"\n",
    "regex = r\"\\[(\\d+)\\]\"\n",
    "result = re.search(regex, log)\n",
    "print(result[1])"
   ]
  },
  {
   "cell_type": "markdown",
   "id": "eb182de0",
   "metadata": {},
   "source": [
    "```\n",
    "grep thon /usr/share/dict/words \n",
    "abyssobenthonic\n",
    "acanthon\n",
    "acetonaphthone\n",
    "allochthonous\n",
    "Amaethon\n",
    "anacoluthon\n",
    "Anthonin\n",
    "Anthonomus\n",
    "Anthony\n",
    ".....\n",
    "```"
   ]
  },
  {
   "cell_type": "markdown",
   "id": "6197d75b",
   "metadata": {},
   "source": [
    "```\n",
    "grep -i python /usr/share/dict/words\n",
    "python\n",
    "pythoness\n",
    "pythonic\n",
    "pythonical\n",
    "pythonid\n",
    "Pythonidae\n",
    "pythoniform\n",
    "Pythoninae\n",
    "pythonine\n",
    "pythonism\n",
    "Pythonissa\n",
    "....\n",
    "```"
   ]
  },
  {
   "cell_type": "markdown",
   "id": "b8638740",
   "metadata": {},
   "source": [
    "# dot (.) wildcard in regex\n",
    "```\n",
    "grep l.rt /usr/share/dict/words\n",
    "Adelarthra\n",
    "Adelarthrosomata\n",
    "adelarthrosomatous\n",
    "alert\n",
    "alertly\n",
    "alertness\n",
    "beclart\n",
    "blart\n",
    "blurt\n",
    "clart\n",
    "clarty\n",
    "```"
   ]
  },
  {
   "cell_type": "markdown",
   "id": "e96f1a44",
   "metadata": {},
   "source": [
    "# Find words with \"fruit\" at the beginning\n",
    "```\n",
    "grep ^fruit /usr/share/dict/words \n",
    "fruit\n",
    "fruitade\n",
    "fruitage\n",
    "fruitarian\n",
    "fruitarianism\n",
    "fruitcake\n",
    "fruited\n",
    "fruiter\n",
    "fruiterer\n",
    "fruiteress\n",
    "....\n",
    "```"
   ]
  },
  {
   "cell_type": "markdown",
   "id": "2dcd110c",
   "metadata": {},
   "source": [
    "# Find words with \"cat\" at the end\n",
    "```\n",
    "grep cat$ /usr/share/dict/words\n",
    "bobcat\n",
    "cat\n",
    "Chilcat\n",
    "copycat\n",
    "crazycat\n",
    "ducat\n",
    "gaycat\n",
    "hellcat\n",
    "hellicat\n",
    "hepcat\n",
    "kitcat\n",
    "Magnificat\n",
    ".....\n",
    "```"
   ]
  },
  {
   "cell_type": "markdown",
   "id": "1e77f2d9",
   "metadata": {},
   "source": [
    "# Practice Quiz: Regular Expressions\n",
    "1. When using regular expressions, which of the following expressions uses a reserved character that can represent any single character?\n",
    "\n",
    "\n",
    "- re.findall(fu$, text)\n",
    "\n",
    "\n",
    "- re.findall(^un, text)\n",
    "\n",
    "\n",
    "- **re.findall(f.n, text)**\n",
    "\n",
    "\n",
    "- re.findall(f*n, text)\n",
    "\n",
    "2. Which of the following is NOT a function of the Python regex module?\n",
    "\n",
    "\n",
    "- re.search()\n",
    "\n",
    "\n",
    "- **re.grep()**\n",
    "\n",
    "\n",
    "- re.match()\n",
    "\n",
    "\n",
    "- re.findall()\n",
    "\n",
    "3. The circumflex [^] and the dollar sign [$] are anchor characters. What do these anchor characters do in regex?\n",
    "\n",
    "\n",
    "- Match the start and end of a word.\n",
    "\n",
    "\n",
    "- **Match the start and end of a line**\n",
    "\n",
    "\n",
    "- Exclude everything between two anchor characters\n",
    "\n",
    "\n",
    "- Represent any number and any letter character, respectively\n",
    "\n",
    "4. When using regex, some characters represent particular types of characters. Some examples are the dollar sign, the circumflex, and the dot wildcard. What are these characters collectively known as?\n",
    "\n",
    "\n",
    "- **Special characters**\n",
    "\n",
    "\n",
    "- Anchor characters\n",
    "\n",
    "\n",
    "- Literal characters\n",
    "\n",
    "\n",
    "- Wildcard characters\n",
    "\n",
    "5. What is grep?\n",
    "\n",
    "\n",
    "- An operating system\n",
    "\n",
    "\n",
    "- A command for parsing strings in Python\n",
    "\n",
    "\n",
    "- **A command-line regex tool**\n",
    "\n",
    "\n",
    "- A type of special character\n",
    "\n"
   ]
  },
  {
   "cell_type": "markdown",
   "id": "7c663b6c",
   "metadata": {},
   "source": [
    "# Simple Matching in Python"
   ]
  },
  {
   "cell_type": "code",
   "execution_count": 30,
   "id": "8ba849a0",
   "metadata": {},
   "outputs": [
    {
     "name": "stdout",
     "output_type": "stream",
     "text": [
      "<re.Match object; span=(2, 5), match='aza'>\n",
      "<re.Match object; span=(1, 4), match='aza'>\n",
      "None\n",
      "<re.Match object; span=(0, 1), match='x'>\n",
      "<re.Match object; span=(0, 4), match='peng'>\n",
      "<re.Match object; span=(4, 8), match='ping'>\n",
      "<re.Match object; span=(0, 4), match='pong'>\n",
      "None\n",
      "<re.Match object; span=(0, 4), match='Pang'>\n"
     ]
    }
   ],
   "source": [
    "# Always use raw strings for regular expressions in Python.\n",
    "\n",
    "import re\n",
    "result = re.search(r\"aza\",\"plaza\")\n",
    "print(result)\n",
    "\n",
    "result = re.search(r\"aza\",\"bazaar\")\n",
    "print(result)\n",
    "\n",
    "result = re.search(r\"aza\",\"maze\")\n",
    "print(result)\n",
    "\n",
    "result = re.search(r\"^x\",\"xenon\")\n",
    "print(result)\n",
    "\n",
    "result = re.search(r\"p.ng\",\"penguin\")\n",
    "print(result)\n",
    "\n",
    "result = re.search(r\"p.ng\",\"clapping\")\n",
    "print(result)\n",
    "\n",
    "result = re.search(r\"p.ng\",\"pong\")\n",
    "print(result)\n",
    "\n",
    "result = re.search(r\"p.ng\",\"Pangea\")\n",
    "print(result)\n",
    "\n",
    "# Ignore case\n",
    "result = re.search(r\"p.ng\",\"Pangea\",re.IGNORECASE)\n",
    "print(result)\n",
    "\n"
   ]
  },
  {
   "cell_type": "code",
   "execution_count": 69,
   "id": "4eeeda5c",
   "metadata": {},
   "outputs": [
    {
     "name": "stdout",
     "output_type": "stream",
     "text": [
      "True\n",
      "False\n",
      "True\n"
     ]
    }
   ],
   "source": [
    "import re\n",
    "def check_aei (text):\n",
    "  result = re.search(r\"a.e.i\", text)\n",
    "  return result != None\n",
    "\n",
    "print(check_aei(\"academia\")) # True\n",
    "print(check_aei(\"aerial\")) # False\n",
    "print(check_aei(\"paramedic\")) # True"
   ]
  },
  {
   "cell_type": "markdown",
   "id": "5368d612",
   "metadata": {},
   "source": [
    "# Wildcards and Character Classes"
   ]
  },
  {
   "cell_type": "code",
   "execution_count": 51,
   "id": "cb53b14f",
   "metadata": {},
   "outputs": [
    {
     "name": "stdout",
     "output_type": "stream",
     "text": [
      "<re.Match object; span=(0, 6), match='Python'>\n",
      "<re.Match object; span=(18, 22), match='hway'>\n",
      "None\n",
      "<re.Match object; span=(0, 6), match='cloudy'>\n",
      "<re.Match object; span=(0, 6), match='cloud9'>\n",
      "<re.Match object; span=(4, 5), match=' '>\n",
      "<re.Match object; span=(31, 32), match='.'>\n",
      "<re.Match object; span=(7, 10), match='cat'>\n",
      "<re.Match object; span=(7, 10), match='dog'>\n",
      "<re.Match object; span=(12, 15), match='dog'>\n",
      "['dog', 'cat']\n"
     ]
    }
   ],
   "source": [
    "# match the word Python but allow for both lowercase or uppercase p\n",
    "print(re.search(r\"[Pp]ython\",\"Python\"))\n",
    "\n",
    "# use lowercase a to lowercase z to state any lowercase letter\n",
    "print(re.search(r\"[a-z]way\",\"The end of the highway\"))\n",
    "\n",
    "print(re.search(r\"[a-z]way\",\"What a way to go\"))\n",
    "\n",
    "print(re.search(r\"cloud[a-zA-Z0-9]\",\"cloudy\"))\n",
    "\n",
    "print(re.search(r\"cloud[a-zA-Z0-9]\",\"cloud9\"))\n",
    "\n",
    "# search pattern that looks for any characters that's not a letter\n",
    "print(re.search(r\"[^a-zA-Z]\",\"This is a sentence worth spaces.\"))\n",
    "\n",
    "# we added a space inside the character class, our example now matched the final dot in the sentence\n",
    "print(re.search(r\"[^a-zA-Z ]\",\"This is a sentence worth spaces.\"))\n",
    "\n",
    "# to match either one expression or another, we can use the pipe symbol\n",
    "print(re.search(r\"cat|dog\",\"I like cats.\"))\n",
    "\n",
    "print(re.search(r\"cat|dog\",\"I like dogs.\"))\n",
    "\n",
    "# we actually have two possible matches for our search. But we only get the first one\n",
    "print(re.search(r\"cat|dog\",\"I like both dogs and cats.\"))\n",
    "\n"
   ]
  },
  {
   "cell_type": "code",
   "execution_count": 52,
   "id": "19cbaf65",
   "metadata": {},
   "outputs": [
    {
     "name": "stdout",
     "output_type": "stream",
     "text": [
      "['dog', 'cat']\n"
     ]
    }
   ],
   "source": [
    "# to get all possible matches, we can do that using the findall\n",
    "print(re.findall(r\"cat|dog\",\"I like both dogs and cats.\"))"
   ]
  },
  {
   "cell_type": "code",
   "execution_count": 68,
   "id": "a6718de2",
   "metadata": {},
   "outputs": [
    {
     "name": "stdout",
     "output_type": "stream",
     "text": [
      "True\n",
      "False\n",
      "True\n",
      "True\n",
      "False\n"
     ]
    }
   ],
   "source": [
    "import re\n",
    "def check_punctuation (text):\n",
    "  result = re.search(r\"[,.:;?!]\", text)\n",
    "  return result != None\n",
    "\n",
    "print(check_punctuation(\"This is a sentence that ends with a period.\")) # True\n",
    "print(check_punctuation(\"This is a sentence fragment without a period\")) # False\n",
    "print(check_punctuation(\"Aren't regular expressions awesome?\")) # True\n",
    "print(check_punctuation(\"Wow! We're really picking up some steam now!\")) # True\n",
    "print(check_punctuation(\"End of the line\")) # False"
   ]
  },
  {
   "cell_type": "markdown",
   "id": "658d13cf",
   "metadata": {},
   "source": [
    "# Repetition Qualifiers"
   ]
  },
  {
   "cell_type": "code",
   "execution_count": 63,
   "id": "6a052d80",
   "metadata": {},
   "outputs": [
    {
     "name": "stdout",
     "output_type": "stream",
     "text": [
      "<re.Match object; span=(0, 9), match='Pygmalion'>\n",
      "<re.Match object; span=(0, 17), match='Python Programmin'>\n",
      "<re.Match object; span=(0, 6), match='Python'>\n",
      "<re.Match object; span=(0, 3), match='Pyn'>\n"
     ]
    }
   ],
   "source": [
    "print(re.search(r\"Py.*n\",\"Pygmalion\"))\n",
    "\n",
    "print(re.search(r\"Py.*n\",\"Python Programming\"))\n",
    "\n",
    "print(re.search(r\"Py[a-z]*n\",\"Python Programming\"))\n",
    "\n",
    "print(re.search(r\"Py[a-z]*n\",\"Pyn\"))"
   ]
  },
  {
   "cell_type": "code",
   "execution_count": 66,
   "id": "58ff8fce",
   "metadata": {},
   "outputs": [
    {
     "name": "stdout",
     "output_type": "stream",
     "text": [
      "<re.Match object; span=(1, 3), match='ol'>\n",
      "<re.Match object; span=(1, 5), match='ooll'>\n",
      "None\n"
     ]
    }
   ],
   "source": [
    "print(re.search(r\"o+l+\",\"goldfish\"))\n",
    "\n",
    "print(re.search(r\"o+l+\",\"woolly\"))\n",
    "\n",
    "print(re.search(r\"o+l+\",\"boil\"))"
   ]
  },
  {
   "cell_type": "code",
   "execution_count": 67,
   "id": "0a894fa7",
   "metadata": {},
   "outputs": [
    {
     "name": "stdout",
     "output_type": "stream",
     "text": [
      "True\n",
      "False\n",
      "True\n",
      "True\n"
     ]
    }
   ],
   "source": [
    "import re\n",
    "def repeating_letter_a(text):\n",
    "  result = re.search(r\"[Aa].*[Aa]\", text)\n",
    "  return result != None\n",
    "\n",
    "print(repeating_letter_a(\"banana\")) # True\n",
    "print(repeating_letter_a(\"pineapple\")) # False\n",
    "print(repeating_letter_a(\"Animal Kingdom\")) # True\n",
    "print(repeating_letter_a(\"A is for apple\")) # True"
   ]
  },
  {
   "cell_type": "code",
   "execution_count": 72,
   "id": "38c68297",
   "metadata": {},
   "outputs": [
    {
     "name": "stdout",
     "output_type": "stream",
     "text": [
      "<re.Match object; span=(3, 7), match='each'>\n",
      "<re.Match object; span=(7, 12), match='peach'>\n"
     ]
    }
   ],
   "source": [
    "# The question mark symbol means either zero or one occurrence of the character before it\n",
    "print(re.search(r\"p?each\",\"To each their own\"))\n",
    "\n",
    "print(re.search(r\"p?each\",\"I like peaches\"))"
   ]
  },
  {
   "cell_type": "markdown",
   "id": "46a0a7a9",
   "metadata": {},
   "source": [
    "# Escaping Characters"
   ]
  },
  {
   "cell_type": "code",
   "execution_count": 75,
   "id": "471d9f38",
   "metadata": {},
   "outputs": [
    {
     "name": "stdout",
     "output_type": "stream",
     "text": [
      "<re.Match object; span=(2, 6), match='lcom'>\n",
      "None\n",
      "<re.Match object; span=(8, 12), match='.com'>\n"
     ]
    }
   ],
   "source": [
    "print(re.search(r\".com\",\"welcome\"))\n",
    "\n",
    "print(re.search(r\"\\.com\",\"welcome\"))\n",
    "\n",
    "print(re.search(r\".com\",\"mydomain.com\"))\n",
    "\n"
   ]
  },
  {
   "cell_type": "markdown",
   "id": "2e3d3166",
   "metadata": {},
   "source": [
    "**Note: When we see a pattern that includes a backslash, it could be escaping a special regex character or a special string character**"
   ]
  },
  {
   "cell_type": "code",
   "execution_count": 77,
   "id": "b2298b5b",
   "metadata": {},
   "outputs": [
    {
     "name": "stdout",
     "output_type": "stream",
     "text": [
      "<re.Match object; span=(0, 4), match='This'>\n",
      "<re.Match object; span=(0, 19), match='And_this_is_another'>\n"
     ]
    }
   ],
   "source": [
    "# \\w matches any alphanumeric character including letters, numbers, and underscores\n",
    "print(re.search(r\"\\w*\",\"This is an example\"))\n",
    "\n",
    "print(re.search(r\"\\w*\",\"And_this_is_another\"))"
   ]
  },
  {
   "cell_type": "markdown",
   "id": "17bbec92",
   "metadata": {},
   "source": [
    "- \\d for matching digits\n",
    "- \\s for matching whitespace characters like space, tab or new line, \n",
    "- \\b for word boundaries"
   ]
  },
  {
   "cell_type": "code",
   "execution_count": null,
   "id": "579c8785",
   "metadata": {},
   "outputs": [],
   "source": [
    "import re\n",
    "def check_character_groups(text):\n",
    "  result = re.search(r\"[0-9]\\w\", text)\n",
    "  return result != None\n",
    "\n",
    "print(check_character_groups(\"One\")) # False\n",
    "print(check_character_groups(\"123  Ready Set GO\")) # True\n",
    "print(check_character_groups(\"username user_01\")) # True\n",
    "print(check_character_groups(\"shopping_list: milk, bread, eggs.\")) # False"
   ]
  },
  {
   "cell_type": "markdown",
   "id": "55d9ccff",
   "metadata": {},
   "source": [
    "**Another great resource for testing out your regular expressions is a website called  regex101.com. You can use this to try out your regexes, analyze each part of the expression, and figure out what's up with them when they don't work.**\n",
    "\n",
    "- https://regex101.com/"
   ]
  },
  {
   "cell_type": "markdown",
   "id": "5617c4dc",
   "metadata": {},
   "source": [
    "# Regular Expressions in Action"
   ]
  },
  {
   "cell_type": "code",
   "execution_count": 84,
   "id": "e332b756",
   "metadata": {},
   "outputs": [
    {
     "name": "stdout",
     "output_type": "stream",
     "text": [
      "<re.Match object; span=(0, 9), match='Argentina'>\n",
      "<re.Match object; span=(0, 9), match='Azerbaija'>\n",
      "None\n",
      "<re.Match object; span=(0, 9), match='Australia'>\n"
     ]
    }
   ],
   "source": [
    "print(re.search(r\"A.*a\",\"Argentina\"))\n",
    "\n",
    "print(re.search(r\"A.*a\",\"Azerbaijan\"))\n",
    "\n",
    "print(re.search(r\"^A.*a$\",\"Azerbaijan\"))\n",
    "\n",
    "print(re.search(r\"^A.*a$\",\"Australia\"))\n"
   ]
  },
  {
   "cell_type": "code",
   "execution_count": 89,
   "id": "34b92e9f",
   "metadata": {},
   "outputs": [
    {
     "name": "stdout",
     "output_type": "stream",
     "text": [
      "<re.Match object; span=(0, 30), match='_this_is_a_valid_variable_name'>\n",
      "None\n",
      "<re.Match object; span=(0, 12), match='my_variable1'>\n",
      "None\n"
     ]
    }
   ],
   "source": [
    "pattern = r\"^[a-zA-Z_][a-zA-Z0-9_]*$\"\n",
    "print(re.search(pattern,\"_this_is_a_valid_variable_name\"))\n",
    "\n",
    "print(re.search(pattern,\"this is't a valid variable name\"))\n",
    "\n",
    "print(re.search(pattern,\"my_variable1\"))\n",
    "\n",
    "print(re.search(pattern,\"2my_variable1\"))"
   ]
  },
  {
   "cell_type": "code",
   "execution_count": 90,
   "id": "75b008b6",
   "metadata": {},
   "outputs": [
    {
     "name": "stdout",
     "output_type": "stream",
     "text": [
      "True\n",
      "False\n",
      "False\n",
      "False\n",
      "True\n"
     ]
    }
   ],
   "source": [
    "import re\n",
    "def check_sentence(text):\n",
    "  result = re.search(r\"^[A-Z][a-z| ]*[.?!]$\", text)\n",
    "  return result != None\n",
    "\n",
    "print(check_sentence(\"Is this is a sentence?\")) # True\n",
    "print(check_sentence(\"is this is a sentence?\")) # False\n",
    "print(check_sentence(\"Hello\")) # False\n",
    "print(check_sentence(\"1-2-3-GO!\")) # False\n",
    "print(check_sentence(\"A star is born.\")) # True"
   ]
  },
  {
   "cell_type": "markdown",
   "id": "59cb0932",
   "metadata": {},
   "source": [
    "# Regular Expressions Cheat-Sheet\n",
    "Check out the following links for more information:\n",
    "\n",
    "- https://docs.python.org/3/howto/regex.html\n",
    "\n",
    "- https://docs.python.org/3/library/re.html\n",
    "\n",
    "- https://docs.python.org/3/howto/regex.html#greedy-versus-non-greedy\n",
    "\n",
    "Shout out to regex101.com, which will explain each stage of a regex. "
   ]
  },
  {
   "cell_type": "markdown",
   "id": "02d4414b",
   "metadata": {},
   "source": [
    "# Practice Quiz: Basic Regular Expressions\n"
   ]
  },
  {
   "cell_type": "markdown",
   "id": "2d5144fb",
   "metadata": {},
   "source": [
    "1. The check_web_address function checks if the text passed qualifies as a top-level web address, meaning that it contains alphanumeric characters (which includes letters, numbers, and underscores), as well as periods, dashes, and a plus sign, followed by a period and a character-only top-level domain such as \".com\", \".info\", \".edu\", etc. Fill in the regular expression to do that, using escape characters, wildcards, repetition qualifiers, beginning and end-of-line characters, and character classes."
   ]
  },
  {
   "cell_type": "code",
   "execution_count": 94,
   "id": "cef068c7",
   "metadata": {},
   "outputs": [
    {
     "name": "stdout",
     "output_type": "stream",
     "text": [
      "True\n",
      "False\n",
      "True\n",
      "False\n",
      "True\n"
     ]
    }
   ],
   "source": [
    "import re\n",
    "def check_web_address(text):\n",
    "  pattern = r\"\\.com$|\\.org$|\\.US$\"\n",
    "  result = re.search(pattern, text)\n",
    "  return result != None\n",
    "\n",
    "print(check_web_address(\"gmail.com\")) # True\n",
    "print(check_web_address(\"www@google\")) # False\n",
    "print(check_web_address(\"www.Coursera.org\")) # True\n",
    "print(check_web_address(\"web-address.com/homepage\")) # False\n",
    "print(check_web_address(\"My_Favorite-Blog.US\")) # True"
   ]
  },
  {
   "cell_type": "code",
   "execution_count": 95,
   "id": "4dee3cc9",
   "metadata": {},
   "outputs": [
    {
     "name": "stdout",
     "output_type": "stream",
     "text": [
      "True\n",
      "False\n",
      "True\n",
      "False\n",
      "True\n"
     ]
    }
   ],
   "source": [
    "import re\n",
    "def check_web_address(text):\n",
    "  pattern = r'^[\\w\\._-]*\\.[A-Za-z]*$'\n",
    "  result = re.search(pattern, text)\n",
    "  return result != None\n",
    "\n",
    "print(check_web_address(\"gmail.com\")) # True\n",
    "print(check_web_address(\"www@google\")) # False\n",
    "print(check_web_address(\"www.Coursera.org\")) # True\n",
    "print(check_web_address(\"web-address.com/homepage\")) # False\n",
    "print(check_web_address(\"My_Favorite-Blog.US\")) # True"
   ]
  },
  {
   "cell_type": "markdown",
   "id": "d874135d",
   "metadata": {},
   "source": [
    "2. The check_time function checks for the time format of a 12-hour clock, as follows: the hour is between 1 and 12, with no leading zero, followed by a colon, then minutes between 00 and 59, then an optional space, and then AM or PM, in upper or lower case. Fill in the regular expression to do that. How many of the concepts that you just learned can you use here?"
   ]
  },
  {
   "cell_type": "code",
   "execution_count": 101,
   "id": "d2dadba2",
   "metadata": {},
   "outputs": [
    {
     "name": "stdout",
     "output_type": "stream",
     "text": [
      "True\n",
      "True\n",
      "False\n",
      "False\n"
     ]
    }
   ],
   "source": [
    "import re\n",
    "def check_time(text):\n",
    "  pattern = r'^(1[0-2]|1?[1-9]):([0-5][0-9])( ?([AaPp][Mm]))'\n",
    "  result = re.search(pattern, text)\n",
    "  return result != None\n",
    "\n",
    "print(check_time(\"12:45pm\")) # True\n",
    "print(check_time(\"9:59 AM\")) # True\n",
    "print(check_time(\"6:60am\")) # False\n",
    "print(check_time(\"five o'clock\")) # False"
   ]
  },
  {
   "cell_type": "markdown",
   "id": "c95c8a66",
   "metadata": {},
   "source": [
    "3. The contains_acronym function checks the text for the presence of 2 or more characters or digits surrounded by parentheses, with at least the first character in uppercase (if it's a letter), returning True if the condition is met, or False otherwise. For example, \"Instant messaging (IM) is a set of communication technologies used for text-based communication\" should return True since (IM) satisfies the match conditions.\" Fill in the regular expression in this function: "
   ]
  },
  {
   "cell_type": "code",
   "execution_count": 103,
   "id": "85efaa5c",
   "metadata": {},
   "outputs": [
    {
     "name": "stdout",
     "output_type": "stream",
     "text": [
      "True\n",
      "True\n",
      "False\n",
      "True\n",
      "True\n"
     ]
    }
   ],
   "source": [
    "import re\n",
    "def contains_acronym(text):\n",
    "  pattern = r'\\(+[A-Z0-9][a-zA-Z]*\\)'\n",
    "  result = re.search(pattern, text)\n",
    "  return result != None\n",
    "\n",
    "print(contains_acronym(\"Instant messaging (IM) is a set of communication technologies used for text-based communication\")) # True\n",
    "print(contains_acronym(\"American Standard Code for Information Interchange (ASCII) is a character encoding standard for electronic communication\")) # True\n",
    "print(contains_acronym(\"Please do NOT enter without permission!\")) # False\n",
    "print(contains_acronym(\"PostScript is a fourth-generation programming language (4GL)\")) # True\n",
    "print(contains_acronym(\"Have fun using a self-contained underwater breathing apparatus (Scuba)!\")) # True"
   ]
  },
  {
   "cell_type": "markdown",
   "id": "34cb492d",
   "metadata": {},
   "source": [
    "4. What does the \"r\" before the pattern string in re.search(r\"Py.*n\", sample.txt) indicate?\n",
    "\n",
    "- **Raw strings**\n",
    "- Regex\n",
    "- Repeat\n",
    "- Result"
   ]
  },
  {
   "cell_type": "markdown",
   "id": "7ff97b7b",
   "metadata": {},
   "source": [
    "5. What does the plus character [+] do in regex?\n",
    "\n",
    "- Matches plus sign characters\n",
    "\n",
    "- Matches one or more occurrences of the character before it\n",
    "\n",
    "- Matches the end of a string\n",
    "\n",
    "- Matches the character before the  [+] only if there is more than one"
   ]
  },
  {
   "cell_type": "markdown",
   "id": "4a83197a",
   "metadata": {},
   "source": [
    "6. Fill in the code to check if the text passed includes a possible U.S. zip code, formatted as follows: exactly 5 digits, and sometimes, but not always, followed by a dash with 4 more digits. The zip code needs to be preceded by at least one space, and cannot be at the start of the text."
   ]
  },
  {
   "cell_type": "code",
   "execution_count": 105,
   "id": "326e0094",
   "metadata": {},
   "outputs": [
    {
     "name": "stdout",
     "output_type": "stream",
     "text": [
      "True\n",
      "False\n",
      "True\n",
      "False\n"
     ]
    }
   ],
   "source": [
    "import re\n",
    "def check_zip_code (text):\n",
    "  result = re.search(r' \\d{5}| \\d{5}-\\d{4}', text)\n",
    "  return result != None\n",
    "\n",
    "print(check_zip_code(\"The zip codes for New York are 10001 thru 11104.\")) # True\n",
    "print(check_zip_code(\"90210 is a TV show\")) # False\n",
    "print(check_zip_code(\"Their address is: 123 Main Street, Anytown, AZ 85258-0001.\")) # True\n",
    "print(check_zip_code(\"The Parliament of Canada is at 111 Wellington St, Ottawa, ON K1A0A9.\")) # False"
   ]
  },
  {
   "cell_type": "markdown",
   "id": "ff81cf6c",
   "metadata": {},
   "source": [
    "# Capturing Groups"
   ]
  },
  {
   "cell_type": "code",
   "execution_count": 116,
   "id": "13dd8f0b",
   "metadata": {},
   "outputs": [
    {
     "name": "stdout",
     "output_type": "stream",
     "text": [
      "<re.Match object; span=(0, 13), match='Lovelace, Ada'>\n",
      "('Lovelace', 'Ada')\n",
      "Lovelace, Ada\n",
      "Lovelace\n",
      "Ada\n"
     ]
    },
    {
     "data": {
      "text/plain": [
       "'Ada Lovelace'"
      ]
     },
     "execution_count": 116,
     "metadata": {},
     "output_type": "execute_result"
    }
   ],
   "source": [
    "result = re.search(r\"^(\\w*), (\\w*)$\",\"Lovelace, Ada\")\n",
    "print(result)\n",
    "print(result.groups())\n",
    "print(result[0])\n",
    "print(result[1])\n",
    "print(result[2])\n",
    "\"{} {}\".format(result[2], result[1])"
   ]
  },
  {
   "cell_type": "code",
   "execution_count": 135,
   "id": "cbff9abf",
   "metadata": {},
   "outputs": [],
   "source": [
    "def rearrange_name(name):\n",
    "    result = re.search(r\"^([\\w \\.-]*), ([\\w \\.-]*)$\",name)\n",
    "    if result is None:\n",
    "        return name\n",
    "    return \"{} {}\".format(result[2], result[1])"
   ]
  },
  {
   "cell_type": "code",
   "execution_count": 136,
   "id": "4fa37629",
   "metadata": {},
   "outputs": [
    {
     "data": {
      "text/plain": [
       "'Ada Lovelace'"
      ]
     },
     "execution_count": 136,
     "metadata": {},
     "output_type": "execute_result"
    }
   ],
   "source": [
    "rearrange_name(\"Lovelace, Ada\")"
   ]
  },
  {
   "cell_type": "code",
   "execution_count": 137,
   "id": "89a2c198",
   "metadata": {},
   "outputs": [
    {
     "data": {
      "text/plain": [
       "'Dennis Ritch'"
      ]
     },
     "execution_count": 137,
     "metadata": {},
     "output_type": "execute_result"
    }
   ],
   "source": [
    "rearrange_name(\"Ritch, Dennis\")"
   ]
  },
  {
   "cell_type": "code",
   "execution_count": 138,
   "id": "957f2e04",
   "metadata": {},
   "outputs": [
    {
     "data": {
      "text/plain": [
       "'Grace M. Hoper'"
      ]
     },
     "execution_count": 138,
     "metadata": {},
     "output_type": "execute_result"
    }
   ],
   "source": [
    "rearrange_name(\"Hoper, Grace M.\")"
   ]
  },
  {
   "cell_type": "markdown",
   "id": "44449d53",
   "metadata": {},
   "source": [
    "# Repetition Qualifiers"
   ]
  },
  {
   "cell_type": "code",
   "execution_count": 150,
   "id": "b8fcaf61",
   "metadata": {},
   "outputs": [
    {
     "name": "stdout",
     "output_type": "stream",
     "text": [
      "<re.Match object; span=(2, 7), match='ghost'>\n",
      "<re.Match object; span=(2, 7), match='scary'>\n",
      "['scary', 'ghost', 'appea']\n",
      "['scary', 'ghost']\n",
      "['really', 'strawberri']\n",
      "['really', 'strawberries']\n",
      "<re.Match object; span=(14, 26), match='strawberries'>\n"
     ]
    }
   ],
   "source": [
    "# we're looking for letters that are repeated five times\n",
    "print(re.search(r\"[a-zA-Z]{5}\",\"a ghost\"))\n",
    "\n",
    "# In this string, we actually have more matches for our search, but we only get the first one\n",
    "print(re.search(r\"[a-zA-Z]{5}\",\"a scary ghost appeared\"))"
   ]
  },
  {
   "cell_type": "code",
   "execution_count": 152,
   "id": "49d41efa",
   "metadata": {},
   "outputs": [
    {
     "name": "stdout",
     "output_type": "stream",
     "text": [
      "['scary', 'ghost', 'appea']\n",
      "['scary', 'ghost']\n",
      "['really', 'strawberri']\n",
      "['really', 'strawberries']\n"
     ]
    }
   ],
   "source": [
    "print(re.findall(r\"[a-zA-Z]{5}\",\"a scary ghost appeared\"))\n",
    "\n",
    "# if we wanted to match all the words that are exactly five letters long \n",
    "# We can do that using \\b, which matches word limits \n",
    "# at the beginning and end of the pattern, to indicate that we want full words\n",
    "print(re.findall(r\"\\b[a-zA-Z]{5}\\b\",\"a scary ghost appeared\"))\n",
    "\n",
    "# if we wanted to match a range of five to ten letters or numbers\n",
    "print(re.findall(r\"\\w{5,10}\",\"I really like strawberries\"))\n",
    "\n",
    "print(re.findall(r\"\\w{5,}\",\"I really like strawberries\"))"
   ]
  },
  {
   "cell_type": "code",
   "execution_count": 151,
   "id": "2edc904a",
   "metadata": {},
   "outputs": [
    {
     "name": "stdout",
     "output_type": "stream",
     "text": [
      "<re.Match object; span=(14, 26), match='strawberries'>\n"
     ]
    }
   ],
   "source": [
    "# we look for a pattern that was an S followed by up to 20 alphanumeric characters.\n",
    "# So we got a match for strawberries which starts with S, and is followed by 11 characters\n",
    "print(re.search(r\"s\\w{,20}\",\"I really like strawberries\"))"
   ]
  },
  {
   "cell_type": "markdown",
   "id": "88e3a0e5",
   "metadata": {},
   "source": [
    "**Question**\n",
    "\n",
    "The long_words function returns all words that are at least 7 characters. Fill in the regular expression to complete this function."
   ]
  },
  {
   "cell_type": "code",
   "execution_count": 153,
   "id": "a39f7a57",
   "metadata": {},
   "outputs": [
    {
     "name": "stdout",
     "output_type": "stream",
     "text": [
      "['morning']\n",
      "['chocolate', 'afternoon']\n",
      "[]\n"
     ]
    }
   ],
   "source": [
    "import re\n",
    "def long_words(text):\n",
    "  pattern = r\"\\w{7,}\"\n",
    "  result = re.findall(pattern, text)\n",
    "  return result\n",
    "\n",
    "print(long_words(\"I like to drink coffee in the morning.\")) # ['morning']\n",
    "print(long_words(\"I also have a taste for hot chocolate in the afternoon.\")) # ['chocolate', 'afternoon']\n",
    "print(long_words(\"I never drink tea late at night.\")) # []\n"
   ]
  },
  {
   "cell_type": "markdown",
   "id": "aad9652f",
   "metadata": {},
   "source": [
    "# Extracting a PID Using regexes in Python"
   ]
  },
  {
   "cell_type": "code",
   "execution_count": 155,
   "id": "e037b4cb",
   "metadata": {},
   "outputs": [
    {
     "name": "stdout",
     "output_type": "stream",
     "text": [
      "12345\n"
     ]
    }
   ],
   "source": [
    "import re\n",
    "log = \"July 31 07:51:48 mycomputer bad_process [12345]: ERROR Performing package upgrade\"\n",
    "regex = r\"\\[(\\d+)\\]\"\n",
    "result = re.search(regex, log)\n",
    "print(result[1])"
   ]
  },
  {
   "cell_type": "code",
   "execution_count": 158,
   "id": "4a58ba2b",
   "metadata": {},
   "outputs": [
    {
     "name": "stdout",
     "output_type": "stream",
     "text": [
      "34567\n"
     ]
    }
   ],
   "source": [
    "result = re.search(regex, \"A completely difeerent string that also has bumbers [34567]\")\n",
    "print(result[1])"
   ]
  },
  {
   "cell_type": "code",
   "execution_count": 160,
   "id": "7c4cda2f",
   "metadata": {},
   "outputs": [
    {
     "ename": "TypeError",
     "evalue": "'NoneType' object is not subscriptable",
     "output_type": "error",
     "traceback": [
      "\u001b[0;31m---------------------------------------------------------------------------\u001b[0m",
      "\u001b[0;31mTypeError\u001b[0m                                 Traceback (most recent call last)",
      "Cell \u001b[0;32mIn [160], line 4\u001b[0m\n\u001b[1;32m      1\u001b[0m \u001b[38;5;66;03m# We tried to access the index 1 of a variable that was none. \u001b[39;00m\n\u001b[1;32m      2\u001b[0m \u001b[38;5;66;03m# As Python tells us, this isn't something that we can do\u001b[39;00m\n\u001b[1;32m      3\u001b[0m result \u001b[38;5;241m=\u001b[39m re\u001b[38;5;241m.\u001b[39msearch(regex, \u001b[38;5;124m\"\u001b[39m\u001b[38;5;124m99 elephants in a [cage]\u001b[39m\u001b[38;5;124m\"\u001b[39m)\n\u001b[0;32m----> 4\u001b[0m \u001b[38;5;28mprint\u001b[39m(\u001b[43mresult\u001b[49m\u001b[43m[\u001b[49m\u001b[38;5;241;43m1\u001b[39;49m\u001b[43m]\u001b[49m)\n",
      "\u001b[0;31mTypeError\u001b[0m: 'NoneType' object is not subscriptable"
     ]
    }
   ],
   "source": [
    "# We tried to access the index 1 of a variable that was none. \n",
    "# As Python tells us, this isn't something that we can do\n",
    "result = re.search(regex, \"99 elephants in a [cage]\")\n",
    "print(result[1])"
   ]
  },
  {
   "cell_type": "code",
   "execution_count": 169,
   "id": "5d021eee",
   "metadata": {},
   "outputs": [
    {
     "name": "stdout",
     "output_type": "stream",
     "text": [
      "12345\n",
      "\n"
     ]
    }
   ],
   "source": [
    "def extract_pid(log_line):\n",
    "    regex = r\"\\[(\\d+)\\]\"\n",
    "    result = re.search(regex, log_line)\n",
    "    if result is None:\n",
    "        return \"\"\n",
    "    return result[1]\n",
    "\n",
    "\n",
    "log = \"July 31 07:51:48 mycomputer bad_process [12345]: ERROR Performing package upgrade\"\n",
    "print(extract_pid(log)) \n",
    "\n",
    "print(extract_pid(\"99 elephants in a [cage]\"))"
   ]
  },
  {
   "cell_type": "markdown",
   "id": "7d60921a",
   "metadata": {},
   "source": [
    "**Question**\n",
    "\n",
    "Add to the regular expression used in the extract_pid function, to return the uppercase message in parenthesis, after the process id."
   ]
  },
  {
   "cell_type": "code",
   "execution_count": 170,
   "id": "62fd739d",
   "metadata": {},
   "outputs": [
    {
     "name": "stdout",
     "output_type": "stream",
     "text": [
      "12345 (ERROR)\n",
      "None\n",
      "None\n",
      "67890 (RUNNING)\n"
     ]
    }
   ],
   "source": [
    "import re\n",
    "def extract_pid(log_line):\n",
    "    regex = r\"\\[(\\d+)\\]: (\\w+)\"\n",
    "    result = re.search(regex, log_line)\n",
    "    if result is None:\n",
    "        return None\n",
    "    return \"{} ({})\".format(result[1],result[2])\n",
    "\n",
    "print(extract_pid(\"July 31 07:51:48 mycomputer bad_process[12345]: ERROR Performing package upgrade\")) # 12345 (ERROR)\n",
    "print(extract_pid(\"99 elephants in a [cage]\")) # None\n",
    "print(extract_pid(\"A string that also has numbers [34567] but no uppercase message\")) # None\n",
    "print(extract_pid(\"July 31 08:08:08 mycomputer new_process[67890]: RUNNING Performing backup\")) # 67890 (RUNNING)\n"
   ]
  },
  {
   "cell_type": "markdown",
   "id": "35d55d81",
   "metadata": {},
   "source": [
    "# Splitting and Replacing\n"
   ]
  },
  {
   "cell_type": "code",
   "execution_count": 173,
   "id": "df0a7c75",
   "metadata": {},
   "outputs": [
    {
     "name": "stdout",
     "output_type": "stream",
     "text": [
      "['One sentence', ' Another one', ' And the last one', '']\n"
     ]
    }
   ],
   "source": [
    "# Split\n",
    "# For example we may want to split a piece of text into separate sentences. \n",
    "# To do that we need to check not only for the dots \n",
    "# but also for question marks or exclamation marks since they're also valid sentence endings. \n",
    "# Check out how we are not escaping the characters that we wrote inside the square brackets. \n",
    "# That's because anything that's inside the square brackets is taking for the \n",
    "# literal character and not for its special meaning. Also see how the notation marks \n",
    "# aren't present in the resulting list.\n",
    "print(re.split(r\"[.?!]\", \"One sentence. Another one? And the last one!\"))"
   ]
  },
  {
   "cell_type": "code",
   "execution_count": 174,
   "id": "0a15dfa2",
   "metadata": {},
   "outputs": [
    {
     "name": "stdout",
     "output_type": "stream",
     "text": [
      "['One sentence', '.', ' Another one', '?', ' And the last one', '!', '']\n"
     ]
    }
   ],
   "source": [
    "# If we want our split list to include the elements that we're using to split the values \n",
    "# we can use capturing parentheses like this.\n",
    "print(re.split(r\"([.?!])\", \"One sentence. Another one? And the last one!\"))"
   ]
  },
  {
   "cell_type": "code",
   "execution_count": 179,
   "id": "98c89a5d",
   "metadata": {},
   "outputs": [
    {
     "name": "stdout",
     "output_type": "stream",
     "text": [
      "Received an email for [REDACTED]\n"
     ]
    }
   ],
   "source": [
    "# Sub it's used for creating new strings by substituting all or part of them \n",
    "# for a different string, similar to the replace string method but using regular expressions \n",
    "# for both the matching and the replacing.\n",
    "print(re.sub(r\"[\\w.%+-]+@[\\w.-]+\", \"[REDACTED]\", \"Received an email for go_nuts95@myexample.com\"))\n",
    "            "
   ]
  },
  {
   "cell_type": "code",
   "execution_count": 181,
   "id": "239d5c62",
   "metadata": {},
   "outputs": [
    {
     "name": "stdout",
     "output_type": "stream",
     "text": [
      "Lovelace Lovelace\n"
     ]
    }
   ],
   "source": [
    "# Let's now look at an example using sub where we use regular expressions for the replacing. \n",
    "# For that, we'll go back to our code that switched the order of names of people and use sub \n",
    "# to create the new string.\n",
    "print(re.sub(r\"^([\\w .-]*), ([\\w .-]*)\", r\"\\1 \\1\", \"Lovelace, Ada\"))\n",
    "# So once again we'd use parentheses to create capturing groups. \n",
    "# In the first parameter, we've got an expression that contains the two groups \n",
    "# that we want to match: one before the comma and one after the comma. \n",
    "# We want to use a second parameter to replace the matching string. \n",
    "# We use backslash two to indicate the second captured group followed by a space and \n",
    "# backslash one to indicate the first captured group. When referring to captured groups, \n",
    "# a backslash followed by a number indicates the corresponding captured group. \n",
    "# This is a general notation for regular expressions, \n",
    "# and it's used by many tools that support regexes, not just Python. "
   ]
  },
  {
   "cell_type": "code",
   "execution_count": 182,
   "id": "97bfac40",
   "metadata": {},
   "outputs": [
    {
     "data": {
      "text/plain": [
       "['One sentence. Ano', 'r one? And ', ' l', 'st one!']"
      ]
     },
     "execution_count": 182,
     "metadata": {},
     "output_type": "execute_result"
    }
   ],
   "source": [
    "re.split(r\"the|a\", \"One sentence. Another one? And the last one!\")"
   ]
  },
  {
   "cell_type": "markdown",
   "id": "2a705192",
   "metadata": {},
   "source": [
    "# Advanced Regular Expressions Cheat-Sheet\n",
    "\n",
    "**Check out the following link for more information:**\n",
    "\n",
    "https://regexcrossword.com/"
   ]
  },
  {
   "cell_type": "markdown",
   "id": "3006450e",
   "metadata": {},
   "source": [
    "# Practice Quiz: Advanced Regular Expressions"
   ]
  },
  {
   "cell_type": "markdown",
   "id": "5905574f",
   "metadata": {},
   "source": [
    "1. We're working with a CSV file, which contains employee information. Each record has a name field, followed by a phone number field, and a role field. The phone number field contains U.S. phone numbers, and needs to be modified to the international format, with \"+1-\" in front of the phone number. Fill in the regular expression, using groups, to use the transform_record function to do that."
   ]
  },
  {
   "cell_type": "code",
   "execution_count": 191,
   "id": "eb68814d",
   "metadata": {},
   "outputs": [
    {
     "name": "stdout",
     "output_type": "stream",
     "text": [
      "Sabrina Green,+1-802-867-5309,System Administrator\n",
      "Eli Jones,+1-684-3481127,IT specialist\n",
      "Melody Daniels,+1-846-687-7436,Programmer\n",
      "Charlie Rivera,+1-698-746-3357,Web Developer\n"
     ]
    }
   ],
   "source": [
    "import re\n",
    "def transform_record(record):\n",
    "  new_record = re.sub(r\",(\\d{3})\",r\",+1-\\1\",record)\n",
    "  return new_record\n",
    "\n",
    "print(transform_record(\"Sabrina Green,802-867-5309,System Administrator\")) \n",
    "# Sabrina Green,+1-802-867-5309,System Administrator\n",
    "\n",
    "print(transform_record(\"Eli Jones,684-3481127,IT specialist\")) \n",
    "# Eli Jones,+1-684-3481127,IT specialist\n",
    "\n",
    "print(transform_record(\"Melody Daniels,846-687-7436,Programmer\")) \n",
    "# Melody Daniels,+1-846-687-7436,Programmer\n",
    "\n",
    "print(transform_record(\"Charlie Rivera,698-746-3357,Web Developer\")) \n",
    "# Charlie Rivera,+1-698-746-3357,Web Developer"
   ]
  },
  {
   "cell_type": "markdown",
   "id": "4371a8f1",
   "metadata": {},
   "source": [
    "2. The multi_vowel_words function returns all words with 3 or more consecutive vowels (a, e, i, o, u). Fill in the regular expression to do that."
   ]
  },
  {
   "cell_type": "code",
   "execution_count": 192,
   "id": "f2fc1e79",
   "metadata": {},
   "outputs": [
    {
     "name": "stdout",
     "output_type": "stream",
     "text": [
      "['beautiful']\n",
      "['Obviously', 'queen', 'courageous', 'gracious']\n",
      "['rambunctious', 'quietly', 'delicious']\n",
      "['queue']\n",
      "[]\n"
     ]
    }
   ],
   "source": [
    "import re\n",
    "def multi_vowel_words(text):\n",
    "  pattern = r'\\w+[aiueo]{3,}\\w+'\n",
    "  result = re.findall(pattern, text)\n",
    "  return result\n",
    "\n",
    "print(multi_vowel_words(\"Life is beautiful\")) \n",
    "# ['beautiful']\n",
    "\n",
    "print(multi_vowel_words(\"Obviously, the queen is courageous and gracious.\")) \n",
    "# ['Obviously', 'queen', 'courageous', 'gracious']\n",
    "\n",
    "print(multi_vowel_words(\"The rambunctious children had to sit quietly and await their delicious dinner.\")) \n",
    "# ['rambunctious', 'quietly', 'delicious']\n",
    "\n",
    "print(multi_vowel_words(\"The order of a data queue is First In First Out (FIFO)\")) \n",
    "# ['queue']\n",
    "\n",
    "print(multi_vowel_words(\"Hello world!\")) \n",
    "# []"
   ]
  },
  {
   "cell_type": "markdown",
   "id": "8225f2f0",
   "metadata": {},
   "source": [
    "3. When capturing regex groups, what datatype does the groups method return?\n",
    "\n",
    "- A string\n",
    "\n",
    "- A tuple\n",
    "\n",
    "- A list\n",
    "\n",
    "- A float"
   ]
  },
  {
   "cell_type": "markdown",
   "id": "5e379cbf",
   "metadata": {},
   "source": [
    "4. The transform_comments function converts comments in a Python script into those usable by a C compiler. This means looking for text that begins with a hash mark (#) and replacing it with double slashes (//), which is the C single-line comment indicator. For the purpose of this exercise, we'll ignore the possibility of a hash mark embedded inside of a Python command, and assume that it's only used to indicate a comment. We also want to treat repetitive hash marks (##), (###), etc., as a single comment indicator, to be replaced with just (//) and not (#//) or (//#). Fill in the parameters of the substitution method to complete this function: "
   ]
  },
  {
   "cell_type": "code",
   "execution_count": 189,
   "id": "3b451bb4",
   "metadata": {},
   "outputs": [
    {
     "name": "stdout",
     "output_type": "stream",
     "text": [
      "// Start of program\n",
      "  number = 0   // Initialize the variable\n",
      "  number += 1   // Increment the variable\n",
      "  return(number)\n"
     ]
    }
   ],
   "source": [
    "import re\n",
    "def transform_comments(line_of_code):\n",
    "  result = re.sub(r'\\#{1,}', r'//', line_of_code)\n",
    "  return result\n",
    "\n",
    "print(transform_comments(\"### Start of program\")) \n",
    "# Should be \"// Start of program\"\n",
    "print(transform_comments(\"  number = 0   ## Initialize the variable\")) \n",
    "# Should be \"  number = 0   // Initialize the variable\"\n",
    "print(transform_comments(\"  number += 1   # Increment the variable\")) \n",
    "# Should be \"  number += 1   // Increment the variable\"\n",
    "print(transform_comments(\"  return(number)\")) \n",
    "# Should be \"  return(number)\""
   ]
  },
  {
   "cell_type": "markdown",
   "id": "1c21836c",
   "metadata": {},
   "source": [
    "5. The convert_phone_number function checks for a U.S. phone number format: XXX-XXX-XXXX (3 digits followed by a dash, 3 more digits followed by a dash, and 4 digits), and converts it to a more formal format that looks like this: (XXX) XXX-XXXX. Fill in the regular expression to complete this function."
   ]
  },
  {
   "cell_type": "code",
   "execution_count": 190,
   "id": "3600ff1c",
   "metadata": {},
   "outputs": [
    {
     "name": "stdout",
     "output_type": "stream",
     "text": [
      "My number is (212) 345-9999.\n",
      "Please call (888) 555-1234\n",
      "123-123-12345\n",
      "Phone number of Buckingham Palace is +44 303 123 7300\n"
     ]
    }
   ],
   "source": [
    "import re\n",
    "def convert_phone_number(phone):\n",
    "  result = re.sub(r\"\\b(\\d{3})-(\\d{3})-(\\d{4})\\b\", r\"(\\1) \\2-\\3\", phone)\n",
    "  return result\n",
    "\n",
    "print(convert_phone_number(\"My number is 212-345-9999.\")) # My number is (212) 345-9999.\n",
    "print(convert_phone_number(\"Please call 888-555-1234\")) # Please call (888) 555-1234\n",
    "print(convert_phone_number(\"123-123-12345\")) # 123-123-12345\n",
    "print(convert_phone_number(\"Phone number of Buckingham Palace is +44 303 123 7300\")) # Phone number of Buckingham Palace is +44 303 123 7300"
   ]
  },
  {
   "cell_type": "markdown",
   "id": "2310ebdc",
   "metadata": {},
   "source": [
    "# Qwiklabs Assessment: Working with Regular Expressions\n",
    "**Introduction**\n",
    "It's time to put your new skills to the test! In this lab, you'll have to find the users using an old email domain in a big list using regular expressions. \n",
    "\n",
    "**What you'll do**\n",
    "Replacing the old domain name (abc.edu) with a new domain name (xyz.edu).\n",
    "\n",
    "Storing all domain names, including the updated ones, in a new file.\n",
    "\n",
    "You'll have 90 minutes to complete this lab."
   ]
  },
  {
   "cell_type": "code",
   "execution_count": null,
   "id": "ce29ccaf",
   "metadata": {},
   "outputs": [],
   "source": []
  }
 ],
 "metadata": {
  "kernelspec": {
   "display_name": "Python 3 (ipykernel)",
   "language": "python",
   "name": "python3"
  },
  "language_info": {
   "codemirror_mode": {
    "name": "ipython",
    "version": 3
   },
   "file_extension": ".py",
   "mimetype": "text/x-python",
   "name": "python",
   "nbconvert_exporter": "python",
   "pygments_lexer": "ipython3",
   "version": "3.10.9"
  }
 },
 "nbformat": 4,
 "nbformat_minor": 5
}
