{
 "cells": [
  {
   "cell_type": "code",
   "execution_count": 8,
   "id": "fdbd75a4",
   "metadata": {},
   "outputs": [
    {
     "name": "stdout",
     "output_type": "stream",
     "text": [
      "17.5\n",
      "35\n",
      "78.53981633974483\n",
      "235.61944901923448\n"
     ]
    }
   ],
   "source": [
    "import math\n",
    "\n",
    "def triagle(base, height):\n",
    "    return base*height/2\n",
    "\n",
    "def rectangle(base, height):\n",
    "    return base*height\n",
    "\n",
    "def circle(radius):\n",
    "    return math.pi*(radius**2)\n",
    "\n",
    "def donut(outside_circle, inside_circle):\n",
    "    return circle(outside_circle) - circle(inside_circle)\n",
    "\n",
    "tri=triagle(7,5)\n",
    "rec=rectangle(7,5)\n",
    "cir=circle(5)\n",
    "don=donut(10,5)\n",
    "\n",
    "print(t)\n",
    "print(rec)\n",
    "print(cir)\n",
    "print(don)\n"
   ]
  },
  {
   "cell_type": "markdown",
   "id": "27d92c81",
   "metadata": {},
   "source": [
    "# Check Disk Usage"
   ]
  },
  {
   "cell_type": "code",
   "execution_count": 11,
   "id": "b4108f5b",
   "metadata": {},
   "outputs": [
    {
     "name": "stdout",
     "output_type": "stream",
     "text": [
      "usage(total=494384795648, used=256904298496, free=237480497152)\n",
      "48.035558383370095\n"
     ]
    }
   ],
   "source": [
    "import shutil\n",
    "\n",
    "du = shutil.disk_usage(\"/\")\n",
    "\n",
    "# Percentage disk usage\n",
    "per_disk_usage = du.free/du.total*100\n",
    "\n",
    "print(du)\n",
    "print(per_disk_usage)"
   ]
  },
  {
   "cell_type": "markdown",
   "id": "8cc96f97",
   "metadata": {},
   "source": [
    "# Check CPU Usage"
   ]
  },
  {
   "cell_type": "code",
   "execution_count": 17,
   "id": "1cc2e89a",
   "metadata": {},
   "outputs": [
    {
     "name": "stdout",
     "output_type": "stream",
     "text": [
      "8.2\n",
      "0.0\n",
      "0.0\n",
      "0.0\n",
      "3.5\n",
      "0.0\n",
      "5.7\n",
      "8.8\n"
     ]
    }
   ],
   "source": [
    "import psutil\n",
    "\n",
    "cpu1 = psutil.cpu_percent(.1)\n",
    "cpu2 = psutil.cpu_percent(.1)\n",
    "cpu3 = psutil.cpu_percent(.1)\n",
    "cpu4 = psutil.cpu_percent(.1)\n",
    "\n",
    "cpu1a = psutil.cpu_percent(.5)\n",
    "cpu2a = psutil.cpu_percent(.5)\n",
    "cpu3a = psutil.cpu_percent(.5)\n",
    "cpu4a = psutil.cpu_percent(.5)\n",
    "\n",
    "print(cpu1)\n",
    "print(cpu2)\n",
    "print(cpu3)\n",
    "print(cpu4)\n",
    "\n",
    "print(cpu1a)\n",
    "print(cpu2a)\n",
    "print(cpu3a)\n",
    "print(cpu4a)"
   ]
  },
  {
   "cell_type": "markdown",
   "id": "e8aac38f",
   "metadata": {},
   "source": [
    "# Sample Health Check Script "
   ]
  },
  {
   "cell_type": "code",
   "execution_count": 18,
   "id": "6e3332a2",
   "metadata": {},
   "outputs": [
    {
     "name": "stdout",
     "output_type": "stream",
     "text": [
      "Everything is OK!\n"
     ]
    }
   ],
   "source": [
    "import shutil\n",
    "import psutil\n",
    "\n",
    "def check_disk_usage(disk):\n",
    "    du = shutil.disk_usage(disk)\n",
    "    free = du.free / du.total * 100\n",
    "    return free > 20\n",
    "\n",
    "def check_cpu_usage():\n",
    "    usage = psutil.cpu_percent(1)\n",
    "    return usage < 75\n",
    "\n",
    "if not check_disk_usage(\"/\") or not check_cpu_usage():\n",
    "    print(\"ERROR!\")\n",
    "else:\n",
    "    print(\"Everything is OK!\")   "
   ]
  },
  {
   "cell_type": "code",
   "execution_count": null,
   "id": "220d67e6",
   "metadata": {},
   "outputs": [],
   "source": []
  }
 ],
 "metadata": {
  "kernelspec": {
   "display_name": "Python 3 (ipykernel)",
   "language": "python",
   "name": "python3"
  },
  "language_info": {
   "codemirror_mode": {
    "name": "ipython",
    "version": 3
   },
   "file_extension": ".py",
   "mimetype": "text/x-python",
   "name": "python",
   "nbconvert_exporter": "python",
   "pygments_lexer": "ipython3",
   "version": "3.10.9"
  }
 },
 "nbformat": 4,
 "nbformat_minor": 5
}
