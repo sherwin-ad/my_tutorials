{
 "cells": [
  {
   "cell_type": "markdown",
   "id": "cec0beaa",
   "metadata": {},
   "source": [
    "# Reading and Writing Files"
   ]
  },
  {
   "cell_type": "markdown",
   "id": "9efbf8e0",
   "metadata": {},
   "source": [
    "Remember to close line after using "
   ]
  },
  {
   "cell_type": "code",
   "execution_count": 1,
   "id": "b0b292cf",
   "metadata": {},
   "outputs": [
    {
     "name": "stdout",
     "output_type": "stream",
     "text": [
      "Incy Wincy spider Climbed up the water spout\n",
      "\n",
      "Down came the rain And washed poor Incy out\n",
      "\n"
     ]
    }
   ],
   "source": [
    "file = open(\"spider.txt\")\n",
    "print(file.readline())\n",
    "\n",
    "print(file.readline())\n",
    "\n",
    "file.close()"
   ]
  },
  {
   "cell_type": "markdown",
   "id": "9aca2fa0",
   "metadata": {},
   "source": [
    "# \"with\" block, Python will automatically close the file"
   ]
  },
  {
   "cell_type": "code",
   "execution_count": 2,
   "id": "50f31598",
   "metadata": {},
   "outputs": [
    {
     "name": "stdout",
     "output_type": "stream",
     "text": [
      "Incy Wincy spider Climbed up the water spout\n",
      "Down came the rain And washed poor Incy out\n",
      "Out came the sunshine and dried up all the rain\n",
      "And Incy Wincy spider Climbed up the spout again.\n",
      "Incy Wincy spider Climbed up the water spout\n",
      "Down came the rain And washed poor Incy out\n",
      "Out came the sunshine and dried up all the rain\n",
      "And Incy Wincy spider Climbed up the spout again.\n"
     ]
    }
   ],
   "source": [
    "with open(\"spider.txt\") as file:\n",
    "    print(file.read())"
   ]
  },
  {
   "cell_type": "markdown",
   "id": "10463e20",
   "metadata": {},
   "source": [
    "# Iterating through Files"
   ]
  },
  {
   "cell_type": "code",
   "execution_count": 3,
   "id": "e4264eca",
   "metadata": {},
   "outputs": [
    {
     "name": "stdout",
     "output_type": "stream",
     "text": [
      "INCY WINCY SPIDER CLIMBED UP THE WATER SPOUT\n",
      "\n",
      "DOWN CAME THE RAIN AND WASHED POOR INCY OUT\n",
      "\n",
      "OUT CAME THE SUNSHINE AND DRIED UP ALL THE RAIN\n",
      "\n",
      "AND INCY WINCY SPIDER CLIMBED UP THE SPOUT AGAIN.\n",
      "\n",
      "INCY WINCY SPIDER CLIMBED UP THE WATER SPOUT\n",
      "\n",
      "DOWN CAME THE RAIN AND WASHED POOR INCY OUT\n",
      "\n",
      "OUT CAME THE SUNSHINE AND DRIED UP ALL THE RAIN\n",
      "\n",
      "AND INCY WINCY SPIDER CLIMBED UP THE SPOUT AGAIN.\n"
     ]
    }
   ],
   "source": [
    " with open (\"spider.txt\") as file:\n",
    "        for line in file:\n",
    "            print (line.upper())"
   ]
  },
  {
   "cell_type": "markdown",
   "id": "175be108",
   "metadata": {},
   "source": [
    "## Use \"strip\" to remove the new line character or space between lines"
   ]
  },
  {
   "cell_type": "code",
   "execution_count": 4,
   "id": "d4b3c678",
   "metadata": {},
   "outputs": [
    {
     "name": "stdout",
     "output_type": "stream",
     "text": [
      "INCY WINCY SPIDER CLIMBED UP THE WATER SPOUT\n",
      "DOWN CAME THE RAIN AND WASHED POOR INCY OUT\n",
      "OUT CAME THE SUNSHINE AND DRIED UP ALL THE RAIN\n",
      "AND INCY WINCY SPIDER CLIMBED UP THE SPOUT AGAIN.\n",
      "INCY WINCY SPIDER CLIMBED UP THE WATER SPOUT\n",
      "DOWN CAME THE RAIN AND WASHED POOR INCY OUT\n",
      "OUT CAME THE SUNSHINE AND DRIED UP ALL THE RAIN\n",
      "AND INCY WINCY SPIDER CLIMBED UP THE SPOUT AGAIN.\n"
     ]
    }
   ],
   "source": [
    " with open (\"spider.txt\") as file:\n",
    "        for line in file:\n",
    "            print (line.strip().upper())"
   ]
  },
  {
   "cell_type": "code",
   "execution_count": 5,
   "id": "64996db7",
   "metadata": {},
   "outputs": [
    {
     "name": "stdout",
     "output_type": "stream",
     "text": [
      "['And Incy Wincy spider Climbed up the spout again.', 'And Incy Wincy spider Climbed up the spout again.\\n', 'Down came the rain And washed poor Incy out\\n', 'Down came the rain And washed poor Incy out\\n', 'Incy Wincy spider Climbed up the water spout\\n', 'Incy Wincy spider Climbed up the water spout\\n', 'Out came the sunshine and dried up all the rain\\n', 'Out came the sunshine and dried up all the rain\\n']\n"
     ]
    }
   ],
   "source": [
    "file = open(\"spider.txt\")\n",
    "lines = file.readlines()\n",
    "file.close()\n",
    "lines.sort()\n",
    "print(lines)"
   ]
  },
  {
   "cell_type": "markdown",
   "id": "eb4fe184",
   "metadata": {},
   "source": [
    "# Writing Files"
   ]
  },
  {
   "cell_type": "code",
   "execution_count": 6,
   "id": "d24959cc",
   "metadata": {},
   "outputs": [],
   "source": [
    "with open(\"novel.txt\", \"w\") as file:\n",
    "    file.write(\"It was a dark and stormy night\")"
   ]
  },
  {
   "cell_type": "markdown",
   "id": "45d3547b",
   "metadata": {},
   "source": [
    "# Reading and Writing Files Cheat-Sheet\n",
    "\n",
    "Check out the following link for more information:\n",
    "\n",
    "- https://docs.python.org/3/library/functions.html#open"
   ]
  },
  {
   "cell_type": "markdown",
   "id": "6a38fc41",
   "metadata": {},
   "source": [
    "# Managing Files and Directories\n",
    "\n",
    "## Working with Files"
   ]
  },
  {
   "cell_type": "code",
   "execution_count": 7,
   "id": "6441af9c",
   "metadata": {},
   "outputs": [],
   "source": [
    "# Remove file\n",
    "import os\n",
    "os.remove(\"novel.txt\")"
   ]
  },
  {
   "cell_type": "code",
   "execution_count": 8,
   "id": "a5e31679",
   "metadata": {},
   "outputs": [
    {
     "ename": "FileNotFoundError",
     "evalue": "[Errno 2] No such file or directory: 'first_draft.txt' -> 'finished_masterpiece.txt'",
     "output_type": "error",
     "traceback": [
      "\u001b[0;31m---------------------------------------------------------------------------\u001b[0m",
      "\u001b[0;31mFileNotFoundError\u001b[0m                         Traceback (most recent call last)",
      "Cell \u001b[0;32mIn [8], line 3\u001b[0m\n\u001b[1;32m      1\u001b[0m \u001b[38;5;66;03m# Rename a file\u001b[39;00m\n\u001b[1;32m      2\u001b[0m \u001b[38;5;28;01mimport\u001b[39;00m \u001b[38;5;21;01mos\u001b[39;00m\n\u001b[0;32m----> 3\u001b[0m \u001b[43mos\u001b[49m\u001b[38;5;241;43m.\u001b[39;49m\u001b[43mrename\u001b[49m\u001b[43m(\u001b[49m\u001b[38;5;124;43m\"\u001b[39;49m\u001b[38;5;124;43mfirst_draft.txt\u001b[39;49m\u001b[38;5;124;43m\"\u001b[39;49m\u001b[43m,\u001b[49m\u001b[43m \u001b[49m\u001b[38;5;124;43m\"\u001b[39;49m\u001b[38;5;124;43mfinished_masterpiece.txt\u001b[39;49m\u001b[38;5;124;43m\"\u001b[39;49m\u001b[43m)\u001b[49m\n",
      "\u001b[0;31mFileNotFoundError\u001b[0m: [Errno 2] No such file or directory: 'first_draft.txt' -> 'finished_masterpiece.txt'"
     ]
    }
   ],
   "source": [
    "# Rename a file\n",
    "import os\n",
    "os.rename(\"first_draft.txt\", \"finished_masterpiece.txt\")"
   ]
  },
  {
   "cell_type": "code",
   "execution_count": null,
   "id": "689c1504",
   "metadata": {},
   "outputs": [],
   "source": [
    "# Check if the file exist\n",
    "os.path.exists(\"finished_masterpiece.txt\")"
   ]
  },
  {
   "cell_type": "code",
   "execution_count": null,
   "id": "78c26cfa",
   "metadata": {},
   "outputs": [],
   "source": [
    "os.path.isfile(\"finished_masterpiece.txt\")"
   ]
  },
  {
   "cell_type": "code",
   "execution_count": null,
   "id": "738bd702",
   "metadata": {},
   "outputs": [],
   "source": [
    "os.path.exists(\"userlist.txt\")"
   ]
  },
  {
   "cell_type": "code",
   "execution_count": null,
   "id": "9f270fde",
   "metadata": {},
   "outputs": [],
   "source": [
    "os.path.isfile(\"userlist.txt\")"
   ]
  },
  {
   "cell_type": "markdown",
   "id": "1953e312",
   "metadata": {},
   "source": [
    "## More File Information"
   ]
  },
  {
   "cell_type": "code",
   "execution_count": null,
   "id": "a0963da8",
   "metadata": {},
   "outputs": [],
   "source": [
    "# Get the file size (bytes)\n",
    "os.path.getsize(\"spider.txt\")"
   ]
  },
  {
   "cell_type": "code",
   "execution_count": null,
   "id": "80c149c3",
   "metadata": {},
   "outputs": [],
   "source": [
    "# Check file last modified (unix timestamp)\n",
    "os.path.getmtime(\"spider.txt\")"
   ]
  },
  {
   "cell_type": "code",
   "execution_count": null,
   "id": "65bd5e0d",
   "metadata": {},
   "outputs": [],
   "source": [
    "import datetime\n",
    "timestamp = os.path.getmtime(\"spider.txt\")\n",
    "datetime.datetime.fromtimestamp(timestamp)"
   ]
  },
  {
   "cell_type": "code",
   "execution_count": null,
   "id": "fd9f2b29",
   "metadata": {},
   "outputs": [],
   "source": [
    "# Check the location of the file\n",
    "os.path.abspath(\"spider.txt\")"
   ]
  },
  {
   "cell_type": "markdown",
   "id": "4d5cc8e0",
   "metadata": {},
   "source": [
    "## Directories"
   ]
  },
  {
   "cell_type": "code",
   "execution_count": null,
   "id": "c8670f98",
   "metadata": {},
   "outputs": [],
   "source": [
    "# Print current directory\n",
    "print(os.getcwd())"
   ]
  },
  {
   "cell_type": "code",
   "execution_count": null,
   "id": "5029a148",
   "metadata": {},
   "outputs": [],
   "source": [
    "# Create directory\n",
    "os.mkdir(\"new_dir\")"
   ]
  },
  {
   "cell_type": "code",
   "execution_count": null,
   "id": "6406bc74",
   "metadata": {},
   "outputs": [],
   "source": [
    "# Change directory\n",
    "os.chdir(\"new_dir\")\n",
    "os.getcwd()"
   ]
  },
  {
   "cell_type": "code",
   "execution_count": null,
   "id": "e2570736",
   "metadata": {},
   "outputs": [],
   "source": [
    "# Remove directory\n",
    "os.mkdir(\"new_dir\")\n",
    "os.rmdir(\"new_dir\")"
   ]
  },
  {
   "cell_type": "code",
   "execution_count": null,
   "id": "5521e53d",
   "metadata": {},
   "outputs": [],
   "source": [
    "# List directory\n",
    "os.listdir(\"website\")"
   ]
  },
  {
   "cell_type": "code",
   "execution_count": null,
   "id": "c1b4f765",
   "metadata": {},
   "outputs": [],
   "source": [
    "dir = \"website\"\n",
    "for name in os.listdir(dir):\n",
    "    fullname = os.path.join(dir, name)\n",
    "    if os.path.isdir(fullname):\n",
    "        print(\"{} is a directory\".format(fullname))\n",
    "    else:\n",
    "        print(\"{} is a file\".format(fullname))"
   ]
  },
  {
   "cell_type": "markdown",
   "id": "95d47d12",
   "metadata": {},
   "source": [
    "## Files and Directories Cheat-Sheet\n",
    "Check out the following links for more information:\n",
    "\n",
    "- https://docs.python.org/3/library/os.html\n",
    "\n",
    "- https://docs.python.org/3/library/os.path.html\n",
    "\n",
    "- https://en.wikipedia.org/wiki/Unix_time"
   ]
  },
  {
   "cell_type": "markdown",
   "id": "3ed1e4b0",
   "metadata": {},
   "source": [
    "## Reading CSV Files"
   ]
  },
  {
   "cell_type": "code",
   "execution_count": 15,
   "id": "d3a2d4d7",
   "metadata": {},
   "outputs": [
    {
     "name": "stdout",
     "output_type": "stream",
     "text": [
      "Name: Sabrina Green, Phone:  802-867-5309, Role:  System Administrator \n",
      "Name: Eli Jones, Phone:  684-3481127, Role:  IT specialist \n",
      "Name: Melody Daniels, Phone:  846-687-7436, Role:  Programmer \n",
      "Name: Charlie Rivera, Phone:  698-746-3357 , Role: Web Developer\n"
     ]
    }
   ],
   "source": [
    "import csv\n",
    "f = open(\"csv_file.csv\")\n",
    "csv_f = csv.reader(f)\n",
    "for row in csv_f:\n",
    "    name, phone, role = row\n",
    "    print(\"Name: {}, Phone: {}, Role: {}\".format(name, phone, role))\n",
    "f.close()"
   ]
  },
  {
   "cell_type": "markdown",
   "id": "1654a65a",
   "metadata": {},
   "source": [
    "## Generating CSV Files"
   ]
  },
  {
   "cell_type": "code",
   "execution_count": 16,
   "id": "932bab25",
   "metadata": {},
   "outputs": [],
   "source": [
    "hosts = [[\"workstation.local\", \"192.168.25.46\"],[\"webserver.cloud\", \"10.2.5.6\"]]\n",
    "with open('hosts.csv', 'w') as hosts_csv:\n",
    "    writer = csv.writer(hosts_csv)\n",
    "    writer.writerows(hosts)"
   ]
  },
  {
   "cell_type": "code",
   "execution_count": 36,
   "id": "60bdcdc2",
   "metadata": {},
   "outputs": [
    {
     "name": "stdout",
     "output_type": "stream",
     "text": [
      "MailTree has 324 users\n",
      "CalDoor has 22 users\n",
      "Chatty Chicken has 4 users\n"
     ]
    }
   ],
   "source": [
    "import csv\n",
    "with open('software.csv') as software:\n",
    "    reader = csv.DictReader(software)\n",
    "    for row in reader:\n",
    "       print((\"{} has {} users\").format(row['name'], row['users']))       "
   ]
  },
  {
   "cell_type": "code",
   "execution_count": 44,
   "id": "aa8d2e14",
   "metadata": {},
   "outputs": [],
   "source": [
    "users = [ {\"name\": \"Sol Mansi\", \"username\":\"solm\", \"department\": \"IT infrastructure\"},\n",
    " {\"name\":\"Lio Nelson\", \"username\": \"lion\", \"department\": \"User Experience Research\"},\n",
    " {\"name\":\"Charlie Grey\", \"username\":\"greyc\", \"department\": \"Development\" }]\n",
    "keys = [\"name\", \"username\" , \"department\"]\n",
    "with open(\"by_department.csv\", \"w\") as by_department:\n",
    "    writer = csv.DictWriter(by_department, fieldnames=keys)\n",
    "    writer.writeheader() \n",
    "    writer.writerows(users)"
   ]
  },
  {
   "cell_type": "markdown",
   "id": "ec8ab54d",
   "metadata": {},
   "source": [
    "## CSV Files Cheat Sheet\n",
    "Check out the following links for more information:\n",
    "\n",
    "- https://docs.python.org/3/library/csv.html\n",
    "\n",
    "- https://realpython.com/python-csv/\n",
    "\n",
    " "
   ]
  }
 ],
 "metadata": {
  "kernelspec": {
   "display_name": "Python 3 (ipykernel)",
   "language": "python",
   "name": "python3"
  },
  "language_info": {
   "codemirror_mode": {
    "name": "ipython",
    "version": 3
   },
   "file_extension": ".py",
   "mimetype": "text/x-python",
   "name": "python",
   "nbconvert_exporter": "python",
   "pygments_lexer": "ipython3",
   "version": "3.10.9"
  }
 },
 "nbformat": 4,
 "nbformat_minor": 5
}
