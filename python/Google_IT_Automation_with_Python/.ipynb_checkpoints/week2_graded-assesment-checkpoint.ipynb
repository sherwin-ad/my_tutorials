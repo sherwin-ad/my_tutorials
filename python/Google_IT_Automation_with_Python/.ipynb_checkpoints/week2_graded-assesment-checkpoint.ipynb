{
 "cells": [
  {
   "cell_type": "markdown",
   "id": "46536613",
   "metadata": {},
   "source": [
    "# Module 2 Graded Assessment"
   ]
  },
  {
   "cell_type": "markdown",
   "id": "365f643b",
   "metadata": {},
   "source": [
    "1. Complete the function by filling in the missing parts. The color_translator function receives the name of a color, then prints its hexadecimal value. Currently, it only supports the three additive primary colors (red, green, blue), so it returns \"unknown\" for all other colors."
   ]
  },
  {
   "cell_type": "code",
   "execution_count": 10,
   "id": "e025dcc5",
   "metadata": {},
   "outputs": [
    {
     "name": "stdout",
     "output_type": "stream",
     "text": [
      "#0000ff\n",
      "unknown\n",
      "#ff0000\n",
      "unknown\n",
      "#00ff00\n",
      "unknown\n"
     ]
    }
   ],
   "source": [
    "def color_translator(color):\n",
    "\tif color == \"red\":\n",
    "\t\thex_color = \"#ff0000\"\n",
    "\telif color == \"green\":\n",
    "\t\thex_color = \"#00ff00\"\n",
    "\telif color== \"blue\":\n",
    "\t\thex_color = \"#0000ff\"\n",
    "\telse:\n",
    "\t\thex_color = \"unknown\"\n",
    "\treturn hex_color\n",
    "\n",
    "print(color_translator(\"blue\")) # Should be #0000ff\n",
    "print(color_translator(\"yellow\")) # Should be unknown\n",
    "print(color_translator(\"red\")) # Should be #ff0000\n",
    "print(color_translator(\"black\")) # Should be unknown\n",
    "print(color_translator(\"green\")) # Should be #00ff00\n",
    "print(color_translator(\"\")) # Should be unknown"
   ]
  },
  {
   "cell_type": "markdown",
   "id": "7e0f1fe7",
   "metadata": {},
   "source": [
    "2. What's the value of this Python expression: \"big\" > \"small\""
   ]
  },
  {
   "cell_type": "code",
   "execution_count": 11,
   "id": "d1468b26",
   "metadata": {},
   "outputs": [
    {
     "name": "stdout",
     "output_type": "stream",
     "text": [
      "False\n"
     ]
    }
   ],
   "source": [
    "print (\"big\">\"small\")"
   ]
  },
  {
   "cell_type": "markdown",
   "id": "67689975",
   "metadata": {},
   "source": [
    "3. What is the elif keyword used for?\n",
    "\n",
    "\n",
    "- To mark the end of the if statement\n",
    "\n",
    "- To handle more than two comparison cases\n",
    "\n",
    "- To replace the \"or\" clause in the if statement\n",
    "\n",
    "- Nothing - it's a misspelling of the else-if keyword"
   ]
  },
  {
   "cell_type": "markdown",
   "id": "45b68488",
   "metadata": {},
   "source": [
    "4. Students in a class receive their grades as Pass/Fail. Scores of 60 or more (out of 100) mean that the grade is \"Pass\". For lower scores, the grade is \"Fail\". In addition, scores above 95 (not included) are graded as \"Top Score\". Fill in this function so that it returns the proper grade."
   ]
  },
  {
   "cell_type": "code",
   "execution_count": 4,
   "id": "478a5beb",
   "metadata": {},
   "outputs": [
    {
     "name": "stdout",
     "output_type": "stream",
     "text": [
      "Pass\n",
      "Fail\n",
      "Pass\n",
      "Pass\n",
      "Top Score\n",
      "Fail\n"
     ]
    }
   ],
   "source": [
    "def exam_grade(score):\n",
    "\tif score >= 96:\n",
    "\t\tgrade = \"Top Score\"\n",
    "\telif score >= 60:\n",
    "\t\tgrade = \"Pass\"\n",
    "\telse:\n",
    "\t\tgrade = \"Fail\"\n",
    "\treturn grade\n",
    "\n",
    "print(exam_grade(65)) # Should be Pass\n",
    "print(exam_grade(55)) # Should be Fail\n",
    "print(exam_grade(60)) # Should be Pass\n",
    "print(exam_grade(95)) # Should be Pass\n",
    "print(exam_grade(100)) # Should be Top Score\n",
    "print(exam_grade(0)) # Should be Fail"
   ]
  },
  {
   "cell_type": "markdown",
   "id": "666ce3f6",
   "metadata": {},
   "source": [
    "5. What's the value of this Python expression: 11 % 5?"
   ]
  },
  {
   "cell_type": "code",
   "execution_count": 12,
   "id": "7ae4ba83",
   "metadata": {},
   "outputs": [
    {
     "name": "stdout",
     "output_type": "stream",
     "text": [
      "1\n"
     ]
    }
   ],
   "source": [
    "print (11%5)"
   ]
  },
  {
   "cell_type": "markdown",
   "id": "44f5a522",
   "metadata": {},
   "source": [
    "6. Complete the body of the format_name function. This function receives the first_name and last_name parameters and then returns a properly formatted string.\n",
    "\n",
    "Specifically:\n",
    "\n",
    "If both the last_name and the first_name parameters are supplied, the function should return like so:"
   ]
  },
  {
   "cell_type": "code",
   "execution_count": 5,
   "id": "5be27372",
   "metadata": {},
   "outputs": [
    {
     "name": "stdout",
     "output_type": "stream",
     "text": [
      "Name: Hemingway, Ernest\n",
      "Name: Madonna\n",
      "Name: Voltaire\n",
      "\n"
     ]
    }
   ],
   "source": [
    "def format_name(first_name, last_name):\n",
    "\t# code goes here\n",
    "\tif (first_name != \"\" and last_name != \"\"):\n",
    "\t\tstring = \"Name: \"+last_name+\", \"+ first_name\n",
    "\telif (first_name==\"\" and last_name==\"\"):\n",
    "\t\tstring = \"\"\n",
    "\telse:\n",
    "\t\tstring = \"Name: \"+first_name+last_name\n",
    "\treturn string \n",
    "\n",
    "print(format_name(\"Ernest\", \"Hemingway\"))\n",
    "# Should return the string \"Name: Hemingway, Ernest\"\n",
    "\n",
    "print(format_name(\"\", \"Madonna\"))\n",
    "# Should return the string \"Name: Madonna\"\n",
    "\n",
    "print(format_name(\"Voltaire\", \"\"))\n",
    "# Should return the string \"Name: Voltaire\"\n",
    "\n",
    "print(format_name(\"\", \"\"))\n",
    "# Should return an empty string"
   ]
  },
  {
   "cell_type": "markdown",
   "id": "3f3295bf",
   "metadata": {},
   "source": [
    "7. The longest_word function is used to compare 3 words. It should return the word with the most number of characters (and the first in the list when they have the same length). Fill in the blank to make this happen."
   ]
  },
  {
   "cell_type": "code",
   "execution_count": 6,
   "id": "8fcd4666",
   "metadata": {},
   "outputs": [
    {
     "name": "stdout",
     "output_type": "stream",
     "text": [
      "chair\n",
      "beyond\n",
      "notebook\n"
     ]
    }
   ],
   "source": [
    "def longest_word(word1, word2, word3):\n",
    "\tif len(word1) >= len(word2) and len(word1) >= len(word3):\n",
    "\t\tword = word1\n",
    "\telif len(word2) >= len(word1) and len(word2) >= len(word3):\n",
    "\t\tword = word2\n",
    "\telse:\n",
    "\t\tword = word3\n",
    "\treturn(word)\n",
    "\n",
    "print(longest_word(\"chair\", \"couch\", \"table\"))\n",
    "print(longest_word(\"bed\", \"bath\", \"beyond\"))\n",
    "print(longest_word(\"laptop\", \"notebook\", \"desktop\"))"
   ]
  },
  {
   "cell_type": "markdown",
   "id": "e975c37c",
   "metadata": {},
   "source": [
    "8. What’s the output of this code?"
   ]
  },
  {
   "cell_type": "code",
   "execution_count": 7,
   "id": "27649b01",
   "metadata": {},
   "outputs": [
    {
     "name": "stdout",
     "output_type": "stream",
     "text": [
      "10\n"
     ]
    }
   ],
   "source": [
    "def sum(x, y):\n",
    "\t\treturn(x+y)\n",
    "print(sum(sum(1,2), sum(3,4)))"
   ]
  },
  {
   "cell_type": "markdown",
   "id": "10e93ea9",
   "metadata": {},
   "source": [
    "9. What's the value of this Python expression?"
   ]
  },
  {
   "cell_type": "code",
   "execution_count": 8,
   "id": "b04e9112",
   "metadata": {},
   "outputs": [
    {
     "name": "stdout",
     "output_type": "stream",
     "text": [
      "True\n"
     ]
    }
   ],
   "source": [
    "print ((10 >= 5*2) and (10 <= 5*2))"
   ]
  },
  {
   "cell_type": "markdown",
   "id": "45153220",
   "metadata": {},
   "source": [
    "10. The fractional_part function divides the numerator by the denominator, and returns just the fractional part (a number between 0 and 1). Complete the body of the function so that it returns the right number.\n",
    "Note: Since division by 0 produces an error, if the denominator is 0, the function should return 0 instead of attempting the division."
   ]
  },
  {
   "cell_type": "code",
   "execution_count": 9,
   "id": "8632b5ea",
   "metadata": {},
   "outputs": [
    {
     "name": "stdout",
     "output_type": "stream",
     "text": [
      "0.0\n",
      "0.25\n",
      "0.6666666666666667\n",
      "0.5\n",
      "0\n",
      "0\n"
     ]
    }
   ],
   "source": [
    "def fractional_part(numerator, denominator):\n",
    "\t# Operate with numerator and denominator to \n",
    "\tif (numerator == 0 or denominator == 0):\n",
    "\t\treturn 0\n",
    "\telse:\n",
    "\t\tans = (numerator/denominator)-(numerator//denominator)\n",
    "\t\treturn ans\n",
    "# keep just the fractional part of the quotient\n",
    "\n",
    "print(fractional_part(5, 5)) # Should be 0\n",
    "print(fractional_part(5, 4)) # Should be 0.25\n",
    "print(fractional_part(5, 3)) # Should be 0.66...\n",
    "print(fractional_part(5, 2)) # Should be 0.5\n",
    "print(fractional_part(5, 0)) # Should be 0\n",
    "print(fractional_part(0, 5)) # Should be 0"
   ]
  },
  {
   "cell_type": "code",
   "execution_count": null,
   "id": "9a9841fc",
   "metadata": {},
   "outputs": [],
   "source": []
  }
 ],
 "metadata": {
  "kernelspec": {
   "display_name": "Python 3 (ipykernel)",
   "language": "python",
   "name": "python3"
  },
  "language_info": {
   "codemirror_mode": {
    "name": "ipython",
    "version": 3
   },
   "file_extension": ".py",
   "mimetype": "text/x-python",
   "name": "python",
   "nbconvert_exporter": "python",
   "pygments_lexer": "ipython3",
   "version": "3.10.8"
  }
 },
 "nbformat": 4,
 "nbformat_minor": 5
}
