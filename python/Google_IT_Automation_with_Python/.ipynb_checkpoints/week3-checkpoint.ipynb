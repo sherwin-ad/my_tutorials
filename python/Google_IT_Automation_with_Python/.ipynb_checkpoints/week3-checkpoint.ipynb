{
 "cells": [
  {
   "cell_type": "markdown",
   "id": "e0377742",
   "metadata": {},
   "source": [
    "# While loop examples"
   ]
  },
  {
   "cell_type": "code",
   "execution_count": 1,
   "id": "9db65c33",
   "metadata": {
    "scrolled": true
   },
   "outputs": [
    {
     "name": "stdout",
     "output_type": "stream",
     "text": [
      "Not there yet, x=0\n",
      "Not there yet, x=1\n",
      "Not there yet, x=2\n",
      "Not there yet, x=3\n",
      "Not there yet, x=4\n",
      "x=5\n"
     ]
    }
   ],
   "source": [
    "x=0\n",
    "while x < 5:\n",
    "    print(\"Not there yet, x=\" + str(x))\n",
    "    x = x + 1\n",
    "print(\"x=\" + str(x))    "
   ]
  },
  {
   "cell_type": "code",
   "execution_count": 2,
   "id": "b0c5ae18",
   "metadata": {},
   "outputs": [
    {
     "name": "stdout",
     "output_type": "stream",
     "text": [
      "Attempt 1\n",
      "Attempt 2\n",
      "Attempt 3\n",
      "Attempt 4\n",
      "Attempt 5\n",
      "Done\n"
     ]
    }
   ],
   "source": [
    "def attempts(n):\n",
    "    x = 1\n",
    "    while x <= n:\n",
    "        print(\"Attempt \" + str(x))\n",
    "        x += 1   \n",
    "    print(\"Done\")\n",
    "    \n",
    "attempts(5)"
   ]
  },
  {
   "cell_type": "code",
   "execution_count": 3,
   "id": "374fff49",
   "metadata": {},
   "outputs": [
    {
     "name": "stdout",
     "output_type": "stream",
     "text": [
      "45 1\n"
     ]
    }
   ],
   "source": [
    "x=1\n",
    "sum=0\n",
    "while x < 10:\n",
    "    sum += x\n",
    "    x += 1\n",
    "    \n",
    "product=1\n",
    "while x < 10:\n",
    "    product=product * x\n",
    "    x +=1\n",
    "\n",
    "print(sum, product)"
   ]
  },
  {
   "cell_type": "code",
   "execution_count": 4,
   "id": "d3e8ae8a",
   "metadata": {},
   "outputs": [
    {
     "name": "stdout",
     "output_type": "stream",
     "text": [
      "Zero!\n"
     ]
    }
   ],
   "source": [
    "def count_down(start_number):\n",
    "  current = 0  \n",
    "  while (current > 0):\n",
    "    print(current)\n",
    "    current -= 1\n",
    "  print(\"Zero!\")\n",
    "\n",
    "count_down(3)"
   ]
  },
  {
   "cell_type": "markdown",
   "id": "e04e65fd",
   "metadata": {},
   "source": [
    "# Infinite Loops and How to Break Them\n"
   ]
  },
  {
   "cell_type": "code",
   "execution_count": 5,
   "id": "1773758c",
   "metadata": {},
   "outputs": [],
   "source": [
    "if x != 0:\n",
    "    while x % 2 == 0:\n",
    "        x = x / 2"
   ]
  },
  {
   "cell_type": "code",
   "execution_count": 6,
   "id": "bd3dd836",
   "metadata": {},
   "outputs": [],
   "source": [
    "while x != 0 and x % 2 == 0:\n",
    "    x = x /2"
   ]
  },
  {
   "cell_type": "markdown",
   "id": "4844cf95",
   "metadata": {},
   "source": [
    "# Practice Quiz: While Loops"
   ]
  },
  {
   "cell_type": "markdown",
   "id": "f4d7bf6e",
   "metadata": {},
   "source": [
    "1. What are while loops in Python?\n",
    "\n",
    "- While loops let the computer execute a set of instructions while a condition is true.\n",
    "\n",
    "\n",
    "- While loops instruct the computer to execute a piece of code a set number of times.\n",
    "\n",
    "\n",
    "- While loops let us branch execution on whether or not a condition is true.\n",
    "\n",
    "\n",
    "- While loops are how we initialize variables in Python.\n"
   ]
  },
  {
   "cell_type": "markdown",
   "id": "079943a8",
   "metadata": {},
   "source": [
    "2. Fill in the blanks to make the print_prime_factors function print all the prime factors of a number. A prime factor is a number that is prime and divides another without a remainder."
   ]
  },
  {
   "cell_type": "code",
   "execution_count": 7,
   "id": "bc3f77e5",
   "metadata": {},
   "outputs": [
    {
     "name": "stdout",
     "output_type": "stream",
     "text": [
      "2\n",
      "2\n",
      "5\n",
      "5\n"
     ]
    },
    {
     "data": {
      "text/plain": [
       "'Done'"
      ]
     },
     "execution_count": 7,
     "metadata": {},
     "output_type": "execute_result"
    }
   ],
   "source": [
    "def print_prime_factors(number):\n",
    "  # Start with two, which is the first prime\n",
    "  factor = 2\n",
    "  # Keep going until the factor is larger than the number\n",
    "  while factor <= number:\n",
    "    # Check if factor is a divisor of number\n",
    "    if number % factor == 0:\n",
    "      # If it is, print it and divide the original number\n",
    "      print(factor)\n",
    "      number = number / factor\n",
    "    else:\n",
    "      # If it's not, increment the factor by one\n",
    "      factor += 1\n",
    "  return \"Done\"\n",
    "\n",
    "print_prime_factors(100)\n",
    "# Should print 2,2,5,5\n",
    "# DO NOT DELETE THIS COMMENT"
   ]
  },
  {
   "cell_type": "markdown",
   "id": "589aa8f1",
   "metadata": {},
   "source": [
    "3. The following code can lead to an infinite loop. Fix the code so that it can finish successfully for all numbers.\n",
    "\n",
    "Note: Try running your function with the number 0 as the input, and see what you get!"
   ]
  },
  {
   "cell_type": "code",
   "execution_count": 8,
   "id": "605e7e1f",
   "metadata": {},
   "outputs": [
    {
     "name": "stdout",
     "output_type": "stream",
     "text": [
      "False\n",
      "True\n",
      "True\n",
      "False\n"
     ]
    }
   ],
   "source": [
    "def is_power_of_two(n):\n",
    "  # Check if the number can be divided by two without a remainder\n",
    "  while n % 2 == 0 and n != 0:\n",
    "    n = n / 2\n",
    "  # If after dividing by two the number is 1, it's a power of two\n",
    "  if n == 1:\n",
    "    return True\n",
    "  return False\n",
    "  \n",
    "\n",
    "print(is_power_of_two(0)) # Should be False\n",
    "print(is_power_of_two(1)) # Should be True\n",
    "print(is_power_of_two(8)) # Should be True\n",
    "print(is_power_of_two(9)) # Should be False"
   ]
  },
  {
   "cell_type": "markdown",
   "id": "bfdb3a7e",
   "metadata": {},
   "source": [
    "4. Fill in the empty function so that it returns the sum of all the divisors of a number, without including it. A divisor is a number that divides into another without a remainder."
   ]
  },
  {
   "cell_type": "code",
   "execution_count": 9,
   "id": "85bc29c3",
   "metadata": {},
   "outputs": [
    {
     "name": "stdout",
     "output_type": "stream",
     "text": [
      "0\n",
      "1\n",
      "55\n",
      "114\n"
     ]
    }
   ],
   "source": [
    "def sum_divisors(n):\n",
    "  sum = 0\n",
    "  num = 1\n",
    "  while num < n:\n",
    "    if n % num == 0:\n",
    "      sum += num\n",
    "    if num > n//2:\n",
    "      pass\n",
    "    num +=1    \n",
    "  # Return the sum of all divisors of n, not including n\n",
    "  return sum\n",
    "\n",
    "print(sum_divisors(0))\n",
    "# 0\n",
    "print(sum_divisors(3)) # Should sum of 1\n",
    "# 1\n",
    "print(sum_divisors(36)) # Should sum of 1+2+3+4+6+9+12+18\n",
    "# 55\n",
    "print(sum_divisors(102)) # Should be sum of 2+3+6+17+34+51\n",
    "# 114"
   ]
  },
  {
   "cell_type": "markdown",
   "id": "3d1dbc76",
   "metadata": {},
   "source": [
    "5. The multiplication_table function prints the results of a number passed to it multiplied by 1 through 5. An additional requirement is that the result is not to exceed 25, which is done with the break statement. Fill in the blanks to complete the function to satisfy these conditions."
   ]
  },
  {
   "cell_type": "code",
   "execution_count": 10,
   "id": "fd1adaf1",
   "metadata": {},
   "outputs": [
    {
     "name": "stdout",
     "output_type": "stream",
     "text": [
      "3x1=3\n",
      "3x2=6\n",
      "3x3=9\n",
      "3x4=12\n",
      "3x5=15\n",
      "5x1=5\n",
      "5x2=10\n",
      "5x3=15\n",
      "5x4=20\n",
      "5x5=25\n",
      "8x1=8\n",
      "8x2=16\n",
      "8x3=24\n"
     ]
    }
   ],
   "source": [
    "def multiplication_table(number):\n",
    "    # Initialize the starting point of the multiplication table\n",
    "    multiplier = 1\n",
    "    # Only want to loop through 5\n",
    "    while multiplier <= 5:\n",
    "        result = number * multiplier\n",
    "        # What is the additional condition to exit out of the loop?\n",
    "        if result > 25 :\n",
    "            break\n",
    "        print(str(number) + \"x\" + str(multiplier) + \"=\" + str(result))\n",
    "        # Increment the variable for the loop\n",
    "        multiplier += 1\n",
    "\n",
    "multiplication_table(3) \n",
    "# Should print: 3x1=3 3x2=6 3x3=9 3x4=12 3x5=15\n",
    "\n",
    "multiplication_table(5) \n",
    "# Should print: 5x1=5 5x2=10 5x3=15 5x4=20 5x5=25\n",
    "\n",
    "multiplication_table(8)\t\n",
    "# Should print: 8x1=8 8x2=16 8x3=24"
   ]
  },
  {
   "cell_type": "markdown",
   "id": "0e5bdcb3",
   "metadata": {},
   "source": [
    "# For loop"
   ]
  },
  {
   "cell_type": "code",
   "execution_count": 11,
   "id": "addc56d3",
   "metadata": {},
   "outputs": [
    {
     "name": "stdout",
     "output_type": "stream",
     "text": [
      "0\n",
      "1\n",
      "2\n",
      "3\n",
      "4\n"
     ]
    }
   ],
   "source": [
    "for x in range(5):\n",
    "    print(x)"
   ]
  },
  {
   "cell_type": "code",
   "execution_count": 12,
   "id": "e6115db9",
   "metadata": {},
   "outputs": [
    {
     "name": "stdout",
     "output_type": "stream",
     "text": [
      "Hi Taylor\n",
      "Hi Alex\n",
      "Hi Pat\n",
      "Hi Eli\n"
     ]
    }
   ],
   "source": [
    "friends = ['Taylor', 'Alex', 'Pat', 'Eli']\n",
    "for friend in friends:\n",
    "    print(\"Hi \" + friend)"
   ]
  },
  {
   "cell_type": "code",
   "execution_count": 13,
   "id": "1c0d7f0b",
   "metadata": {},
   "outputs": [
    {
     "name": "stdout",
     "output_type": "stream",
     "text": [
      "Total sum:219 - Average: 43.8\n"
     ]
    }
   ],
   "source": [
    "values = [23, 52, 59, 37, 48]\n",
    "sum = 0\n",
    "length = 0\n",
    "for value in values:\n",
    "    sum += value\n",
    "    length += 1\n",
    "    \n",
    "print(\"Total sum:\" + str(sum) + \" - Average: \" + str(sum/length))"
   ]
  },
  {
   "cell_type": "markdown",
   "id": "7ebcbb41",
   "metadata": {},
   "source": [
    "- Use for loops when there's a sequence of elements that you want to iterate. \n",
    "- Use while loops when you want to repeat an action until a condition changes."
   ]
  },
  {
   "cell_type": "code",
   "execution_count": 14,
   "id": "90a804e5",
   "metadata": {},
   "outputs": [
    {
     "name": "stdout",
     "output_type": "stream",
     "text": [
      "362880\n"
     ]
    }
   ],
   "source": [
    "product = 1\n",
    "for n in range(1,10):\n",
    "    product = product * n\n",
    "print(product)"
   ]
  },
  {
   "cell_type": "code",
   "execution_count": 15,
   "id": "2727ffe1",
   "metadata": {},
   "outputs": [
    {
     "name": "stdout",
     "output_type": "stream",
     "text": [
      "0 -17.77777777777778\n",
      "10 -12.222222222222221\n",
      "20 -6.666666666666667\n",
      "30 -1.1111111111111112\n",
      "40 4.444444444444445\n",
      "50 10.0\n",
      "60 15.555555555555555\n",
      "70 21.11111111111111\n",
      "80 26.666666666666668\n",
      "90 32.22222222222222\n",
      "100 37.77777777777778\n"
     ]
    }
   ],
   "source": [
    "def to_celcius(x):\n",
    "    return (x-32)*5/9\n",
    "\n",
    "for x in range(0,101,10):\n",
    "    print(x, to_celcius(x))"
   ]
  },
  {
   "cell_type": "markdown",
   "id": "a73cc1da",
   "metadata": {},
   "source": [
    "# Nested For Loops"
   ]
  },
  {
   "cell_type": "code",
   "execution_count": 16,
   "id": "33ff847f",
   "metadata": {},
   "outputs": [
    {
     "name": "stdout",
     "output_type": "stream",
     "text": [
      "[0|0] [0|1] [0|2] [0|3] [0|4] [0|5] [0|6] \n",
      "[1|1] [1|2] [1|3] [1|4] [1|5] [1|6] \n",
      "[2|2] [2|3] [2|4] [2|5] [2|6] \n",
      "[3|3] [3|4] [3|5] [3|6] \n",
      "[4|4] [4|5] [4|6] \n",
      "[5|5] [5|6] \n",
      "[6|6] \n"
     ]
    }
   ],
   "source": [
    "for left in range(7):\n",
    "    for right in range(left, 7):\n",
    "        print(\"[\" + str(left) + \"|\" + str(right) + \"]\", end=\" \")\n",
    "    print()    "
   ]
  },
  {
   "cell_type": "code",
   "execution_count": 17,
   "id": "c1821daa",
   "metadata": {},
   "outputs": [
    {
     "name": "stdout",
     "output_type": "stream",
     "text": [
      "[0|0]\n",
      "[0|1]\n",
      "[0|2]\n",
      "[0|3]\n",
      "[0|4]\n",
      "[0|5]\n",
      "[0|6]\n",
      "\n",
      "[1|1]\n",
      "[1|2]\n",
      "[1|3]\n",
      "[1|4]\n",
      "[1|5]\n",
      "[1|6]\n",
      "\n",
      "[2|2]\n",
      "[2|3]\n",
      "[2|4]\n",
      "[2|5]\n",
      "[2|6]\n",
      "\n",
      "[3|3]\n",
      "[3|4]\n",
      "[3|5]\n",
      "[3|6]\n",
      "\n",
      "[4|4]\n",
      "[4|5]\n",
      "[4|6]\n",
      "\n",
      "[5|5]\n",
      "[5|6]\n",
      "\n",
      "[6|6]\n",
      "\n"
     ]
    }
   ],
   "source": [
    "for left in range(7):\n",
    "    for right in range(left, 7):\n",
    "        print(\"[\" + str(left) + \"|\" + str(right) + \"]\")\n",
    "    print()    "
   ]
  },
  {
   "cell_type": "markdown",
   "id": "07f99cc0",
   "metadata": {},
   "source": [
    "Given the following code:\n",
    "\n",
    "teams = [ 'Dragons', 'Wolves', 'Pandas', 'Unicorns']\n",
    "\n",
    "for home_team in teams:\n",
    "\n",
    "    for away_team in teams:\n",
    "\n",
    "What should the next line be to avoid both variables being printed with the same value?\n",
    "\n",
    "\n",
    "- while home_team != away_team:\n",
    "- for home_team == away_team:\n",
    "- away_team = home_team\n",
    "- **if home_team != away_team:**"
   ]
  },
  {
   "cell_type": "code",
   "execution_count": 18,
   "id": "febe42f5",
   "metadata": {},
   "outputs": [
    {
     "name": "stdout",
     "output_type": "stream",
     "text": [
      "Dragons vs Wolves\n",
      "Dragons vs Pandas\n",
      "Dragons vs Unicorns\n",
      "Wolves vs Dragons\n",
      "Wolves vs Pandas\n",
      "Wolves vs Unicorns\n",
      "Pandas vs Dragons\n",
      "Pandas vs Wolves\n",
      "Pandas vs Unicorns\n",
      "Unicorns vs Dragons\n",
      "Unicorns vs Wolves\n",
      "Unicorns vs Pandas\n"
     ]
    }
   ],
   "source": [
    "teams = [ 'Dragons', 'Wolves', 'Pandas', 'Unicorns']\n",
    "for home_team in teams:\n",
    "    for away_team in teams:\n",
    "        if home_team != away_team:\n",
    "            print(home_team + \" vs \" + away_team)\n"
   ]
  },
  {
   "cell_type": "markdown",
   "id": "74bb7e51",
   "metadata": {},
   "source": [
    "# Common Errors in for Loops"
   ]
  },
  {
   "cell_type": "code",
   "execution_count": 19,
   "id": "eff33d07",
   "metadata": {},
   "outputs": [
    {
     "name": "stdout",
     "output_type": "stream",
     "text": [
      "Hi Sherwin\n",
      "Hi Reine\n",
      "Hi Lesyl\n",
      "Hi Shen\n",
      "Hi A\n",
      "Hi n\n",
      "Hi a\n",
      "Hi l\n",
      "Hi e\n",
      "Hi t\n",
      "Hi t\n",
      "Hi e\n"
     ]
    }
   ],
   "source": [
    "def greet_friends(friends):\n",
    "    for friend in friends:\n",
    "        print(\"Hi \" + friend)\n",
    "        \n",
    "greet_friends(['Sherwin', 'Reine', 'Lesyl', 'Shen'])  \n",
    "greet_friends('Analette')"
   ]
  },
  {
   "cell_type": "markdown",
   "id": "3a0b062a",
   "metadata": {},
   "source": [
    "\n",
    "# Practice Quiz: For Loops"
   ]
  },
  {
   "cell_type": "markdown",
   "id": "94e9ca12",
   "metadata": {},
   "source": [
    "1. How are while loops and for loops different in Python?\n",
    "\n",
    "- While loops can be used with all data types, for loops can only be used with numbers.\n",
    "\n",
    "- For loops can be nested, but while loops can't.\n",
    "\n",
    "- While loops iterate while a condition is true, for loops iterate through a sequence of elements.\n",
    "\n",
    "- While loops can be interrupted using break, for loops using continue."
   ]
  },
  {
   "cell_type": "markdown",
   "id": "bb1a075d",
   "metadata": {},
   "source": [
    "2. Fill in the blanks to make the factorial function return the factorial of n. Then, print the first 10 factorials (from 0 to 9) with the corresponding number. Remember that the factorial of a number is defined as the product of an integer and all integers before it. For example, the factorial of five (5!) is equal to 1*2*3*4*5=120. Also recall that the factorial of zero (0!) is equal to 1."
   ]
  },
  {
   "cell_type": "code",
   "execution_count": 20,
   "id": "9bde9352",
   "metadata": {},
   "outputs": [
    {
     "name": "stdout",
     "output_type": "stream",
     "text": [
      "0 1\n",
      "1 1\n",
      "2 2\n",
      "3 6\n",
      "4 24\n",
      "5 120\n",
      "6 720\n",
      "7 5040\n",
      "8 40320\n",
      "9 362880\n"
     ]
    }
   ],
   "source": [
    "def factorial(n):\n",
    "    result = 1\n",
    "    for x in range(1,n):\n",
    "        result *= x\n",
    "    return result\n",
    "\n",
    "for n in range(0,10):\n",
    "    print(n, factorial(n+1))"
   ]
  },
  {
   "cell_type": "markdown",
   "id": "cd2f920a",
   "metadata": {},
   "source": [
    "3. Write a script that prints the first 10 cube numbers (x**3), starting with x=1 and ending with x=10."
   ]
  },
  {
   "cell_type": "code",
   "execution_count": 21,
   "id": "042e21f3",
   "metadata": {},
   "outputs": [
    {
     "name": "stdout",
     "output_type": "stream",
     "text": [
      "1\n",
      "8\n",
      "27\n",
      "64\n",
      "125\n",
      "216\n",
      "343\n",
      "512\n",
      "729\n",
      "1000\n"
     ]
    }
   ],
   "source": [
    "for x in range(1,11):\n",
    "  print(x**3)"
   ]
  },
  {
   "cell_type": "markdown",
   "id": "2a09a9bf",
   "metadata": {},
   "source": [
    "4. Write a script that prints the multiples of 7 between 0 and 100. Print one multiple per line and avoid printing any numbers that aren't multiples of 7. Remember that 0 is also a multiple of 7."
   ]
  },
  {
   "cell_type": "code",
   "execution_count": 22,
   "id": "2890dc68",
   "metadata": {},
   "outputs": [
    {
     "name": "stdout",
     "output_type": "stream",
     "text": [
      "0\n",
      "7\n",
      "14\n",
      "21\n",
      "28\n",
      "35\n",
      "42\n",
      "49\n",
      "56\n",
      "63\n",
      "70\n",
      "77\n",
      "84\n",
      "91\n",
      "98\n"
     ]
    }
   ],
   "source": [
    "for x in range(0,101,7):\n",
    "    print(x)"
   ]
  },
  {
   "cell_type": "markdown",
   "id": "2e6e6a35",
   "metadata": {},
   "source": [
    "5. The retry function tries to execute an operation that might fail, it retries the operation for a number of attempts.  Currently the code will keep executing the function even if it succeeds. Fill in the blank so the code stops trying after the operation succeeded."
   ]
  },
  {
   "cell_type": "code",
   "execution_count": 23,
   "id": "c46f647f",
   "metadata": {},
   "outputs": [
    {
     "ename": "NameError",
     "evalue": "name 'create_user' is not defined",
     "output_type": "error",
     "traceback": [
      "\u001b[0;31m---------------------------------------------------------------------------\u001b[0m",
      "\u001b[0;31mNameError\u001b[0m                                 Traceback (most recent call last)",
      "Cell \u001b[0;32mIn [23], line 9\u001b[0m\n\u001b[1;32m      6\u001b[0m     \u001b[38;5;28;01melse\u001b[39;00m:\n\u001b[1;32m      7\u001b[0m       \u001b[38;5;28mprint\u001b[39m(\u001b[38;5;124m\"\u001b[39m\u001b[38;5;124mAttempt \u001b[39m\u001b[38;5;124m\"\u001b[39m \u001b[38;5;241m+\u001b[39m \u001b[38;5;28mstr\u001b[39m(n) \u001b[38;5;241m+\u001b[39m \u001b[38;5;124m\"\u001b[39m\u001b[38;5;124m failed\u001b[39m\u001b[38;5;124m\"\u001b[39m)\n\u001b[0;32m----> 9\u001b[0m retry(\u001b[43mcreate_user\u001b[49m, \u001b[38;5;241m3\u001b[39m)\n\u001b[1;32m     10\u001b[0m retry(stop_service, \u001b[38;5;241m5\u001b[39m)\n",
      "\u001b[0;31mNameError\u001b[0m: name 'create_user' is not defined"
     ]
    }
   ],
   "source": [
    "def retry(operation, attempts):\n",
    "  for n in range(attempts):\n",
    "    if operation():\n",
    "      print(\"Attempt \" + str(n) + \" succeeded\")\n",
    "      break\n",
    "    else:\n",
    "      print(\"Attempt \" + str(n) + \" failed\")\n",
    "\n",
    "retry(create_user, 3)\n",
    "retry(stop_service, 5)"
   ]
  },
  {
   "cell_type": "markdown",
   "id": "5537bc60",
   "metadata": {},
   "source": [
    "# What is recursion? (Optional)\n",
    "\n",
    "- **Recursion** is the repeated application of the same procedure to a smaller problem.\n",
    "\n",
    "- Recursion let us tackle complex problems by reducing the problem to a simpler one.\n",
    "\n",
    "- In programming, recursion is a way of doing a repetitive task by having a function call itself."
   ]
  },
  {
   "cell_type": "code",
   "execution_count": null,
   "id": "346614a6",
   "metadata": {},
   "outputs": [],
   "source": [
    "def factorial(n):\n",
    "    print(\"Factorial called with \" + str(n))\n",
    "    if n < 2:\n",
    "      print(\"Returning 1\")\n",
    "      return 1\n",
    "    result = n * factorial(n-1)\n",
    "    print(\"Returning \" + str(result) + \" for factorial of \" + str(n))\n",
    "    return result\n",
    "\n",
    "factorial(4)\n",
    "    "
   ]
  },
  {
   "cell_type": "markdown",
   "id": "99bf0ae2",
   "metadata": {},
   "source": [
    "Question\n",
    "\n",
    "The function sum_positive_numbers should return the sum of all positive numbers between the number n received and 1. For example, when n is 3 it should return 1+2+3=6, and when n is 5 it should return 1+2+3+4+5=15. Fill in the gaps to make this work:"
   ]
  },
  {
   "cell_type": "code",
   "execution_count": null,
   "id": "a1c73589",
   "metadata": {},
   "outputs": [],
   "source": [
    "def sum_positive_numbers(n):\n",
    "    # The base case is n being smaller than 1\n",
    "    if n < 1:\n",
    "        return n\n",
    "    \n",
    "    # The recursive case is adding this number to \n",
    "    # the sum of the numbers smaller than this one.\n",
    "    return n + sum_positive_numbers(n-1)\n",
    "\n",
    "print(sum_positive_numbers(3)) # Should be 6\n",
    "print(sum_positive_numbers(5)) # Should be 15"
   ]
  },
  {
   "cell_type": "markdown",
   "id": "2abec0dc",
   "metadata": {},
   "source": [
    "# Recursion in Action in the IT Context"
   ]
  },
  {
   "cell_type": "markdown",
   "id": "6cd4d65f",
   "metadata": {},
   "source": [
    "Which of the following scenarios would benefit the most from using a recursive function to solve the problem?\n",
    "\n",
    "\n",
    "- You need to print out a list of the employees in your company.\n",
    "\n",
    "\n",
    "- You need to know how many files are present in a single directory of your computer.\n",
    "\n",
    "\n",
    "- **You need to create a family tree, showing several generations of your ancestors, with all of their children.**\n",
    "\n",
    "\n",
    "- You need to calculate the square root of numbers 1 through 10."
   ]
  },
  {
   "cell_type": "code",
   "execution_count": null,
   "id": "4d984ff8",
   "metadata": {},
   "outputs": [],
   "source": [
    "def factorial(n):\n",
    "    if n < 2:\n",
    "      return 1\n",
    "    return n * factorial(n-1)\n",
    "    \n",
    "factorial(5)"
   ]
  },
  {
   "cell_type": "markdown",
   "id": "92137bb3",
   "metadata": {},
   "source": [
    "# Practice Quiz: Recursion"
   ]
  },
  {
   "cell_type": "markdown",
   "id": "7212ef0b",
   "metadata": {},
   "source": [
    "1. What is recursion used for?\n",
    "\n",
    "- Recursion is used to create loops in languages where other loops are not available.\n",
    "\n",
    "- We use recursion only to implement mathematical formulas in code.\n",
    "\n",
    "- Recursion is used to iterate through sequences of files and directories.\n",
    "\n",
    "- **Recursion lets us tackle complex problems by reducing the problem to a simpler one.**"
   ]
  },
  {
   "cell_type": "markdown",
   "id": "aadae964",
   "metadata": {},
   "source": [
    "2. Which of these activities are good use cases for recursive programs? Check all that apply.\n",
    "\n",
    "- **Going through a file system collecting information related to directories and files.**\n",
    "\n",
    "\n",
    "- Creating a user account.\n",
    "\n",
    "\n",
    "- Installing or upgrading software on the computer.\n",
    "\n",
    "\n",
    "- **Managing permissions assigned to groups inside a company, when each group can contain both subgroups and users.**\n",
    "\n",
    "\n",
    "- Checking if a computer is connected to the local network."
   ]
  },
  {
   "cell_type": "markdown",
   "id": "b4e79660",
   "metadata": {},
   "source": [
    "3. Fill in the blanks to make the is_power_of function return whether the number is a power of the given base. Note: base is assumed to be a positive number. Tip: for functions that return a boolean value, you can return the result of a comparison."
   ]
  },
  {
   "cell_type": "code",
   "execution_count": null,
   "id": "6b8028f6",
   "metadata": {},
   "outputs": [],
   "source": [
    "def is_power_of(number, base):\n",
    "  # Base case: when number is smaller than base.\n",
    "  if number < base:\n",
    "    # If number is equal to 1, it's a power (base**0).\n",
    "    return number == 1\n",
    "\n",
    "  # Recursive case: keep dividing number by base.\n",
    "  return is_power_of(number//base, base)\n",
    "\n",
    "print(is_power_of(8,2)) # Should be True\n",
    "print(is_power_of(64,4)) # Should be True\n",
    "print(is_power_of(70,10)) # Should be False"
   ]
  },
  {
   "cell_type": "markdown",
   "id": "a6e3fcd2",
   "metadata": {},
   "source": [
    "4. The count_users function recursively counts the amount of users that belong to a group in the company system, by going through each of the members of a group and if one of them is a group, recursively calling the function and counting the members. But it has a bug! Can you spot the problem and fix it?"
   ]
  },
  {
   "cell_type": "code",
   "execution_count": null,
   "id": "2470b38c",
   "metadata": {},
   "outputs": [],
   "source": [
    "def count_users(group):\n",
    "  count = 0\n",
    "  for member in get_members(group):\n",
    "    count += 1\n",
    "    if is_group(member):\n",
    "      count += count_users(member) - 1    \n",
    "  return count\n",
    "print(count_users(\"sales\")) # Should be 3\n",
    "print(count_users(\"engineering\")) # Should be 8\n",
    "print(count_users(\"everyone\")) # Should be 18"
   ]
  },
  {
   "cell_type": "markdown",
   "id": "8a9a6507",
   "metadata": {},
   "source": [
    "5. Implement the sum_positive_numbers function, as a recursive function that returns the sum of all positive numbers between the number n received and 1. For example, when n is 3 it should return 1+2+3=6, and when n is 5 it should return 1+2+3+4+5=15."
   ]
  },
  {
   "cell_type": "code",
   "execution_count": null,
   "id": "4edb4f24",
   "metadata": {},
   "outputs": [],
   "source": [
    "def sum_positive_numbers(n):\n",
    "  sum = 0\n",
    "  if n == 1:\n",
    "    return 1\n",
    "  else:\n",
    "    sum += n + sum_positive_numbers(n-1)\n",
    "\n",
    "  return sum    \n",
    "\n",
    "print(sum_positive_numbers(3)) # Should be 6\n",
    "print(sum_positive_numbers(5)) # Should be 15"
   ]
  },
  {
   "cell_type": "markdown",
   "id": "6e9b5bfa",
   "metadata": {},
   "source": [
    "# Module 3 Graded Assessment"
   ]
  },
  {
   "cell_type": "markdown",
   "id": "85aa2b79",
   "metadata": {},
   "source": [
    "1. Fill in the blanks of this code to print out the numbers 1 through 7."
   ]
  },
  {
   "cell_type": "code",
   "execution_count": null,
   "id": "6aa03e78",
   "metadata": {},
   "outputs": [],
   "source": [
    "number = 1\n",
    "while number <= 7:\n",
    "\tprint(number, end=\" \")\n",
    "\tnumber += 1"
   ]
  },
  {
   "cell_type": "markdown",
   "id": "af4461bd",
   "metadata": {},
   "source": [
    "2. The show_letters function should print out each letter of a word on a separate line. Fill in the blanks to make that happen."
   ]
  },
  {
   "cell_type": "code",
   "execution_count": null,
   "id": "cedf5e2e",
   "metadata": {},
   "outputs": [],
   "source": [
    "def show_letters(word):\n",
    "    for x in (word):\n",
    "        print(x)\n",
    "\n",
    "show_letters(\"Hello\")\n",
    "# Should print one line per letter"
   ]
  },
  {
   "cell_type": "markdown",
   "id": "ecf45afd",
   "metadata": {},
   "source": [
    "3. Complete the function digits(n) that returns how many digits the number has. For example: 25 has 2 digits and 144 has 3 digits. Tip: you can figure out the digits of a number by dividing it by 10 once per digit until there are no digits left."
   ]
  },
  {
   "cell_type": "code",
   "execution_count": null,
   "id": "31538eec",
   "metadata": {},
   "outputs": [],
   "source": [
    "def digits(n):\n",
    "    count = 0\n",
    "    if n == 0:\n",
    "        return 1\n",
    "    while (n >= 1):\n",
    "        count += 1\n",
    "        n = n / 10\n",
    "    return count\n",
    "\n",
    "print(digits(25))   # Should print 2\n",
    "print(digits(144))  # Should print 3\n",
    "print(digits(1000)) # Should print 4\n",
    "print(digits(0))    # Should print 1"
   ]
  },
  {
   "cell_type": "markdown",
   "id": "c39a79d9",
   "metadata": {},
   "source": [
    "4. This function prints out a multiplication table (where each number is the result of multiplying the first number of its row by the number at the top of its column). Fill in the blanks so that calling multiplication_table(1, 3) will print out:\n",
    "\n",
    "1 2 3 \n",
    "\n",
    "2 4 6 \n",
    "\n",
    "3 6 9"
   ]
  },
  {
   "cell_type": "code",
   "execution_count": null,
   "id": "ed6a5dfb",
   "metadata": {},
   "outputs": [],
   "source": [
    "def multiplication_table(start, stop):\n",
    "    for x in range(start, stop+1):\n",
    "        for y in range(start, stop+1):\n",
    "            print(str(x*y), end=\" \")\n",
    "        print()\n",
    "\n",
    "multiplication_table(1, 3)\n",
    "# Should print the multiplication table shown above"
   ]
  },
  {
   "cell_type": "markdown",
   "id": "479741e8",
   "metadata": {},
   "source": [
    "5. The counter function counts down from start to stop when start is bigger than stop, and counts up from start to stop otherwise. Fill in the blanks to make this work correctly."
   ]
  },
  {
   "cell_type": "code",
   "execution_count": 24,
   "id": "084d7bc2",
   "metadata": {},
   "outputs": [
    {
     "name": "stdout",
     "output_type": "stream",
     "text": [
      "Counting up: 1,2,3,4,5,6,7,8,9,10\n",
      "Counting down: 2,1\n",
      "Counting up: 5\n"
     ]
    }
   ],
   "source": [
    "def counter(start, stop):\n",
    "    x = start\n",
    "    if start > stop:\n",
    "        return_string = \"Counting down: \"\n",
    "        while x >= stop:\n",
    "            return_string += str(x)\n",
    "            if x > stop:\n",
    "                return_string += \",\"\n",
    "            x -=1\n",
    "    else:\n",
    "        return_string = \"Counting up: \"\n",
    "        while x <= stop:\n",
    "            return_string += str(x)\n",
    "            if x < stop:\n",
    "                return_string += \",\"\n",
    "            x += 1\n",
    "    return return_string\n",
    "\n",
    "print(counter(1, 10)) # Should be \"Counting up: 1,2,3,4,5,6,7,8,9,10\"\n",
    "print(counter(2, 1)) # Should be \"Counting down: 2,1\"\n",
    "print(counter(5, 5)) # Should be \"Counting up: 5\""
   ]
  },
  {
   "cell_type": "markdown",
   "id": "454155f9",
   "metadata": {},
   "source": [
    "6. The even_numbers function returns a space-separated string of all positive numbers that are divisible by 2, up to and including the maximum that's passed into the function. For example, even_numbers(6) returns “2 4 6”. Fill in the blank to make this work."
   ]
  },
  {
   "cell_type": "code",
   "execution_count": 28,
   "id": "adbcde43",
   "metadata": {},
   "outputs": [
    {
     "name": "stdout",
     "output_type": "stream",
     "text": [
      "2 4 6\n",
      "2 4 6 8 10\n",
      "\n",
      "2\n",
      "\n"
     ]
    }
   ],
   "source": [
    "def even_numbers(maximum):\n",
    "    return_string = \"\"\n",
    "    for x in range(2, maximum+1, 2):\n",
    "        return_string += str(x) + \" \"\n",
    "    return return_string.strip()\n",
    "\n",
    "print(even_numbers(6))  # Should be 2 4 6\n",
    "print(even_numbers(10)) # Should be 2 4 6 8 10\n",
    "print(even_numbers(1))  # No numbers displayed\n",
    "print(even_numbers(3))  # Should be 2\n",
    "print(even_numbers(0))  # No numbers displayed"
   ]
  },
  {
   "cell_type": "markdown",
   "id": "a06b76c8",
   "metadata": {},
   "source": [
    "7. The following code raises an error when executed. What's the reason for the error?"
   ]
  },
  {
   "cell_type": "code",
   "execution_count": 29,
   "id": "91b5b8d7",
   "metadata": {},
   "outputs": [],
   "source": [
    "def decade_counter():\n",
    "\twhile year < 50:\n",
    "\t\tyear += 10\n",
    "\treturn year"
   ]
  },
  {
   "cell_type": "markdown",
   "id": "8eab0231",
   "metadata": {},
   "source": [
    "- Incrementing by 10 instead of 1\n",
    "- **Failure to initialize variables**\n",
    "- Nothing is happening inside the while loop\n",
    "- Wrong comparison operator"
   ]
  },
  {
   "cell_type": "markdown",
   "id": "6ff99e69",
   "metadata": {},
   "source": [
    "8. What is the value of x at the end of the following code?"
   ]
  },
  {
   "cell_type": "code",
   "execution_count": 30,
   "id": "478c21cc",
   "metadata": {},
   "outputs": [
    {
     "name": "stdout",
     "output_type": "stream",
     "text": [
      "1\n",
      "4\n",
      "7\n"
     ]
    }
   ],
   "source": [
    "for x in range(1, 10, 3):\n",
    "    print(x)"
   ]
  },
  {
   "cell_type": "markdown",
   "id": "9cc7ea1a",
   "metadata": {},
   "source": [
    "9. What is the value of y at the end of the following code?"
   ]
  },
  {
   "cell_type": "code",
   "execution_count": 32,
   "id": "0e7c9b95",
   "metadata": {},
   "outputs": [
    {
     "name": "stdout",
     "output_type": "stream",
     "text": [
      "0\n",
      "0\n",
      "1\n",
      "0\n",
      "1\n",
      "2\n",
      "0\n",
      "1\n",
      "2\n",
      "3\n",
      "0\n",
      "1\n",
      "2\n",
      "3\n",
      "4\n",
      "0\n",
      "1\n",
      "2\n",
      "3\n",
      "4\n",
      "5\n",
      "0\n",
      "1\n",
      "2\n",
      "3\n",
      "4\n",
      "5\n",
      "6\n",
      "0\n",
      "1\n",
      "2\n",
      "3\n",
      "4\n",
      "5\n",
      "6\n",
      "7\n",
      "0\n",
      "1\n",
      "2\n",
      "3\n",
      "4\n",
      "5\n",
      "6\n",
      "7\n",
      "8\n"
     ]
    }
   ],
   "source": [
    "for x in range(10):\n",
    "    for y in range(x):\n",
    "        print(y)"
   ]
  },
  {
   "cell_type": "markdown",
   "id": "10a67caf",
   "metadata": {},
   "source": [
    "10. How does this function need to be called to print yes, no, and maybe as possible options to vote for?"
   ]
  },
  {
   "cell_type": "code",
   "execution_count": 37,
   "id": "7aa8e308",
   "metadata": {},
   "outputs": [
    {
     "name": "stdout",
     "output_type": "stream",
     "text": [
      "Possible option:yes\n",
      "Possible option:no\n",
      "Possible option:maybe\n"
     ]
    }
   ],
   "source": [
    "def votes(params):\n",
    "    for vote in params:\n",
    "        print(\"Possible option:\" + vote)\n",
    "        \n",
    "votes(['yes','no','maybe'])"
   ]
  },
  {
   "cell_type": "markdown",
   "id": "29443c0e",
   "metadata": {},
   "source": [
    "- votes(\"yes\", \"no\", \"maybe\")\n",
    "\n",
    "- votes(yes, no, maybe)\n",
    "\n",
    "- votes([yes, no, maybe])\n",
    "\n",
    "- **votes(['yes', 'no', 'maybe'])**"
   ]
  },
  {
   "cell_type": "code",
   "execution_count": null,
   "id": "d266d146",
   "metadata": {},
   "outputs": [],
   "source": []
  }
 ],
 "metadata": {
  "kernelspec": {
   "display_name": "Python 3 (ipykernel)",
   "language": "python",
   "name": "python3"
  },
  "language_info": {
   "codemirror_mode": {
    "name": "ipython",
    "version": 3
   },
   "file_extension": ".py",
   "mimetype": "text/x-python",
   "name": "python",
   "nbconvert_exporter": "python",
   "pygments_lexer": "ipython3",
   "version": "3.10.8"
  }
 },
 "nbformat": 4,
 "nbformat_minor": 5
}
