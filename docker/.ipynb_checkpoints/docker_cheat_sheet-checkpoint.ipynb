{
 "cells": [
  {
   "cell_type": "markdown",
   "metadata": {},
   "source": [
    "# Registry & Repository"
   ]
  },
  {
   "cell_type": "code",
   "execution_count": null,
   "metadata": {},
   "outputs": [],
   "source": [
    "$ docker login  # to login to a registry.\n",
    "$ docker logout # to logout from a registry.\n",
    "$ docker search # searches registry for image.\n",
    "$ docker pull   # pulls an image from registry to local machine.\n",
    "$ docker push   # pushes an image to the registry from local machine."
   ]
  },
  {
   "cell_type": "code",
   "execution_count": null,
   "metadata": {},
   "outputs": [],
   "source": []
  },
  {
   "cell_type": "markdown",
   "metadata": {},
   "source": [
    "<b> Run an interactive container</b>"
   ]
  },
  {
   "cell_type": "code",
   "execution_count": null,
   "metadata": {
    "scrolled": false
   },
   "outputs": [],
   "source": [
    "$ docker run -t -i ubuntu /bin/bash\n",
    "root@94b64d3ca5b4:/#\n",
    "[ctrl]+[p][q] # to quit and can attched to the container again"
   ]
  },
  {
   "cell_type": "markdown",
   "metadata": {},
   "source": [
    "# Manage containers"
   ]
  },
  {
   "cell_type": "markdown",
   "metadata": {},
   "source": [
    "<b>Lifecycle</b>"
   ]
  },
  {
   "cell_type": "code",
   "execution_count": 2,
   "metadata": {},
   "outputs": [
    {
     "ename": "SyntaxError",
     "evalue": "invalid syntax (<ipython-input-2-4d908f9317b1>, line 1)",
     "output_type": "error",
     "traceback": [
      "\u001b[0;36m  File \u001b[0;32m\"<ipython-input-2-4d908f9317b1>\"\u001b[0;36m, line \u001b[0;32m1\u001b[0m\n\u001b[0;31m    $ docker create [options] IMAGE\u001b[0m\n\u001b[0m    ^\u001b[0m\n\u001b[0;31mSyntaxError\u001b[0m\u001b[0;31m:\u001b[0m invalid syntax\n"
     ]
    }
   ],
   "source": [
    "$ docker create [options] IMAGE\n",
    "  -a, --attach               # attach stdout/err\n",
    "  -i, --interactive          # attach stdin (interactive)\n",
    "  -t, --tty                  # pseudo-tty\n",
    "      --name NAME            # name your image\n",
    "  -p, --publish 5000:5000    # port map\n",
    "      --expose 5432          # expose a port to linked containers\n",
    "  -P, --publish-all          # publish all ports\n",
    "      --link container:alias # linking\n",
    "  -v, --volume `pwd`:/app    # mount (absolute paths needed)\n",
    "  -e, --env NAME=hello       # env vars\n",
    "\n",
    "$ docker run    # creates and starts a container in one operation.\n",
    "\n",
    "# Run container in background\n",
    "$ docker run -d -it --name shen ubuntu \n",
    "\n",
    "# To reattach to a detached container\n",
    "$ docker attach [name of container]\n",
    "#or \n",
    "$ docker attach [container id]\n",
    "root@94b64d3ca5b4:/#\n",
    "[ctrl]+[p][q] # to quit and can attched to the container again\n",
    "\n",
    "$ docker create # creates a container but does not start it.\n",
    "$ docker rename # allows the container to be renamed.\n",
    "$ docker rm     # deletes a container.\n",
    "$ docker update # updates a container's resource limits."
   ]
  },
  {
   "cell_type": "markdown",
   "metadata": {},
   "source": [
    "<b>Run a command in a running container</b>"
   ]
  },
  {
   "cell_type": "code",
   "execution_count": null,
   "metadata": {},
   "outputs": [],
   "source": [
    "$ docker exec [options] CONTAINER COMMAND\n",
    "  -d, --detach        # run in background\n",
    "  -i, --interactive   # stdin\n",
    "  -t, --tty           # interactive\n",
    "    \n",
    "Example\n",
    "$ docker exec app_web_1 tail logs/development.log\n",
    "$ docker exec -t -i app_web_1 rails c"
   ]
  },
  {
   "cell_type": "markdown",
   "metadata": {},
   "source": [
    "<b>Starting/Stoping container</b>"
   ]
  },
  {
   "cell_type": "code",
   "execution_count": null,
   "metadata": {},
   "outputs": [],
   "source": [
    "$ docker start [options] CONTAINER\n",
    "  -a, --attach        # attach stdout/err\n",
    "  -i, --interactive   # attach stdin\n",
    "\n",
    "$ docker start    # starts a container so it is running.\n",
    "$ docker stop     # stops a running container.\n",
    "$ docker restart  # stops and starts a container.\n",
    "$ docker pause    # pauses a running container, \"freezing\" it in place.\n",
    "$ docker unpause  # will unpause a running container.\n",
    "$ docker wait     # blocks until running container stops.\n",
    "$ docker kill $ID # sends a SIGKILL to a running container.\n",
    "$ docker attach   # will connect to a running container.\n",
    "\n",
    "docker stop $(docker ps -aq) # stop all containers\n",
    "docker rm $(docker ps -aq)   # remove all containers"
   ]
  },
  {
   "cell_type": "markdown",
   "metadata": {},
   "source": [
    "<b>Info</b>"
   ]
  },
  {
   "cell_type": "code",
   "execution_count": null,
   "metadata": {},
   "outputs": [],
   "source": [
    "$ docker ps      # shows running containers.\n",
    "$ docker logs    # gets logs from container. (You can use a custom log driver, but logs is only available for json-file and journald in 1.10).\n",
    "$ docker inspect # looks at all the info on a container (including IP address).\n",
    "$ docker events  # gets events from container.\n",
    "$ docker port    # shows public facing port of container.\n",
    "$ docker top     # shows running processes in container.\n",
    "$ docker stats   # shows containers' resource usage statistics.\n",
    "$ docker diff    # shows changed files in the container's FS."
   ]
  },
  {
   "cell_type": "markdown",
   "metadata": {},
   "source": [
    "# Manage Images"
   ]
  },
  {
   "cell_type": "markdown",
   "metadata": {},
   "source": [
    "<b>Lifecycle</b>"
   ]
  },
  {
   "cell_type": "code",
   "execution_count": 11,
   "metadata": {
    "collapsed": true
   },
   "outputs": [
    {
     "ename": "SyntaxError",
     "evalue": "invalid syntax (<ipython-input-11-4f8510568667>, line 1)",
     "output_type": "error",
     "traceback": [
      "\u001b[0;36m  File \u001b[0;32m\"<ipython-input-11-4f8510568667>\"\u001b[0;36m, line \u001b[0;32m1\u001b[0m\n\u001b[0;31m    $ docker images\u001b[0m\n\u001b[0m    ^\u001b[0m\n\u001b[0;31mSyntaxError\u001b[0m\u001b[0;31m:\u001b[0m invalid syntax\n"
     ]
    }
   ],
   "source": [
    "$ docker images\n",
    "  REPOSITORY   TAG        ID\n",
    "  ubuntu       12.10      b750fe78269d\n",
    "  me/myapp     latest     7b2431a8d968\n",
    "    \n",
    "$ docker images # show all images\n",
    "$ docker build  # creates image from Dockerfile.\n",
    "$ docker commit # creates image from a container, pausing it temporarily if it is running.\n",
    "$ docker rmi    # removes an image.\n",
    "\n",
    "$ docker load   # loads an image from a tar archive as STDIN, including images and tags (as of 0.7).\n",
    "# sample \n",
    "$ docker load < my_image.tar.gz\n",
    "\n",
    "$ docker save   # saves an image to a tar archive stream to STDOUT with all parent layers, tags & versions (as of 0.7).\n",
    "# sample\n",
    "docker save my_image:my_tag | gzip > my_image.tar.gz\n",
    "\n",
    "$ docker import # import container.\n",
    "# sample\n",
    "cat my_container.tar.gz | docker import - my_image:my_tag\n",
    "\n",
    "$ docker export # export container.\n",
    "# sample\n",
    "docker export my_container | gzip > my_container.tar.gz\n",
    "\n",
    "# Difference between loading a saved image and importing an exported container as an image\n",
    "Loading an image using the load command creates a new image including its history.\n",
    "Importing a container as an image using the import command creates a new image excluding the history which results in a smaller image size compared to loading an image."
   ]
  },
  {
   "cell_type": "markdown",
   "metadata": {},
   "source": [
    "<b>Info</b>"
   ]
  },
  {
   "cell_type": "code",
   "execution_count": null,
   "metadata": {},
   "outputs": [],
   "source": [
    "$ docker history # shows history of image.\n",
    "\n",
    "# sample \n",
    "sherwinowen@Owen-ThinkPad-T450:~$ docker history ubuntu\n",
    "IMAGE               CREATED             CREATED BY                                      SIZE                COMMENT\n",
    "2ca708c1c9cc        6 months ago        /bin/sh -c #(nop)  CMD [\"/bin/bash\"]            0B                  \n",
    "<missing>           6 months ago        /bin/sh -c mkdir -p /run/systemd && echo 'do…   7B                  \n",
    "<missing>           6 months ago        /bin/sh -c set -xe   && echo '#!/bin/sh' > /…   745B                \n",
    "<missing>           6 months ago        /bin/sh -c [ -z \"$(apt-get indextargets)\" ]     987kB               \n",
    "<missing>           6 months ago        /bin/sh -c #(nop) ADD file:288ac0434f65264f3…   63.2MB\n",
    "\n",
    "$ docker tag     # tags an image to a name (local or registry)."
   ]
  },
  {
   "cell_type": "markdown",
   "metadata": {},
   "source": [
    "# Networks"
   ]
  },
  {
   "cell_type": "markdown",
   "metadata": {},
   "source": [
    "<b>Lifecycle</b>"
   ]
  },
  {
   "cell_type": "code",
   "execution_count": null,
   "metadata": {},
   "outputs": [],
   "source": [
    "# Create network\n",
    "$ docker network create\n",
    "# sample\n",
    "$ docker network create --driver bridge ubuntu-net\n",
    "\n",
    "# Delete network\n",
    "$ docker network rm"
   ]
  },
  {
   "cell_type": "code",
   "execution_count": null,
   "metadata": {},
   "outputs": [],
   "source": [
    "#Create container using the network created \n",
    "$ docker run -dit --name ubuntu3 --network ubuntu-net ubuntu\n"
   ]
  },
  {
   "cell_type": "markdown",
   "metadata": {},
   "source": [
    "<b>Info</b>"
   ]
  },
  {
   "cell_type": "code",
   "execution_count": 5,
   "metadata": {},
   "outputs": [
    {
     "ename": "SyntaxError",
     "evalue": "invalid syntax (<ipython-input-5-9c2523a27786>, line 2)",
     "output_type": "error",
     "traceback": [
      "\u001b[0;36m  File \u001b[0;32m\"<ipython-input-5-9c2523a27786>\"\u001b[0;36m, line \u001b[0;32m2\u001b[0m\n\u001b[0;31m    $ docker network ls\u001b[0m\n\u001b[0m    ^\u001b[0m\n\u001b[0;31mSyntaxError\u001b[0m\u001b[0;31m:\u001b[0m invalid syntax\n"
     ]
    }
   ],
   "source": [
    "# \n",
    "$ docker network ls\n",
    "NETWORK ID          NAME                DRIVER              SCOPE\n",
    "10172ea36bb8        bridge              bridge              local\n",
    "4dcae6326591        host                host                local\n",
    "c51c33d3f3a0        none                null                local\n",
    "\n",
    "# To see what containers are connected to it.\n",
    "$ docker network inspect bridge\n",
    "[\n",
    "    {\n",
    "        \"Name\": \"bridge\",\n",
    "        \"Id\": \"10172ea36bb8079e1aa0eceec55852210f181b99787ea7c1ae0ec5886b992f8e\",\n",
    "        \"Created\": \"2020-03-22T06:20:14.561502607+08:00\",\n",
    "        \"Scope\": \"local\",\n",
    "        \"Driver\": \"bridge\",\n",
    "        \"EnableIPv6\": false,\n",
    "        \"IPAM\": {\n",
    "            \"Driver\": \"default\",\n",
    "            \"Options\": null,\n",
    "            \"Config\": [\n",
    "                {\n",
    "                    \"Subnet\": \"172.17.0.0/16\",\n",
    "                    \"Gateway\": \"172.17.0.1\"\n",
    "                }\n",
    "            ]\n",
    "        },\n",
    "        \"Internal\": false,\n",
    "        \"Attachable\": false,\n",
    "        \"Ingress\": false,\n",
    "        \"ConfigFrom\": {\n",
    "            \"Network\": \"\"\n",
    "        },\n",
    "        \"ConfigOnly\": false,\n",
    "        \"Containers\": {\n",
    "            \"460b624130ac027fdb3d1e0f7d95fb1711f975930cf7cda9cf33400e017f2a74\": {\n",
    "                \"Name\": \"ubuntu2\",\n",
    "                \"EndpointID\": \"85b620a54470e98640b27c7815e19a377d5c75245196a4dc658cc44954546638\",\n",
    "                \"MacAddress\": \"02:42:ac:11:00:03\",\n",
    "                \"IPv4Address\": \"172.17.0.3/16\",\n",
    "                \"IPv6Address\": \"\"\n",
    "            },\n",
    "            \"828b9b933827dc8c3b7d1a02bd36a39a686c307c25fe66ff17006209ccee1f04\": {\n",
    "                \"Name\": \"ubuntu1\",\n",
    "                \"EndpointID\": \"05e45dc259e6dfc6ee6a096aa8132b706815dc80f8a121001e1138d0b868a851\",\n",
    "                \"MacAddress\": \"02:42:ac:11:00:02\",\n",
    "                \"IPv4Address\": \"172.17.0.2/16\",\n",
    "                \"IPv6Address\": \"\"\n",
    "            }\n",
    "        },\n",
    "        \"Options\": {\n",
    "            \"com.docker.network.bridge.default_bridge\": \"true\",\n",
    "            \"com.docker.network.bridge.enable_icc\": \"true\",\n",
    "            \"com.docker.network.bridge.enable_ip_masquerade\": \"true\",\n",
    "            \"com.docker.network.bridge.host_binding_ipv4\": \"0.0.0.0\",\n",
    "            \"com.docker.network.bridge.name\": \"docker0\",\n",
    "            \"com.docker.network.driver.mtu\": \"1500\"\n",
    "        },\n",
    "        \"Labels\": {}\n",
    "    }\n",
    "]\n"
   ]
  },
  {
   "cell_type": "markdown",
   "metadata": {},
   "source": [
    "<b>Connection</b>"
   ]
  },
  {
   "cell_type": "code",
   "execution_count": null,
   "metadata": {},
   "outputs": [],
   "source": [
    "# Connect a container to a network\n",
    "$ docker network connect [network name] [contaiuner name]\n",
    "\n",
    "# Disconnect a container to a network\n",
    "$ docker network disconnect [network name] [container name]"
   ]
  },
  {
   "cell_type": "markdown",
   "metadata": {},
   "source": [
    "# Volumes"
   ]
  },
  {
   "cell_type": "markdown",
   "metadata": {},
   "source": [
    "<b>Lifecycle</b>"
   ]
  },
  {
   "cell_type": "code",
   "execution_count": null,
   "metadata": {},
   "outputs": [],
   "source": [
    "# Create volume\n",
    "$ docker volume create [volume name]\n",
    "\n",
    "#Remove volume\n",
    "$ docker volume rm [volume name]"
   ]
  },
  {
   "cell_type": "markdown",
   "metadata": {},
   "source": [
    "<b>Info</b>"
   ]
  },
  {
   "cell_type": "code",
   "execution_count": 1,
   "metadata": {
    "scrolled": false
   },
   "outputs": [
    {
     "ename": "SyntaxError",
     "evalue": "invalid syntax (<ipython-input-1-30bad016b712>, line 1)",
     "output_type": "error",
     "traceback": [
      "\u001b[0;36m  File \u001b[0;32m\"<ipython-input-1-30bad016b712>\"\u001b[0;36m, line \u001b[0;32m1\u001b[0m\n\u001b[0;31m    $ docker volume ls\u001b[0m\n\u001b[0m    ^\u001b[0m\n\u001b[0;31mSyntaxError\u001b[0m\u001b[0;31m:\u001b[0m invalid syntax\n"
     ]
    }
   ],
   "source": [
    "# List volumes\n",
    "$ docker volume ls\n",
    "\n",
    "# Inspect volumes\n",
    "$ docker volume inspect"
   ]
  },
  {
   "cell_type": "markdown",
   "metadata": {},
   "source": [
    "<b>Mounting volumes</b># (deprecated - use LABEL instead) Set the Author field of the generated images."
   ]
  },
  {
   "cell_type": "code",
   "execution_count": null,
   "metadata": {},
   "outputs": [],
   "source": [
    "# Mounting the volume created\n",
    "$ docker run -d --name webApp2 --mount source=owen_volume,destination=/usr/share/nginx/html -p 80:80 nginx"
   ]
  },
  {
   "cell_type": "markdown",
   "metadata": {},
   "source": [
    "# Dockerfile"
   ]
  },
  {
   "cell_type": "markdown",
   "metadata": {},
   "source": [
    "<b>Creating a Dockerfile</b>"
   ]
  },
  {
   "cell_type": "code",
   "execution_count": null,
   "metadata": {},
   "outputs": [],
   "source": [
    "$ mkdir images\n",
    "$ cd images\n",
    "$ vi Dockerfile"
   ]
  },
  {
   "cell_type": "markdown",
   "metadata": {},
   "source": [
    "<b>Running a Dockerfile</b>"
   ]
  },
  {
   "cell_type": "code",
   "execution_count": null,
   "metadata": {},
   "outputs": [],
   "source": [
    "$ docker build -t my_ubuntu ."
   ]
  },
  {
   "cell_type": "markdown",
   "metadata": {},
   "source": [
    "<b>Intructions</b>"
   ]
  },
  {
   "cell_type": "code",
   "execution_count": 6,
   "metadata": {},
   "outputs": [
    {
     "ename": "SyntaxError",
     "evalue": "invalid syntax (<ipython-input-6-cd98db8b1ae4>, line 2)",
     "output_type": "error",
     "traceback": [
      "\u001b[0;36m  File \u001b[0;32m\"<ipython-input-6-cd98db8b1ae4>\"\u001b[0;36m, line \u001b[0;32m2\u001b[0m\n\u001b[0;31m    .dockerignore\u001b[0m\n\u001b[0m    ^\u001b[0m\n\u001b[0;31mSyntaxError\u001b[0m\u001b[0;31m:\u001b[0m invalid syntax\n"
     ]
    }
   ],
   "source": [
    "# file prevents our local modules and other unwanted files from being copied onto the Docker image\n",
    ".dockerignore\n",
    "\n",
    "# Example .dockerignore file:\n",
    "\n",
    "# comment\n",
    "*/temp*\n",
    "*/*/temp*\n",
    "temp?\n",
    "\n",
    "/******************************/\n",
    "\n",
    "# Sets the Base Image for subsequent instructions.\n",
    "FROM\n",
    "\n",
    "# Example\n",
    "\n",
    "#Download base image ubuntu 16.04\n",
    "FROM ubuntu:16.04\n",
    "\n",
    "/******************************/    \n",
    "    \n",
    "# (deprecated - use LABEL instead) Set the Author field of the generated images.\n",
    "MAINTAINER \n",
    "\n",
    "#Example\n",
    "LABEL maintainer=\"SvenDowideit@home.org.au\"\n",
    "\n",
    "/******************************/\n",
    "\n",
    "# execute any commands in a new layer on top of the current image and commit the results.\n",
    "RUN \n",
    "\n",
    "# Example\n",
    "RUN apt update\n",
    "RUN mkdir -p /run/php && \\\n",
    "    chown -R www-data:www-data /var/www/html && \\\n",
    "    chown -R www-data:www-data /run/php\n",
    "\n",
    "/*****************************/\n",
    "\n",
    "# provide defaults for an executing container.\n",
    "CMD \n",
    "\n",
    "# Example\n",
    "# Default port to execute the entrypoint (MongoDB)\n",
    "CMD [\"--port 27017\"]\n",
    "\n",
    "/*****************************/\n",
    "\n",
    "# informs Docker that the container listens on the specified network ports at runtime. NOTE: does not actually make ports accessible.\n",
    "EXPOSE \n",
    "\n",
    "# Example\n",
    "# Expose the default port\n",
    "EXPOSE 27017\n",
    "EXPOSE 80 443\n",
    "\n",
    "/***************************/\n",
    "\n",
    "# sets environment variable.\n",
    "ENV \n",
    "\n",
    "# Example\n",
    "#Define the ENV variable\n",
    "ENV nginx_vhost /etc/nginx/sites-available/default\n",
    "ENV php_conf /etc/php/7.0/fpm/php.ini\n",
    "ENV nginx_conf /etc/nginx/nginx.conf\n",
    "ENV supervisor_conf /etc/supervisor/supervisord.conf\n",
    "\n",
    "/**************************/\n",
    "\n",
    "# copies new files, directories or remote file to container. \n",
    "# Invalidates caches. Avoid ADD and use COPY instead.\n",
    "ADD \n",
    "\n",
    "# ADD has two forms:\n",
    "ADD [--chown=<user>:<group>] <src>... <dest>\n",
    "ADD [--chown=<user>:<group>] [\"<src>\",... \"<dest>\"] (this form is required for paths containing whitespace)\n",
    "\n",
    "# Example\n",
    "ADD hom* /mydir/        # adds all files starting with \"hom\"\n",
    "ADD hom?.txt /mydir/    # ? is replaced with any single character, e.g., \"home.txt\"\n",
    "ADD --chown=55:mygroup files* /somedir/\n",
    "    \n",
    "/*************************/\n",
    "\n",
    "# copies new files or directories to container. \n",
    "# By default this copies as root regardless of the USER/WORKDIR settings. \n",
    "# Use --chown=<user>:<group> to give ownership to another user/group. (Same for ADD.)\n",
    "COPY \n",
    "\n",
    "# COPY has two forms:\n",
    "COPY [--chown=<user>:<group>] <src>... <dest>\n",
    "COPY [--chown=<user>:<group>] [\"<src>\",... \"<dest>\"] (this form is required for paths containing whitespace)\n",
    "\n",
    "# Example \n",
    "COPY hom* /mydir/        # adds all files starting with \"hom\"\n",
    "COPY --chown=55:mygroup files* /somedir/\n",
    "\n",
    "/********************************/\n",
    "    \n",
    "# configures a container that will run as an executable.\n",
    "ENTRYPOINT \n",
    "\n",
    "# ENTRYPOINT has two forms:\n",
    "ENTRYPOINT [\"executable\", \"param1\", \"param2\"] (exec form, preferred)\n",
    "ENTRYPOINT command param1 param2 (shell form)\n",
    "\n",
    "# Example\n",
    "# Set default container command\n",
    "ENTRYPOINT usr/bin/mongodb\n",
    "\n",
    "/**********************/\n",
    "\n",
    "# creates a mount point for externally mounted volumes or other containers.\n",
    "VOLUME \n",
    "\n",
    "#Example\n",
    "# Volume configuration\n",
    "VOLUME [\"/etc/nginx/sites-enabled\", \"/etc/nginx/certs\", \"/etc/nginx/conf.d\", \"/var/log/nginx\", \"/var/www/html\"]\n",
    "\n",
    "/***********************/\n",
    "\n",
    "# sets the user name for following RUN / CMD / ENTRYPOINT commands.\n",
    "USER \n",
    "\n",
    "USER <user>[:<group>] or\n",
    "USER <UID>[:<GID>]\n",
    "\n",
    "#Example\n",
    "USER sherwinowen:sudo\n",
    "    \n",
    "/**********************/    \n",
    "\n",
    "# sets the working directory.\n",
    "WORKDIR \n",
    "# WORKDIR /path/to/workdir\n",
    "\n",
    "# Example\n",
    "# Create app directory\n",
    "RUN mkdir /app\n",
    "WORKDIR /app\n",
    "\n",
    "/**********************/\n",
    "\n",
    "# defines a build-time variable.\n",
    "ARG \n",
    "\n",
    "# adds a trigger instruction when the image is used a the base for another build.\n",
    "ONBUILD \n",
    "\n",
    "# sets the system call signal that will be sent to the container to exit.\n",
    "STOPSIGNAL \n",
    "\n",
    "# apply key/value metadata to your images, containers, or daemons.\n",
    "LABEL \n",
    "\n",
    "# override default shell is used by docker to run commands.\n",
    "SHELL \n",
    "\n",
    "# tells docker how to test a container to check that it is still working.\n",
    "HEALTHCHECK "
   ]
  },
  {
   "cell_type": "markdown",
   "metadata": {},
   "source": [
    "# Docker Compose"
   ]
  },
  {
   "cell_type": "code",
   "execution_count": 7,
   "metadata": {},
   "outputs": [
    {
     "ename": "SyntaxError",
     "evalue": "invalid syntax (<ipython-input-7-9486bc9ae5d8>, line 1)",
     "output_type": "error",
     "traceback": [
      "\u001b[0;36m  File \u001b[0;32m\"<ipython-input-7-9486bc9ae5d8>\"\u001b[0;36m, line \u001b[0;32m1\u001b[0m\n\u001b[0;31m    Install Docker Compose\u001b[0m\n\u001b[0m                 ^\u001b[0m\n\u001b[0;31mSyntaxError\u001b[0m\u001b[0;31m:\u001b[0m invalid syntax\n"
     ]
    }
   ],
   "source": [
    "Install Docker Compose\n",
    "\n",
    "1. Run this command to download the current stable release of Docker Compose:\n",
    "$ sudo curl -L \"https://github.com/docker/compose/releases/download/1.25.4/docker-compose-$(uname -s)-$(uname -m)\" -o /usr/local/bin/docker-compose\n",
    "\n",
    "2. Apply executable permissions to the binary:\n",
    "$ sudo chmod +x /usr/local/bin/docker-compose\n",
    "\n",
    "3. Create a symbolic link to /usr/bin\n",
    "$ sudo ln -s /usr/local/bin/docker-compose /usr/bin/docker-compose\n",
    "\n",
    "4. Test the installation.\n",
    "$ docker-compose --version\n",
    "docker-compose version 1.25.4, build 1110ad01"
   ]
  },
  {
   "cell_type": "code",
   "execution_count": 8,
   "metadata": {},
   "outputs": [
    {
     "ename": "SyntaxError",
     "evalue": "invalid character in identifier (<ipython-input-8-5ce01e9a9bfc>, line 3)",
     "output_type": "error",
     "traceback": [
      "\u001b[0;36m  File \u001b[0;32m\"<ipython-input-8-5ce01e9a9bfc>\"\u001b[0;36m, line \u001b[0;32m3\u001b[0m\n\u001b[0;31m    version: “2”\u001b[0m\n\u001b[0m               ^\u001b[0m\n\u001b[0;31mSyntaxError\u001b[0m\u001b[0;31m:\u001b[0m invalid character in identifier\n"
     ]
    }
   ],
   "source": [
    "Section (docker-compose.yml)\n",
    "\n",
    "version: “2” \n",
    "Basically this defines the compatibility of various services & docker versions. \n",
    "Its mainly divided into three versions ‘1’, ‘2.X’ & ‘3.X’. \n",
    "\n",
    "/*****************************/\n",
    "\n",
    "services: \n",
    "Basically whatever is mentioned under this section are the details of containers we will create.\n",
    "\n",
    "/*****************************/\n",
    "\n",
    "db: wordpress:\n",
    "Name of the containers or we can also say hostname.\n",
    "\n",
    "/****************************/\n",
    "\n",
    "image: mysql:5.7 \n",
    "image: wordpress:latest\n",
    "Name of the images that will be used for creating the docker container. \n",
    "If we have dockerfile instead of image, we can also use that. \n",
    "In order to do that we will not mention the ‘image’ section but rather \n",
    "will mention the following section named ‘build’,\n",
    "\n",
    "build:\n",
    "\n",
    "dockerfile: dockerfile.test\n",
    "\n",
    "/******************************/\n",
    "    \n",
    "depends_on:\n",
    "we have mentioned this section only under the wordpress container. \n",
    "This means that the wordpress container will depend on the container named ‘db’.\n",
    "\n",
    "/******************************/\n",
    "\n",
    "volumes: \n",
    "As you should know that once a container has been terminated, \n",
    "all the data inside that container is gone. So if want data from container to persist, \n",
    "we mount a volume from localhost to container. \n",
    "This is what this section is for, we are mounting a localhost volume named \n",
    "‘wordpress_data’ to ‘/var/lib/mysql’ folder inside the docker container.\n",
    "\n",
    "/*****************************/\n",
    "\n",
    "ports:\n",
    "This section in wordpress container allows us to port map a localhost port to docker container port. \n",
    "Here we want to map port 8080 of the localhost to port 80 of the wordpress container.\n",
    "\n",
    "/*****************************/\n",
    "\n",
    "restart: always\n",
    "With this section, we are saying that in the case due to any issue or errors if the container dies out, \n",
    "it should be restarted immediately. If we don’t mention, restart policy then once the container stops,\n",
    "it will remain stopped. Other restart policies that can be used are ‘no’, ‘on-failure’ & ‘unless-stoped’.\n",
    "\n",
    "/*****************************/\n",
    "\n",
    "environment:\n",
    "Under this section, we mention all the variables & there values to be used by containers. \n",
    "\n",
    "/*****************************/\n",
    "\n",
    "‘volumes’: \n",
    "Firstly check the indentation of this section, its not under services & \n",
    "we have already used this option for ‘db’ container as well. \n",
    "Basically here we are creating a volume named ‘wordpress_data’ to be used by our ‘db’ container. \n",
    "This section is equivalent of command,\n",
    "\n",
    "$ docker volume create wordpress_data\n"
   ]
  },
  {
   "cell_type": "code",
   "execution_count": null,
   "metadata": {},
   "outputs": [],
   "source": [
    "In this example to learn docker compose, we will accomplish the following things:\n",
    "\n",
    "# Use docker-compose version 2 to create docker-compose.yaml file. \n",
    "# Add one more service named “db” under the same docker-compose file. \n",
    "# Use an image named MySQL with version 5.7\n",
    "# Use volume wordpress_data and map it to /var/lib/mysql \n",
    "# Enable always restart parameter. * Add environment variables named “MYSQL_ROOT_PASSWORD”, “MYSQL_DATABASE”, “MYSQL_USER” and “MYSQL_PASSWORD” along with corresponding values for all.\n",
    "# Create a service/container named “WordPress” using wordpress:latest image. \n",
    "# Add dependency of db service in WordPress service.\n",
    "# Map port of WordPress container port 80 to host system port 8000. \n",
    "# Add a parameter to restart container in case service went down. \n",
    "# Within the WordPress environment variable, add wordpress_db_host value along with the port. \n",
    "# Also, add one more variable named wordpress_db_password. \n",
    "# Add a volume named wordpress_data"
   ]
  },
  {
   "cell_type": "code",
   "execution_count": 9,
   "metadata": {},
   "outputs": [
    {
     "ename": "SyntaxError",
     "evalue": "invalid character in identifier (<ipython-input-9-4f7c3df017aa>, line 1)",
     "output_type": "error",
     "traceback": [
      "\u001b[0;36m  File \u001b[0;32m\"<ipython-input-9-4f7c3df017aa>\"\u001b[0;36m, line \u001b[0;32m1\u001b[0m\n\u001b[0;31m    version: “2”\u001b[0m\n\u001b[0m               ^\u001b[0m\n\u001b[0;31mSyntaxError\u001b[0m\u001b[0;31m:\u001b[0m invalid character in identifier\n"
     ]
    }
   ],
   "source": [
    "version: “2” \n",
    "\n",
    "services:\n",
    "\n",
    "    db: \n",
    "\n",
    "        image: mysql:5.7 \n",
    "\n",
    "        volumes: \n",
    "\n",
    "            – wordpress_data:/var/lib/mysql \n",
    "\n",
    "        restart: always \n",
    "\n",
    "        environment: \n",
    "\n",
    "            MYSQL_ROOT_PASSWORD: test@979 \n",
    "\n",
    "            MYSQL_DATABASE: wordpress_db \n",
    "\n",
    "            MYSQL_USER: testuser \n",
    "\n",
    "            MYSQL_PASSWORD: test@123\n",
    "\n",
    "    wordpress: \n",
    "\n",
    "        depends_on: \n",
    "\n",
    "            – db \n",
    "\n",
    "        image: wordpress:latest \n",
    "\n",
    "        ports: \n",
    "\n",
    "            – 8000:80 \n",
    "\n",
    "        restart: always \n",
    "\n",
    "        environment: \n",
    "\n",
    "        wordpress_db_host: db:3306 \n",
    "\n",
    "        wordpress_db_password: test@123 \n",
    "\n",
    "volumes: \n",
    "\n",
    "    wordpress_data: {}"
   ]
  },
  {
   "cell_type": "code",
   "execution_count": null,
   "metadata": {},
   "outputs": [],
   "source": [
    "# Some important Docker compose commands\n",
    "\n",
    "# Running docker-compose file\n",
    "$ docker-compose up -f docker-compose.yml\n",
    "\n",
    "# To check the running containers, run\n",
    "$ docker-compose ps\n",
    "\n",
    "# To stop the running docker containers,\n",
    "$ docker-compose stop \n",
    "\n",
    "# To remove them from localhost\n",
    "$ docker-compose rm"
   ]
  }
 ],
 "metadata": {
  "kernelspec": {
   "display_name": "Python 3",
   "language": "python",
   "name": "python3"
  },
  "language_info": {
   "codemirror_mode": {
    "name": "ipython",
    "version": 3
   },
   "file_extension": ".py",
   "mimetype": "text/x-python",
   "name": "python",
   "nbconvert_exporter": "python",
   "pygments_lexer": "ipython3",
   "version": "3.7.4"
  }
 },
 "nbformat": 4,
 "nbformat_minor": 2
}
